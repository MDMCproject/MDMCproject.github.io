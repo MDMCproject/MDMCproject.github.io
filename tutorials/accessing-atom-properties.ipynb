{
 "cells": [
  {
   "cell_type": "markdown",
   "metadata": {},
   "source": [
    "# Creating Atoms and Accessing Properties"
   ]
  },
  {
   "cell_type": "markdown",
   "metadata": {},
   "source": [
    "This tutorial explains how to create atoms and access their relevant properties. This module allows for various isotopes to be specified as well as the natural abundances. To conclude this tutorial there is a short example of creating a water molecule with deuterium instead of hydrogen."
   ]
  },
  {
   "cell_type": "code",
   "execution_count": 1,
   "metadata": {
    "execution": {
     "iopub.execute_input": "2025-06-03T13:31:16.084407Z",
     "iopub.status.busy": "2025-06-03T13:31:16.084145Z",
     "iopub.status.idle": "2025-06-03T13:31:16.929531Z",
     "shell.execute_reply": "2025-06-03T13:31:16.928892Z"
    }
   },
   "outputs": [],
   "source": [
    "# imports used for this tutorial\n",
    "from MDMC.MD.structures import Atom\n",
    "from MDMC.trajectory_analysis.observables.fqt import calc_incoherent_scatt_length\n",
    "from MDMC.MD import *"
   ]
  },
  {
   "cell_type": "markdown",
   "metadata": {},
   "source": [
    "Now that the Atom class has been imported, we can create an atom. This can be done to create an atom which represents the natural abundance of the element, or a specific isotope."
   ]
  },
  {
   "cell_type": "code",
   "execution_count": 2,
   "metadata": {
    "execution": {
     "iopub.execute_input": "2025-06-03T13:31:16.931794Z",
     "iopub.status.busy": "2025-06-03T13:31:16.931530Z",
     "iopub.status.idle": "2025-06-03T13:31:16.935942Z",
     "shell.execute_reply": "2025-06-03T13:31:16.935354Z"
    }
   },
   "outputs": [],
   "source": [
    "# Creating an oxygen atom using MDMC Atom class\n",
    "\n",
    "# Standard chemical symbol will give natural abundance\n",
    "oxygen_na = Atom('O')\n",
    "\n",
    "# Chemical symbol followed by the mass number will give the specific isotope\n",
    "oxygen_16 = Atom('O[16]')\n",
    "\n",
    "# Example for specifying different isotope\n",
    "oxygen_17 = Atom('O[17]')"
   ]
  },
  {
   "cell_type": "markdown",
   "metadata": {},
   "source": [
    "Now that the atoms have been created, we can start accessing their associated properties. MDMC uses the Python package `periodictable` for a database of atomic properties."
   ]
  },
  {
   "cell_type": "code",
   "execution_count": 3,
   "metadata": {
    "execution": {
     "iopub.execute_input": "2025-06-03T13:31:16.937706Z",
     "iopub.status.busy": "2025-06-03T13:31:16.937516Z",
     "iopub.status.idle": "2025-06-03T13:31:16.941212Z",
     "shell.execute_reply": "2025-06-03T13:31:16.940623Z"
    }
   },
   "outputs": [
    {
     "name": "stdout",
     "output_type": "stream",
     "text": [
      "atomic mass:  15.9994 amu\n",
      "atomic number:  8\n",
      "O[16] mass:  15.9949146221 amu\n",
      "O[17] mass:  16.9991315 amu\n"
     ]
    }
   ],
   "source": [
    "# Accessing general properties\n",
    "print(\"atomic mass: \", oxygen_na.mass)\n",
    "print(\"atomic number: \", oxygen_na.element.number)\n",
    "\n",
    "# Showing the atomic mass for the different oxygen atoms\n",
    "print(\"O[16] mass: \", oxygen_16.mass)\n",
    "print(\"O[17] mass: \", oxygen_17.mass)"
   ]
  },
  {
   "cell_type": "markdown",
   "metadata": {},
   "source": [
    "As well as basic properties like mass and atomic number, we can access scattering-specific properties like scattering lengths and cross-sections."
   ]
  },
  {
   "cell_type": "code",
   "execution_count": 4,
   "metadata": {
    "execution": {
     "iopub.execute_input": "2025-06-03T13:31:16.942997Z",
     "iopub.status.busy": "2025-06-03T13:31:16.942811Z",
     "iopub.status.idle": "2025-06-03T13:31:16.952078Z",
     "shell.execute_reply": "2025-06-03T13:31:16.951514Z"
    }
   },
   "outputs": [
    {
     "name": "stdout",
     "output_type": "stream",
     "text": [
      "O[16] coherent cross section:  4.232\n",
      "O[16] incoherent cross section  0.0\n",
      "O[16] coherent scattering length:  5.805\n",
      "O[16] incoherent scattering length:  None\n",
      " \n",
      "Nitrogen incoherent cross section  0.5\n",
      "Nitrogen (periodictable) incoherent scattering length:  None\n",
      "Nitrogen (MDMC) incoherent scattering length:  1.9947114020071635\n"
     ]
    }
   ],
   "source": [
    "# Accessing scattering specific properties, like scattering lengths and cross sections\n",
    "print(\"O[16] coherent cross section: \", oxygen_16.element.neutron.coherent)\n",
    "print(\"O[16] incoherent cross section \", oxygen_16.element.neutron.incoherent)\n",
    "print(\"O[16] coherent scattering length: \", oxygen_16.element.neutron.b_c)\n",
    "print(\"O[16] incoherent scattering length: \", oxygen_16.element.neutron.b_c_i)\n",
    "\n",
    "print(\" \") # for better formatting\n",
    "\n",
    "# Many incoherent scattering lengths are stored as 0, but with non-zero cross sections.\n",
    "# The lengths can be approximated in MDMC using 'calc_incoherent_scatt_length'.status\n",
    "nitrogen_na = Atom('N')\n",
    "print(\"Nitrogen incoherent cross section \", nitrogen_na.element.neutron.incoherent)\n",
    "print(\"Nitrogen (periodictable) incoherent scattering length: \", nitrogen_na.element.neutron.b_c_i)\n",
    "print(\"Nitrogen (MDMC) incoherent scattering length: \", calc_incoherent_scatt_length('N'))"
   ]
  },
  {
   "cell_type": "markdown",
   "metadata": {},
   "source": [
    "For further information about key attributes of a periodictable object, we can use help()."
   ]
  },
  {
   "cell_type": "code",
   "execution_count": 5,
   "metadata": {
    "execution": {
     "iopub.execute_input": "2025-06-03T13:31:16.953879Z",
     "iopub.status.busy": "2025-06-03T13:31:16.953687Z",
     "iopub.status.idle": "2025-06-03T13:31:16.958440Z",
     "shell.execute_reply": "2025-06-03T13:31:16.957855Z"
    }
   },
   "outputs": [
    {
     "name": "stdout",
     "output_type": "stream",
     "text": [
      "Help on Neutron in module periodictable.nsf object:\n",
      "\n",
      "class Neutron(builtins.object)\n",
      " |  Neutron scattering factors are attached to each element in the periodic\n",
      " |  table for which values are available.  If no information is available,\n",
      " |  then the neutron field of the element will be *None*. Even when neutron\n",
      " |  information is available, it may not be complete, so individual fields\n",
      " |  may be *None*.\n",
      " |\n",
      " |  The following fields are defined:\n",
      " |\n",
      " |  * b_c (fm)\n",
      " |      Bounds coherent scattering length.\n",
      " |\n",
      " |  * total (barn)\n",
      " |      Total scattering cross section $\\sigma_s$.  This does not include the\n",
      " |      absorption cross section.  To compute the total collision cross\n",
      " |      section use $\\sigma_t = \\sigma_s + \\sigma_a$\n",
      " |\n",
      " |  * absorption (barn)\n",
      " |      Absorption cross section $\\sigma_a$ at 1.798 |Ang|.  Scale to your beam\n",
      " |      by dividing by periodictable.nsf.ABSORPTION_WAVELENGTH and multiplying\n",
      " |      by your wavelength.\n",
      " |\n",
      " |  * b_c_complex (fm)\n",
      " |      Complex coherent scattering length derived from the tabulated\n",
      " |      values using $b_c - i \\sigma_a / (1000 \\cdot 2 \\lambda)$.\n",
      " |\n",
      " |  Additional columns not used for calculation include:\n",
      " |\n",
      " |  * b_c_i (fm)\n",
      " |      Imaginary bound coherent scattering length.  This is related to\n",
      " |      absorption cross section by $\\sigma_a = 4 \\pi \\mathrm{Im}(b_c)/k$ where\n",
      " |      $k = 2 \\pi/\\lambda$ and an additional factor of 1000 for converting\n",
      " |      between |Ang|\\ |cdot|\\ fm and barns.  b_c_i is not available for\n",
      " |      all isotopes for which absorption cross sections have been measured.\n",
      " |\n",
      " |  * bp, bm (fm)\n",
      " |      Spin-dependent scattering for I+1/2 and I-1/2 (not always available).\n",
      " |      Incoherent scattering arises from the spin-dependent scattering b+\n",
      " |      and b-. The Neutron Data Booklet\\ [#Rauch2003]_ gives formulas for\n",
      " |      calculating coherent and incoherent scattering from b+ and b- alone.\n",
      " |\n",
      " |  * bp_i, bm_i (fm)\n",
      " |      Imaginary portion of bp and bm.\n",
      " |\n",
      " |  * is_energy_dependent (boolean)\n",
      " |      Do not use this data if scattering is energy dependent.\n",
      " |\n",
      " |  * coherent (barn)\n",
      " |      Coherent scattering cross section.  This is tabulated but not used.\n",
      " |      In theory coherent scattering is related to bound coherent scattering\n",
      " |      by $\\sigma_c = 4 \\pi |\\mathrm{Re}(b_c) + i \\mathrm{Im}(b_c)|^2/100$.\n",
      " |      In practice, these values are different, with the following table\n",
      " |      showing the largest relative difference:\n",
      " |\n",
      " |      ========  ========  ========  ========  ========\n",
      " |      Sc   3%   Ti   4%   V   34%   Mn   1%   Cd  2%\n",
      " |      Te   4%   Xe   9%   Sm  19%   Eu  44%   Tb  1%\n",
      " |      Ho  11%   W    4%   Au   7%   Hg   2%   Ra  3%\n",
      " |      ========  ========  ========  ========  ========\n",
      " |\n",
      " |  * incoherent (barn)\n",
      " |      Incoherent scattering cross section $\\sigma_i$.  This is tabulated but\n",
      " |      not used. Instead, the incoherent cross section is computed from the\n",
      " |      total cross section minus the coherent cross section even for single\n",
      " |      atoms so that results from compounds are consistent with results from\n",
      " |      single atoms.\n",
      " |\n",
      " |  For elements, the scattering cross-sections are based on the natural\n",
      " |  abundance of the individual isotopes. Individual isotopes may have\n",
      " |  the following additional fields\n",
      " |\n",
      " |  * abundance (%)\n",
      " |      Isotope abundance used to compute the properties of the element in\n",
      " |      natural abundance.\n",
      " |\n",
      " |  * nuclear_spin (string)\n",
      " |      Spin on the nucleus: '0', '1/2', '3/2', etc.\n",
      " |\n",
      " |  Each field ``T`` above has a corresponding ``T_units`` attribute with\n",
      " |  the name of the units.\n",
      " |\n",
      " |  For scattering calculations the scattering length density is the value\n",
      " |  of interest. This is computed from the *number_density* of the individual\n",
      " |  elements, as derived from the element density and atomic mass.\n",
      " |\n",
      " |  .. Note:: 1 barn = 100 |fm^2|\n",
      " |\n",
      " |  Methods defined here:\n",
      " |\n",
      " |  __init__(self)\n",
      " |      Initialize self.  See help(type(self)) for accurate signature.\n",
      " |\n",
      " |  __str__(self)\n",
      " |      Return str(self).\n",
      " |\n",
      " |  has_sld(self)\n",
      " |      Returns *True* if sld is defined for this element/isotope.\n",
      " |\n",
      " |  scattering(self, wavelength=1.798)\n",
      " |      Returns neutron scattering information for the element at natural\n",
      " |      abundance and density.\n",
      " |\n",
      " |      :Parameters:\n",
      " |          *wavelength* \\: float(s) | |Ang|\n",
      " |\n",
      " |      :Returns:\n",
      " |          *sld* \\: float(s), float(s), float(s) | |1e-6/Ang^2|\n",
      " |              (*real*, -*imaginary*, *incoherent*) scattering length density\n",
      " |\n",
      " |          *xs* \\: float(s), float(s), float(s) | |1/cm|\n",
      " |              (*coherent*, *absorption*, *incoherent*) cross sections.\n",
      " |              :w\n",
      " |\n",
      " |          *penetration* \\: float(s) | cm\n",
      " |              1/e penetration length.\n",
      " |\n",
      " |      Returns (None, None, None) if sld is not known for this element.\n",
      " |\n",
      " |      See :func:`neutron_scattering` for details.\n",
      " |\n",
      " |  scattering_by_wavelength(self, wavelength)\n",
      " |      Return scattering length and total cross section for each wavelength.\n",
      " |\n",
      " |      For rare earth isotopes this returns the energy-dependent\n",
      " |      $\\mathrm{Re}(b_c)$ and $\\mathrm{Im}(b_c)$ interpolated into the\n",
      " |      scattering length tables. Values are extrapolated with constant\n",
      " |      values at the ends of the table. Total scattering is returned as\n",
      " |      $4\\pi/100 |b_c|^2$ with no contribution for bound incoherent\n",
      " |      scattering.\n",
      " |\n",
      " |      :Parameters:\n",
      " |          *wavelength* \\: float(s) | |Ang|\n",
      " |\n",
      " |      :Returns:\n",
      " |          *b_c* \\: complex(s) | fm\n",
      " |\n",
      " |          *sigma_s* \\: float(s) | barn\n",
      " |\n",
      " |  sld(self, wavelength=1.798)\n",
      " |      Returns scattering length density for the element at natural\n",
      " |      abundance and density.\n",
      " |\n",
      " |      :Parameters:\n",
      " |          *wavelength* \\: float(s) | |Ang|\n",
      " |\n",
      " |      :Returns:\n",
      " |          *sld* \\: float(s), float(s), float(s) | |1e-6/Ang^2|\n",
      " |              (*real*, -*imaginary*, *incoherent*) scattering length density.\n",
      " |\n",
      " |      Returns (None, None, None) if sld is not known for this element.\n",
      " |\n",
      " |      See :func:`neutron_scattering` for details.\n",
      " |\n",
      " |  ----------------------------------------------------------------------\n",
      " |  Data descriptors defined here:\n",
      " |\n",
      " |  __dict__\n",
      " |      dictionary for instance variables\n",
      " |\n",
      " |  __weakref__\n",
      " |      list of weak references to the object\n",
      " |\n",
      " |  ----------------------------------------------------------------------\n",
      " |  Data and other attributes defined here:\n",
      " |\n",
      " |  absorption = None\n",
      " |\n",
      " |  absorption_units = 'barn'\n",
      " |\n",
      " |  abundance = 0.0\n",
      " |\n",
      " |  abundance_units = '%'\n",
      " |\n",
      " |  b_c = None\n",
      " |\n",
      " |  b_c_complex = None\n",
      " |\n",
      " |  b_c_complex_units = 'fm'\n",
      " |\n",
      " |  b_c_i = None\n",
      " |\n",
      " |  b_c_i_units = 'fm'\n",
      " |\n",
      " |  b_c_units = 'fm'\n",
      " |\n",
      " |  bm = None\n",
      " |\n",
      " |  bm_i = None\n",
      " |\n",
      " |  bm_units = 'fm'\n",
      " |\n",
      " |  bp = None\n",
      " |\n",
      " |  bp_i = None\n",
      " |\n",
      " |  bp_units = 'fm'\n",
      " |\n",
      " |  coherent = None\n",
      " |\n",
      " |  coherent_units = 'barn'\n",
      " |\n",
      " |  incoherent = None\n",
      " |\n",
      " |  incoherent_units = 'barn'\n",
      " |\n",
      " |  is_energy_dependent = False\n",
      " |\n",
      " |  nsf_table = None\n",
      " |\n",
      " |  total = None\n",
      " |\n",
      " |  total_units = 'barn'\n",
      "\n"
     ]
    }
   ],
   "source": [
    "help(oxygen_na.element.neutron)"
   ]
  },
  {
   "cell_type": "markdown",
   "metadata": {},
   "source": [
    "Now as a final example of this functionality, let's create a molecule. We will create a heavy water molecule, using deuterium in the place of hydrogen."
   ]
  },
  {
   "cell_type": "code",
   "execution_count": 6,
   "metadata": {
    "execution": {
     "iopub.execute_input": "2025-06-03T13:31:16.960172Z",
     "iopub.status.busy": "2025-06-03T13:31:16.959984Z",
     "iopub.status.idle": "2025-06-03T13:31:16.965172Z",
     "shell.execute_reply": "2025-06-03T13:31:16.964594Z"
    }
   },
   "outputs": [],
   "source": [
    "# Conveniently, deuterium can be specified directly through this artificial chemical symbol 'D' \n",
    "# It can also be specified using 'H[2]' as expected.\n",
    "\n",
    "D1 = Atom('D') # or Atom(\"H[2]\")\n",
    "D2 = Atom('D', position=(0., 1.63298, 0.))\n",
    "O = Atom('O', position=(0., 0.81649, 0.57736))\n",
    "\n",
    "D_coulombic = Coulombic(atoms=[D1, D2], cutoff=10.)\n",
    "O_coulombic = Coulombic(atoms=O, cutoff=10.)\n",
    "\n",
    "heavy_water_mol = Molecule(position=(0, 0, 0),\n",
    "                     velocity=(0, 0, 0),\n",
    "                     atoms=[D1, D2, O],\n",
    "                     interactions=[Bond((D1, O), (D2, O), constrained=True),\n",
    "                                   BondAngle(D1, O, D2, constrained=True)],\n",
    "                     name='heavy_water')\n",
    "\n"
   ]
  },
  {
   "cell_type": "markdown",
   "metadata": {},
   "source": [
    "For a more in depth explanation of molecule and bond creation please see the MDMC tutorial on [creating atomic configurations](https://mdmcproject.org/how-to/use-MDMC/notebooks/creating-atomic-configurations.html).."
   ]
  }
 ],
 "metadata": {
  "kernelspec": {
   "display_name": "Python 3",
   "language": "python",
   "name": "python3"
  },
  "language_info": {
   "codemirror_mode": {
    "name": "ipython",
    "version": 3
   },
   "file_extension": ".py",
   "mimetype": "text/x-python",
   "name": "python",
   "nbconvert_exporter": "python",
   "pygments_lexer": "ipython3",
   "version": "3.12.4"
  }
 },
 "nbformat": 4,
 "nbformat_minor": 2
}
