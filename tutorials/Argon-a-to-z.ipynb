{
 "cells": [
  {
   "cell_type": "markdown",
   "metadata": {},
   "source": [
    "# Argon A-to-Z"
   ]
  },
  {
   "cell_type": "markdown",
   "metadata": {},
   "source": [
    "This tutorial demonstrates a-to-z how to optimise Lennard Jones parameters for liquid argon, and without going into details. For details see other tutorials and wider MDMC documentation."
   ]
  },
  {
   "cell_type": "code",
   "execution_count": 1,
   "metadata": {
    "execution": {
     "iopub.execute_input": "2022-07-31T20:34:58.097432Z",
     "iopub.status.busy": "2022-07-31T20:34:58.096897Z",
     "iopub.status.idle": "2022-07-31T20:35:01.258420Z",
     "shell.execute_reply": "2022-07-31T20:35:01.257481Z"
    }
   },
   "outputs": [
    {
     "name": "stdout",
     "output_type": "stream",
     "text": [
      "Supported DL_POLY version 4.10\n"
     ]
    }
   ],
   "source": [
    "# Imports used for this tutorial\n",
    "import numpy as np\n",
    "import os\n",
    "from MDMC.control import Control\n",
    "from MDMC.MD import Atom, Dispersion, LennardJones, Simulation, Universe"
   ]
  },
  {
   "cell_type": "code",
   "execution_count": 2,
   "metadata": {
    "execution": {
     "iopub.execute_input": "2022-07-31T20:35:01.263248Z",
     "iopub.status.busy": "2022-07-31T20:35:01.262909Z",
     "iopub.status.idle": "2022-07-31T20:35:01.266427Z",
     "shell.execute_reply": "2022-07-31T20:35:01.265778Z"
    }
   },
   "outputs": [],
   "source": [
    "# Change the number of threads depending on the number of physical cores on your computer\n",
    "# as it was tested for LAMMPS\n",
    "os.environ[\"OMP_NUM_THREADS\"] = \"4\""
   ]
  },
  {
   "cell_type": "code",
   "execution_count": 3,
   "metadata": {
    "execution": {
     "iopub.execute_input": "2022-07-31T20:35:01.272970Z",
     "iopub.status.busy": "2022-07-31T20:35:01.272746Z",
     "iopub.status.idle": "2022-07-31T20:35:01.298313Z",
     "shell.execute_reply": "2022-07-31T20:35:01.297165Z"
    }
   },
   "outputs": [
    {
     "name": "stdout",
     "output_type": "stream",
     "text": [
      "Universe created with:\n",
      "  Dimensions       [23.07, 23.07, 23.07]\n",
      "  Force field                       None\n",
      "  Number of atoms                      0\n",
      "\n",
      "Number of argon atoms = 216\n"
     ]
    }
   ],
   "source": [
    "# Build universe with density 0.0176 atoms per AA^-3\n",
    "density = 0.0176\n",
    "# This means cubic universe of side:\n",
    "# 23.0668 A will contain 216 Ar atoms\n",
    "# 26.911 A will contain 343 Ar atoms\n",
    "# 30.7553 A will contain 512 Ar atoms\n",
    "# 38.4441 A will contain 1000 Ar atoms\n",
    "universe = Universe(dimensions=23.0668)\n",
    "Ar = Atom('Ar', charge=0.)\n",
    "# Calculating number of Ar atoms needed to obtain density\n",
    "n_ar_atoms = int(density * np.product(universe.dimensions))\n",
    "print(f'Number of argon atoms = {n_ar_atoms}')\n",
    "universe.fill(Ar, num_struc_units=(n_ar_atoms))"
   ]
  },
  {
   "cell_type": "markdown",
   "metadata": {},
   "source": [
    "In the Jupyter cell above, a box of Argon atoms is set up. However, at this point there is no interaction forces between the argon atoms! In the cell below an appropriate (for argon) force-field interaction potential is defined."
   ]
  },
  {
   "cell_type": "code",
   "execution_count": 4,
   "metadata": {
    "execution": {
     "iopub.execute_input": "2022-07-31T20:35:01.304743Z",
     "iopub.status.busy": "2022-07-31T20:35:01.304304Z",
     "iopub.status.idle": "2022-07-31T20:35:01.310824Z",
     "shell.execute_reply": "2022-07-31T20:35:01.310225Z"
    }
   },
   "outputs": [],
   "source": [
    "Ar_dispersion = Dispersion(universe,\n",
    "                           (Ar.atom_type, Ar.atom_type),\n",
    "                           cutoff=8.,\n",
    "                           function=LennardJones(epsilon=1.0243, sigma=3.36))"
   ]
  },
  {
   "cell_type": "markdown",
   "metadata": {},
   "source": [
    "In this case the interaction potential chosen is the humble Lennard Jones (to get info see doc or type `help(LennardJones)`).\n",
    "\n",
    "Also, a `cutoff` value is chosen (see `help(Dispersion)` for more info). A [rule of thumb for Lennard-Jones](https://en.wikipedia.org/wiki/Lennard-Jones_potential) is to pick `cutoff=2.5*sigma`. The value for argon is recommended to be between 8 and 12 ang. `cutoff` is not a force-field parameter and therefore will not be refined. Ideally, and for any system you want to pick at value of the `cutoff` which is small while not compromising accuracy. For this system picking a value between 8 and 12 ang is found to give near identifical results.\n",
    "\n",
    "Next (and before starting the refinement), we set up the MD engine and equilibrate the system. Note with MDMC the equilibration only needs to be done once. "
   ]
  },
  {
   "cell_type": "code",
   "execution_count": 5,
   "metadata": {
    "execution": {
     "iopub.execute_input": "2022-07-31T20:35:01.329270Z",
     "iopub.status.busy": "2022-07-31T20:35:01.329032Z",
     "iopub.status.idle": "2022-07-31T20:35:01.797105Z",
     "shell.execute_reply": "2022-07-31T20:35:01.796278Z"
    }
   },
   "outputs": [
    {
     "name": "stdout",
     "output_type": "stream",
     "text": [
      "LAMMPS output is captured by PyLammps wrapper\n",
      "LAMMPS (29 Sep 2021 - Update 3)\n",
      "  using 4 OpenMP thread(s) per MPI task\n",
      "LAMMPS (29 Sep 2021 - Update 3)\n",
      "  using 4 OpenMP thread(s) per MPI task\n",
      "LAMMPS output is captured by PyLammps wrapper\n",
      "Total wall time: 0:00:00\n"
     ]
    },
    {
     "name": "stdout",
     "output_type": "stream",
     "text": [
      "Simulation created with lammps engine and settings:\n",
      "  temperature  120.0\n",
      "\n"
     ]
    }
   ],
   "source": [
    "# MD Engine setup\n",
    "simulation = Simulation(universe,\n",
    "                        engine=\"lammps\",\n",
    "                        time_step=10.18893,\n",
    "                        temperature=120.,\n",
    "                        traj_step=15)"
   ]
  },
  {
   "cell_type": "code",
   "execution_count": 6,
   "metadata": {
    "execution": {
     "iopub.execute_input": "2022-07-31T20:35:01.800581Z",
     "iopub.status.busy": "2022-07-31T20:35:01.800329Z",
     "iopub.status.idle": "2022-07-31T20:35:05.226594Z",
     "shell.execute_reply": "2022-07-31T20:35:05.225773Z"
    }
   },
   "outputs": [],
   "source": [
    "# Energy Minimization and equilibration\n",
    "simulation.minimize(n_steps=5000)\n",
    "simulation.run(n_steps=10000, equilibration=True)"
   ]
  },
  {
   "cell_type": "markdown",
   "metadata": {},
   "source": [
    "OK; time to set up the actual refinement of the force-field parameters. \n",
    "\n",
    "First we need some data to refine against:"
   ]
  },
  {
   "cell_type": "code",
   "execution_count": 7,
   "metadata": {
    "execution": {
     "iopub.execute_input": "2022-07-31T20:35:05.230413Z",
     "iopub.status.busy": "2022-07-31T20:35:05.230160Z",
     "iopub.status.idle": "2022-07-31T20:35:05.235345Z",
     "shell.execute_reply": "2022-07-31T20:35:05.234319Z"
    }
   },
   "outputs": [],
   "source": [
    "# exp_datasets is a list of dictionaries with one dictionary per experimental\n",
    "# dataset\n",
    "# Dataset from: van Well et al. (1985). Physical Review A, 31(5), 3391-3414\n",
    "# resolution is None as the original author already accounted for instrument resolution\n",
    "exp_datasets = [{'file_name':'data/Well_s_q_omega_Ar_data.xml',\n",
    "                 'type':'SQw',\n",
    "                 'reader':'xml_SQw',\n",
    "                 'weight':1.,\n",
    "                 'auto_scale':True,\n",
    "                 'resolution':None}]"
   ]
  },
  {
   "cell_type": "markdown",
   "metadata": {},
   "source": [
    "The number of `MD_steps` specified must be large enough to allow for successful calculation of all observables. This depends the `type` of the dataset provided and the value of the `traj_step` (specified when creating the `Simulation`). If a value for `MD_steps` is not provided, then the minimum number needed will be used automatically.\n",
    "\n",
    "Additionally, some observables will have an upper limit on the number of MD_steps that can be used in calculating their dependent variable(s). In these cases, the number of `MD_steps` is rounded down to a multiple of this upper limit so that we only run steps that will be useful. For example, if we use 1000 `MD_steps` in calculation, but a value of 2500 is provided, then we will run 2000 steps and use this to calculate the variable twice, without wasting time performing an additional 500 steps."
   ]
  },
  {
   "cell_type": "code",
   "execution_count": 8,
   "metadata": {
    "execution": {
     "iopub.execute_input": "2022-07-31T20:35:05.238123Z",
     "iopub.status.busy": "2022-07-31T20:35:05.237899Z",
     "iopub.status.idle": "2022-07-31T20:35:05.377088Z",
     "shell.execute_reply": "2022-07-31T20:35:05.376246Z"
    }
   },
   "outputs": [
    {
     "name": "stdout",
     "output_type": "stream",
     "text": [
      "Control created with:\n",
      "  Minimizer                             GPO\n",
      "  FoM type               ChiSquaredExpError\n",
      "  Number of observables                   1\n",
      "  Number of parameters                    2\n",
      "\n"
     ]
    }
   ],
   "source": [
    "fit_parameters = universe.parameters\n",
    "fit_parameters['sigma'].constraints = [2.8,3.8]\n",
    "fit_parameters['epsilon'].constraints = [0.7, 1.2]\n",
    "\n",
    "\n",
    "control = Control(simulation=simulation,\n",
    "                  exp_datasets=exp_datasets,\n",
    "                  fit_parameters=fit_parameters,\n",
    "                  minimizer_type=\"GPO\",\n",
    "                  reset_config=True,\n",
    "                  MD_steps=2000, \n",
    "                  equilibration_steps=2000,\n",
    "                  n_points=40)"
   ]
  },
  {
   "cell_type": "markdown",
   "metadata": {},
   "source": [
    "And finally start the refinement! Bump up `n_steps` from 3 when you are ready."
   ]
  },
  {
   "cell_type": "code",
   "execution_count": 9,
   "metadata": {
    "execution": {
     "iopub.execute_input": "2022-07-31T20:35:05.380927Z",
     "iopub.status.busy": "2022-07-31T20:35:05.380302Z",
     "iopub.status.idle": "2022-07-31T20:42:23.055577Z",
     "shell.execute_reply": "2022-07-31T20:42:23.054881Z"
    }
   },
   "outputs": [
    {
     "name": "stdout",
     "output_type": "stream",
     "text": [
      "Step         FoM Change state  Pred coords     Pred FoM epsilon (#2)   sigma (#3)\n"
     ]
    },
    {
     "name": "stdout",
     "output_type": "stream",
     "text": [
      "   0       344.7     Accepted [1.0243 kJ / mol, 3.36 Ang]        344.7        1.024         3.36\n"
     ]
    },
    {
     "name": "stdout",
     "output_type": "stream",
     "text": [
      "   1       428.3     Accepted [1.0243 kJ / mol, 3.36 Ang]        344.7       0.9719        3.532\n"
     ]
    },
    {
     "name": "stdout",
     "output_type": "stream",
     "text": [
      "   2         620     Accepted [1.0243 kJ / mol, 3.36 Ang]        344.7       0.9969        2.905\n"
     ]
    },
    {
     "name": "stdout",
     "output_type": "stream",
     "text": [
      "   3       794.4     Accepted [1.0243 kJ / mol, 3.36 Ang]        344.7       0.9098        3.782\n"
     ]
    },
    {
     "name": "stdout",
     "output_type": "stream",
     "text": [
      "   4       441.9     Accepted [1.0243 kJ / mol, 3.36 Ang]        344.7        1.198         3.47\n"
     ]
    },
    {
     "name": "stdout",
     "output_type": "stream",
     "text": [
      "   5       605.5     Accepted [1.0243 kJ / mol, 3.36 Ang]        344.7       0.7743        2.876\n"
     ]
    },
    {
     "name": "stdout",
     "output_type": "stream",
     "text": [
      "   6       394.3     Accepted [1.0243 kJ / mol, 3.36 Ang]        344.7       0.8962        3.198\n"
     ]
    },
    {
     "name": "stdout",
     "output_type": "stream",
     "text": [
      "   7       558.3     Accepted [1.0243 kJ / mol, 3.36 Ang]        344.7       0.8297        3.693\n"
     ]
    },
    {
     "name": "stdout",
     "output_type": "stream",
     "text": [
      "   8       359.9     Accepted [1.0243 kJ / mol, 3.36 Ang]        344.7       0.7088        3.271\n"
     ]
    },
    {
     "name": "stdout",
     "output_type": "stream",
     "text": [
      "   9       924.4     Accepted [1.0243 kJ / mol, 3.36 Ang]        344.7        1.059        2.812\n"
     ]
    },
    {
     "name": "stdout",
     "output_type": "stream",
     "text": [
      "  10       372.7     Accepted [1.0243 kJ / mol, 3.36 Ang]        344.7       0.9435        3.336\n"
     ]
    },
    {
     "name": "stdout",
     "output_type": "stream",
     "text": [
      "  11       626.3     Accepted [1.0243 kJ / mol, 3.36 Ang]        344.7        1.086        2.966\n"
     ]
    },
    {
     "name": "stdout",
     "output_type": "stream",
     "text": [
      "  12       504.2     Accepted [1.0243 kJ / mol, 3.36 Ang]        344.7       0.7919        3.001\n"
     ]
    },
    {
     "name": "stdout",
     "output_type": "stream",
     "text": [
      "  13       438.5     Accepted [1.0243 kJ / mol, 3.36 Ang]        344.7       0.8095        3.566\n"
     ]
    },
    {
     "name": "stdout",
     "output_type": "stream",
     "text": [
      "  14       719.8     Accepted [1.0243 kJ / mol, 3.36 Ang]        344.7        1.038        3.713\n"
     ]
    },
    {
     "name": "stdout",
     "output_type": "stream",
     "text": [
      "  15       430.7     Accepted [1.0243 kJ / mol, 3.36 Ang]        344.7       0.7406        3.619\n"
     ]
    },
    {
     "name": "stdout",
     "output_type": "stream",
     "text": [
      "  16       570.8     Accepted [1.0243 kJ / mol, 3.36 Ang]        344.7        1.171        3.098\n"
     ]
    },
    {
     "name": "stdout",
     "output_type": "stream",
     "text": [
      "  17       380.6     Accepted [1.0243 kJ / mol, 3.36 Ang]        344.7         1.14        3.223\n"
     ]
    },
    {
     "name": "stdout",
     "output_type": "stream",
     "text": [
      "  18       456.4     Accepted [1.0243 kJ / mol, 3.36 Ang]        344.7        1.024        3.104\n"
     ]
    },
    {
     "name": "stdout",
     "output_type": "stream",
     "text": [
      "  19       358.2     Accepted [1.0243 kJ / mol, 3.36 Ang]        344.7       0.8735        3.441\n"
     ]
    },
    {
     "name": "stdout",
     "output_type": "stream",
     "text": [
      "  20         348     Accepted [1.0243 kJ / mol, 3.36 Ang]        344.7       0.7001        3.395\n"
     ]
    },
    {
     "name": "stdout",
     "output_type": "stream",
     "text": [
      "  21       329.1     Accepted [0.7039678953919272 kJ / mol, 3.425818024314377 Ang]        329.1        0.704        3.426\n"
     ]
    },
    {
     "name": "stdout",
     "output_type": "stream",
     "text": [
      "  22       338.5     Accepted [0.7039678953919272 kJ / mol, 3.425818024314377 Ang]        329.1       0.7006        3.416\n"
     ]
    },
    {
     "name": "stdout",
     "output_type": "stream",
     "text": [
      "  23       350.1     Accepted [0.7039678953919272 kJ / mol, 3.425818024314377 Ang]        329.1        0.703        3.411\n"
     ]
    },
    {
     "name": "stdout",
     "output_type": "stream",
     "text": [
      "  24       385.7     Accepted [0.7039678953919272 kJ / mol, 3.425818024314377 Ang]        329.1        1.087        3.333\n"
     ]
    },
    {
     "name": "stdout",
     "output_type": "stream",
     "text": [
      "  25       342.1     Accepted [0.7039678953919272 kJ / mol, 3.425818024314377 Ang]        329.1       0.7021        3.415\n"
     ]
    },
    {
     "name": "stdout",
     "output_type": "stream",
     "text": [
      "  26       360.6     Accepted [0.7039678953919272 kJ / mol, 3.425818024314377 Ang]        329.1       0.7015        3.441\n"
     ]
    },
    {
     "name": "stdout",
     "output_type": "stream",
     "text": [
      "  27       364.1     Accepted [0.7039678953919272 kJ / mol, 3.425818024314377 Ang]        329.1        0.701        3.376\n"
     ]
    },
    {
     "name": "stdout",
     "output_type": "stream",
     "text": [
      "  28       354.1     Accepted [0.7039678953919272 kJ / mol, 3.425818024314377 Ang]        329.1       0.8204        3.368\n"
     ]
    },
    {
     "name": "stdout",
     "output_type": "stream",
     "text": [
      "  29       406.9     Accepted [0.7039678953919272 kJ / mol, 3.425818024314377 Ang]        329.1       0.7034        3.117\n"
     ]
    },
    {
     "name": "stdout",
     "output_type": "stream",
     "text": [
      "  30       347.2     Accepted [0.7039678953919272 kJ / mol, 3.425818024314377 Ang]        329.1        0.703        3.474\n"
     ]
    },
    {
     "name": "stdout",
     "output_type": "stream",
     "text": [
      "  31       358.2     Accepted [0.7039678953919272 kJ / mol, 3.425818024314377 Ang]        329.1       0.7025        3.481\n"
     ]
    },
    {
     "name": "stdout",
     "output_type": "stream",
     "text": [
      "  32       334.2     Accepted [0.7039678953919272 kJ / mol, 3.425818024314377 Ang]        329.1       0.7006        3.313\n"
     ]
    },
    {
     "name": "stdout",
     "output_type": "stream",
     "text": [
      "  33       349.3     Accepted [0.7039678953919272 kJ / mol, 3.425818024314377 Ang]        329.1       0.7006        3.328\n"
     ]
    },
    {
     "name": "stdout",
     "output_type": "stream",
     "text": [
      "  34       335.9     Accepted [0.7039678953919272 kJ / mol, 3.425818024314377 Ang]        329.1        0.701        3.348\n"
     ]
    },
    {
     "name": "stdout",
     "output_type": "stream",
     "text": [
      "  35       342.6     Accepted [0.7039678953919272 kJ / mol, 3.425818024314377 Ang]        329.1       0.7005        3.358\n"
     ]
    },
    {
     "name": "stdout",
     "output_type": "stream",
     "text": [
      "  36       349.9     Accepted [0.7039678953919272 kJ / mol, 3.425818024314377 Ang]        329.1       0.7767        3.359\n"
     ]
    },
    {
     "name": "stdout",
     "output_type": "stream",
     "text": [
      "  37       362.1     Accepted [0.7039678953919272 kJ / mol, 3.425818024314377 Ang]        329.1       0.7002        3.302\n"
     ]
    },
    {
     "name": "stdout",
     "output_type": "stream",
     "text": [
      "  38       341.3     Accepted [0.7039678953919272 kJ / mol, 3.425818024314377 Ang]        329.1       0.7831         3.39\n"
     ]
    },
    {
     "name": "stdout",
     "output_type": "stream",
     "text": [
      "  39       331.4     Accepted [0.7039678953919272 kJ / mol, 3.425818024314377 Ang]        329.1       0.7004         3.38\n",
      "Best point measured was \n",
      "329.088039967832 for a minimum FoM of 329.088039967832. \n",
      "\n",
      " Predicted minimum coordinate is [0.7039678953919272 kJ / mol, 3.425818024314377 Ang] for a minimum FoM of 329.088039967832. \n",
      " \n",
      "\n",
      "Automatic Scale Factors\n",
      "  data/Well_s_q_omega_Ar_data.xml  0.214235\n"
     ]
    }
   ],
   "source": [
    "# Run the refinement, i.e. refine the FF parameters against the data\n",
    "control.refine(n_steps=40)"
   ]
  },
  {
   "cell_type": "code",
   "execution_count": null,
   "metadata": {},
   "outputs": [],
   "source": []
  }
 ],
 "metadata": {
  "kernelspec": {
   "display_name": "Python 3.9.6 64-bit",
   "language": "python",
   "name": "python3"
  },
  "language_info": {
   "codemirror_mode": {
    "name": "ipython",
    "version": 3
   },
   "file_extension": ".py",
   "mimetype": "text/x-python",
   "name": "python",
   "nbconvert_exporter": "python",
   "pygments_lexer": "ipython3",
   "version": "3.9.6"
  },
  "vscode": {
   "interpreter": {
    "hash": "949777d72b0d2535278d3dc13498b2535136f6dfe0678499012e853ee9abcab1"
   }
  }
 },
 "nbformat": 4,
 "nbformat_minor": 4
}
