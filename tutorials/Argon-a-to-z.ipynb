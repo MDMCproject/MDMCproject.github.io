{
 "cells": [
  {
   "cell_type": "markdown",
   "metadata": {},
   "source": [
    "# Argon A-to-Z"
   ]
  },
  {
   "cell_type": "markdown",
   "metadata": {},
   "source": [
    "This tutorial demonstrates a-to-z how to optimise Lennard Jones parameters for liquid argon, and without going into details. For details see other tutorials and wider MDMC documentation."
   ]
  },
  {
   "cell_type": "code",
   "execution_count": 1,
   "metadata": {
    "execution": {
     "iopub.execute_input": "2022-08-28T20:35:39.484033Z",
     "iopub.status.busy": "2022-08-28T20:35:39.483751Z",
     "iopub.status.idle": "2022-08-28T20:35:42.915298Z",
     "shell.execute_reply": "2022-08-28T20:35:42.914533Z"
    }
   },
   "outputs": [
    {
     "name": "stdout",
     "output_type": "stream",
     "text": [
      "Supported DL_POLY version 4.10\n"
     ]
    }
   ],
   "source": [
    "# Imports used for this tutorial\n",
    "import numpy as np\n",
    "import os\n",
    "from MDMC.control import Control\n",
    "from MDMC.MD import Atom, Dispersion, LennardJones, Simulation, Universe"
   ]
  },
  {
   "cell_type": "code",
   "execution_count": 2,
   "metadata": {
    "execution": {
     "iopub.execute_input": "2022-08-28T20:35:42.919294Z",
     "iopub.status.busy": "2022-08-28T20:35:42.919038Z",
     "iopub.status.idle": "2022-08-28T20:35:42.922410Z",
     "shell.execute_reply": "2022-08-28T20:35:42.921703Z"
    }
   },
   "outputs": [],
   "source": [
    "# Change the number of threads depending on the number of physical cores on your computer\n",
    "# as it was tested for LAMMPS\n",
    "os.environ[\"OMP_NUM_THREADS\"] = \"4\""
   ]
  },
  {
   "cell_type": "code",
   "execution_count": 3,
   "metadata": {
    "execution": {
     "iopub.execute_input": "2022-08-28T20:35:42.925892Z",
     "iopub.status.busy": "2022-08-28T20:35:42.925658Z",
     "iopub.status.idle": "2022-08-28T20:35:42.949418Z",
     "shell.execute_reply": "2022-08-28T20:35:42.948688Z"
    }
   },
   "outputs": [
    {
     "name": "stdout",
     "output_type": "stream",
     "text": [
      "Universe created with:\n",
      "  Dimensions       [23.07, 23.07, 23.07]\n",
      "  Force field                       None\n",
      "  Number of atoms                      0\n",
      "\n",
      "Number of argon atoms = 216\n"
     ]
    }
   ],
   "source": [
    "# Build universe with density 0.0176 atoms per AA^-3\n",
    "density = 0.0176\n",
    "# This means cubic universe of side:\n",
    "# 23.0668 A will contain 216 Ar atoms\n",
    "# 26.911 A will contain 343 Ar atoms\n",
    "# 30.7553 A will contain 512 Ar atoms\n",
    "# 38.4441 A will contain 1000 Ar atoms\n",
    "universe = Universe(dimensions=23.0668)\n",
    "Ar = Atom('Ar', charge=0.)\n",
    "# Calculating number of Ar atoms needed to obtain density\n",
    "n_ar_atoms = int(density * np.product(universe.dimensions))\n",
    "print(f'Number of argon atoms = {n_ar_atoms}')\n",
    "universe.fill(Ar, num_struc_units=(n_ar_atoms))"
   ]
  },
  {
   "cell_type": "markdown",
   "metadata": {},
   "source": [
    "In the Jupyter cell above, a box of Argon atoms is set up. However, at this point there is no interaction forces between the argon atoms! In the cell below an appropriate (for argon) force-field interaction potential is defined."
   ]
  },
  {
   "cell_type": "code",
   "execution_count": 4,
   "metadata": {
    "execution": {
     "iopub.execute_input": "2022-08-28T20:35:42.952606Z",
     "iopub.status.busy": "2022-08-28T20:35:42.952372Z",
     "iopub.status.idle": "2022-08-28T20:35:42.956738Z",
     "shell.execute_reply": "2022-08-28T20:35:42.956041Z"
    }
   },
   "outputs": [],
   "source": [
    "Ar_dispersion = Dispersion(universe,\n",
    "                           (Ar.atom_type, Ar.atom_type),\n",
    "                           cutoff=8.,\n",
    "                           function=LennardJones(epsilon=1.0243, sigma=3.36))"
   ]
  },
  {
   "cell_type": "markdown",
   "metadata": {},
   "source": [
    "In this case the interaction potential chosen is the humble Lennard Jones (to get info see doc or type `help(LennardJones)`).\n",
    "\n",
    "Also, a `cutoff` value is chosen (see `help(Dispersion)` for more info). A [rule of thumb for Lennard-Jones](https://en.wikipedia.org/wiki/Lennard-Jones_potential) is to pick `cutoff=2.5*sigma`. The value for argon is recommended to be between 8 and 12 ang. `cutoff` is not a force-field parameter and therefore will not be refined. Ideally, and for any system you want to pick at value of the `cutoff` which is small while not compromising accuracy. For this system picking a value between 8 and 12 ang is found to give near identifical results.\n",
    "\n",
    "Next (and before starting the refinement), we set up the MD engine and equilibrate the system. Note with MDMC the equilibration only needs to be done once. "
   ]
  },
  {
   "cell_type": "code",
   "execution_count": 5,
   "metadata": {
    "execution": {
     "iopub.execute_input": "2022-08-28T20:35:42.960016Z",
     "iopub.status.busy": "2022-08-28T20:35:42.959786Z",
     "iopub.status.idle": "2022-08-28T20:35:43.352090Z",
     "shell.execute_reply": "2022-08-28T20:35:43.351406Z"
    }
   },
   "outputs": [
    {
     "name": "stdout",
     "output_type": "stream",
     "text": [
      "LAMMPS (29 Sep 2021 - Update 3)\n",
      "  using 4 OpenMP thread(s) per MPI task\n",
      "LAMMPS output is captured by PyLammps wrapper\n",
      "LAMMPS (29 Sep 2021 - Update 3)\n",
      "  using 4 OpenMP thread(s) per MPI task\n",
      "LAMMPS output is captured by PyLammps wrapper\n",
      "Total wall time: 0:00:00\n"
     ]
    },
    {
     "name": "stdout",
     "output_type": "stream",
     "text": [
      "Simulation created with lammps engine and settings:\n",
      "  temperature  120.0\n",
      "\n"
     ]
    }
   ],
   "source": [
    "# MD Engine setup\n",
    "simulation = Simulation(universe,\n",
    "                        engine=\"lammps\",\n",
    "                        time_step=10.18893,\n",
    "                        temperature=120.,\n",
    "                        traj_step=15)"
   ]
  },
  {
   "cell_type": "code",
   "execution_count": 6,
   "metadata": {
    "execution": {
     "iopub.execute_input": "2022-08-28T20:35:43.369938Z",
     "iopub.status.busy": "2022-08-28T20:35:43.369418Z",
     "iopub.status.idle": "2022-08-28T20:35:46.658642Z",
     "shell.execute_reply": "2022-08-28T20:35:46.657899Z"
    }
   },
   "outputs": [],
   "source": [
    "# Energy Minimization and equilibration\n",
    "simulation.minimize(n_steps=5000)\n",
    "simulation.run(n_steps=10000, equilibration=True)"
   ]
  },
  {
   "cell_type": "markdown",
   "metadata": {},
   "source": [
    "OK; time to set up the actual refinement of the force-field parameters. \n",
    "\n",
    "First we need some data to refine against:"
   ]
  },
  {
   "cell_type": "code",
   "execution_count": 7,
   "metadata": {
    "execution": {
     "iopub.execute_input": "2022-08-28T20:35:46.663043Z",
     "iopub.status.busy": "2022-08-28T20:35:46.662509Z",
     "iopub.status.idle": "2022-08-28T20:35:46.667807Z",
     "shell.execute_reply": "2022-08-28T20:35:46.667167Z"
    }
   },
   "outputs": [],
   "source": [
    "# exp_datasets is a list of dictionaries with one dictionary per experimental\n",
    "# dataset\n",
    "# Dataset from: van Well et al. (1985). Physical Review A, 31(5), 3391-3414\n",
    "# resolution is None as the original author already accounted for instrument resolution\n",
    "exp_datasets = [{'file_name':'data/Well_s_q_omega_Ar_data.xml',\n",
    "                 'type':'SQw',\n",
    "                 'reader':'xml_SQw',\n",
    "                 'weight':1.,\n",
    "                 'auto_scale':True,\n",
    "                 'resolution':None}]"
   ]
  },
  {
   "cell_type": "markdown",
   "metadata": {},
   "source": [
    "The number of `MD_steps` specified must be large enough to allow for successful calculation of all observables. This depends the `type` of the dataset provided and the value of the `traj_step` (specified when creating the `Simulation`). If a value for `MD_steps` is not provided, then the minimum number needed will be used automatically.\n",
    "\n",
    "Additionally, some observables will have an upper limit on the number of MD_steps that can be used in calculating their dependent variable(s). In these cases, the number of `MD_steps` is rounded down to a multiple of this upper limit so that we only run steps that will be useful. For example, if we use 1000 `MD_steps` in calculation, but a value of 2500 is provided, then we will run 2000 steps and use this to calculate the variable twice, without wasting time performing an additional 500 steps."
   ]
  },
  {
   "cell_type": "code",
   "execution_count": 8,
   "metadata": {
    "execution": {
     "iopub.execute_input": "2022-08-28T20:35:46.671314Z",
     "iopub.status.busy": "2022-08-28T20:35:46.670697Z",
     "iopub.status.idle": "2022-08-28T20:35:46.805344Z",
     "shell.execute_reply": "2022-08-28T20:35:46.804528Z"
    }
   },
   "outputs": [
    {
     "name": "stdout",
     "output_type": "stream",
     "text": [
      "Control created with:\n",
      "  Minimizer                             GPO\n",
      "  FoM type               ChiSquaredExpError\n",
      "  Number of observables                   1\n",
      "  Number of parameters                    2\n",
      "\n"
     ]
    }
   ],
   "source": [
    "fit_parameters = universe.parameters\n",
    "fit_parameters['sigma'].constraints = [2.8,3.8]\n",
    "fit_parameters['epsilon'].constraints = [0.7, 1.2]\n",
    "\n",
    "\n",
    "control = Control(simulation=simulation,\n",
    "                  exp_datasets=exp_datasets,\n",
    "                  fit_parameters=fit_parameters,\n",
    "                  minimizer_type=\"GPO\",\n",
    "                  reset_config=True,\n",
    "                  MD_steps=2000, \n",
    "                  equilibration_steps=2000,\n",
    "                  n_points=40)"
   ]
  },
  {
   "cell_type": "markdown",
   "metadata": {},
   "source": [
    "And finally start the refinement! Bump up `n_steps` from 3 when you are ready."
   ]
  },
  {
   "cell_type": "code",
   "execution_count": 9,
   "metadata": {
    "execution": {
     "iopub.execute_input": "2022-08-28T20:35:46.808940Z",
     "iopub.status.busy": "2022-08-28T20:35:46.808527Z",
     "iopub.status.idle": "2022-08-28T20:42:54.186159Z",
     "shell.execute_reply": "2022-08-28T20:42:54.185271Z"
    }
   },
   "outputs": [
    {
     "name": "stdout",
     "output_type": "stream",
     "text": [
      "Step         FoM Change state  Pred coords     Pred FoM epsilon (#2)   sigma (#3)\n"
     ]
    },
    {
     "name": "stdout",
     "output_type": "stream",
     "text": [
      "   0       364.9     Accepted [1.0243 kJ / mol, 3.36 Ang]        364.9        1.024         3.36\n"
     ]
    },
    {
     "name": "stdout",
     "output_type": "stream",
     "text": [
      "   1         433     Accepted [1.0243 kJ / mol, 3.36 Ang]        364.9       0.9719        3.532\n"
     ]
    },
    {
     "name": "stdout",
     "output_type": "stream",
     "text": [
      "   2       611.5     Accepted [1.0243 kJ / mol, 3.36 Ang]        364.9       0.9969        2.905\n"
     ]
    },
    {
     "name": "stdout",
     "output_type": "stream",
     "text": [
      "   3       808.8     Accepted [1.0243 kJ / mol, 3.36 Ang]        364.9       0.9098        3.782\n"
     ]
    },
    {
     "name": "stdout",
     "output_type": "stream",
     "text": [
      "   4         403     Accepted [1.0243 kJ / mol, 3.36 Ang]        364.9        1.198         3.47\n"
     ]
    },
    {
     "name": "stdout",
     "output_type": "stream",
     "text": [
      "   5       592.1     Accepted [1.0243 kJ / mol, 3.36 Ang]        364.9       0.7743        2.876\n"
     ]
    },
    {
     "name": "stdout",
     "output_type": "stream",
     "text": [
      "   6       398.9     Accepted [1.0243 kJ / mol, 3.36 Ang]        364.9       0.8962        3.198\n"
     ]
    },
    {
     "name": "stdout",
     "output_type": "stream",
     "text": [
      "   7       564.8     Accepted [1.0243 kJ / mol, 3.36 Ang]        364.9       0.8297        3.693\n"
     ]
    },
    {
     "name": "stdout",
     "output_type": "stream",
     "text": [
      "   8       375.4     Accepted [1.0243 kJ / mol, 3.36 Ang]        364.9       0.7088        3.271\n"
     ]
    },
    {
     "name": "stdout",
     "output_type": "stream",
     "text": [
      "   9       771.2     Accepted [1.0243 kJ / mol, 3.36 Ang]        364.9        1.059        2.812\n"
     ]
    },
    {
     "name": "stdout",
     "output_type": "stream",
     "text": [
      "  10       360.7     Accepted [0.9434808933228142 kJ / mol, 3.3361782337854944 Ang]        360.7       0.9435        3.336\n"
     ]
    },
    {
     "name": "stdout",
     "output_type": "stream",
     "text": [
      "  11       717.2     Accepted [0.9434808933228142 kJ / mol, 3.3361782337854944 Ang]        360.7        1.086        2.966\n"
     ]
    },
    {
     "name": "stdout",
     "output_type": "stream",
     "text": [
      "  12       494.1     Accepted [0.9434808933228142 kJ / mol, 3.3361782337854944 Ang]        360.7       0.7919        3.001\n"
     ]
    },
    {
     "name": "stdout",
     "output_type": "stream",
     "text": [
      "  13       408.3     Accepted [0.9434808933228142 kJ / mol, 3.3361782337854944 Ang]        360.7       0.8095        3.566\n"
     ]
    },
    {
     "name": "stdout",
     "output_type": "stream",
     "text": [
      "  14       716.3     Accepted [0.9434808933228142 kJ / mol, 3.3361782337854944 Ang]        360.7        1.038        3.713\n"
     ]
    },
    {
     "name": "stdout",
     "output_type": "stream",
     "text": [
      "  15       435.6     Accepted [0.9434808933228142 kJ / mol, 3.3361782337854944 Ang]        360.7       0.7406        3.619\n"
     ]
    },
    {
     "name": "stdout",
     "output_type": "stream",
     "text": [
      "  16       571.4     Accepted [0.9434808933228142 kJ / mol, 3.3361782337854944 Ang]        360.7        1.171        3.098\n"
     ]
    },
    {
     "name": "stdout",
     "output_type": "stream",
     "text": [
      "  17       377.2     Accepted [0.9434808933228142 kJ / mol, 3.3361782337854944 Ang]        360.7         1.14        3.223\n"
     ]
    },
    {
     "name": "stdout",
     "output_type": "stream",
     "text": [
      "  18       438.5     Accepted [0.9434808933228142 kJ / mol, 3.3361782337854944 Ang]        360.7        1.024        3.104\n"
     ]
    },
    {
     "name": "stdout",
     "output_type": "stream",
     "text": [
      "  19       342.2     Accepted [0.8735049134935504 kJ / mol, 3.440732924682126 Ang]        342.2       0.8735        3.441\n"
     ]
    },
    {
     "name": "stdout",
     "output_type": "stream",
     "text": [
      "  20       323.3     Accepted [0.7012248492235407 kJ / mol, 3.439078836510782 Ang]        323.3       0.7012        3.439\n"
     ]
    },
    {
     "name": "stdout",
     "output_type": "stream",
     "text": [
      "  21         343     Accepted [0.7012248492235407 kJ / mol, 3.439078836510782 Ang]        323.3        0.704        3.426\n"
     ]
    },
    {
     "name": "stdout",
     "output_type": "stream",
     "text": [
      "  22       341.9     Accepted [0.7012248492235407 kJ / mol, 3.439078836510782 Ang]        323.3       0.7007        3.447\n"
     ]
    },
    {
     "name": "stdout",
     "output_type": "stream",
     "text": [
      "  23         386     Accepted [0.7012248492235407 kJ / mol, 3.439078836510782 Ang]        323.3        1.199        3.332\n"
     ]
    },
    {
     "name": "stdout",
     "output_type": "stream",
     "text": [
      "  24       347.1     Accepted [0.7012248492235407 kJ / mol, 3.439078836510782 Ang]        323.3       0.7807        3.406\n"
     ]
    },
    {
     "name": "stdout",
     "output_type": "stream",
     "text": [
      "  25       301.3     Accepted [0.7006166720668269 kJ / mol, 3.3750020699861842 Ang]        301.3       0.7006        3.375\n"
     ]
    },
    {
     "name": "stdout",
     "output_type": "stream",
     "text": [
      "  26       360.8     Accepted [0.7006166720668269 kJ / mol, 3.3750020699861842 Ang]        301.3       0.7006        3.372\n"
     ]
    },
    {
     "name": "stdout",
     "output_type": "stream",
     "text": [
      "  27       329.5     Accepted [0.7006166720668269 kJ / mol, 3.3750020699861842 Ang]        301.3       0.7032        3.473\n"
     ]
    },
    {
     "name": "stdout",
     "output_type": "stream",
     "text": [
      "  28       360.5     Accepted [0.7006166720668269 kJ / mol, 3.3750020699861842 Ang]        301.3       0.7001        3.489\n"
     ]
    },
    {
     "name": "stdout",
     "output_type": "stream",
     "text": [
      "  29       338.9     Accepted [0.7006166720668269 kJ / mol, 3.3750020699861842 Ang]        301.3       0.8024        3.378\n"
     ]
    },
    {
     "name": "stdout",
     "output_type": "stream",
     "text": [
      "  30       353.4     Accepted [0.7006166720668269 kJ / mol, 3.3750020699861842 Ang]        301.3        1.069        3.298\n"
     ]
    },
    {
     "name": "stdout",
     "output_type": "stream",
     "text": [
      "  31       343.8     Accepted [0.7006166720668269 kJ / mol, 3.3750020699861842 Ang]        301.3       0.7848        3.428\n"
     ]
    },
    {
     "name": "stdout",
     "output_type": "stream",
     "text": [
      "  32         395     Accepted [0.7006166720668269 kJ / mol, 3.3750020699861842 Ang]        301.3        1.107        3.378\n"
     ]
    },
    {
     "name": "stdout",
     "output_type": "stream",
     "text": [
      "  33       396.1     Accepted [0.7006166720668269 kJ / mol, 3.3750020699861842 Ang]        301.3        1.015        3.246\n"
     ]
    },
    {
     "name": "stdout",
     "output_type": "stream",
     "text": [
      "  34         346     Accepted [0.7006166720668269 kJ / mol, 3.3750020699861842 Ang]        301.3       0.7019        3.399\n"
     ]
    },
    {
     "name": "stdout",
     "output_type": "stream",
     "text": [
      "  35       328.7     Accepted [0.7006166720668269 kJ / mol, 3.3750020699861842 Ang]        301.3       0.7005        3.404\n"
     ]
    },
    {
     "name": "stdout",
     "output_type": "stream",
     "text": [
      "  36       349.5     Accepted [0.7006166720668269 kJ / mol, 3.3750020699861842 Ang]        301.3       0.7588        3.407\n"
     ]
    },
    {
     "name": "stdout",
     "output_type": "stream",
     "text": [
      "  37       344.5     Accepted [0.7006166720668269 kJ / mol, 3.3750020699861842 Ang]        301.3       0.7016        3.389\n"
     ]
    },
    {
     "name": "stdout",
     "output_type": "stream",
     "text": [
      "  38       330.1     Accepted [0.7006166720668269 kJ / mol, 3.3750020699861842 Ang]        301.3       0.7028        3.416\n"
     ]
    },
    {
     "name": "stdout",
     "output_type": "stream",
     "text": [
      "  39       334.7     Accepted [0.7006166720668269 kJ / mol, 3.3750020699861842 Ang]        301.3       0.7006        3.428\n",
      "\n",
      "The refinement has finished. \n",
      " \n",
      "Minimum measured point is: \n",
      "(0.7006166720668269 kJ / mol, 3.3750020699861842 Ang) with an FoM of 301.2830332326599. \n",
      " \n",
      "Minimum point predicted is: \n",
      "(0.7006166720668269 kJ / mol, 3.3750020699861842 Ang) for an FoM of 301.2830332326599.\n",
      " \n",
      " \n",
      "\n",
      "Automatic Scale Factors\n",
      "  data/Well_s_q_omega_Ar_data.xml  0.214361\n"
     ]
    }
   ],
   "source": [
    "# Run the refinement, i.e. refine the FF parameters against the data\n",
    "control.refine(n_steps=40)"
   ]
  },
  {
   "cell_type": "code",
   "execution_count": null,
   "metadata": {},
   "outputs": [],
   "source": []
  }
 ],
 "metadata": {
  "kernelspec": {
   "display_name": "Python 3.9.6 64-bit",
   "language": "python",
   "name": "python3"
  },
  "language_info": {
   "codemirror_mode": {
    "name": "ipython",
    "version": 3
   },
   "file_extension": ".py",
   "mimetype": "text/x-python",
   "name": "python",
   "nbconvert_exporter": "python",
   "pygments_lexer": "ipython3",
   "version": "3.9.6"
  },
  "vscode": {
   "interpreter": {
    "hash": "949777d72b0d2535278d3dc13498b2535136f6dfe0678499012e853ee9abcab1"
   }
  }
 },
 "nbformat": 4,
 "nbformat_minor": 4
}
