{
 "cells": [
  {
   "cell_type": "markdown",
   "metadata": {},
   "source": [
    "# Argon A-to-Z"
   ]
  },
  {
   "cell_type": "markdown",
   "metadata": {},
   "source": [
    "This tutorial demonstrates a-to-z how to optimise Lennard Jones parameters for liquid argon, and without going into details. For details see other tutorials and wider MDMC documentation."
   ]
  },
  {
   "cell_type": "code",
   "execution_count": 1,
   "metadata": {
    "execution": {
     "iopub.execute_input": "2023-03-27T15:16:50.612787Z",
     "iopub.status.busy": "2023-03-27T15:16:50.612058Z",
     "iopub.status.idle": "2023-03-27T15:16:52.020037Z",
     "shell.execute_reply": "2023-03-27T15:16:52.018103Z"
    }
   },
   "outputs": [
    {
     "name": "stdout",
     "output_type": "stream",
     "text": [
      "Supported DL_POLY version 5.0\n"
     ]
    }
   ],
   "source": [
    "# Imports used for this tutorial\n",
    "import numpy as np\n",
    "import os\n",
    "from MDMC.control import Control\n",
    "from MDMC.MD import Atom, Dispersion, LennardJones, Simulation, Universe"
   ]
  },
  {
   "cell_type": "code",
   "execution_count": 2,
   "metadata": {
    "execution": {
     "iopub.execute_input": "2023-03-27T15:16:52.066244Z",
     "iopub.status.busy": "2023-03-27T15:16:52.065489Z",
     "iopub.status.idle": "2023-03-27T15:16:52.069175Z",
     "shell.execute_reply": "2023-03-27T15:16:52.068638Z"
    }
   },
   "outputs": [],
   "source": [
    "# Change the number of threads depending on the number of physical cores on your computer\n",
    "# as it was tested for LAMMPS\n",
    "os.environ[\"OMP_NUM_THREADS\"] = \"4\""
   ]
  },
  {
   "cell_type": "code",
   "execution_count": 3,
   "metadata": {
    "execution": {
     "iopub.execute_input": "2023-03-27T15:16:52.072352Z",
     "iopub.status.busy": "2023-03-27T15:16:52.071668Z",
     "iopub.status.idle": "2023-03-27T15:16:52.093275Z",
     "shell.execute_reply": "2023-03-27T15:16:52.092544Z"
    }
   },
   "outputs": [
    {
     "name": "stdout",
     "output_type": "stream",
     "text": [
      "Universe created with:\n",
      "  Dimensions       [23.07, 23.07, 23.07]\n",
      "  Force field                       None\n",
      "  Number of atoms                      0\n",
      "\n",
      "Number of argon atoms = 216\n"
     ]
    }
   ],
   "source": [
    "# Build universe with density 0.0176 atoms per AA^-3\n",
    "density = 0.0176\n",
    "# This means cubic universe of side:\n",
    "# 23.0668 A will contain 216 Ar atoms\n",
    "# 26.911 A will contain 343 Ar atoms\n",
    "# 30.7553 A will contain 512 Ar atoms\n",
    "# 38.4441 A will contain 1000 Ar atoms\n",
    "universe = Universe(dimensions=23.0668)\n",
    "Ar = Atom('Ar', charge=0.)\n",
    "# Calculating number of Ar atoms needed to obtain density\n",
    "n_ar_atoms = int(density * np.product(universe.dimensions))\n",
    "print(f'Number of argon atoms = {n_ar_atoms}')\n",
    "universe.fill(Ar, num_struc_units=(n_ar_atoms))"
   ]
  },
  {
   "cell_type": "markdown",
   "metadata": {},
   "source": [
    "In the Jupyter cell above, a box of Argon atoms is set up. However, at this point there is no interaction forces between the argon atoms! In the cell below an appropriate (for argon) force-field interaction potential is defined."
   ]
  },
  {
   "cell_type": "code",
   "execution_count": 4,
   "metadata": {
    "execution": {
     "iopub.execute_input": "2023-03-27T15:16:52.096738Z",
     "iopub.status.busy": "2023-03-27T15:16:52.096368Z",
     "iopub.status.idle": "2023-03-27T15:16:52.100760Z",
     "shell.execute_reply": "2023-03-27T15:16:52.100090Z"
    }
   },
   "outputs": [],
   "source": [
    "Ar_dispersion = Dispersion(universe,\n",
    "                           (Ar.atom_type, Ar.atom_type),\n",
    "                           cutoff=8.,\n",
    "                           function=LennardJones(epsilon=1.0243, sigma=3.36))"
   ]
  },
  {
   "cell_type": "markdown",
   "metadata": {},
   "source": [
    "In this case the interaction potential chosen is the humble Lennard Jones (to get info see doc or type `help(LennardJones)`).\n",
    "\n",
    "Also, a `cutoff` value is chosen (see `help(Dispersion)` for more info). A [rule of thumb for Lennard-Jones](https://en.wikipedia.org/wiki/Lennard-Jones_potential) is to pick `cutoff=2.5*sigma`. The value for argon is recommended to be between 8 and 12 ang. `cutoff` is not a force-field parameter and therefore will not be refined. Ideally, and for any system you want to pick at value of the `cutoff` which is small while not compromising accuracy. For this system picking a value between 8 and 12 ang is found to give near identifical results.\n",
    "\n",
    "Next (and before starting the refinement), we set up the MD engine and equilibrate the system. Note with MDMC the equilibration only needs to be done once. "
   ]
  },
  {
   "cell_type": "code",
   "execution_count": 5,
   "metadata": {
    "execution": {
     "iopub.execute_input": "2023-03-27T15:16:52.103862Z",
     "iopub.status.busy": "2023-03-27T15:16:52.103305Z",
     "iopub.status.idle": "2023-03-27T15:16:53.226483Z",
     "shell.execute_reply": "2023-03-27T15:16:53.225514Z"
    }
   },
   "outputs": [
    {
     "name": "stdout",
     "output_type": "stream",
     "text": [
      "LAMMPS (29 Sep 2021 - Update 3)\n",
      "  using 4 OpenMP thread(s) per MPI task\n",
      "LAMMPS output is captured by PyLammps wrapper\n",
      "LAMMPS (29 Sep 2021 - Update 3)\n",
      "  using 4 OpenMP thread(s) per MPI task\n",
      "LAMMPS output is captured by PyLammps wrapper\n",
      "Total wall time: 0:00:00\n",
      "using multi-threaded neighbor list subroutines\n"
     ]
    },
    {
     "name": "stdout",
     "output_type": "stream",
     "text": [
      "Simulation created with lammps engine and settings:\n",
      "  temperature  120.0\n",
      "\n"
     ]
    }
   ],
   "source": [
    "# MD Engine setup\n",
    "simulation = Simulation(universe,\n",
    "                        engine=\"lammps\",\n",
    "                        time_step=10.18893,\n",
    "                        temperature=120.,\n",
    "                        traj_step=15)"
   ]
  },
  {
   "cell_type": "code",
   "execution_count": 6,
   "metadata": {
    "execution": {
     "iopub.execute_input": "2023-03-27T15:16:53.230656Z",
     "iopub.status.busy": "2023-03-27T15:16:53.230011Z",
     "iopub.status.idle": "2023-03-27T15:16:56.525440Z",
     "shell.execute_reply": "2023-03-27T15:16:56.524824Z"
    }
   },
   "outputs": [],
   "source": [
    "# Energy Minimization and equilibration\n",
    "simulation.minimize(n_steps=5000)\n",
    "simulation.run(n_steps=10000, equilibration=True)"
   ]
  },
  {
   "cell_type": "markdown",
   "metadata": {},
   "source": [
    "OK; time to set up the actual refinement of the force-field parameters. \n",
    "\n",
    "First we need some data to refine against:"
   ]
  },
  {
   "cell_type": "code",
   "execution_count": 7,
   "metadata": {
    "execution": {
     "iopub.execute_input": "2023-03-27T15:16:56.529188Z",
     "iopub.status.busy": "2023-03-27T15:16:56.528751Z",
     "iopub.status.idle": "2023-03-27T15:16:56.532457Z",
     "shell.execute_reply": "2023-03-27T15:16:56.531798Z"
    }
   },
   "outputs": [],
   "source": [
    "# exp_datasets is a list of dictionaries with one dictionary per experimental\n",
    "# dataset\n",
    "# Dataset from: van Well et al. (1985). Physical Review A, 31(5), 3391-3414\n",
    "# resolution is None as the original author already accounted for instrument resolution\n",
    "exp_datasets = [{'file_name':'data/Well_s_q_omega_Ar_data.xml',\n",
    "                 'type':'SQw',\n",
    "                 'reader':'xml_SQw',\n",
    "                 'weight':1.,\n",
    "                 'auto_scale':True,\n",
    "                 'resolution':None}]"
   ]
  },
  {
   "cell_type": "markdown",
   "metadata": {},
   "source": [
    "The number of `MD_steps` specified must be large enough to allow for successful calculation of all observables. This depends the `type` of the dataset provided and the value of the `traj_step` (specified when creating the `Simulation`). If a value for `MD_steps` is not provided, then the minimum number needed will be used automatically.\n",
    "\n",
    "Additionally, some observables will have an upper limit on the number of MD_steps that can be used in calculating their dependent variable(s). In these cases, the number of `MD_steps` is rounded down to a multiple of this upper limit so that we only run steps that will be useful. For example, if we use 1000 `MD_steps` in calculation, but a value of 2500 is provided, then we will run 2000 steps and use this to calculate the variable twice, without wasting time performing an additional 500 steps."
   ]
  },
  {
   "cell_type": "code",
   "execution_count": 8,
   "metadata": {
    "execution": {
     "iopub.execute_input": "2023-03-27T15:16:56.549447Z",
     "iopub.status.busy": "2023-03-27T15:16:56.549134Z",
     "iopub.status.idle": "2023-03-27T15:16:56.688676Z",
     "shell.execute_reply": "2023-03-27T15:16:56.687675Z"
    }
   },
   "outputs": [
    {
     "name": "stdout",
     "output_type": "stream",
     "text": [
      "Control created with:\n",
      "- Attributes                              -\n",
      "  Minimizer                             GPO\n",
      "  FoM type               ChiSquaredExpError\n",
      "  Number of observables                   1\n",
      "  Number of parameters                    2\n",
      "\n"
     ]
    }
   ],
   "source": [
    "fit_parameters = universe.parameters\n",
    "fit_parameters['sigma'].constraints = [2.8,3.8]\n",
    "fit_parameters['epsilon'].constraints = [0.6, 1.4]\n",
    "\n",
    "\n",
    "control = Control(simulation=simulation,\n",
    "                  exp_datasets=exp_datasets,\n",
    "                  fit_parameters=fit_parameters,\n",
    "                  minimizer_type=\"GPO\",\n",
    "                  reset_config=True,\n",
    "                  MD_steps=1000, \n",
    "                  equilibration_steps=1000)"
   ]
  },
  {
   "cell_type": "markdown",
   "metadata": {},
   "source": [
    "And finally start the refinement! Bump up `n_steps` from 3 when you are ready."
   ]
  },
  {
   "cell_type": "code",
   "execution_count": 9,
   "metadata": {
    "execution": {
     "iopub.execute_input": "2023-03-27T15:16:56.692081Z",
     "iopub.status.busy": "2023-03-27T15:16:56.691714Z",
     "iopub.status.idle": "2023-03-27T15:17:44.302185Z",
     "shell.execute_reply": "2023-03-27T15:17:44.301265Z"
    }
   },
   "outputs": [
    {
     "name": "stdout",
     "output_type": "stream",
     "text": [
      "Step         FoM Change state  Pred coords     Pred FoM epsilon (#2)   sigma (#3)\n"
     ]
    },
    {
     "name": "stdout",
     "output_type": "stream",
     "text": [
      "   0        2171     Accepted [1.0243 kJ / mol, 3.36 Ang]         2171        1.024         3.36\n"
     ]
    },
    {
     "name": "stdout",
     "output_type": "stream",
     "text": [
      "   1        1828     Accepted [1.0350755236683686 kJ / mol, 3.532035936386891 Ang]         1828        1.035        3.532\n"
     ]
    },
    {
     "name": "stdout",
     "output_type": "stream",
     "text": [
      "   2        2398     Accepted [1.0350755236683686 kJ / mol, 3.532035936386891 Ang]         1828        1.075        2.905\n"
     ]
    },
    {
     "name": "stdout",
     "output_type": "stream",
     "text": [
      "   3        1418     Accepted [0.9356131020068645 kJ / mol, 3.7824087689280574 Ang]         1418       0.9356        3.782\n"
     ]
    },
    {
     "name": "stdout",
     "output_type": "stream",
     "text": [
      "   4        1978     Accepted [0.9356131020068645 kJ / mol, 3.7824087689280574 Ang]         1418        1.396         3.47\n"
     ]
    },
    {
     "name": "stdout",
     "output_type": "stream",
     "text": [
      "   5        2469     Accepted [0.9356131020068645 kJ / mol, 3.7824087689280574 Ang]         1418       0.7189        2.876\n"
     ]
    },
    {
     "name": "stdout",
     "output_type": "stream",
     "text": [
      "   6        2283     Accepted [0.9356131020068645 kJ / mol, 3.7824087689280574 Ang]         1418       0.9139        3.198\n"
     ]
    },
    {
     "name": "stdout",
     "output_type": "stream",
     "text": [
      "   7        1319     Accepted [0.8075814077751188 kJ / mol, 3.692534078391052 Ang]         1319       0.8076        3.693\n"
     ]
    },
    {
     "name": "stdout",
     "output_type": "stream",
     "text": [
      "   8        2148     Accepted [0.8075814077751188 kJ / mol, 3.692534078391052 Ang]         1319       0.6141        3.271\n"
     ]
    },
    {
     "name": "stdout",
     "output_type": "stream",
     "text": [
      "   9        2352     Accepted [0.8075814077751188 kJ / mol, 3.692534078391052 Ang]         1319        1.174        2.812\n"
     ]
    },
    {
     "name": "stdout",
     "output_type": "stream",
     "text": [
      "  10        2087     Accepted [0.8075814077751188 kJ / mol, 3.692534078391052 Ang]         1319       0.9896        3.336\n"
     ]
    },
    {
     "name": "stdout",
     "output_type": "stream",
     "text": [
      "  11        2357     Accepted [0.8075814077751188 kJ / mol, 3.692534078391052 Ang]         1319        1.218        2.966\n"
     ]
    },
    {
     "name": "stdout",
     "output_type": "stream",
     "text": [
      "  12        2396     Accepted [0.8075814077751188 kJ / mol, 3.692534078391052 Ang]         1319        0.747        3.001\n"
     ]
    },
    {
     "name": "stdout",
     "output_type": "stream",
     "text": [
      "  13        1618     Accepted [0.8075814077751188 kJ / mol, 3.692534078391052 Ang]         1319       0.7752        3.566\n"
     ]
    },
    {
     "name": "stdout",
     "output_type": "stream",
     "text": [
      "  14        1925     Accepted [0.8075814077751188 kJ / mol, 3.692534078391052 Ang]         1319        1.141        3.713\n"
     ]
    },
    {
     "name": "stdout",
     "output_type": "stream",
     "text": [
      "  15        1954     Accepted [0.8075814077751188 kJ / mol, 3.692534078391052 Ang]         1319        0.665        3.619\n"
     ]
    },
    {
     "name": "stdout",
     "output_type": "stream",
     "text": [
      "  16        2224     Accepted [0.8075814077751188 kJ / mol, 3.692534078391052 Ang]         1319        1.354        3.098\n"
     ]
    },
    {
     "name": "stdout",
     "output_type": "stream",
     "text": [
      "  17        2059     Accepted [0.8075814077751188 kJ / mol, 3.692534078391052 Ang]         1319        1.304        3.223\n"
     ]
    },
    {
     "name": "stdout",
     "output_type": "stream",
     "text": [
      "  18        2182     Accepted [0.8075814077751188 kJ / mol, 3.692534078391052 Ang]         1319        1.119        3.104\n"
     ]
    },
    {
     "name": "stdout",
     "output_type": "stream",
     "text": [
      "  19        1910     Accepted [0.8075814077751188 kJ / mol, 3.692534078391052 Ang]         1319       0.8776        3.441\n"
     ]
    },
    {
     "name": "stdout",
     "output_type": "stream",
     "text": [
      "  20        1372     Accepted [0.8075814077751188 kJ / mol, 3.692534078391052 Ang]         1319       0.8491        3.783\n",
      "\n",
      "The refinement has finished. \n",
      " \n",
      "Minimum measured point is: \n",
      "(0.8075814077751188 kJ / mol, 3.692534078391052 Ang) with an FoM of 1319.328943297516. \n",
      " \n",
      "Minimum point predicted is: \n",
      "(0.8075814077751188 kJ / mol, 3.692534078391052 Ang) for an FoM of 1319.328943297516.\n",
      " \n",
      " \n",
      "\n",
      "Automatic Scale Factors\n",
      "  data/Well_s_q_omega_Ar_data.xml  0.534024\n"
     ]
    },
    {
     "data": {
      "image/png": "[encoded data removed]",
      "text/plain": [
       "<Figure size 550x550 with 4 Axes>"
      ]
     },
     "metadata": {},
     "output_type": "display_data"
    }
   ],
   "source": [
    "# Run the refinement, i.e. refine the FF parameters against the data\n",
    "control.refine(n_steps=21)\n",
    "control.plot_results();"
   ]
  },
  {
   "cell_type": "code",
   "execution_count": null,
   "metadata": {},
   "outputs": [],
   "source": []
  }
 ],
 "metadata": {
  "kernelspec": {
   "display_name": "Python 3.9.6 64-bit",
   "language": "python",
   "name": "python3"
  },
  "language_info": {
   "codemirror_mode": {
    "name": "ipython",
    "version": 3
   },
   "file_extension": ".py",
   "mimetype": "text/x-python",
   "name": "python",
   "nbconvert_exporter": "python",
   "pygments_lexer": "ipython3",
   "version": "3.11.2"
  },
  "vscode": {
   "interpreter": {
    "hash": "949777d72b0d2535278d3dc13498b2535136f6dfe0678499012e853ee9abcab1"
   }
  }
 },
 "nbformat": 4,
 "nbformat_minor": 4
}
