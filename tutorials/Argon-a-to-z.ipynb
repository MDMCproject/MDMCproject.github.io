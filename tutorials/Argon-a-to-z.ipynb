{
 "cells": [
  {
   "attachments": {},
   "cell_type": "markdown",
   "metadata": {},
   "source": [
    "# Argon A-to-Z"
   ]
  },
  {
   "attachments": {},
   "cell_type": "markdown",
   "metadata": {},
   "source": [
    "This tutorial aims to take the user from no familiarity with MDMC to enough competence that they can create a simple simulation and run a refinement, by walking through a simulation and refinement for the liquid argon data from [van Well et al. (1985)](https://doi.org/10.1103/PhysRevA.31.3391).  For more details on specific parts of this, please see the how-to guides!\n",
    "\n",
    "If you'd like to learn more about a specific object, use the Python `help()` command - for example `help(Atom)` provides information on the MDMC `Atom`.\n",
    "\n",
    "We first import all of the objects we require, and set some environmental variables."
   ]
  },
  {
   "cell_type": "code",
   "execution_count": 1,
   "metadata": {
    "execution": {
     "iopub.execute_input": "2024-07-04T08:18:03.606052Z",
     "iopub.status.busy": "2024-07-04T08:18:03.605819Z",
     "iopub.status.idle": "2024-07-04T08:18:04.701586Z",
     "shell.execute_reply": "2024-07-04T08:18:04.700978Z"
    }
   },
   "outputs": [],
   "source": [
    "import os\n",
    "from MDMC.control import Control\n",
    "from MDMC.MD import Atom, Dispersion, LennardJones, Simulation, Universe\n",
    "\n",
    "# This setting tells MDMC how many simultaneous processes on your computer it should use\n",
    "# for simulation and refinement calculations.\n",
    "os.environ[\"OMP_NUM_THREADS\"] = \"4\""
   ]
  },
  {
   "attachments": {},
   "cell_type": "markdown",
   "metadata": {},
   "source": [
    "### Setting up a configuration and simulation\n",
    "\n",
    "We now build our `Universe`. For this tutorial we're creating a cube of argon-36 atoms; our side length is 23.0668Å (angstrom), and the atoms fill it with a density of 0.0176 atoms per cubic angstrom. This simulation matches the experimental data that we'd like to refine against - you will see more about this below.\n",
    "\n",
    "Atoms are created using MDMC `Atom` objects, and then the universe is filled with them via the `universe.fill` method."
   ]
  },
  {
   "cell_type": "code",
   "execution_count": 2,
   "metadata": {
    "execution": {
     "iopub.execute_input": "2024-07-04T08:18:04.704542Z",
     "iopub.status.busy": "2024-07-04T08:18:04.704105Z",
     "iopub.status.idle": "2024-07-04T08:18:04.722562Z",
     "shell.execute_reply": "2024-07-04T08:18:04.721970Z"
    }
   },
   "outputs": [
    {
     "name": "stdout",
     "output_type": "stream",
     "text": [
      "Universe created with:\n",
      "Dimensions [23.07 23.07 23.07]\n"
     ]
    }
   ],
   "source": [
    "universe = Universe(dimensions=23.0668)\n",
    "\n",
    "Ar = Atom('Ar', charge=0., mass=36.0)\n",
    "universe.fill(Ar, num_density=0.0176)"
   ]
  },
  {
   "attachments": {},
   "cell_type": "markdown",
   "metadata": {},
   "source": [
    "Note that at this point, there are no interaction forces between the argon atoms! The simulation doesn't know how these atoms should interact with each other. In the cell below an appropriate (for argon) force-field interaction potential is defined; we use a dispersive interaction with potential energy calculated by the [Lennard-Jones potential](https://en.wikipedia.org/wiki/Lennard-Jones_potential). This interaction has two parameters, epsilon and sigma, which determine the strength of the potential energy between atoms."
   ]
  },
  {
   "cell_type": "code",
   "execution_count": 3,
   "metadata": {
    "execution": {
     "iopub.execute_input": "2024-07-04T08:18:04.724841Z",
     "iopub.status.busy": "2024-07-04T08:18:04.724493Z",
     "iopub.status.idle": "2024-07-04T08:18:04.727893Z",
     "shell.execute_reply": "2024-07-04T08:18:04.727356Z"
    }
   },
   "outputs": [],
   "source": [
    "Ar_dispersion = Dispersion(universe,  # the universe our interaction applies to\n",
    "                           (Ar.atom_type, Ar.atom_type),  # the types of atoms to which it applies (only one type here!)\n",
    "                           cutoff=8.,  # the cutoff distance\n",
    "                           function=LennardJones(epsilon=1.0243, sigma=3.36))  # the function which calculates the potential energy between two atoms"
   ]
  },
  {
   "attachments": {},
   "cell_type": "markdown",
   "metadata": {},
   "source": [
    "A `cutoff` distance, past which atoms do not interact, is chosen arbitrarily (see `help(Dispersion)` for more info). A [rule of thumb for Lennard-Jones](https://en.wikipedia.org/wiki/Lennard-Jones_potential#Lennard-Jones_truncated_&_shifted_(LJTS)_potential) is to pick `cutoff=2.5*sigma`. The value for argon is recommended to be between 8 and 12 ang. Ideally, and for any system you want to pick at value of the `cutoff` which is small while not compromising accuracy. For this system, picking a value between 8 and 12 ang is found to give near identical results to the experimental data.\n",
    "\n",
    "Next (and before starting the refinement), we set up the Simulation, which contains:\n",
    "- the `Universe` that the simulation is based on;\n",
    "- the MD engine used to run the simulations;\n",
    "- the time-step in femtoseconds between each simulation frame; \n",
    "- the temperature of the Universe (used to calculate atom velocity);\n",
    "- the trajectory step, which is how many time steps should occur for each 'step' of the refinement."
   ]
  },
  {
   "cell_type": "code",
   "execution_count": 4,
   "metadata": {
    "execution": {
     "iopub.execute_input": "2024-07-04T08:18:04.730101Z",
     "iopub.status.busy": "2024-07-04T08:18:04.729764Z",
     "iopub.status.idle": "2024-07-04T08:18:05.693659Z",
     "shell.execute_reply": "2024-07-04T08:18:05.693009Z"
    }
   },
   "outputs": [
    {
     "name": "stdout",
     "output_type": "stream",
     "text": [
      "LAMMPS (29 Sep 2021 - Update 3)\n",
      "  using 4 OpenMP thread(s) per MPI task\n",
      "LAMMPS output is captured by PyLammps wrapper\n",
      "LAMMPS (29 Sep 2021 - Update 3)\n",
      "  using 4 OpenMP thread(s) per MPI task\n",
      "LAMMPS output is captured by PyLammps wrapper\n",
      "Total wall time: 0:00:00\n",
      "using multi-threaded neighbor list subroutines\n"
     ]
    },
    {
     "name": "stdout",
     "output_type": "stream",
     "text": [
      "Simulation created with lammps engine and settings:\n",
      "temperature: 120.0 K \n",
      "\n",
      "\n"
     ]
    }
   ],
   "source": [
    "# MD Engine setup\n",
    "simulation = Simulation(universe,\n",
    "                        engine=\"lammps\",\n",
    "                        time_step=10.18893,\n",
    "                        temperature=120.,\n",
    "                        traj_step=15)"
   ]
  },
  {
   "attachments": {},
   "cell_type": "markdown",
   "metadata": {},
   "source": [
    "We then minimize and equilibrate the simulation; minimising the simulation avoids it getting 'stuck' in local minima, and equilibration runs the simulation until it reaches a state with a physically feasible temperature/energy distribution. This ensures our simulation isn't affected by the initial arrangement of the atoms."
   ]
  },
  {
   "cell_type": "code",
   "execution_count": 5,
   "metadata": {
    "execution": {
     "iopub.execute_input": "2024-07-04T08:18:05.696440Z",
     "iopub.status.busy": "2024-07-04T08:18:05.696099Z",
     "iopub.status.idle": "2024-07-04T08:18:09.454552Z",
     "shell.execute_reply": "2024-07-04T08:18:09.453944Z"
    }
   },
   "outputs": [],
   "source": [
    "# Energy Minimization and equilibration\n",
    "simulation.minimize(n_steps=50)\n",
    "simulation.run(n_steps=10000, equilibration=True)"
   ]
  },
  {
   "attachments": {},
   "cell_type": "markdown",
   "metadata": {},
   "source": [
    "### Refining our data\n",
    "\n",
    "Our simulation is now fully set up. Now we need some data to which we fit our simulation; here we use an experimental [dynamic structure factor](https://en.wikipedia.org/wiki/Dynamic_structure_factor) $S(Q, \\omega)$ for liquid argon. We call these dynamical properties an 'observable'."
   ]
  },
  {
   "cell_type": "code",
   "execution_count": 6,
   "metadata": {
    "execution": {
     "iopub.execute_input": "2024-07-04T08:18:09.457416Z",
     "iopub.status.busy": "2024-07-04T08:18:09.457204Z",
     "iopub.status.idle": "2024-07-04T08:18:09.459998Z",
     "shell.execute_reply": "2024-07-04T08:18:09.459582Z"
    }
   },
   "outputs": [],
   "source": [
    "# exp_datasets is a list of dictionaries with one dictionary per experimental\n",
    "# dataset\n",
    "# Dataset from: van Well et al. (1985). Physical Review A, 31(5), 3391-3414\n",
    "# resolution is None as the original author already accounted for instrument resolution\n",
    "exp_datasets = [{'file_name':'data/Well_s_q_omega_Ar_data.xml',\n",
    "                 'type':'SQw',\n",
    "                 'reader':'xml_SQw',\n",
    "                 'weight':1.,\n",
    "                 'auto_scale':True,\n",
    "                 'resolution':800}]"
   ]
  },
  {
   "attachments": {},
   "cell_type": "markdown",
   "metadata": {},
   "source": [
    "We then need to create our parameters to fit against. In this case, we take all the universe parameters (which here are just the sigma and epsilon values that the Lennard-Jones potential depends on). Note that above when we set our initial `LennardJones` function in the `Dispersion` object, the epsilon and sigma were our \"initial guesses\" that the refinement will start from.\n",
    "\n",
    "We also set constraints for our fitting parameters; we bound our sigma values to be between 2.8 and 3.8, and our epsilon to be between 0.6 and 1.4."
   ]
  },
  {
   "cell_type": "code",
   "execution_count": 7,
   "metadata": {
    "execution": {
     "iopub.execute_input": "2024-07-04T08:18:09.462383Z",
     "iopub.status.busy": "2024-07-04T08:18:09.461815Z",
     "iopub.status.idle": "2024-07-04T08:18:09.465127Z",
     "shell.execute_reply": "2024-07-04T08:18:09.464751Z"
    }
   },
   "outputs": [],
   "source": [
    "fit_parameters = universe.parameters\n",
    "fit_parameters['sigma'].constraints = [2.7,3.8]\n",
    "fit_parameters['epsilon'].constraints = [0.5, 1.5]"
   ]
  },
  {
   "attachments": {},
   "cell_type": "markdown",
   "metadata": {},
   "source": [
    "Now we create our `Control` object. This object oversees the refinement; it brings the simulation, dataset, and the fitting parameters together, and then does the following:\n",
    "1. Run the simulation with the current parameters.\n",
    "2. Calculate the simulated observable from the simulation trajectory.\n",
    "3. Compare it to the experimental observable.\n",
    "4. Use a minimizer (optimisation process) to refine the parameters, bringing them closer to the experimental observable.\n",
    "5. Repeat with new parameters.\n",
    "\n",
    "The minimizer we're using in this tutorial (see the parameter `minimizer_type`) uses a [Gaussian process optimiser](https://en.wikipedia.org/wiki/Gaussian_process). If you'd like to compare them, MDMC also provides the [Metropolis-Hastings](https://en.wikipedia.org/wiki/Metropolis%E2%80%93Hastings_algorithm) Monte Carlo algorithm, which you can select by setting `minimizer_type=\"MMC\"`"
   ]
  },
  {
   "cell_type": "code",
   "execution_count": 8,
   "metadata": {
    "execution": {
     "iopub.execute_input": "2024-07-04T08:18:09.467467Z",
     "iopub.status.busy": "2024-07-04T08:18:09.466978Z",
     "iopub.status.idle": "2024-07-04T08:18:09.556255Z",
     "shell.execute_reply": "2024-07-04T08:18:09.555739Z"
    }
   },
   "outputs": [
    {
     "name": "stderr",
     "output_type": "stream",
     "text": [
      "WARNING:root: The given traj_step and time_step values were not compatibile with the dataset specified.\n",
      "The values (whilst prioritising time_step) have been changed to traj_step: 15, and time_step: 10.188949. \n",
      "Context: for this dataset, traj_step multiplied by time_step must be ~= 152.834237 (6 d.p). \n",
      "\n"
     ]
    },
    {
     "name": "stderr",
     "output_type": "stream",
     "text": [
      "WARNING:py.warnings:/usr/local/lib/python3.11/site-packages/MDMC/resolution/resolution_factory.py:73: SyntaxWarning: Assuming energy resolution is Gaussian. To change this, input energy resolution as {'function': 'value'}, where 'function' is your desired resolution approximation function.\n",
      "  warnings.warn(\"Assuming energy resolution is Gaussian. To change this,\"\n",
      "\n"
     ]
    },
    {
     "name": "stdout",
     "output_type": "stream",
     "text": [
      "Control created with:\n",
      "- Attributes                              -\n",
      "  Minimizer                             GPO\n",
      "  FoM type               ChiSquaredExpError\n",
      "  Number of observables                   1\n",
      "  Number of parameters                    2\n",
      "\n"
     ]
    }
   ],
   "source": [
    "control = Control(simulation=simulation,\n",
    "                  exp_datasets=exp_datasets,\n",
    "                  fit_parameters=fit_parameters,\n",
    "                  minimizer_type=\"GPO\",\n",
    "                  reset_config=True,\n",
    "                  MD_steps=4000,\n",
    "                  equilibration_steps=4000,\n",
    "                  data_printer='ipython')\n",
    "\n",
    "\n"
   ]
  },
  {
   "cell_type": "markdown",
   "metadata": {},
   "source": [
    "Now that the dataset has been specified, and used to configure various processes and parameters, the system can be equilibrated."
   ]
  },
  {
   "cell_type": "code",
   "execution_count": 9,
   "metadata": {
    "execution": {
     "iopub.execute_input": "2024-07-04T08:18:09.558317Z",
     "iopub.status.busy": "2024-07-04T08:18:09.558124Z",
     "iopub.status.idle": "2024-07-04T08:18:13.182533Z",
     "shell.execute_reply": "2024-07-04T08:18:13.181935Z"
    }
   },
   "outputs": [
    {
     "name": "stderr",
     "output_type": "stream",
     "text": [
      "INFO:MDMC.MD.engine_facades.lammps_engine:<class 'MDMC.MD.engine_facades.lammps_engine.LAMMPSEngine'> minimize: {n_steps: 50, minimize_every: 10, etol: 0.0001, ftol: 0.0, maxiter: 10000, maxeval: 10000}\n"
     ]
    },
    {
     "name": "stderr",
     "output_type": "stream",
     "text": [
      "INFO:MDMC.MD.engine_facades.lammps_engine:<class 'MDMC.MD.engine_facades.lammps_engine.LAMMPSEngine'> save_config: {n_atoms: 216}. Config saved.\n"
     ]
    },
    {
     "name": "stderr",
     "output_type": "stream",
     "text": [
      "INFO:MDMC.MD.engine_facades.lammps_engine:<class 'MDMC.MD.engine_facades.lammps_engine.LAMMPSEngine'> save_config: {n_atoms: 216}. Config saved.\n"
     ]
    },
    {
     "name": "stderr",
     "output_type": "stream",
     "text": [
      "INFO:MDMC.MD.engine_facades.lammps_engine:<class 'MDMC.MD.engine_facades.lammps_engine.LAMMPSEngine'> save_config: {n_atoms: 216}. Config saved.\n"
     ]
    },
    {
     "name": "stderr",
     "output_type": "stream",
     "text": [
      "INFO:MDMC.MD.engine_facades.lammps_engine:<class 'MDMC.MD.engine_facades.lammps_engine.LAMMPSEngine'> save_config: {n_atoms: 216}. Config saved.\n"
     ]
    },
    {
     "name": "stderr",
     "output_type": "stream",
     "text": [
      "INFO:MDMC.MD.engine_facades.lammps_engine:<class 'MDMC.MD.engine_facades.lammps_engine.LAMMPSEngine'> run: {n_steps: 10000, equilibration: True}\n"
     ]
    }
   ],
   "source": [
    "# Energy Minimization and equilibration\n",
    "control.minimize(n_steps=50)\n",
    "control.equilibrate(n_steps=10000)"
   ]
  },
  {
   "attachments": {},
   "cell_type": "markdown",
   "metadata": {},
   "source": [
    "The number of `MD_steps` specified must be large enough to allow for statistically reasonable calculation of all observables. This depends the `type` of the dataset provided and the value of the `traj_step` (specified when creating the `Simulation`). If a value for `MD_steps` is not provided, then the minimum number needed will be used automatically.\n",
    "\n",
    "Additionally, some observables will have an upper limit on the number of MD_steps that can be used in calculating their dependent variable(s). In these cases, the number of `MD_steps` is rounded down to a multiple of this upper limit so that we only run steps that will be useful. For example, if we use 1000 `MD_steps` in calculation, but a value of 2500 is provided, then we will run 2000 steps and use this to calculate the variable twice, without wasting time performing an additional 500 steps."
   ]
  },
  {
   "attachments": {},
   "cell_type": "markdown",
   "metadata": {},
   "source": [
    "Finally, start the refinement! `n_steps` has been set to `25` just so you can see what a refinement looks like; it will take many more steps to fully refine a dataset. Bump it up to a higher number when you're ready. Results can also be plotted via the `control.plot_results` method."
   ]
  },
  {
   "cell_type": "code",
   "execution_count": 10,
   "metadata": {
    "execution": {
     "iopub.execute_input": "2024-07-04T08:18:13.185481Z",
     "iopub.status.busy": "2024-07-04T08:18:13.184938Z",
     "iopub.status.idle": "2024-07-04T08:21:24.493369Z",
     "shell.execute_reply": "2024-07-04T08:21:24.492795Z"
    }
   },
   "outputs": [
    {
     "data": {
      "text/html": [
       "<div>\n",
       "<style scoped>\n",
       "    .dataframe tbody tr th:only-of-type {\n",
       "        vertical-align: middle;\n",
       "    }\n",
       "\n",
       "    .dataframe tbody tr th {\n",
       "        vertical-align: top;\n",
       "    }\n",
       "\n",
       "    .dataframe thead th {\n",
       "        text-align: right;\n",
       "    }\n",
       "</style>\n",
       "<table border=\"1\" class=\"dataframe\">\n",
       "  <thead>\n",
       "    <tr style=\"text-align: right;\">\n",
       "      <th></th>\n",
       "      <th>FoM</th>\n",
       "      <th>epsilon (#2)</th>\n",
       "      <th>sigma (#3)</th>\n",
       "    </tr>\n",
       "    <tr>\n",
       "      <th>Step</th>\n",
       "      <th></th>\n",
       "      <th></th>\n",
       "      <th></th>\n",
       "    </tr>\n",
       "  </thead>\n",
       "  <tbody>\n",
       "    <tr>\n",
       "      <th>0</th>\n",
       "      <td>216.446272</td>\n",
       "      <td>1.024300</td>\n",
       "      <td>3.360000</td>\n",
       "    </tr>\n",
       "    <tr>\n",
       "      <th>1</th>\n",
       "      <td>222.040851</td>\n",
       "      <td>1.043844</td>\n",
       "      <td>3.505240</td>\n",
       "    </tr>\n",
       "    <tr>\n",
       "      <th>2</th>\n",
       "      <td>639.876271</td>\n",
       "      <td>1.093889</td>\n",
       "      <td>2.815663</td>\n",
       "    </tr>\n",
       "    <tr>\n",
       "      <th>3</th>\n",
       "      <td>445.690790</td>\n",
       "      <td>0.919516</td>\n",
       "      <td>3.780650</td>\n",
       "    </tr>\n",
       "    <tr>\n",
       "      <th>4</th>\n",
       "      <td>238.723938</td>\n",
       "      <td>1.495079</td>\n",
       "      <td>3.436889</td>\n",
       "    </tr>\n",
       "    <tr>\n",
       "      <th>5</th>\n",
       "      <td>560.800925</td>\n",
       "      <td>0.648673</td>\n",
       "      <td>2.783596</td>\n",
       "    </tr>\n",
       "    <tr>\n",
       "      <th>6</th>\n",
       "      <td>344.073628</td>\n",
       "      <td>0.892343</td>\n",
       "      <td>3.137861</td>\n",
       "    </tr>\n",
       "    <tr>\n",
       "      <th>7</th>\n",
       "      <td>262.278611</td>\n",
       "      <td>0.759477</td>\n",
       "      <td>3.681787</td>\n",
       "    </tr>\n",
       "    <tr>\n",
       "      <th>8</th>\n",
       "      <td>311.153525</td>\n",
       "      <td>0.517653</td>\n",
       "      <td>3.217887</td>\n",
       "    </tr>\n",
       "    <tr>\n",
       "      <th>9</th>\n",
       "      <td>1018.528411</td>\n",
       "      <td>1.217111</td>\n",
       "      <td>2.713417</td>\n",
       "    </tr>\n",
       "    <tr>\n",
       "      <th>10</th>\n",
       "      <td>252.877849</td>\n",
       "      <td>0.986962</td>\n",
       "      <td>3.289796</td>\n",
       "    </tr>\n",
       "    <tr>\n",
       "      <th>11</th>\n",
       "      <td>710.263553</td>\n",
       "      <td>1.272722</td>\n",
       "      <td>2.882390</td>\n",
       "    </tr>\n",
       "    <tr>\n",
       "      <th>12</th>\n",
       "      <td>487.502305</td>\n",
       "      <td>0.683786</td>\n",
       "      <td>2.921166</td>\n",
       "    </tr>\n",
       "    <tr>\n",
       "      <th>13</th>\n",
       "      <td>200.326656</td>\n",
       "      <td>0.718951</td>\n",
       "      <td>3.542950</td>\n",
       "    </tr>\n",
       "    <tr>\n",
       "      <th>14</th>\n",
       "      <td>439.605997</td>\n",
       "      <td>1.176461</td>\n",
       "      <td>3.704159</td>\n",
       "    </tr>\n",
       "    <tr>\n",
       "      <th>15</th>\n",
       "      <td>198.287665</td>\n",
       "      <td>0.581250</td>\n",
       "      <td>3.600365</td>\n",
       "    </tr>\n",
       "    <tr>\n",
       "      <th>16</th>\n",
       "      <td>627.220369</td>\n",
       "      <td>1.442156</td>\n",
       "      <td>3.027460</td>\n",
       "    </tr>\n",
       "    <tr>\n",
       "      <th>17</th>\n",
       "      <td>362.636519</td>\n",
       "      <td>1.379929</td>\n",
       "      <td>3.165794</td>\n",
       "    </tr>\n",
       "    <tr>\n",
       "      <th>18</th>\n",
       "      <td>409.911170</td>\n",
       "      <td>1.148286</td>\n",
       "      <td>3.033985</td>\n",
       "    </tr>\n",
       "    <tr>\n",
       "      <th>19</th>\n",
       "      <td>213.495518</td>\n",
       "      <td>0.847010</td>\n",
       "      <td>3.404806</td>\n",
       "    </tr>\n",
       "    <tr>\n",
       "      <th>20</th>\n",
       "      <td>199.985124</td>\n",
       "      <td>0.574672</td>\n",
       "      <td>3.593191</td>\n",
       "    </tr>\n",
       "    <tr>\n",
       "      <th>21</th>\n",
       "      <td>229.387593</td>\n",
       "      <td>1.238615</td>\n",
       "      <td>3.396334</td>\n",
       "    </tr>\n",
       "    <tr>\n",
       "      <th>22</th>\n",
       "      <td>191.524834</td>\n",
       "      <td>0.500283</td>\n",
       "      <td>3.600604</td>\n",
       "    </tr>\n",
       "    <tr>\n",
       "      <th>23</th>\n",
       "      <td>193.737351</td>\n",
       "      <td>0.500635</td>\n",
       "      <td>3.584202</td>\n",
       "    </tr>\n",
       "    <tr>\n",
       "      <th>24</th>\n",
       "      <td>200.912872</td>\n",
       "      <td>0.500321</td>\n",
       "      <td>3.637427</td>\n",
       "    </tr>\n",
       "  </tbody>\n",
       "</table>\n",
       "</div>"
      ],
      "text/plain": [
       "              FoM  epsilon (#2)  sigma (#3)\n",
       "Step                                       \n",
       "0      216.446272      1.024300    3.360000\n",
       "1      222.040851      1.043844    3.505240\n",
       "2      639.876271      1.093889    2.815663\n",
       "3      445.690790      0.919516    3.780650\n",
       "4      238.723938      1.495079    3.436889\n",
       "5      560.800925      0.648673    2.783596\n",
       "6      344.073628      0.892343    3.137861\n",
       "7      262.278611      0.759477    3.681787\n",
       "8      311.153525      0.517653    3.217887\n",
       "9     1018.528411      1.217111    2.713417\n",
       "10     252.877849      0.986962    3.289796\n",
       "11     710.263553      1.272722    2.882390\n",
       "12     487.502305      0.683786    2.921166\n",
       "13     200.326656      0.718951    3.542950\n",
       "14     439.605997      1.176461    3.704159\n",
       "15     198.287665      0.581250    3.600365\n",
       "16     627.220369      1.442156    3.027460\n",
       "17     362.636519      1.379929    3.165794\n",
       "18     409.911170      1.148286    3.033985\n",
       "19     213.495518      0.847010    3.404806\n",
       "20     199.985124      0.574672    3.593191\n",
       "21     229.387593      1.238615    3.396334\n",
       "22     191.524834      0.500283    3.600604\n",
       "23     193.737351      0.500635    3.584202\n",
       "24     200.912872      0.500321    3.637427"
      ]
     },
     "metadata": {},
     "output_type": "display_data"
    },
    {
     "name": "stderr",
     "output_type": "stream",
     "text": [
      "INFO:MDMC.MD.engine_facades.lammps_engine:<class 'MDMC.MD.engine_facades.lammps_engine.LAMMPSEngine'> run: {n_steps: 3990, equilibration: False}\n"
     ]
    },
    {
     "name": "stderr",
     "output_type": "stream",
     "text": [
      "INFO:MDMC.MD.engine_facades.lammps_engine:<class 'MDMC.MD.engine_facades.lammps_engine.LAMMPSEngine'> save_config: {n_atoms: 216}. Config saved.\n"
     ]
    },
    {
     "name": "stderr",
     "output_type": "stream",
     "text": [
      "INFO:MDMC.MD.engine_facades.lammps_engine:<class 'MDMC.MD.engine_facades.lammps_engine.LAMMPSEngine'> run: {n_steps: 4000, equilibration: True}\n"
     ]
    },
    {
     "name": "stderr",
     "output_type": "stream",
     "text": [
      "INFO:MDMC.MD.engine_facades.lammps_engine:<class 'MDMC.MD.engine_facades.lammps_engine.LAMMPSEngine'> run: {n_steps: 3990, equilibration: False}\n"
     ]
    },
    {
     "name": "stderr",
     "output_type": "stream",
     "text": [
      "INFO:MDMC.MD.engine_facades.lammps_engine:<class 'MDMC.MD.engine_facades.lammps_engine.LAMMPSEngine'> save_config: {n_atoms: 216}. Config saved.\n"
     ]
    },
    {
     "name": "stderr",
     "output_type": "stream",
     "text": [
      "INFO:MDMC.MD.engine_facades.lammps_engine:<class 'MDMC.MD.engine_facades.lammps_engine.LAMMPSEngine'> run: {n_steps: 4000, equilibration: True}\n"
     ]
    },
    {
     "name": "stderr",
     "output_type": "stream",
     "text": [
      "INFO:MDMC.MD.engine_facades.lammps_engine:<class 'MDMC.MD.engine_facades.lammps_engine.LAMMPSEngine'> run: {n_steps: 3990, equilibration: False}\n"
     ]
    },
    {
     "name": "stderr",
     "output_type": "stream",
     "text": [
      "INFO:MDMC.MD.engine_facades.lammps_engine:<class 'MDMC.MD.engine_facades.lammps_engine.LAMMPSEngine'> save_config: {n_atoms: 216}. Config saved.\n"
     ]
    },
    {
     "name": "stderr",
     "output_type": "stream",
     "text": [
      "INFO:MDMC.MD.engine_facades.lammps_engine:<class 'MDMC.MD.engine_facades.lammps_engine.LAMMPSEngine'> run: {n_steps: 4000, equilibration: True}\n"
     ]
    },
    {
     "name": "stderr",
     "output_type": "stream",
     "text": [
      "INFO:MDMC.MD.engine_facades.lammps_engine:<class 'MDMC.MD.engine_facades.lammps_engine.LAMMPSEngine'> run: {n_steps: 3990, equilibration: False}\n"
     ]
    },
    {
     "name": "stderr",
     "output_type": "stream",
     "text": [
      "INFO:MDMC.MD.engine_facades.lammps_engine:<class 'MDMC.MD.engine_facades.lammps_engine.LAMMPSEngine'> save_config: {n_atoms: 216}. Config saved.\n"
     ]
    },
    {
     "name": "stderr",
     "output_type": "stream",
     "text": [
      "INFO:MDMC.MD.engine_facades.lammps_engine:<class 'MDMC.MD.engine_facades.lammps_engine.LAMMPSEngine'> run: {n_steps: 4000, equilibration: True}\n"
     ]
    },
    {
     "name": "stderr",
     "output_type": "stream",
     "text": [
      "INFO:MDMC.MD.engine_facades.lammps_engine:<class 'MDMC.MD.engine_facades.lammps_engine.LAMMPSEngine'> run: {n_steps: 3990, equilibration: False}\n"
     ]
    },
    {
     "name": "stderr",
     "output_type": "stream",
     "text": [
      "INFO:MDMC.MD.engine_facades.lammps_engine:<class 'MDMC.MD.engine_facades.lammps_engine.LAMMPSEngine'> save_config: {n_atoms: 216}. Config saved.\n"
     ]
    },
    {
     "name": "stderr",
     "output_type": "stream",
     "text": [
      "INFO:MDMC.MD.engine_facades.lammps_engine:<class 'MDMC.MD.engine_facades.lammps_engine.LAMMPSEngine'> run: {n_steps: 4000, equilibration: True}\n"
     ]
    },
    {
     "name": "stderr",
     "output_type": "stream",
     "text": [
      "INFO:MDMC.MD.engine_facades.lammps_engine:<class 'MDMC.MD.engine_facades.lammps_engine.LAMMPSEngine'> run: {n_steps: 3990, equilibration: False}\n"
     ]
    },
    {
     "name": "stderr",
     "output_type": "stream",
     "text": [
      "INFO:MDMC.MD.engine_facades.lammps_engine:<class 'MDMC.MD.engine_facades.lammps_engine.LAMMPSEngine'> save_config: {n_atoms: 216}. Config saved.\n"
     ]
    },
    {
     "name": "stderr",
     "output_type": "stream",
     "text": [
      "INFO:MDMC.MD.engine_facades.lammps_engine:<class 'MDMC.MD.engine_facades.lammps_engine.LAMMPSEngine'> run: {n_steps: 4000, equilibration: True}\n"
     ]
    },
    {
     "name": "stderr",
     "output_type": "stream",
     "text": [
      "INFO:MDMC.MD.engine_facades.lammps_engine:<class 'MDMC.MD.engine_facades.lammps_engine.LAMMPSEngine'> run: {n_steps: 3990, equilibration: False}\n"
     ]
    },
    {
     "name": "stderr",
     "output_type": "stream",
     "text": [
      "INFO:MDMC.MD.engine_facades.lammps_engine:<class 'MDMC.MD.engine_facades.lammps_engine.LAMMPSEngine'> save_config: {n_atoms: 216}. Config saved.\n"
     ]
    },
    {
     "name": "stderr",
     "output_type": "stream",
     "text": [
      "INFO:MDMC.MD.engine_facades.lammps_engine:<class 'MDMC.MD.engine_facades.lammps_engine.LAMMPSEngine'> run: {n_steps: 4000, equilibration: True}\n"
     ]
    },
    {
     "name": "stderr",
     "output_type": "stream",
     "text": [
      "INFO:MDMC.MD.engine_facades.lammps_engine:<class 'MDMC.MD.engine_facades.lammps_engine.LAMMPSEngine'> run: {n_steps: 3990, equilibration: False}\n"
     ]
    },
    {
     "name": "stderr",
     "output_type": "stream",
     "text": [
      "INFO:MDMC.MD.engine_facades.lammps_engine:<class 'MDMC.MD.engine_facades.lammps_engine.LAMMPSEngine'> save_config: {n_atoms: 216}. Config saved.\n"
     ]
    },
    {
     "name": "stderr",
     "output_type": "stream",
     "text": [
      "INFO:MDMC.MD.engine_facades.lammps_engine:<class 'MDMC.MD.engine_facades.lammps_engine.LAMMPSEngine'> run: {n_steps: 4000, equilibration: True}\n"
     ]
    },
    {
     "name": "stderr",
     "output_type": "stream",
     "text": [
      "INFO:MDMC.MD.engine_facades.lammps_engine:<class 'MDMC.MD.engine_facades.lammps_engine.LAMMPSEngine'> run: {n_steps: 3990, equilibration: False}\n"
     ]
    },
    {
     "name": "stderr",
     "output_type": "stream",
     "text": [
      "INFO:MDMC.MD.engine_facades.lammps_engine:<class 'MDMC.MD.engine_facades.lammps_engine.LAMMPSEngine'> save_config: {n_atoms: 216}. Config saved.\n"
     ]
    },
    {
     "name": "stderr",
     "output_type": "stream",
     "text": [
      "INFO:MDMC.MD.engine_facades.lammps_engine:<class 'MDMC.MD.engine_facades.lammps_engine.LAMMPSEngine'> run: {n_steps: 4000, equilibration: True}\n"
     ]
    },
    {
     "name": "stderr",
     "output_type": "stream",
     "text": [
      "INFO:MDMC.MD.engine_facades.lammps_engine:<class 'MDMC.MD.engine_facades.lammps_engine.LAMMPSEngine'> run: {n_steps: 3990, equilibration: False}\n"
     ]
    },
    {
     "name": "stderr",
     "output_type": "stream",
     "text": [
      "INFO:MDMC.MD.engine_facades.lammps_engine:<class 'MDMC.MD.engine_facades.lammps_engine.LAMMPSEngine'> save_config: {n_atoms: 216}. Config saved.\n"
     ]
    },
    {
     "name": "stderr",
     "output_type": "stream",
     "text": [
      "INFO:MDMC.MD.engine_facades.lammps_engine:<class 'MDMC.MD.engine_facades.lammps_engine.LAMMPSEngine'> run: {n_steps: 4000, equilibration: True}\n"
     ]
    },
    {
     "name": "stderr",
     "output_type": "stream",
     "text": [
      "INFO:MDMC.MD.engine_facades.lammps_engine:<class 'MDMC.MD.engine_facades.lammps_engine.LAMMPSEngine'> run: {n_steps: 3990, equilibration: False}\n"
     ]
    },
    {
     "name": "stderr",
     "output_type": "stream",
     "text": [
      "INFO:MDMC.MD.engine_facades.lammps_engine:<class 'MDMC.MD.engine_facades.lammps_engine.LAMMPSEngine'> save_config: {n_atoms: 216}. Config saved.\n"
     ]
    },
    {
     "name": "stderr",
     "output_type": "stream",
     "text": [
      "INFO:MDMC.MD.engine_facades.lammps_engine:<class 'MDMC.MD.engine_facades.lammps_engine.LAMMPSEngine'> run: {n_steps: 4000, equilibration: True}\n"
     ]
    },
    {
     "name": "stderr",
     "output_type": "stream",
     "text": [
      "INFO:MDMC.MD.engine_facades.lammps_engine:<class 'MDMC.MD.engine_facades.lammps_engine.LAMMPSEngine'> run: {n_steps: 3990, equilibration: False}\n"
     ]
    },
    {
     "name": "stderr",
     "output_type": "stream",
     "text": [
      "INFO:MDMC.MD.engine_facades.lammps_engine:<class 'MDMC.MD.engine_facades.lammps_engine.LAMMPSEngine'> save_config: {n_atoms: 216}. Config saved.\n"
     ]
    },
    {
     "name": "stderr",
     "output_type": "stream",
     "text": [
      "INFO:MDMC.MD.engine_facades.lammps_engine:<class 'MDMC.MD.engine_facades.lammps_engine.LAMMPSEngine'> run: {n_steps: 4000, equilibration: True}\n"
     ]
    },
    {
     "name": "stderr",
     "output_type": "stream",
     "text": [
      "INFO:MDMC.MD.engine_facades.lammps_engine:<class 'MDMC.MD.engine_facades.lammps_engine.LAMMPSEngine'> run: {n_steps: 3990, equilibration: False}\n"
     ]
    },
    {
     "name": "stderr",
     "output_type": "stream",
     "text": [
      "INFO:MDMC.MD.engine_facades.lammps_engine:<class 'MDMC.MD.engine_facades.lammps_engine.LAMMPSEngine'> save_config: {n_atoms: 216}. Config saved.\n"
     ]
    },
    {
     "name": "stderr",
     "output_type": "stream",
     "text": [
      "INFO:MDMC.MD.engine_facades.lammps_engine:<class 'MDMC.MD.engine_facades.lammps_engine.LAMMPSEngine'> run: {n_steps: 4000, equilibration: True}\n"
     ]
    },
    {
     "name": "stderr",
     "output_type": "stream",
     "text": [
      "INFO:MDMC.MD.engine_facades.lammps_engine:<class 'MDMC.MD.engine_facades.lammps_engine.LAMMPSEngine'> run: {n_steps: 3990, equilibration: False}\n"
     ]
    },
    {
     "name": "stderr",
     "output_type": "stream",
     "text": [
      "INFO:MDMC.MD.engine_facades.lammps_engine:<class 'MDMC.MD.engine_facades.lammps_engine.LAMMPSEngine'> save_config: {n_atoms: 216}. Config saved.\n"
     ]
    },
    {
     "name": "stderr",
     "output_type": "stream",
     "text": [
      "INFO:MDMC.MD.engine_facades.lammps_engine:<class 'MDMC.MD.engine_facades.lammps_engine.LAMMPSEngine'> run: {n_steps: 4000, equilibration: True}\n"
     ]
    },
    {
     "name": "stderr",
     "output_type": "stream",
     "text": [
      "INFO:MDMC.MD.engine_facades.lammps_engine:<class 'MDMC.MD.engine_facades.lammps_engine.LAMMPSEngine'> run: {n_steps: 3990, equilibration: False}\n"
     ]
    },
    {
     "name": "stderr",
     "output_type": "stream",
     "text": [
      "INFO:MDMC.MD.engine_facades.lammps_engine:<class 'MDMC.MD.engine_facades.lammps_engine.LAMMPSEngine'> save_config: {n_atoms: 216}. Config saved.\n"
     ]
    },
    {
     "name": "stderr",
     "output_type": "stream",
     "text": [
      "INFO:MDMC.MD.engine_facades.lammps_engine:<class 'MDMC.MD.engine_facades.lammps_engine.LAMMPSEngine'> run: {n_steps: 4000, equilibration: True}\n"
     ]
    },
    {
     "name": "stderr",
     "output_type": "stream",
     "text": [
      "INFO:MDMC.MD.engine_facades.lammps_engine:<class 'MDMC.MD.engine_facades.lammps_engine.LAMMPSEngine'> run: {n_steps: 3990, equilibration: False}\n"
     ]
    },
    {
     "name": "stderr",
     "output_type": "stream",
     "text": [
      "INFO:MDMC.MD.engine_facades.lammps_engine:<class 'MDMC.MD.engine_facades.lammps_engine.LAMMPSEngine'> save_config: {n_atoms: 216}. Config saved.\n"
     ]
    },
    {
     "name": "stderr",
     "output_type": "stream",
     "text": [
      "INFO:MDMC.MD.engine_facades.lammps_engine:<class 'MDMC.MD.engine_facades.lammps_engine.LAMMPSEngine'> run: {n_steps: 4000, equilibration: True}\n"
     ]
    },
    {
     "name": "stderr",
     "output_type": "stream",
     "text": [
      "INFO:MDMC.MD.engine_facades.lammps_engine:<class 'MDMC.MD.engine_facades.lammps_engine.LAMMPSEngine'> run: {n_steps: 3990, equilibration: False}\n"
     ]
    },
    {
     "name": "stderr",
     "output_type": "stream",
     "text": [
      "INFO:MDMC.MD.engine_facades.lammps_engine:<class 'MDMC.MD.engine_facades.lammps_engine.LAMMPSEngine'> save_config: {n_atoms: 216}. Config saved.\n"
     ]
    },
    {
     "name": "stderr",
     "output_type": "stream",
     "text": [
      "INFO:MDMC.MD.engine_facades.lammps_engine:<class 'MDMC.MD.engine_facades.lammps_engine.LAMMPSEngine'> run: {n_steps: 4000, equilibration: True}\n"
     ]
    },
    {
     "name": "stderr",
     "output_type": "stream",
     "text": [
      "INFO:MDMC.MD.engine_facades.lammps_engine:<class 'MDMC.MD.engine_facades.lammps_engine.LAMMPSEngine'> run: {n_steps: 3990, equilibration: False}\n"
     ]
    },
    {
     "name": "stderr",
     "output_type": "stream",
     "text": [
      "INFO:MDMC.MD.engine_facades.lammps_engine:<class 'MDMC.MD.engine_facades.lammps_engine.LAMMPSEngine'> save_config: {n_atoms: 216}. Config saved.\n"
     ]
    },
    {
     "name": "stderr",
     "output_type": "stream",
     "text": [
      "INFO:MDMC.MD.engine_facades.lammps_engine:<class 'MDMC.MD.engine_facades.lammps_engine.LAMMPSEngine'> run: {n_steps: 4000, equilibration: True}\n"
     ]
    },
    {
     "name": "stderr",
     "output_type": "stream",
     "text": [
      "INFO:MDMC.MD.engine_facades.lammps_engine:<class 'MDMC.MD.engine_facades.lammps_engine.LAMMPSEngine'> run: {n_steps: 3990, equilibration: False}\n"
     ]
    },
    {
     "name": "stderr",
     "output_type": "stream",
     "text": [
      "INFO:MDMC.MD.engine_facades.lammps_engine:<class 'MDMC.MD.engine_facades.lammps_engine.LAMMPSEngine'> save_config: {n_atoms: 216}. Config saved.\n"
     ]
    },
    {
     "name": "stderr",
     "output_type": "stream",
     "text": [
      "INFO:MDMC.MD.engine_facades.lammps_engine:<class 'MDMC.MD.engine_facades.lammps_engine.LAMMPSEngine'> run: {n_steps: 4000, equilibration: True}\n"
     ]
    },
    {
     "name": "stderr",
     "output_type": "stream",
     "text": [
      "INFO:MDMC.MD.engine_facades.lammps_engine:<class 'MDMC.MD.engine_facades.lammps_engine.LAMMPSEngine'> run: {n_steps: 3990, equilibration: False}\n"
     ]
    },
    {
     "name": "stderr",
     "output_type": "stream",
     "text": [
      "INFO:MDMC.MD.engine_facades.lammps_engine:<class 'MDMC.MD.engine_facades.lammps_engine.LAMMPSEngine'> save_config: {n_atoms: 216}. Config saved.\n"
     ]
    },
    {
     "name": "stderr",
     "output_type": "stream",
     "text": [
      "INFO:MDMC.MD.engine_facades.lammps_engine:<class 'MDMC.MD.engine_facades.lammps_engine.LAMMPSEngine'> run: {n_steps: 4000, equilibration: True}\n"
     ]
    },
    {
     "name": "stderr",
     "output_type": "stream",
     "text": [
      "INFO:MDMC.MD.engine_facades.lammps_engine:<class 'MDMC.MD.engine_facades.lammps_engine.LAMMPSEngine'> run: {n_steps: 3990, equilibration: False}\n"
     ]
    },
    {
     "name": "stderr",
     "output_type": "stream",
     "text": [
      "INFO:MDMC.MD.engine_facades.lammps_engine:<class 'MDMC.MD.engine_facades.lammps_engine.LAMMPSEngine'> save_config: {n_atoms: 216}. Config saved.\n"
     ]
    },
    {
     "name": "stderr",
     "output_type": "stream",
     "text": [
      "INFO:MDMC.MD.engine_facades.lammps_engine:<class 'MDMC.MD.engine_facades.lammps_engine.LAMMPSEngine'> run: {n_steps: 4000, equilibration: True}\n"
     ]
    },
    {
     "name": "stderr",
     "output_type": "stream",
     "text": [
      "INFO:MDMC.MD.engine_facades.lammps_engine:<class 'MDMC.MD.engine_facades.lammps_engine.LAMMPSEngine'> run: {n_steps: 3990, equilibration: False}\n"
     ]
    },
    {
     "name": "stderr",
     "output_type": "stream",
     "text": [
      "INFO:MDMC.MD.engine_facades.lammps_engine:<class 'MDMC.MD.engine_facades.lammps_engine.LAMMPSEngine'> save_config: {n_atoms: 216}. Config saved.\n"
     ]
    },
    {
     "name": "stderr",
     "output_type": "stream",
     "text": [
      "INFO:MDMC.MD.engine_facades.lammps_engine:<class 'MDMC.MD.engine_facades.lammps_engine.LAMMPSEngine'> run: {n_steps: 4000, equilibration: True}\n"
     ]
    },
    {
     "name": "stderr",
     "output_type": "stream",
     "text": [
      "INFO:MDMC.MD.engine_facades.lammps_engine:<class 'MDMC.MD.engine_facades.lammps_engine.LAMMPSEngine'> run: {n_steps: 3990, equilibration: False}\n"
     ]
    },
    {
     "name": "stderr",
     "output_type": "stream",
     "text": [
      "INFO:MDMC.MD.engine_facades.lammps_engine:<class 'MDMC.MD.engine_facades.lammps_engine.LAMMPSEngine'> save_config: {n_atoms: 216}. Config saved.\n"
     ]
    },
    {
     "name": "stderr",
     "output_type": "stream",
     "text": [
      "INFO:MDMC.MD.engine_facades.lammps_engine:<class 'MDMC.MD.engine_facades.lammps_engine.LAMMPSEngine'> run: {n_steps: 4000, equilibration: True}\n"
     ]
    },
    {
     "name": "stderr",
     "output_type": "stream",
     "text": [
      "INFO:MDMC.MD.engine_facades.lammps_engine:<class 'MDMC.MD.engine_facades.lammps_engine.LAMMPSEngine'> run: {n_steps: 3990, equilibration: False}\n"
     ]
    },
    {
     "name": "stderr",
     "output_type": "stream",
     "text": [
      "INFO:MDMC.MD.engine_facades.lammps_engine:<class 'MDMC.MD.engine_facades.lammps_engine.LAMMPSEngine'> save_config: {n_atoms: 216}. Config saved.\n"
     ]
    },
    {
     "name": "stderr",
     "output_type": "stream",
     "text": [
      "INFO:MDMC.MD.engine_facades.lammps_engine:<class 'MDMC.MD.engine_facades.lammps_engine.LAMMPSEngine'> run: {n_steps: 4000, equilibration: True}\n"
     ]
    },
    {
     "name": "stderr",
     "output_type": "stream",
     "text": [
      "INFO:MDMC.MD.engine_facades.lammps_engine:<class 'MDMC.MD.engine_facades.lammps_engine.LAMMPSEngine'> run: {n_steps: 3990, equilibration: False}\n"
     ]
    },
    {
     "name": "stderr",
     "output_type": "stream",
     "text": [
      "INFO:MDMC.MD.engine_facades.lammps_engine:<class 'MDMC.MD.engine_facades.lammps_engine.LAMMPSEngine'> save_config: {n_atoms: 216}. Config saved.\n"
     ]
    },
    {
     "name": "stderr",
     "output_type": "stream",
     "text": [
      "WARNING:py.warnings:/usr/local/lib/python3.11/site-packages/MDMC/control/control.py:513: UserWarning: verbose steps for process \"Refinement\" is set incorrectly: it is equal to 104, but the process took 124 steps.\n",
      "  verbose_manager.finish(\"Refinement\")\n",
      "\n"
     ]
    },
    {
     "name": "stdout",
     "output_type": "stream",
     "text": [
      "\n",
      "The refinement has finished. \n",
      " \n",
      "Minimum measured point is: \n",
      "(0.5002826579565743 kJ / mol, 3.6006038011073467 Ang) with an FoM of 191.5248341738952. \n",
      " \n",
      "Minimum point predicted is: \n",
      "(0.5002826579565743 kJ / mol, 3.6006038011073467 Ang) for an FoM of 191.5248341738952.\n",
      " \n",
      " \n",
      "\n",
      "Automatic Scale Factors\n",
      "data/Well_s_q_omega_Ar_data.xml  0.202047\n"
     ]
    },
    {
     "name": "stdout",
     "output_type": "stream",
     "text": [
      "Parameter means = [0.74674833 3.50854683], Parameter errors = [0.1855331  0.06971699]\n"
     ]
    },
    {
     "data": {
      "image/png": "[encoded data removed]",
      "text/plain": [
       "<Figure size 550x550 with 4 Axes>"
      ]
     },
     "execution_count": 10,
     "metadata": {},
     "output_type": "execute_result"
    },
    {
     "data": {
      "image/png": "[encoded data removed]",
      "text/plain": [
       "<Figure size 550x550 with 4 Axes>"
      ]
     },
     "metadata": {},
     "output_type": "display_data"
    }
   ],
   "source": [
    "control.refine(n_steps=25)\n",
    "control.plot_results()"
   ]
  }
 ],
 "metadata": {
  "kernelspec": {
   "display_name": "Python 3 (ipykernel)",
   "language": "python",
   "name": "python3"
  },
  "language_info": {
   "codemirror_mode": {
    "name": "ipython",
    "version": 3
   },
   "file_extension": ".py",
   "mimetype": "text/x-python",
   "name": "python",
   "nbconvert_exporter": "python",
   "pygments_lexer": "ipython3",
   "version": "3.11.2"
  },
  "vscode": {
   "interpreter": {
    "hash": "949777d72b0d2535278d3dc13498b2535136f6dfe0678499012e853ee9abcab1"
   }
  }
 },
 "nbformat": 4,
 "nbformat_minor": 4
}
