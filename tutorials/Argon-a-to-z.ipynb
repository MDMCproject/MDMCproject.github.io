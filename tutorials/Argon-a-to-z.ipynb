{
 "cells": [
  {
   "cell_type": "markdown",
   "metadata": {},
   "source": [
    "# Argon A-to-Z"
   ]
  },
  {
   "cell_type": "markdown",
   "metadata": {},
   "source": [
    "This tutorial demonstrates a-to-z how to optimise Lennard Jones parameters for liquid argon, and without going into details. For details see other tutorials and wider MDMC documentation."
   ]
  },
  {
   "cell_type": "code",
   "execution_count": 1,
   "metadata": {
    "execution": {
     "iopub.execute_input": "2023-03-27T16:03:20.851754Z",
     "iopub.status.busy": "2023-03-27T16:03:20.851423Z",
     "iopub.status.idle": "2023-03-27T16:03:21.978382Z",
     "shell.execute_reply": "2023-03-27T16:03:21.975763Z"
    }
   },
   "outputs": [
    {
     "name": "stdout",
     "output_type": "stream",
     "text": [
      "Supported DL_POLY version 5.0\n"
     ]
    }
   ],
   "source": [
    "# Imports used for this tutorial\n",
    "import numpy as np\n",
    "import os\n",
    "from MDMC.control import Control\n",
    "from MDMC.MD import Atom, Dispersion, LennardJones, Simulation, Universe"
   ]
  },
  {
   "cell_type": "code",
   "execution_count": 2,
   "metadata": {
    "execution": {
     "iopub.execute_input": "2023-03-27T16:03:22.010345Z",
     "iopub.status.busy": "2023-03-27T16:03:22.009804Z",
     "iopub.status.idle": "2023-03-27T16:03:22.012909Z",
     "shell.execute_reply": "2023-03-27T16:03:22.012338Z"
    }
   },
   "outputs": [],
   "source": [
    "# Change the number of threads depending on the number of physical cores on your computer\n",
    "# as it was tested for LAMMPS\n",
    "os.environ[\"OMP_NUM_THREADS\"] = \"4\""
   ]
  },
  {
   "cell_type": "code",
   "execution_count": 3,
   "metadata": {
    "execution": {
     "iopub.execute_input": "2023-03-27T16:03:22.015148Z",
     "iopub.status.busy": "2023-03-27T16:03:22.014967Z",
     "iopub.status.idle": "2023-03-27T16:03:22.032987Z",
     "shell.execute_reply": "2023-03-27T16:03:22.032457Z"
    }
   },
   "outputs": [
    {
     "name": "stdout",
     "output_type": "stream",
     "text": [
      "Universe created with:\n",
      "  Dimensions       [23.07, 23.07, 23.07]\n",
      "  Force field                       None\n",
      "  Number of atoms                      0\n",
      "\n",
      "Number of argon atoms = 216\n"
     ]
    }
   ],
   "source": [
    "# Build universe with density 0.0176 atoms per AA^-3\n",
    "density = 0.0176\n",
    "# This means cubic universe of side:\n",
    "# 23.0668 A will contain 216 Ar atoms\n",
    "# 26.911 A will contain 343 Ar atoms\n",
    "# 30.7553 A will contain 512 Ar atoms\n",
    "# 38.4441 A will contain 1000 Ar atoms\n",
    "universe = Universe(dimensions=23.0668)\n",
    "Ar = Atom('Ar', charge=0.)\n",
    "# Calculating number of Ar atoms needed to obtain density\n",
    "n_ar_atoms = int(density * np.product(universe.dimensions))\n",
    "print(f'Number of argon atoms = {n_ar_atoms}')\n",
    "universe.fill(Ar, num_struc_units=(n_ar_atoms))"
   ]
  },
  {
   "cell_type": "markdown",
   "metadata": {},
   "source": [
    "In the Jupyter cell above, a box of Argon atoms is set up. However, at this point there is no interaction forces between the argon atoms! In the cell below an appropriate (for argon) force-field interaction potential is defined."
   ]
  },
  {
   "cell_type": "code",
   "execution_count": 4,
   "metadata": {
    "execution": {
     "iopub.execute_input": "2023-03-27T16:03:22.035432Z",
     "iopub.status.busy": "2023-03-27T16:03:22.035245Z",
     "iopub.status.idle": "2023-03-27T16:03:22.038606Z",
     "shell.execute_reply": "2023-03-27T16:03:22.038062Z"
    }
   },
   "outputs": [],
   "source": [
    "Ar_dispersion = Dispersion(universe,\n",
    "                           (Ar.atom_type, Ar.atom_type),\n",
    "                           cutoff=8.,\n",
    "                           function=LennardJones(epsilon=1.0243, sigma=3.36))"
   ]
  },
  {
   "cell_type": "markdown",
   "metadata": {},
   "source": [
    "In this case the interaction potential chosen is the humble Lennard Jones (to get info see doc or type `help(LennardJones)`).\n",
    "\n",
    "Also, a `cutoff` value is chosen (see `help(Dispersion)` for more info). A [rule of thumb for Lennard-Jones](https://en.wikipedia.org/wiki/Lennard-Jones_potential) is to pick `cutoff=2.5*sigma`. The value for argon is recommended to be between 8 and 12 ang. `cutoff` is not a force-field parameter and therefore will not be refined. Ideally, and for any system you want to pick at value of the `cutoff` which is small while not compromising accuracy. For this system picking a value between 8 and 12 ang is found to give near identifical results.\n",
    "\n",
    "Next (and before starting the refinement), we set up the MD engine and equilibrate the system. Note with MDMC the equilibration only needs to be done once. "
   ]
  },
  {
   "cell_type": "code",
   "execution_count": 5,
   "metadata": {
    "execution": {
     "iopub.execute_input": "2023-03-27T16:03:22.040940Z",
     "iopub.status.busy": "2023-03-27T16:03:22.040660Z",
     "iopub.status.idle": "2023-03-27T16:03:23.048746Z",
     "shell.execute_reply": "2023-03-27T16:03:23.048079Z"
    }
   },
   "outputs": [
    {
     "name": "stdout",
     "output_type": "stream",
     "text": [
      "LAMMPS (29 Sep 2021 - Update 3)\n",
      "  using 4 OpenMP thread(s) per MPI task\n",
      "LAMMPS output is captured by PyLammps wrapper\n",
      "LAMMPS (29 Sep 2021 - Update 3)\n",
      "  using 4 OpenMP thread(s) per MPI task\n",
      "LAMMPS output is captured by PyLammps wrapper\n",
      "Total wall time: 0:00:00\n",
      "using multi-threaded neighbor list subroutines\n"
     ]
    },
    {
     "name": "stdout",
     "output_type": "stream",
     "text": [
      "Simulation created with lammps engine and settings:\n",
      "  temperature  120.0\n",
      "\n"
     ]
    }
   ],
   "source": [
    "# MD Engine setup\n",
    "simulation = Simulation(universe,\n",
    "                        engine=\"lammps\",\n",
    "                        time_step=10.18893,\n",
    "                        temperature=120.,\n",
    "                        traj_step=15)"
   ]
  },
  {
   "cell_type": "code",
   "execution_count": 6,
   "metadata": {
    "execution": {
     "iopub.execute_input": "2023-03-27T16:03:23.052115Z",
     "iopub.status.busy": "2023-03-27T16:03:23.051613Z",
     "iopub.status.idle": "2023-03-27T16:03:25.807298Z",
     "shell.execute_reply": "2023-03-27T16:03:25.806821Z"
    }
   },
   "outputs": [],
   "source": [
    "# Energy Minimization and equilibration\n",
    "simulation.minimize(n_steps=5000)\n",
    "simulation.run(n_steps=10000, equilibration=True)"
   ]
  },
  {
   "cell_type": "markdown",
   "metadata": {},
   "source": [
    "OK; time to set up the actual refinement of the force-field parameters. \n",
    "\n",
    "First we need some data to refine against:"
   ]
  },
  {
   "cell_type": "code",
   "execution_count": 7,
   "metadata": {
    "execution": {
     "iopub.execute_input": "2023-03-27T16:03:25.827500Z",
     "iopub.status.busy": "2023-03-27T16:03:25.826984Z",
     "iopub.status.idle": "2023-03-27T16:03:25.831035Z",
     "shell.execute_reply": "2023-03-27T16:03:25.830562Z"
    }
   },
   "outputs": [],
   "source": [
    "# exp_datasets is a list of dictionaries with one dictionary per experimental\n",
    "# dataset\n",
    "# Dataset from: van Well et al. (1985). Physical Review A, 31(5), 3391-3414\n",
    "# resolution is None as the original author already accounted for instrument resolution\n",
    "exp_datasets = [{'file_name':'data/Well_s_q_omega_Ar_data.xml',\n",
    "                 'type':'SQw',\n",
    "                 'reader':'xml_SQw',\n",
    "                 'weight':1.,\n",
    "                 'auto_scale':True,\n",
    "                 'resolution':None}]"
   ]
  },
  {
   "cell_type": "markdown",
   "metadata": {},
   "source": [
    "The number of `MD_steps` specified must be large enough to allow for successful calculation of all observables. This depends the `type` of the dataset provided and the value of the `traj_step` (specified when creating the `Simulation`). If a value for `MD_steps` is not provided, then the minimum number needed will be used automatically.\n",
    "\n",
    "Additionally, some observables will have an upper limit on the number of MD_steps that can be used in calculating their dependent variable(s). In these cases, the number of `MD_steps` is rounded down to a multiple of this upper limit so that we only run steps that will be useful. For example, if we use 1000 `MD_steps` in calculation, but a value of 2500 is provided, then we will run 2000 steps and use this to calculate the variable twice, without wasting time performing an additional 500 steps."
   ]
  },
  {
   "cell_type": "code",
   "execution_count": 8,
   "metadata": {
    "execution": {
     "iopub.execute_input": "2023-03-27T16:03:25.833467Z",
     "iopub.status.busy": "2023-03-27T16:03:25.833275Z",
     "iopub.status.idle": "2023-03-27T16:03:25.948287Z",
     "shell.execute_reply": "2023-03-27T16:03:25.947744Z"
    }
   },
   "outputs": [
    {
     "name": "stdout",
     "output_type": "stream",
     "text": [
      "Control created with:\n",
      "- Attributes                              -\n",
      "  Minimizer                             GPO\n",
      "  FoM type               ChiSquaredExpError\n",
      "  Number of observables                   1\n",
      "  Number of parameters                    2\n",
      "\n"
     ]
    }
   ],
   "source": [
    "fit_parameters = universe.parameters\n",
    "fit_parameters['sigma'].constraints = [2.8,3.8]\n",
    "fit_parameters['epsilon'].constraints = [0.6, 1.4]\n",
    "\n",
    "\n",
    "control = Control(simulation=simulation,\n",
    "                  exp_datasets=exp_datasets,\n",
    "                  fit_parameters=fit_parameters,\n",
    "                  minimizer_type=\"GPO\",\n",
    "                  reset_config=True,\n",
    "                  MD_steps=1000, \n",
    "                  equilibration_steps=1000)"
   ]
  },
  {
   "cell_type": "markdown",
   "metadata": {},
   "source": [
    "And finally start the refinement! Bump up `n_steps` from 3 when you are ready."
   ]
  },
  {
   "cell_type": "code",
   "execution_count": 9,
   "metadata": {
    "execution": {
     "iopub.execute_input": "2023-03-27T16:03:25.950945Z",
     "iopub.status.busy": "2023-03-27T16:03:25.950580Z",
     "iopub.status.idle": "2023-03-27T16:04:03.059020Z",
     "shell.execute_reply": "2023-03-27T16:04:03.058497Z"
    }
   },
   "outputs": [
    {
     "name": "stdout",
     "output_type": "stream",
     "text": [
      "Step         FoM Change state  Pred coords     Pred FoM epsilon (#2)   sigma (#3)\n"
     ]
    },
    {
     "name": "stdout",
     "output_type": "stream",
     "text": [
      "   0        2114     Accepted [1.0243 kJ / mol, 3.36 Ang]         2114        1.024         3.36\n"
     ]
    },
    {
     "name": "stdout",
     "output_type": "stream",
     "text": [
      "   1        1839     Accepted [1.0350755236683686 kJ / mol, 3.532035936386891 Ang]         1839        1.035        3.532\n"
     ]
    },
    {
     "name": "stdout",
     "output_type": "stream",
     "text": [
      "   2        2389     Accepted [1.0350755236683686 kJ / mol, 3.532035936386891 Ang]         1839        1.075        2.905\n"
     ]
    },
    {
     "name": "stdout",
     "output_type": "stream",
     "text": [
      "   3        1431     Accepted [0.9356131020068645 kJ / mol, 3.7824087689280574 Ang]         1431       0.9356        3.782\n"
     ]
    },
    {
     "name": "stdout",
     "output_type": "stream",
     "text": [
      "   4        1943     Accepted [0.9356131020068645 kJ / mol, 3.7824087689280574 Ang]         1431        1.396         3.47\n"
     ]
    },
    {
     "name": "stdout",
     "output_type": "stream",
     "text": [
      "   5        2476     Accepted [0.9356131020068645 kJ / mol, 3.7824087689280574 Ang]         1431       0.7189        2.876\n"
     ]
    },
    {
     "name": "stdout",
     "output_type": "stream",
     "text": [
      "   6        2345     Accepted [0.9356131020068645 kJ / mol, 3.7824087689280574 Ang]         1431       0.9139        3.198\n"
     ]
    },
    {
     "name": "stdout",
     "output_type": "stream",
     "text": [
      "   7        2052     Accepted [0.9356131020068645 kJ / mol, 3.7824087689280574 Ang]         1431       0.8076        3.693\n"
     ]
    },
    {
     "name": "stdout",
     "output_type": "stream",
     "text": [
      "   8        2331     Accepted [0.9356131020068645 kJ / mol, 3.7824087689280574 Ang]         1431       0.6141        3.271\n"
     ]
    },
    {
     "name": "stdout",
     "output_type": "stream",
     "text": [
      "   9        2416     Accepted [0.9356131020068645 kJ / mol, 3.7824087689280574 Ang]         1431        1.174        2.812\n"
     ]
    },
    {
     "name": "stdout",
     "output_type": "stream",
     "text": [
      "  10        2023     Accepted [0.9356131020068645 kJ / mol, 3.7824087689280574 Ang]         1431       0.9896        3.336\n"
     ]
    },
    {
     "name": "stdout",
     "output_type": "stream",
     "text": [
      "  11        2356     Accepted [0.9356131020068645 kJ / mol, 3.7824087689280574 Ang]         1431        1.218        2.966\n"
     ]
    },
    {
     "name": "stdout",
     "output_type": "stream",
     "text": [
      "  12        2409     Accepted [0.9356131020068645 kJ / mol, 3.7824087689280574 Ang]         1431        0.747        3.001\n"
     ]
    },
    {
     "name": "stdout",
     "output_type": "stream",
     "text": [
      "  13        1695     Accepted [0.9356131020068645 kJ / mol, 3.7824087689280574 Ang]         1431       0.7752        3.566\n"
     ]
    },
    {
     "name": "stdout",
     "output_type": "stream",
     "text": [
      "  14        1944     Accepted [0.9356131020068645 kJ / mol, 3.7824087689280574 Ang]         1431        1.141        3.713\n"
     ]
    },
    {
     "name": "stdout",
     "output_type": "stream",
     "text": [
      "  15        1888     Accepted [0.9356131020068645 kJ / mol, 3.7824087689280574 Ang]         1431        0.665        3.619\n"
     ]
    },
    {
     "name": "stdout",
     "output_type": "stream",
     "text": [
      "  16        2201     Accepted [0.9356131020068645 kJ / mol, 3.7824087689280574 Ang]         1431        1.354        3.098\n"
     ]
    },
    {
     "name": "stdout",
     "output_type": "stream",
     "text": [
      "  17        1990     Accepted [0.9356131020068645 kJ / mol, 3.7824087689280574 Ang]         1431        1.304        3.223\n"
     ]
    },
    {
     "name": "stdout",
     "output_type": "stream",
     "text": [
      "  18        2348     Accepted [0.9356131020068645 kJ / mol, 3.7824087689280574 Ang]         1431        1.119        3.104\n"
     ]
    },
    {
     "name": "stdout",
     "output_type": "stream",
     "text": [
      "  19        1893     Accepted [0.9356131020068645 kJ / mol, 3.7824087689280574 Ang]         1431       0.8776        3.441\n"
     ]
    },
    {
     "name": "stdout",
     "output_type": "stream",
     "text": [
      "  20        1484     Accepted [0.9356131020068645 kJ / mol, 3.7824087689280574 Ang]         1431        1.385        3.797\n",
      "\n",
      "The refinement has finished. \n",
      " \n",
      "Minimum measured point is: \n",
      "(0.9356131020068645 kJ / mol, 3.7824087689280574 Ang) with an FoM of 1430.9684397497922. \n",
      " \n",
      "Minimum point predicted is: \n",
      "(0.9356131020068645 kJ / mol, 3.7824087689280574 Ang) for an FoM of 1430.9684397497922.\n",
      " \n",
      " \n",
      "\n",
      "Automatic Scale Factors\n",
      "  data/Well_s_q_omega_Ar_data.xml  0.498739\n"
     ]
    },
    {
     "data": {
      "image/png": "[encoded data removed]",
      "text/plain": [
       "<Figure size 550x550 with 4 Axes>"
      ]
     },
     "metadata": {},
     "output_type": "display_data"
    }
   ],
   "source": [
    "# Run the refinement, i.e. refine the FF parameters against the data\n",
    "control.refine(n_steps=21)\n",
    "control.plot_results();"
   ]
  },
  {
   "cell_type": "code",
   "execution_count": null,
   "metadata": {},
   "outputs": [],
   "source": []
  }
 ],
 "metadata": {
  "kernelspec": {
   "display_name": "Python 3.9.6 64-bit",
   "language": "python",
   "name": "python3"
  },
  "language_info": {
   "codemirror_mode": {
    "name": "ipython",
    "version": 3
   },
   "file_extension": ".py",
   "mimetype": "text/x-python",
   "name": "python",
   "nbconvert_exporter": "python",
   "pygments_lexer": "ipython3",
   "version": "3.11.2"
  },
  "vscode": {
   "interpreter": {
    "hash": "949777d72b0d2535278d3dc13498b2535136f6dfe0678499012e853ee9abcab1"
   }
  }
 },
 "nbformat": 4,
 "nbformat_minor": 4
}
