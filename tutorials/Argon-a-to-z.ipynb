{
 "cells": [
  {
   "cell_type": "markdown",
   "metadata": {},
   "source": [
    "# Argon A-to-Z"
   ]
  },
  {
   "cell_type": "markdown",
   "metadata": {},
   "source": [
    "This tutorial demonstrates a-to-z how to optimise Lennard Jones parameters for liquid argon, and without going into details. For details see other tutorials and wider MDMC documentation."
   ]
  },
  {
   "cell_type": "code",
   "execution_count": 1,
   "metadata": {
    "execution": {
     "iopub.execute_input": "2022-08-07T20:35:07.730354Z",
     "iopub.status.busy": "2022-08-07T20:35:07.730041Z",
     "iopub.status.idle": "2022-08-07T20:35:11.044581Z",
     "shell.execute_reply": "2022-08-07T20:35:11.043809Z"
    }
   },
   "outputs": [
    {
     "name": "stdout",
     "output_type": "stream",
     "text": [
      "Supported DL_POLY version 4.10\n"
     ]
    }
   ],
   "source": [
    "# Imports used for this tutorial\n",
    "import numpy as np\n",
    "import os\n",
    "from MDMC.control import Control\n",
    "from MDMC.MD import Atom, Dispersion, LennardJones, Simulation, Universe"
   ]
  },
  {
   "cell_type": "code",
   "execution_count": 2,
   "metadata": {
    "execution": {
     "iopub.execute_input": "2022-08-07T20:35:11.048637Z",
     "iopub.status.busy": "2022-08-07T20:35:11.048180Z",
     "iopub.status.idle": "2022-08-07T20:35:11.051701Z",
     "shell.execute_reply": "2022-08-07T20:35:11.051021Z"
    }
   },
   "outputs": [],
   "source": [
    "# Change the number of threads depending on the number of physical cores on your computer\n",
    "# as it was tested for LAMMPS\n",
    "os.environ[\"OMP_NUM_THREADS\"] = \"4\""
   ]
  },
  {
   "cell_type": "code",
   "execution_count": 3,
   "metadata": {
    "execution": {
     "iopub.execute_input": "2022-08-07T20:35:11.055070Z",
     "iopub.status.busy": "2022-08-07T20:35:11.054649Z",
     "iopub.status.idle": "2022-08-07T20:35:11.078918Z",
     "shell.execute_reply": "2022-08-07T20:35:11.078201Z"
    }
   },
   "outputs": [
    {
     "name": "stdout",
     "output_type": "stream",
     "text": [
      "Universe created with:\n",
      "  Dimensions       [23.07, 23.07, 23.07]\n",
      "  Force field                       None\n",
      "  Number of atoms                      0\n",
      "\n",
      "Number of argon atoms = 216\n"
     ]
    }
   ],
   "source": [
    "# Build universe with density 0.0176 atoms per AA^-3\n",
    "density = 0.0176\n",
    "# This means cubic universe of side:\n",
    "# 23.0668 A will contain 216 Ar atoms\n",
    "# 26.911 A will contain 343 Ar atoms\n",
    "# 30.7553 A will contain 512 Ar atoms\n",
    "# 38.4441 A will contain 1000 Ar atoms\n",
    "universe = Universe(dimensions=23.0668)\n",
    "Ar = Atom('Ar', charge=0.)\n",
    "# Calculating number of Ar atoms needed to obtain density\n",
    "n_ar_atoms = int(density * np.product(universe.dimensions))\n",
    "print(f'Number of argon atoms = {n_ar_atoms}')\n",
    "universe.fill(Ar, num_struc_units=(n_ar_atoms))"
   ]
  },
  {
   "cell_type": "markdown",
   "metadata": {},
   "source": [
    "In the Jupyter cell above, a box of Argon atoms is set up. However, at this point there is no interaction forces between the argon atoms! In the cell below an appropriate (for argon) force-field interaction potential is defined."
   ]
  },
  {
   "cell_type": "code",
   "execution_count": 4,
   "metadata": {
    "execution": {
     "iopub.execute_input": "2022-08-07T20:35:11.083522Z",
     "iopub.status.busy": "2022-08-07T20:35:11.082316Z",
     "iopub.status.idle": "2022-08-07T20:35:11.088539Z",
     "shell.execute_reply": "2022-08-07T20:35:11.087506Z"
    }
   },
   "outputs": [],
   "source": [
    "Ar_dispersion = Dispersion(universe,\n",
    "                           (Ar.atom_type, Ar.atom_type),\n",
    "                           cutoff=8.,\n",
    "                           function=LennardJones(epsilon=1.0243, sigma=3.36))"
   ]
  },
  {
   "cell_type": "markdown",
   "metadata": {},
   "source": [
    "In this case the interaction potential chosen is the humble Lennard Jones (to get info see doc or type `help(LennardJones)`).\n",
    "\n",
    "Also, a `cutoff` value is chosen (see `help(Dispersion)` for more info). A [rule of thumb for Lennard-Jones](https://en.wikipedia.org/wiki/Lennard-Jones_potential) is to pick `cutoff=2.5*sigma`. The value for argon is recommended to be between 8 and 12 ang. `cutoff` is not a force-field parameter and therefore will not be refined. Ideally, and for any system you want to pick at value of the `cutoff` which is small while not compromising accuracy. For this system picking a value between 8 and 12 ang is found to give near identifical results.\n",
    "\n",
    "Next (and before starting the refinement), we set up the MD engine and equilibrate the system. Note with MDMC the equilibration only needs to be done once. "
   ]
  },
  {
   "cell_type": "code",
   "execution_count": 5,
   "metadata": {
    "execution": {
     "iopub.execute_input": "2022-08-07T20:35:11.106942Z",
     "iopub.status.busy": "2022-08-07T20:35:11.106248Z",
     "iopub.status.idle": "2022-08-07T20:35:11.502318Z",
     "shell.execute_reply": "2022-08-07T20:35:11.501653Z"
    }
   },
   "outputs": [
    {
     "name": "stdout",
     "output_type": "stream",
     "text": [
      "LAMMPS (29 Sep 2021 - Update 3)\n",
      "  using 4 OpenMP thread(s) per MPI task\n",
      "LAMMPS output is captured by PyLammps wrapper\n",
      "LAMMPS (29 Sep 2021 - Update 3)\n",
      "  using 4 OpenMP thread(s) per MPI task\n",
      "LAMMPS output is captured by PyLammps wrapper\n",
      "Total wall time: 0:00:00\n"
     ]
    },
    {
     "name": "stdout",
     "output_type": "stream",
     "text": [
      "Simulation created with lammps engine and settings:\n",
      "  temperature  120.0\n",
      "\n"
     ]
    }
   ],
   "source": [
    "# MD Engine setup\n",
    "simulation = Simulation(universe,\n",
    "                        engine=\"lammps\",\n",
    "                        time_step=10.18893,\n",
    "                        temperature=120.,\n",
    "                        traj_step=15)"
   ]
  },
  {
   "cell_type": "code",
   "execution_count": 6,
   "metadata": {
    "execution": {
     "iopub.execute_input": "2022-08-07T20:35:11.505700Z",
     "iopub.status.busy": "2022-08-07T20:35:11.505454Z",
     "iopub.status.idle": "2022-08-07T20:35:14.856004Z",
     "shell.execute_reply": "2022-08-07T20:35:14.855278Z"
    }
   },
   "outputs": [],
   "source": [
    "# Energy Minimization and equilibration\n",
    "simulation.minimize(n_steps=5000)\n",
    "simulation.run(n_steps=10000, equilibration=True)"
   ]
  },
  {
   "cell_type": "markdown",
   "metadata": {},
   "source": [
    "OK; time to set up the actual refinement of the force-field parameters. \n",
    "\n",
    "First we need some data to refine against:"
   ]
  },
  {
   "cell_type": "code",
   "execution_count": 7,
   "metadata": {
    "execution": {
     "iopub.execute_input": "2022-08-07T20:35:14.860793Z",
     "iopub.status.busy": "2022-08-07T20:35:14.859944Z",
     "iopub.status.idle": "2022-08-07T20:35:14.864108Z",
     "shell.execute_reply": "2022-08-07T20:35:14.863497Z"
    }
   },
   "outputs": [],
   "source": [
    "# exp_datasets is a list of dictionaries with one dictionary per experimental\n",
    "# dataset\n",
    "# Dataset from: van Well et al. (1985). Physical Review A, 31(5), 3391-3414\n",
    "# resolution is None as the original author already accounted for instrument resolution\n",
    "exp_datasets = [{'file_name':'data/Well_s_q_omega_Ar_data.xml',\n",
    "                 'type':'SQw',\n",
    "                 'reader':'xml_SQw',\n",
    "                 'weight':1.,\n",
    "                 'auto_scale':True,\n",
    "                 'resolution':None}]"
   ]
  },
  {
   "cell_type": "markdown",
   "metadata": {},
   "source": [
    "The number of `MD_steps` specified must be large enough to allow for successful calculation of all observables. This depends the `type` of the dataset provided and the value of the `traj_step` (specified when creating the `Simulation`). If a value for `MD_steps` is not provided, then the minimum number needed will be used automatically.\n",
    "\n",
    "Additionally, some observables will have an upper limit on the number of MD_steps that can be used in calculating their dependent variable(s). In these cases, the number of `MD_steps` is rounded down to a multiple of this upper limit so that we only run steps that will be useful. For example, if we use 1000 `MD_steps` in calculation, but a value of 2500 is provided, then we will run 2000 steps and use this to calculate the variable twice, without wasting time performing an additional 500 steps."
   ]
  },
  {
   "cell_type": "code",
   "execution_count": 8,
   "metadata": {
    "execution": {
     "iopub.execute_input": "2022-08-07T20:35:14.867219Z",
     "iopub.status.busy": "2022-08-07T20:35:14.866864Z",
     "iopub.status.idle": "2022-08-07T20:35:15.003114Z",
     "shell.execute_reply": "2022-08-07T20:35:15.002462Z"
    }
   },
   "outputs": [
    {
     "name": "stdout",
     "output_type": "stream",
     "text": [
      "Control created with:\n",
      "  Minimizer                             GPO\n",
      "  FoM type               ChiSquaredExpError\n",
      "  Number of observables                   1\n",
      "  Number of parameters                    2\n",
      "\n"
     ]
    }
   ],
   "source": [
    "fit_parameters = universe.parameters\n",
    "fit_parameters['sigma'].constraints = [2.8,3.8]\n",
    "fit_parameters['epsilon'].constraints = [0.7, 1.2]\n",
    "\n",
    "\n",
    "control = Control(simulation=simulation,\n",
    "                  exp_datasets=exp_datasets,\n",
    "                  fit_parameters=fit_parameters,\n",
    "                  minimizer_type=\"GPO\",\n",
    "                  reset_config=True,\n",
    "                  MD_steps=2000, \n",
    "                  equilibration_steps=2000,\n",
    "                  n_points=40)"
   ]
  },
  {
   "cell_type": "markdown",
   "metadata": {},
   "source": [
    "And finally start the refinement! Bump up `n_steps` from 3 when you are ready."
   ]
  },
  {
   "cell_type": "code",
   "execution_count": 9,
   "metadata": {
    "execution": {
     "iopub.execute_input": "2022-08-07T20:35:15.006950Z",
     "iopub.status.busy": "2022-08-07T20:35:15.006365Z",
     "iopub.status.idle": "2022-08-07T20:42:25.069288Z",
     "shell.execute_reply": "2022-08-07T20:42:25.068625Z"
    }
   },
   "outputs": [
    {
     "name": "stdout",
     "output_type": "stream",
     "text": [
      "Step         FoM Change state  Pred coords     Pred FoM epsilon (#2)   sigma (#3)\n"
     ]
    },
    {
     "name": "stdout",
     "output_type": "stream",
     "text": [
      "   0       384.7     Accepted [1.0243 kJ / mol, 3.36 Ang]        384.7        1.024         3.36\n"
     ]
    },
    {
     "name": "stdout",
     "output_type": "stream",
     "text": [
      "   1       420.6     Accepted [1.0243 kJ / mol, 3.36 Ang]        384.7       0.9719        3.532\n"
     ]
    },
    {
     "name": "stdout",
     "output_type": "stream",
     "text": [
      "   2       609.4     Accepted [1.0243 kJ / mol, 3.36 Ang]        384.7       0.9969        2.905\n"
     ]
    },
    {
     "name": "stdout",
     "output_type": "stream",
     "text": [
      "   3       867.3     Accepted [1.0243 kJ / mol, 3.36 Ang]        384.7       0.9098        3.782\n"
     ]
    },
    {
     "name": "stdout",
     "output_type": "stream",
     "text": [
      "   4       417.5     Accepted [1.0243 kJ / mol, 3.36 Ang]        384.7        1.198         3.47\n"
     ]
    },
    {
     "name": "stdout",
     "output_type": "stream",
     "text": [
      "   5       549.1     Accepted [1.0243 kJ / mol, 3.36 Ang]        384.7       0.7743        2.876\n"
     ]
    },
    {
     "name": "stdout",
     "output_type": "stream",
     "text": [
      "   6       408.8     Accepted [1.0243 kJ / mol, 3.36 Ang]        384.7       0.8962        3.198\n"
     ]
    },
    {
     "name": "stdout",
     "output_type": "stream",
     "text": [
      "   7       577.3     Accepted [1.0243 kJ / mol, 3.36 Ang]        384.7       0.8297        3.693\n"
     ]
    },
    {
     "name": "stdout",
     "output_type": "stream",
     "text": [
      "   8         367     Accepted [0.7088265985538975 kJ / mol, 3.270806558889923 Ang]          367       0.7088        3.271\n"
     ]
    },
    {
     "name": "stdout",
     "output_type": "stream",
     "text": [
      "   9       820.5     Accepted [0.7088265985538975 kJ / mol, 3.270806558889923 Ang]          367        1.059        2.812\n"
     ]
    },
    {
     "name": "stdout",
     "output_type": "stream",
     "text": [
      "  10         360     Accepted [0.9434808933228142 kJ / mol, 3.3361782337854944 Ang]          360       0.9435        3.336\n"
     ]
    },
    {
     "name": "stdout",
     "output_type": "stream",
     "text": [
      "  11       666.5     Accepted [0.9434808933228142 kJ / mol, 3.3361782337854944 Ang]          360        1.086        2.966\n"
     ]
    },
    {
     "name": "stdout",
     "output_type": "stream",
     "text": [
      "  12       510.9     Accepted [0.9434808933228142 kJ / mol, 3.3361782337854944 Ang]          360       0.7919        3.001\n"
     ]
    },
    {
     "name": "stdout",
     "output_type": "stream",
     "text": [
      "  13       398.6     Accepted [0.9434808933228142 kJ / mol, 3.3361782337854944 Ang]          360       0.8095        3.566\n"
     ]
    },
    {
     "name": "stdout",
     "output_type": "stream",
     "text": [
      "  14       733.5     Accepted [0.9434808933228142 kJ / mol, 3.3361782337854944 Ang]          360        1.038        3.713\n"
     ]
    },
    {
     "name": "stdout",
     "output_type": "stream",
     "text": [
      "  15         418     Accepted [0.9434808933228142 kJ / mol, 3.3361782337854944 Ang]          360       0.7406        3.619\n"
     ]
    },
    {
     "name": "stdout",
     "output_type": "stream",
     "text": [
      "  16       499.3     Accepted [0.9434808933228142 kJ / mol, 3.3361782337854944 Ang]          360        1.171        3.098\n"
     ]
    },
    {
     "name": "stdout",
     "output_type": "stream",
     "text": [
      "  17       431.2     Accepted [0.9434808933228142 kJ / mol, 3.3361782337854944 Ang]          360         1.14        3.223\n"
     ]
    },
    {
     "name": "stdout",
     "output_type": "stream",
     "text": [
      "  18       440.4     Accepted [0.9434808933228142 kJ / mol, 3.3361782337854944 Ang]          360        1.024        3.104\n"
     ]
    },
    {
     "name": "stdout",
     "output_type": "stream",
     "text": [
      "  19       358.1     Accepted [0.8735049134935504 kJ / mol, 3.440732924682126 Ang]        358.1       0.8735        3.441\n"
     ]
    },
    {
     "name": "stdout",
     "output_type": "stream",
     "text": [
      "  20       324.9     Accepted [0.8050724513525706 kJ / mol, 3.3217575561449055 Ang]        324.9       0.8051        3.322\n"
     ]
    },
    {
     "name": "stdout",
     "output_type": "stream",
     "text": [
      "  21       354.2     Accepted [0.8050724513525706 kJ / mol, 3.3217575561449055 Ang]        324.9       0.7016        3.355\n"
     ]
    },
    {
     "name": "stdout",
     "output_type": "stream",
     "text": [
      "  22       370.5     Accepted [0.8050724513525706 kJ / mol, 3.3217575561449055 Ang]        324.9       0.7007        3.447\n"
     ]
    },
    {
     "name": "stdout",
     "output_type": "stream",
     "text": [
      "  23       437.8     Accepted [0.8050724513525706 kJ / mol, 3.3217575561449055 Ang]        324.9       0.7037        3.122\n"
     ]
    },
    {
     "name": "stdout",
     "output_type": "stream",
     "text": [
      "  24       358.1     Accepted [0.8050724513525706 kJ / mol, 3.3217575561449055 Ang]        324.9       0.7014        3.469\n"
     ]
    },
    {
     "name": "stdout",
     "output_type": "stream",
     "text": [
      "  25       320.4     Accepted [0.7006166720668269 kJ / mol, 3.3750020699861842 Ang]        320.4       0.7006        3.375\n"
     ]
    },
    {
     "name": "stdout",
     "output_type": "stream",
     "text": [
      "  26       341.2     Accepted [0.7006166720668269 kJ / mol, 3.3750020699861842 Ang]        320.4       0.7006        3.372\n"
     ]
    },
    {
     "name": "stdout",
     "output_type": "stream",
     "text": [
      "  27       347.4     Accepted [0.7006166720668269 kJ / mol, 3.3750020699861842 Ang]        320.4       0.7038        3.348\n"
     ]
    },
    {
     "name": "stdout",
     "output_type": "stream",
     "text": [
      "  28       349.8     Accepted [0.7006166720668269 kJ / mol, 3.3750020699861842 Ang]        320.4       0.7005        3.344\n"
     ]
    },
    {
     "name": "stdout",
     "output_type": "stream",
     "text": [
      "  29       324.1     Accepted [0.7006166720668269 kJ / mol, 3.3750020699861842 Ang]        320.4       0.7002        3.399\n"
     ]
    },
    {
     "name": "stdout",
     "output_type": "stream",
     "text": [
      "  30       342.8     Accepted [0.7006166720668269 kJ / mol, 3.3750020699861842 Ang]        320.4       0.7002        3.398\n"
     ]
    },
    {
     "name": "stdout",
     "output_type": "stream",
     "text": [
      "  31         334     Accepted [0.7006166720668269 kJ / mol, 3.3750020699861842 Ang]        320.4        0.802        3.381\n"
     ]
    },
    {
     "name": "stdout",
     "output_type": "stream",
     "text": [
      "  32       362.6     Accepted [0.7006166720668269 kJ / mol, 3.3750020699861842 Ang]        320.4       0.8122        3.384\n"
     ]
    },
    {
     "name": "stdout",
     "output_type": "stream",
     "text": [
      "  33       342.9     Accepted [0.7006166720668269 kJ / mol, 3.3750020699861842 Ang]        320.4       0.7006        3.328\n"
     ]
    },
    {
     "name": "stdout",
     "output_type": "stream",
     "text": [
      "  34       396.3     Accepted [0.7006166720668269 kJ / mol, 3.3750020699861842 Ang]        320.4       0.7017        3.526\n"
     ]
    },
    {
     "name": "stdout",
     "output_type": "stream",
     "text": [
      "  35       363.3     Accepted [0.7006166720668269 kJ / mol, 3.3750020699861842 Ang]        320.4        0.701        3.397\n"
     ]
    },
    {
     "name": "stdout",
     "output_type": "stream",
     "text": [
      "  36       335.6     Accepted [0.7006166720668269 kJ / mol, 3.3750020699861842 Ang]        320.4       0.7027        3.341\n"
     ]
    },
    {
     "name": "stdout",
     "output_type": "stream",
     "text": [
      "  37       329.7     Accepted [0.7006166720668269 kJ / mol, 3.3750020699861842 Ang]        320.4       0.7007        3.352\n"
     ]
    },
    {
     "name": "stdout",
     "output_type": "stream",
     "text": [
      "  38         329     Accepted [0.7006166720668269 kJ / mol, 3.3750020699861842 Ang]        320.4       0.7043         3.33\n"
     ]
    },
    {
     "name": "stdout",
     "output_type": "stream",
     "text": [
      "  39       331.3     Accepted [0.7006166720668269 kJ / mol, 3.3750020699861842 Ang]        320.4       0.7002        3.335\n",
      "\n",
      "The refinement has finished. \n",
      " \n",
      "Minimum measured point is: \n",
      "(0.7006166720668269 kJ / mol, 3.3750020699861842 Ang) with an FoM of 320.35085413952265. \n",
      " \n",
      "Minimum point predicted is: \n",
      "(0.7006166720668269 kJ / mol, 3.3750020699861842 Ang) for an FoM of 320.35085413952265.\n",
      " \n",
      " \n",
      "\n",
      "Automatic Scale Factors\n",
      "  data/Well_s_q_omega_Ar_data.xml  0.210519\n"
     ]
    }
   ],
   "source": [
    "# Run the refinement, i.e. refine the FF parameters against the data\n",
    "control.refine(n_steps=40)"
   ]
  },
  {
   "cell_type": "code",
   "execution_count": null,
   "metadata": {},
   "outputs": [],
   "source": []
  }
 ],
 "metadata": {
  "kernelspec": {
   "display_name": "Python 3.9.6 64-bit",
   "language": "python",
   "name": "python3"
  },
  "language_info": {
   "codemirror_mode": {
    "name": "ipython",
    "version": 3
   },
   "file_extension": ".py",
   "mimetype": "text/x-python",
   "name": "python",
   "nbconvert_exporter": "python",
   "pygments_lexer": "ipython3",
   "version": "3.9.6"
  },
  "vscode": {
   "interpreter": {
    "hash": "949777d72b0d2535278d3dc13498b2535136f6dfe0678499012e853ee9abcab1"
   }
  }
 },
 "nbformat": 4,
 "nbformat_minor": 4
}
