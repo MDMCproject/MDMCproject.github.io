{
 "cells": [
  {
   "cell_type": "markdown",
   "metadata": {},
   "source": [
    "# Argon A-to-Z"
   ]
  },
  {
   "cell_type": "markdown",
   "metadata": {},
   "source": [
    "This tutorial demonstrates a-to-z how to optimise Lennard Jones parameters for liquid argon, and without going into details. For details see other tuturials and wider MDMC documentation."
   ]
  },
  {
   "cell_type": "code",
   "execution_count": 1,
   "metadata": {
    "execution": {
     "iopub.execute_input": "2021-10-10T19:48:23.249905Z",
     "iopub.status.busy": "2021-10-10T19:48:23.249223Z",
     "iopub.status.idle": "2021-10-10T19:48:25.707922Z",
     "shell.execute_reply": "2021-10-10T19:48:25.706989Z"
    }
   },
   "outputs": [],
   "source": [
    "# Imports used for this tutorial\n",
    "import numpy as np\n",
    "import os\n",
    "from scipy.interpolate import interp2d\n",
    "from MDMC.control import Control\n",
    "from MDMC.MD import Atom, Dispersion, LennardJones, Simulation, Universe"
   ]
  },
  {
   "cell_type": "code",
   "execution_count": 2,
   "metadata": {
    "execution": {
     "iopub.execute_input": "2021-10-10T19:48:25.711918Z",
     "iopub.status.busy": "2021-10-10T19:48:25.711150Z",
     "iopub.status.idle": "2021-10-10T19:48:25.713503Z",
     "shell.execute_reply": "2021-10-10T19:48:25.713055Z"
    }
   },
   "outputs": [],
   "source": [
    "# Change the number of threads depending on the number of physical cores on your computer\n",
    "# as it was tested for LAMMPS\n",
    "os.environ[\"OMP_NUM_THREADS\"] = \"4\""
   ]
  },
  {
   "cell_type": "code",
   "execution_count": 3,
   "metadata": {
    "execution": {
     "iopub.execute_input": "2021-10-10T19:48:25.745622Z",
     "iopub.status.busy": "2021-10-10T19:48:25.718920Z",
     "iopub.status.idle": "2021-10-10T19:48:25.749216Z",
     "shell.execute_reply": "2021-10-10T19:48:25.749577Z"
    }
   },
   "outputs": [
    {
     "name": "stdout",
     "output_type": "stream",
     "text": [
      "Universe created with:\n",
      "  Dimensions       [23.07, 23.07, 23.07]\n",
      "  Force field                       None\n",
      "  Number of atoms                      0\n",
      "\n",
      "Number of argon atoms = 216\n"
     ]
    }
   ],
   "source": [
    "# Build universe with density 0.0176 atoms per AA^-3\n",
    "density = 0.0176\n",
    "# This means cubic universe of side:\n",
    "# 23.0668 A will contain 216 Ar atoms\n",
    "# 26.911 A will contain 343 Ar atoms\n",
    "# 30.7553 A will contain 512 Ar atoms\n",
    "# 38.4441 A will contain 1000 Ar atoms\n",
    "universe = Universe(dimensions=23.0668)\n",
    "Ar = Atom('Ar', charge=0.)\n",
    "# Calculating number of Ar atoms needed to obtain density\n",
    "n_ar_atoms = int(density * np.product(universe.dimensions))\n",
    "print(f'Number of argon atoms = {n_ar_atoms}')\n",
    "universe.fill(Ar, num_struc_units=(n_ar_atoms))"
   ]
  },
  {
   "cell_type": "markdown",
   "metadata": {},
   "source": [
    "In the Jupyter cell above a box of Argon atoms are setup. However, at this point there is no interaction forces between the argon atoms! In the cell below an appropriate (for argon) force-field interaction potential is defined"
   ]
  },
  {
   "cell_type": "code",
   "execution_count": 4,
   "metadata": {
    "execution": {
     "iopub.execute_input": "2021-10-10T19:48:25.755176Z",
     "iopub.status.busy": "2021-10-10T19:48:25.754139Z",
     "iopub.status.idle": "2021-10-10T19:48:25.756058Z",
     "shell.execute_reply": "2021-10-10T19:48:25.756432Z"
    }
   },
   "outputs": [],
   "source": [
    "Ar_dispersion = Dispersion(universe,\n",
    "                           (Ar.atom_type, Ar.atom_type),\n",
    "                           cutoff=8.,\n",
    "                           function=LennardJones(epsilon=1.0243, sigma=3.36))"
   ]
  },
  {
   "cell_type": "markdown",
   "metadata": {},
   "source": [
    "In this case the interaction potential chosen to be the humble Lennard Jones (to get info see doc or type `help(LennardJones)`).\n",
    "\n",
    "Also, a `cutoff` value is chosen (see `help(Dispersion)` for more info). A [role of thumb](https://en.wikipedia.org/wiki/Lennard-Jones_potential) is to pick `cutoff=2.5*sigma`. The value for argo n is recommended to be between 8 and 12 ang. `cutoff` is not a force-field parameter and therefore will not be refined. Ideally, and for any system you want to pick at value of the `cutoff` which is small while not compromising accuracy. For this system picking a value between 8 and 12 ang is found to give near identifical results.\n",
    "\n",
    "Next and before starting the refinement set up the MD engine and equilibrate the system. Note with MDMC the equilibration is just needed to be done once. "
   ]
  },
  {
   "cell_type": "code",
   "execution_count": 5,
   "metadata": {
    "execution": {
     "iopub.execute_input": "2021-10-10T19:48:25.760531Z",
     "iopub.status.busy": "2021-10-10T19:48:25.759857Z",
     "iopub.status.idle": "2021-10-10T19:48:26.120401Z",
     "shell.execute_reply": "2021-10-10T19:48:26.119979Z"
    }
   },
   "outputs": [
    {
     "name": "stdout",
     "output_type": "stream",
     "text": [
      "LAMMPS output is captured by PyLammps wrapper\n",
      "LAMMPS output is captured by PyLammps wrapper\n"
     ]
    },
    {
     "name": "stdout",
     "output_type": "stream",
     "text": [
      "Simulation created with lammps engine and settings:\n",
      "  temperature  120.0\n",
      "\n"
     ]
    }
   ],
   "source": [
    "# MD Engine setup\n",
    "simulation = Simulation(universe,\n",
    "                        engine=\"lammps\",\n",
    "                        time_step=10.18893,\n",
    "                        temperature=120.,\n",
    "                        traj_step=15)"
   ]
  },
  {
   "cell_type": "code",
   "execution_count": 6,
   "metadata": {
    "execution": {
     "iopub.execute_input": "2021-10-10T19:48:26.124436Z",
     "iopub.status.busy": "2021-10-10T19:48:26.123941Z",
     "iopub.status.idle": "2021-10-10T19:48:29.044346Z",
     "shell.execute_reply": "2021-10-10T19:48:29.043486Z"
    }
   },
   "outputs": [],
   "source": [
    "# Energy Minimization and equilibration\n",
    "simulation.minimize(n_steps=5000)\n",
    "simulation.run(n_steps=10000, equilibration=True)"
   ]
  },
  {
   "cell_type": "markdown",
   "metadata": {},
   "source": [
    "OK time to set up the actually refinement of the force-field parameters. \n",
    "\n",
    "First we need some data to refine against"
   ]
  },
  {
   "cell_type": "code",
   "execution_count": 7,
   "metadata": {
    "execution": {
     "iopub.execute_input": "2021-10-10T19:48:29.048571Z",
     "iopub.status.busy": "2021-10-10T19:48:29.048090Z",
     "iopub.status.idle": "2021-10-10T19:48:29.050993Z",
     "shell.execute_reply": "2021-10-10T19:48:29.051434Z"
    }
   },
   "outputs": [],
   "source": [
    "# exp_datasets is a list of dictionaries with one dictionary per experimental\n",
    "# dataset\n",
    "# Dataset from: van Well et al. (1985). Physical Review A, 31(5), 3391-3414\n",
    "exp_datasets = [{'file_name':'data/Well_s_q_omega_Ar_data.xml',\n",
    "                 'type':'SQw',\n",
    "                 'reader':'xml_SQw',\n",
    "                 'weight':1.,\n",
    "                 'auto_scale':True}]"
   ]
  },
  {
   "cell_type": "markdown",
   "metadata": {},
   "source": [
    "The number of `MD_steps` specified must be large enough to allow for successful calculation of all observables. This depends the `type` of the dataset provided and the value of the `traj_step` (specified when creating the `Simulation`). If a value for `MD_steps` is not provided, then the minimum number needed will be used automatically.\n",
    "\n",
    "Additionally, some observables will have an upper limit on the number of MD_steps that can be used in calculating their dependent variable(s). In these cases, the number of `MD_steps` is rounded down to a multiple of this upper limit so that we only run steps that will be useful. For example, if we use 1000 `MD_steps` in calculation, but a value of 2500 is provided, then we will run 2000 steps and use this to calculate the variable twice, without wasting time performing an additional 500 steps."
   ]
  },
  {
   "cell_type": "code",
   "execution_count": 8,
   "metadata": {
    "execution": {
     "iopub.execute_input": "2021-10-10T19:48:29.059339Z",
     "iopub.status.busy": "2021-10-10T19:48:29.058621Z",
     "iopub.status.idle": "2021-10-10T19:48:29.063501Z",
     "shell.execute_reply": "2021-10-10T19:48:29.063881Z"
    }
   },
   "outputs": [
    {
     "name": "stdout",
     "output_type": "stream",
     "text": [
      "Control created with:\n",
      "  Minimizer                             MMC\n",
      "  MC norm                                30\n",
      "  FoM type               ChiSquaredExpError\n",
      "  Number of observables                   1\n",
      "  Number of parameters                    2\n",
      "\n"
     ]
    }
   ],
   "source": [
    "fit_parameters = universe.parameters\n",
    "\n",
    "control = Control(simulation=simulation,\n",
    "                  exp_datasets=exp_datasets,\n",
    "                  fit_parameters=fit_parameters,\n",
    "                  MC_norm=30,\n",
    "                  minimizer_type=\"MMC\",\n",
    "                  reset_config=False,\n",
    "                  MD_steps=570)"
   ]
  },
  {
   "cell_type": "markdown",
   "metadata": {},
   "source": [
    "And finally start the refinement! Bump up `n_steps` from 3 when you are ready."
   ]
  },
  {
   "cell_type": "code",
   "execution_count": 9,
   "metadata": {
    "execution": {
     "iopub.execute_input": "2021-10-10T19:48:29.072136Z",
     "iopub.status.busy": "2021-10-10T19:48:29.071468Z",
     "iopub.status.idle": "2021-10-10T19:48:42.460577Z",
     "shell.execute_reply": "2021-10-10T19:48:42.460949Z"
    }
   },
   "outputs": [
    {
     "name": "stdout",
     "output_type": "stream",
     "text": [
      "Step         FoM Change state      epsilon        sigma\n"
     ]
    },
    {
     "name": "stdout",
     "output_type": "stream",
     "text": [
      "   0       398.2     Accepted        1.024         3.36\n"
     ]
    },
    {
     "name": "stdout",
     "output_type": "stream",
     "text": [
      "   1       418.1     Accepted        1.033        3.334\n"
     ]
    },
    {
     "name": "stdout",
     "output_type": "stream",
     "text": [
      "   2       410.2     Accepted        1.024         3.35\n"
     ]
    },
    {
     "name": "stdout",
     "output_type": "stream",
     "text": [
      "   3         395     Accepted        1.015         3.36\n",
      "\n",
      "Final Parameters\n",
      " epsilon    sigma\n",
      "1.015409 3.359804\n",
      "\n",
      "Automatic Scale Factors\n",
      "  data/Well_s_q_omega_Ar_data.xml  0.221816\n"
     ]
    }
   ],
   "source": [
    "# Run the refinement, i.e. refine the FF parameters against the data\n",
    "control.refine(n_steps=3)"
   ]
  }
 ],
 "metadata": {
  "kernelspec": {
   "display_name": "Python 3",
   "language": "python",
   "name": "python3"
  },
  "language_info": {
   "codemirror_mode": {
    "name": "ipython",
    "version": 3
   },
   "file_extension": ".py",
   "mimetype": "text/x-python",
   "name": "python",
   "nbconvert_exporter": "python",
   "pygments_lexer": "ipython3",
   "version": "3.9.6"
  }
 },
 "nbformat": 4,
 "nbformat_minor": 4
}
