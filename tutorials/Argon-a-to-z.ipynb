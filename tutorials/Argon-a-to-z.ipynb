{
 "cells": [
  {
   "attachments": {},
   "cell_type": "markdown",
   "metadata": {},
   "source": [
    "# Argon A-to-Z"
   ]
  },
  {
   "attachments": {},
   "cell_type": "markdown",
   "metadata": {},
   "source": [
    "This tutorial demonstrates a-to-z how to optimise Lennard Jones parameters for liquid argon, and without going into details. For details see other tutorials and wider MDMC documentation."
   ]
  },
  {
   "cell_type": "code",
   "execution_count": 1,
   "metadata": {
    "execution": {
     "iopub.execute_input": "2023-09-13T10:12:21.030353Z",
     "iopub.status.busy": "2023-09-13T10:12:21.029956Z",
     "iopub.status.idle": "2023-09-13T10:12:22.218513Z",
     "shell.execute_reply": "2023-09-13T10:12:22.217883Z"
    }
   },
   "outputs": [],
   "source": [
    "# Imports used for this tutorial\n",
    "import numpy as np\n",
    "import os\n",
    "from MDMC.control import Control\n",
    "from MDMC.MD import Atom, Molecule, Dispersion, LennardJones, Simulation, Universe\n",
    "from MDMC.MD.packmol import PackmolSetup, PackmolFiller"
   ]
  },
  {
   "cell_type": "markdown",
   "metadata": {},
   "source": []
  },
  {
   "cell_type": "code",
   "execution_count": 2,
   "metadata": {
    "execution": {
     "iopub.execute_input": "2023-09-13T10:12:22.221811Z",
     "iopub.status.busy": "2023-09-13T10:12:22.221374Z",
     "iopub.status.idle": "2023-09-13T10:12:22.224692Z",
     "shell.execute_reply": "2023-09-13T10:12:22.223909Z"
    }
   },
   "outputs": [],
   "source": [
    "# Change the number of threads depending on the number of physical cores on your computer\n",
    "# as it was tested for LAMMPS\n",
    "os.environ[\"OMP_NUM_THREADS\"] = \"4\""
   ]
  },
  {
   "cell_type": "code",
   "execution_count": 3,
   "metadata": {
    "execution": {
     "iopub.execute_input": "2023-09-13T10:12:22.227127Z",
     "iopub.status.busy": "2023-09-13T10:12:22.226942Z",
     "iopub.status.idle": "2023-09-13T10:12:22.246908Z",
     "shell.execute_reply": "2023-09-13T10:12:22.246417Z"
    }
   },
   "outputs": [
    {
     "name": "stdout",
     "output_type": "stream",
     "text": [
      "Universe created with:\n",
      "Dimensions [23.07 23.07 23.07]\n",
      "Number of argon atoms = 216\n"
     ]
    }
   ],
   "source": [
    "# Build universe with density 0.0176 atoms per AA^-3\n",
    "density = 0.0176\n",
    "# This means cubic universe of side:\n",
    "# 23.0668 A will contain 216 Ar atoms\n",
    "# 26.911 A will contain 343 Ar atoms\n",
    "# 30.7553 A will contain 512 Ar atoms\n",
    "# 38.4441 A will contain 1000 Ar atoms\n",
    "universe = Universe(dimensions=23.0668)\n",
    "Ar = Atom('Ar', charge=0., mass=36.0)\n",
    "\n",
    "# Calculating number of Ar atoms needed to obtain density\n",
    "n_ar_atoms = int(density * np.product(universe.dimensions))\n",
    "print(f'Number of argon atoms = {n_ar_atoms}')\n",
    "universe.fill(Ar, num_struc_units=(n_ar_atoms))"
   ]
  },
  {
   "attachments": {},
   "cell_type": "markdown",
   "metadata": {},
   "source": [
    "In the Jupyter cell above, a box of Argon atoms is set up. However, at this point there is no interaction forces between the argon atoms! In the cell below an appropriate (for argon) force-field interaction potential is defined."
   ]
  },
  {
   "cell_type": "code",
   "execution_count": 4,
   "metadata": {
    "execution": {
     "iopub.execute_input": "2023-09-13T10:12:22.279096Z",
     "iopub.status.busy": "2023-09-13T10:12:22.278453Z",
     "iopub.status.idle": "2023-09-13T10:12:22.282347Z",
     "shell.execute_reply": "2023-09-13T10:12:22.281827Z"
    }
   },
   "outputs": [],
   "source": [
    "Ar_dispersion = Dispersion(universe,\n",
    "                           (Ar.atom_type, Ar.atom_type),\n",
    "                           cutoff=8.,\n",
    "                           function=LennardJones(epsilon=1.0243, sigma=3.36))"
   ]
  },
  {
   "attachments": {},
   "cell_type": "markdown",
   "metadata": {},
   "source": [
    "In this case the interaction potential chosen is the humble Lennard Jones (to get info see doc or type `help(LennardJones)`).\n",
    "\n",
    "Also, a `cutoff` value is chosen (see `help(Dispersion)` for more info). A [rule of thumb for Lennard-Jones](https://en.wikipedia.org/wiki/Lennard-Jones_potential) is to pick `cutoff=2.5*sigma`. The value for argon is recommended to be between 8 and 12 ang. `cutoff` is not a force-field parameter and therefore will not be refined. Ideally, and for any system you want to pick at value of the `cutoff` which is small while not compromising accuracy. For this system picking a value between 8 and 12 ang is found to give near identifical results.\n",
    "\n",
    "Next (and before starting the refinement), we set up the MD engine and equilibrate the system. Note with MDMC the equilibration only needs to be done once. "
   ]
  },
  {
   "cell_type": "code",
   "execution_count": 5,
   "metadata": {
    "execution": {
     "iopub.execute_input": "2023-09-13T10:12:22.284904Z",
     "iopub.status.busy": "2023-09-13T10:12:22.284456Z",
     "iopub.status.idle": "2023-09-13T10:12:23.425860Z",
     "shell.execute_reply": "2023-09-13T10:12:23.425062Z"
    }
   },
   "outputs": [
    {
     "name": "stdout",
     "output_type": "stream",
     "text": [
      "LAMMPS (29 Sep 2021 - Update 3)\n",
      "  using 4 OpenMP thread(s) per MPI task\n",
      "LAMMPS output is captured by PyLammps wrapper\n",
      "LAMMPS (29 Sep 2021 - Update 3)\n",
      "  using 4 OpenMP thread(s) per MPI task\n",
      "LAMMPS output is captured by PyLammps wrapper\n",
      "Total wall time: 0:00:00\n",
      "using multi-threaded neighbor list subroutines\n"
     ]
    },
    {
     "name": "stdout",
     "output_type": "stream",
     "text": [
      "Simulation created with lammps engine and settings:\n",
      "  temperature  120.0\n",
      "\n"
     ]
    }
   ],
   "source": [
    "# MD Engine setup\n",
    "simulation = Simulation(universe,\n",
    "                        engine=\"lammps\",\n",
    "                        time_step=10.18893,\n",
    "                        temperature=120.,\n",
    "                        traj_step=15)"
   ]
  },
  {
   "cell_type": "code",
   "execution_count": 6,
   "metadata": {
    "execution": {
     "iopub.execute_input": "2023-09-13T10:12:23.428826Z",
     "iopub.status.busy": "2023-09-13T10:12:23.428535Z",
     "iopub.status.idle": "2023-09-13T10:12:27.651959Z",
     "shell.execute_reply": "2023-09-13T10:12:27.651376Z"
    }
   },
   "outputs": [],
   "source": [
    "# Energy Minimization and equilibration\n",
    "simulation.minimize(n_steps=50)\n",
    "simulation.run(n_steps=10000, equilibration=True)"
   ]
  },
  {
   "attachments": {},
   "cell_type": "markdown",
   "metadata": {},
   "source": [
    "OK; time to set up the actual refinement of the force-field parameters. \n",
    "\n",
    "First we need some data to refine against:"
   ]
  },
  {
   "cell_type": "code",
   "execution_count": 7,
   "metadata": {
    "execution": {
     "iopub.execute_input": "2023-09-13T10:12:27.655464Z",
     "iopub.status.busy": "2023-09-13T10:12:27.655165Z",
     "iopub.status.idle": "2023-09-13T10:12:27.659059Z",
     "shell.execute_reply": "2023-09-13T10:12:27.658579Z"
    }
   },
   "outputs": [],
   "source": [
    "# exp_datasets is a list of dictionaries with one dictionary per experimental\n",
    "# dataset\n",
    "# Dataset from: van Well et al. (1985). Physical Review A, 31(5), 3391-3414\n",
    "# resolution is None as the original author already accounted for instrument resolution\n",
    "exp_datasets = [{'file_name':'data/Well_s_q_omega_Ar_data.xml',\n",
    "                 'type':'SQw',\n",
    "                 'reader':'xml_SQw',\n",
    "                 'weight':1.,\n",
    "                 'auto_scale':True,\n",
    "                 'resolution':800}]"
   ]
  },
  {
   "attachments": {},
   "cell_type": "markdown",
   "metadata": {},
   "source": [
    "The number of `MD_steps` specified must be large enough to allow for successful calculation of all observables. This depends the `type` of the dataset provided and the value of the `traj_step` (specified when creating the `Simulation`). If a value for `MD_steps` is not provided, then the minimum number needed will be used automatically.\n",
    "\n",
    "Additionally, some observables will have an upper limit on the number of MD_steps that can be used in calculating their dependent variable(s). In these cases, the number of `MD_steps` is rounded down to a multiple of this upper limit so that we only run steps that will be useful. For example, if we use 1000 `MD_steps` in calculation, but a value of 2500 is provided, then we will run 2000 steps and use this to calculate the variable twice, without wasting time performing an additional 500 steps."
   ]
  },
  {
   "cell_type": "code",
   "execution_count": 8,
   "metadata": {
    "execution": {
     "iopub.execute_input": "2023-09-13T10:12:27.661865Z",
     "iopub.status.busy": "2023-09-13T10:12:27.661576Z",
     "iopub.status.idle": "2023-09-13T10:12:27.765013Z",
     "shell.execute_reply": "2023-09-13T10:12:27.764298Z"
    }
   },
   "outputs": [
    {
     "name": "stdout",
     "output_type": "stream",
     "text": [
      "Control created with:\n",
      "- Attributes                              -\n",
      "  Minimizer                             GPO\n",
      "  FoM type               ChiSquaredExpError\n",
      "  Number of observables                   1\n",
      "  Number of parameters                    2\n",
      "\n"
     ]
    }
   ],
   "source": [
    "fit_parameters = universe.parameters\n",
    "fit_parameters['sigma'].constraints = [2.7,3.8]\n",
    "fit_parameters['epsilon'].constraints = [0.5, 1.5]\n",
    "\n",
    "\n",
    "control = Control(simulation=simulation,\n",
    "                  exp_datasets=exp_datasets,\n",
    "                  fit_parameters=fit_parameters,\n",
    "                  minimizer_type=\"GPO\",\n",
    "                  reset_config=True,\n",
    "                  MD_steps=4000, \n",
    "                  equilibration_steps=4000,\n",
    "                  data_printer='ipython')"
   ]
  },
  {
   "attachments": {},
   "cell_type": "markdown",
   "metadata": {},
   "source": [
    "And finally start the refinement! Bump up `n_steps` from 3 when you are ready."
   ]
  },
  {
   "cell_type": "code",
   "execution_count": 9,
   "metadata": {
    "execution": {
     "iopub.execute_input": "2023-09-13T10:12:27.783368Z",
     "iopub.status.busy": "2023-09-13T10:12:27.782884Z",
     "iopub.status.idle": "2023-09-13T10:15:50.264951Z",
     "shell.execute_reply": "2023-09-13T10:15:50.264465Z"
    }
   },
   "outputs": [
    {
     "data": {
      "text/html": [
       "<div>\n",
       "<style scoped>\n",
       "    .dataframe tbody tr th:only-of-type {\n",
       "        vertical-align: middle;\n",
       "    }\n",
       "\n",
       "    .dataframe tbody tr th {\n",
       "        vertical-align: top;\n",
       "    }\n",
       "\n",
       "    .dataframe thead th {\n",
       "        text-align: right;\n",
       "    }\n",
       "</style>\n",
       "<table border=\"1\" class=\"dataframe\">\n",
       "  <thead>\n",
       "    <tr style=\"text-align: right;\">\n",
       "      <th></th>\n",
       "      <th>FoM</th>\n",
       "      <th>epsilon (#2)</th>\n",
       "      <th>sigma (#3)</th>\n",
       "    </tr>\n",
       "    <tr>\n",
       "      <th>Step</th>\n",
       "      <th></th>\n",
       "      <th></th>\n",
       "      <th></th>\n",
       "    </tr>\n",
       "  </thead>\n",
       "  <tbody>\n",
       "    <tr>\n",
       "      <th>0</th>\n",
       "      <td>18.176633</td>\n",
       "      <td>1.024300</td>\n",
       "      <td>3.360000</td>\n",
       "    </tr>\n",
       "    <tr>\n",
       "      <th>1</th>\n",
       "      <td>70.785554</td>\n",
       "      <td>1.043844</td>\n",
       "      <td>3.505240</td>\n",
       "    </tr>\n",
       "    <tr>\n",
       "      <th>2</th>\n",
       "      <td>573.223817</td>\n",
       "      <td>1.093889</td>\n",
       "      <td>2.815663</td>\n",
       "    </tr>\n",
       "    <tr>\n",
       "      <th>3</th>\n",
       "      <td>380.713124</td>\n",
       "      <td>0.919516</td>\n",
       "      <td>3.780650</td>\n",
       "    </tr>\n",
       "    <tr>\n",
       "      <th>4</th>\n",
       "      <td>59.911541</td>\n",
       "      <td>1.495079</td>\n",
       "      <td>3.436889</td>\n",
       "    </tr>\n",
       "    <tr>\n",
       "      <th>5</th>\n",
       "      <td>376.760624</td>\n",
       "      <td>0.648673</td>\n",
       "      <td>2.783596</td>\n",
       "    </tr>\n",
       "    <tr>\n",
       "      <th>6</th>\n",
       "      <td>87.793292</td>\n",
       "      <td>0.892343</td>\n",
       "      <td>3.137861</td>\n",
       "    </tr>\n",
       "    <tr>\n",
       "      <th>7</th>\n",
       "      <td>151.137617</td>\n",
       "      <td>0.759477</td>\n",
       "      <td>3.681787</td>\n",
       "    </tr>\n",
       "    <tr>\n",
       "      <th>8</th>\n",
       "      <td>109.924491</td>\n",
       "      <td>0.517653</td>\n",
       "      <td>3.217887</td>\n",
       "    </tr>\n",
       "    <tr>\n",
       "      <th>9</th>\n",
       "      <td>1298.097303</td>\n",
       "      <td>1.217111</td>\n",
       "      <td>2.713417</td>\n",
       "    </tr>\n",
       "    <tr>\n",
       "      <th>10</th>\n",
       "      <td>29.884609</td>\n",
       "      <td>0.986962</td>\n",
       "      <td>3.289796</td>\n",
       "    </tr>\n",
       "    <tr>\n",
       "      <th>11</th>\n",
       "      <td>832.938817</td>\n",
       "      <td>1.272722</td>\n",
       "      <td>2.882390</td>\n",
       "    </tr>\n",
       "    <tr>\n",
       "      <th>12</th>\n",
       "      <td>252.256707</td>\n",
       "      <td>0.683786</td>\n",
       "      <td>2.921166</td>\n",
       "    </tr>\n",
       "    <tr>\n",
       "      <th>13</th>\n",
       "      <td>50.123734</td>\n",
       "      <td>0.718951</td>\n",
       "      <td>3.542950</td>\n",
       "    </tr>\n",
       "    <tr>\n",
       "      <th>14</th>\n",
       "      <td>383.309440</td>\n",
       "      <td>1.176461</td>\n",
       "      <td>3.704159</td>\n",
       "    </tr>\n",
       "    <tr>\n",
       "      <th>15</th>\n",
       "      <td>59.520442</td>\n",
       "      <td>0.581250</td>\n",
       "      <td>3.600365</td>\n",
       "    </tr>\n",
       "    <tr>\n",
       "      <th>16</th>\n",
       "      <td>566.591263</td>\n",
       "      <td>1.442156</td>\n",
       "      <td>3.027460</td>\n",
       "    </tr>\n",
       "    <tr>\n",
       "      <th>17</th>\n",
       "      <td>164.302954</td>\n",
       "      <td>1.379929</td>\n",
       "      <td>3.165794</td>\n",
       "    </tr>\n",
       "    <tr>\n",
       "      <th>18</th>\n",
       "      <td>194.901904</td>\n",
       "      <td>1.148286</td>\n",
       "      <td>3.033985</td>\n",
       "    </tr>\n",
       "    <tr>\n",
       "      <th>19</th>\n",
       "      <td>21.096108</td>\n",
       "      <td>0.847010</td>\n",
       "      <td>3.404806</td>\n",
       "    </tr>\n",
       "    <tr>\n",
       "      <th>20</th>\n",
       "      <td>19.786842</td>\n",
       "      <td>1.148389</td>\n",
       "      <td>3.321168</td>\n",
       "    </tr>\n",
       "    <tr>\n",
       "      <th>21</th>\n",
       "      <td>19.088770</td>\n",
       "      <td>0.979336</td>\n",
       "      <td>3.383956</td>\n",
       "    </tr>\n",
       "    <tr>\n",
       "      <th>22</th>\n",
       "      <td>19.349643</td>\n",
       "      <td>1.053677</td>\n",
       "      <td>3.343466</td>\n",
       "    </tr>\n",
       "    <tr>\n",
       "      <th>23</th>\n",
       "      <td>17.756173</td>\n",
       "      <td>1.261403</td>\n",
       "      <td>3.328172</td>\n",
       "    </tr>\n",
       "    <tr>\n",
       "      <th>24</th>\n",
       "      <td>18.479026</td>\n",
       "      <td>1.259242</td>\n",
       "      <td>3.332198</td>\n",
       "    </tr>\n",
       "  </tbody>\n",
       "</table>\n",
       "</div>"
      ],
      "text/plain": [
       "              FoM  epsilon (#2)  sigma (#3)\n",
       "Step                                       \n",
       "0       18.176633      1.024300    3.360000\n",
       "1       70.785554      1.043844    3.505240\n",
       "2      573.223817      1.093889    2.815663\n",
       "3      380.713124      0.919516    3.780650\n",
       "4       59.911541      1.495079    3.436889\n",
       "5      376.760624      0.648673    2.783596\n",
       "6       87.793292      0.892343    3.137861\n",
       "7      151.137617      0.759477    3.681787\n",
       "8      109.924491      0.517653    3.217887\n",
       "9     1298.097303      1.217111    2.713417\n",
       "10      29.884609      0.986962    3.289796\n",
       "11     832.938817      1.272722    2.882390\n",
       "12     252.256707      0.683786    2.921166\n",
       "13      50.123734      0.718951    3.542950\n",
       "14     383.309440      1.176461    3.704159\n",
       "15      59.520442      0.581250    3.600365\n",
       "16     566.591263      1.442156    3.027460\n",
       "17     164.302954      1.379929    3.165794\n",
       "18     194.901904      1.148286    3.033985\n",
       "19      21.096108      0.847010    3.404806\n",
       "20      19.786842      1.148389    3.321168\n",
       "21      19.088770      0.979336    3.383956\n",
       "22      19.349643      1.053677    3.343466\n",
       "23      17.756173      1.261403    3.328172\n",
       "24      18.479026      1.259242    3.332198"
      ]
     },
     "metadata": {},
     "output_type": "display_data"
    },
    {
     "name": "stdout",
     "output_type": "stream",
     "text": [
      "\n",
      "The refinement has finished. \n",
      " \n",
      "Minimum measured point is: \n",
      "(1.2614025871218018 kJ / mol, 3.3281724484844912 Ang) with an FoM of 17.756172844446972. \n",
      " \n",
      "Minimum point predicted is: \n",
      "(1.2614025871218018 kJ / mol, 3.3281724484844912 Ang) for an FoM of 17.756172844446972.\n",
      " \n",
      " \n",
      "\n",
      "Automatic Scale Factors\n",
      "  data/Well_s_q_omega_Ar_data.xml  20.380779\n"
     ]
    },
    {
     "name": "stdout",
     "output_type": "stream",
     "text": [
      "Parameter means = [1.14567871 3.34036497], Parameter errors = [0.12461062 0.02897916]\n"
     ]
    },
    {
     "data": {
      "image/png": "[encoded data removed]",
      "text/plain": [
       "<Figure size 550x550 with 4 Axes>"
      ]
     },
     "metadata": {},
     "output_type": "display_data"
    }
   ],
   "source": [
    "# Run the refinement, i.e. refine the FF parameters against the data\n",
    "control.refine(n_steps=25)\n",
    "control.plot_results();"
   ]
  }
 ],
 "metadata": {
  "kernelspec": {
   "display_name": "Python 3 (ipykernel)",
   "language": "python",
   "name": "python3"
  },
  "language_info": {
   "codemirror_mode": {
    "name": "ipython",
    "version": 3
   },
   "file_extension": ".py",
   "mimetype": "text/x-python",
   "name": "python",
   "nbconvert_exporter": "python",
   "pygments_lexer": "ipython3",
   "version": "3.11.2"
  },
  "vscode": {
   "interpreter": {
    "hash": "949777d72b0d2535278d3dc13498b2535136f6dfe0678499012e853ee9abcab1"
   }
  }
 },
 "nbformat": 4,
 "nbformat_minor": 4
}
