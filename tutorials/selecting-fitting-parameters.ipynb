{
 "cells": [
  {
   "cell_type": "markdown",
   "metadata": {},
   "source": [
    "# Selecting Fitting Parameters"
   ]
  },
  {
   "cell_type": "markdown",
   "metadata": {},
   "source": [
    "As the number of fitting parameters increases it may be necessary to only refine a subset of the parameters.  In MDMC this can be done in two ways:"
   ]
  },
  {
   "cell_type": "markdown",
   "metadata": {},
   "source": [
    "## Fixing a Parameter\n",
    "\n",
    "`Parameter` objects can be fixed.  This can either be set when they are initialised (created) or changed for an existing `Parameter`.  By default, an initialised `Parameter` is **not** fixed."
   ]
  },
  {
   "cell_type": "code",
   "execution_count": 1,
   "metadata": {
    "execution": {
     "iopub.execute_input": "2023-04-02T20:37:15.717882Z",
     "iopub.status.busy": "2023-04-02T20:37:15.717538Z",
     "iopub.status.idle": "2023-04-02T20:37:16.397259Z",
     "shell.execute_reply": "2023-04-02T20:37:16.396342Z"
    }
   },
   "outputs": [
    {
     "name": "stdout",
     "output_type": "stream",
     "text": [
      "Supported DL_POLY version 5.0\n"
     ]
    }
   ],
   "source": [
    "from MDMC.MD.parameters import Parameter\n",
    "charge = Parameter(value=0.5, name='charge', fixed=True, unit='e')\n",
    "\n",
    "# Trying to set the value of a fixed Parameter will result in a warning...\n",
    "charge.value = 12"
   ]
  },
  {
   "cell_type": "code",
   "execution_count": 2,
   "metadata": {
    "execution": {
     "iopub.execute_input": "2023-04-02T20:37:16.401241Z",
     "iopub.status.busy": "2023-04-02T20:37:16.401027Z",
     "iopub.status.idle": "2023-04-02T20:37:16.406294Z",
     "shell.execute_reply": "2023-04-02T20:37:16.405420Z"
    }
   },
   "outputs": [
    {
     "name": "stdout",
     "output_type": "stream",
     "text": [
      "0.5 e\n"
     ]
    }
   ],
   "source": [
    "# ... and the value will remain unchanged\n",
    "print(charge.value)"
   ]
  },
  {
   "cell_type": "code",
   "execution_count": 3,
   "metadata": {
    "execution": {
     "iopub.execute_input": "2023-04-02T20:37:16.409962Z",
     "iopub.status.busy": "2023-04-02T20:37:16.409610Z",
     "iopub.status.idle": "2023-04-02T20:37:16.415834Z",
     "shell.execute_reply": "2023-04-02T20:37:16.414804Z"
    }
   },
   "outputs": [
    {
     "name": "stdout",
     "output_type": "stream",
     "text": [
      "Is sigma fixed: False\n",
      "Is sigma fixed: True\n"
     ]
    }
   ],
   "source": [
    "# Existing Parameters can also be fixed\n",
    "sigma = Parameter(1.0, name='sigma', unit='Ang')\n",
    "print('Is sigma fixed: {}'.format(sigma.fixed))\n",
    "sigma.fixed = True\n",
    "print('Is sigma fixed: {}'.format(sigma.fixed))"
   ]
  },
  {
   "cell_type": "markdown",
   "metadata": {},
   "source": [
    "## Passing a subset of Parameters to Control\n",
    "\n",
    "Only parameters that are passed to `Control` (as `fit_parameters`) will be refined.  While it is simplest to pass all parameters in a `Universe` to `Control`, it is also possible to filter out a subset.  To demonstrate this, a universe filled with SPCE water molecules is read from [Building a Universe](building-a-universe.ipynb)."
   ]
  },
  {
   "cell_type": "markdown",
   "metadata": {},
   "source": [
    "The `%%capture` and `%run` commands below simply executes the [Building a Universe](building-a-universe.ipynb) notebook and captures the variables into this notebook. They are only valid if they are executed in the same folder as the [Building a Universe](building-a-universe.ipynb) notebook. Otherwise, please copy the last section of [Building a Universe](building-a-universe.ipynb) to set the same state."
   ]
  },
  {
   "cell_type": "code",
   "execution_count": 4,
   "metadata": {
    "execution": {
     "iopub.execute_input": "2023-04-02T20:37:16.419504Z",
     "iopub.status.busy": "2023-04-02T20:37:16.419189Z",
     "iopub.status.idle": "2023-04-02T20:37:16.744815Z",
     "shell.execute_reply": "2023-04-02T20:37:16.741618Z"
    }
   },
   "outputs": [],
   "source": [
    "%%capture\n",
    "# Run Building a universe notebook and hide output\n",
    "%run \"building-a-universe.ipynb\""
   ]
  },
  {
   "cell_type": "markdown",
   "metadata": {},
   "source": [
    "There are 8 parameters in the universe:"
   ]
  },
  {
   "cell_type": "code",
   "execution_count": 5,
   "metadata": {
    "execution": {
     "iopub.execute_input": "2023-04-02T20:37:16.748667Z",
     "iopub.status.busy": "2023-04-02T20:37:16.748319Z",
     "iopub.status.idle": "2023-04-02T20:37:16.760434Z",
     "shell.execute_reply": "2023-04-02T20:37:16.759620Z"
    }
   },
   "outputs": [
    {
     "name": "stdout",
     "output_type": "stream",
     "text": [
      "{'equilibrium_state (#28)': <Parameter\n",
      " {ID: 28,\n",
      "  type: 'equilibrium_state',\n",
      "  value: 1.0 Ang,\n",
      "  unit: 'Ang',\n",
      "  fixed: False,\n",
      "  constraints: None,\n",
      "  interactions_name: 'Bond',\n",
      "  functions_name: 'HarmonicPotential',\n",
      "  tied: False}>, 'potential_strength (#29)': <Parameter\n",
      " {ID: 29,\n",
      "  type: 'potential_strength',\n",
      "  value: 4637.0 kJ / mol Ang ^ 2,\n",
      "  unit: 'kJ / mol Ang ^ 2',\n",
      "  fixed: False,\n",
      "  constraints: None,\n",
      "  interactions_name: 'Bond',\n",
      "  functions_name: 'HarmonicPotential',\n",
      "  tied: False}>, 'equilibrium_state (#22)': <Parameter\n",
      " {ID: 22,\n",
      "  type: 'equilibrium_state',\n",
      "  value: 109.47 deg,\n",
      "  unit: 'deg',\n",
      "  fixed: False,\n",
      "  constraints: None,\n",
      "  interactions_name: 'BondAngle',\n",
      "  functions_name: 'HarmonicPotential',\n",
      "  tied: False}>, 'potential_strength (#23)': <Parameter\n",
      " {ID: 23,\n",
      "  type: 'potential_strength',\n",
      "  value: 383.0 kJ / mol rad ^ 2,\n",
      "  unit: 'kJ / mol rad ^ 2',\n",
      "  fixed: False,\n",
      "  constraints: None,\n",
      "  interactions_name: 'BondAngle',\n",
      "  functions_name: 'HarmonicPotential',\n",
      "  tied: False}>, 'charge (#49)': <Parameter\n",
      " {ID: 49,\n",
      "  type: 'charge',\n",
      "  value: 0.4238 e,\n",
      "  unit: 'e',\n",
      "  fixed: False,\n",
      "  constraints: None,\n",
      "  interactions_name: 'Coulombic',\n",
      "  functions_name: 'Coulomb',\n",
      "  tied: False}>, 'epsilon (#34)': <Parameter\n",
      " {ID: 34,\n",
      "  type: 'epsilon',\n",
      "  value: 0.6502 kJ / mol,\n",
      "  unit: 'kJ / mol',\n",
      "  fixed: False,\n",
      "  constraints: None,\n",
      "  interactions_name: 'Dispersion',\n",
      "  functions_name: 'LennardJones',\n",
      "  tied: False}>, 'sigma (#35)': <Parameter\n",
      " {ID: 35,\n",
      "  type: 'sigma',\n",
      "  value: 3.166 Ang,\n",
      "  unit: 'Ang',\n",
      "  fixed: False,\n",
      "  constraints: None,\n",
      "  interactions_name: 'Dispersion',\n",
      "  functions_name: 'LennardJones',\n",
      "  tied: False}>, 'charge (#40)': <Parameter\n",
      " {ID: 40,\n",
      "  type: 'charge',\n",
      "  value: -0.8476 e,\n",
      "  unit: 'e',\n",
      "  fixed: False,\n",
      "  constraints: None,\n",
      "  interactions_name: 'Coulombic',\n",
      "  functions_name: 'Coulomb',\n",
      "  tied: False}>}\n"
     ]
    }
   ],
   "source": [
    "print(universe.parameters)"
   ]
  },
  {
   "cell_type": "markdown",
   "metadata": {},
   "source": [
    "So while all 8 parameters can be passed when initiliasing `Control`, they can also be filtered. `Parameters` objects have a number of convenience methods to assist with this:"
   ]
  },
  {
   "cell_type": "code",
   "execution_count": 6,
   "metadata": {
    "execution": {
     "iopub.execute_input": "2023-04-02T20:37:16.764520Z",
     "iopub.status.busy": "2023-04-02T20:37:16.764246Z",
     "iopub.status.idle": "2023-04-02T20:37:16.785023Z",
     "shell.execute_reply": "2023-04-02T20:37:16.784153Z"
    }
   },
   "outputs": [
    {
     "name": "stdout",
     "output_type": "stream",
     "text": [
      "Help on Parameters in module MDMC.MD.parameters object:\n",
      "\n",
      "class Parameters(builtins.dict)\n",
      " |  Parameters(init_parameters: \"Optional[Union[Parameter, 'list[Parameter]']]\" = None)\n",
      " |  \n",
      " |  A `dict-like` object where every element is a ``Parameter`` indexed by name,\n",
      " |  which contains a number of helper methods for filtering.\n",
      " |  \n",
      " |  Although ``Parameters`` is a `dict`, it should be treated like a `list` when writing to it;\n",
      " |  i.e. initialise it using a `list` and use `append` to add to it. These parameters can\n",
      " |  then be accessed by their name as a key.\n",
      " |  \n",
      " |  In short; Parameters writes like a list and reads like a dict.\n",
      " |  \n",
      " |  Parameters\n",
      " |  ----------\n",
      " |  init_parameters: ``Parameter`` or `list` of ``Parameter``s, optional, default None\n",
      " |      The initial ``Parameter`` objects that the ``Parameters`` object contains.\n",
      " |  \n",
      " |  Attributes\n",
      " |  ----------\n",
      " |  array: np.ndarray\n",
      " |      An alphabetically-sorted numpy array of the ``Parameter``s stored in this object.\n",
      " |  \n",
      " |  Method resolution order:\n",
      " |      Parameters\n",
      " |      builtins.dict\n",
      " |      builtins.object\n",
      " |  \n",
      " |  Methods defined here:\n",
      " |  \n",
      " |  __getitem__(self, key: 'str') -> \"Union[Parameter, 'list[Parameter]']\"\n",
      " |      x.__getitem__(y) <==> x[y]\n",
      " |  \n",
      " |  __init__(self, init_parameters: \"Optional[Union[Parameter, 'list[Parameter]']]\" = None)\n",
      " |      Initialize self.  See help(type(self)) for accurate signature.\n",
      " |  \n",
      " |  __setitem__(self, key: 'str', value: 'Parameter') -> 'NoReturn'\n",
      " |      Set self[key] to value.\n",
      " |  \n",
      " |  append(self, parameters: \"Union['list[Parameter]', Parameter]\") -> 'None'\n",
      " |      Appends a ``Parameter`` or list of ``Parameter``s to the dict,\n",
      " |      with the parameter name as its key.\n",
      " |      \n",
      " |      Parameters\n",
      " |      ----------\n",
      " |      parameters: ``Parameter`` or `list` of ``Parameter``s\n",
      " |          The parameter(s) to be added to the dict.\n",
      " |  \n",
      " |  filter(self, predicate: 'Callable[[Parameter], bool]') -> 'Parameters'\n",
      " |      Filters using a predicate\n",
      " |      \n",
      " |      Parameters\n",
      " |      ----------\n",
      " |      predicate : function\n",
      " |          A function that returns a `bool` which takes a ``Parameter`` as an\n",
      " |          argument.\n",
      " |      \n",
      " |      Returns\n",
      " |      -------\n",
      " |      Parameters\n",
      " |          The ``Parameter`` objects which meet the condition of the predicate\n",
      " |  \n",
      " |  filter_atom_attribute(self, attribute: 'str', value: 'Union[str, float]') -> 'Parameters'\n",
      " |      Filters based on the attribute of ``Atom`` objects which have each\n",
      " |      ``Parameter`` applied to them\n",
      " |      \n",
      " |      \n",
      " |      Parameters\n",
      " |      ----------\n",
      " |      attribute : str\n",
      " |          An attribute of an ``Atom``. Attributes to match to must be either\n",
      " |          `float` or str.\n",
      " |      value : str, float\n",
      " |          The value of the ``Atom`` ``attribute``.\n",
      " |      \n",
      " |      Returns\n",
      " |      -------\n",
      " |      Parameters\n",
      " |          The ``Parameter`` objects which are applied to an ``Atom`` object\n",
      " |          which has the specified ``value`` of the specified ``attribute``\n",
      " |  \n",
      " |  filter_function(self, function_name: 'str') -> 'Parameters'\n",
      " |      Filters based on the name of the ``InteractionFunction`` of each\n",
      " |      ``Parameter``\n",
      " |      \n",
      " |      Parameters\n",
      " |      ----------\n",
      " |      function_name : str\n",
      " |          The name of the ``InteractionFunction`` of ``Parameter`` objects to\n",
      " |          return, for example ``'LennardJones'`` or ``'HarmonicPotential'``.\n",
      " |      \n",
      " |      Returns\n",
      " |      -------\n",
      " |      Parameters\n",
      " |          The ``Parameter`` objects which have a ``function`` with the\n",
      " |          specified ``function_name``\n",
      " |  \n",
      " |  filter_interaction(self, interaction_name: 'str') -> 'Parameters'\n",
      " |      Filters based on the name of the ``Interaction`` of each ``Parameter``\n",
      " |      \n",
      " |      Parameters\n",
      " |      ----------\n",
      " |      interaction_name : str\n",
      " |          The name of the ``Interaction`` of ``Parameter`` objects to return,\n",
      " |          for example ``'Bond'``.\n",
      " |      \n",
      " |      Returns\n",
      " |      -------\n",
      " |      Parameters\n",
      " |          The ``Parameter`` objects which have an ``Interaction`` with the\n",
      " |          specified ``interaction_name``\n",
      " |  \n",
      " |  filter_name(self, name: 'str') -> 'Parameters'\n",
      " |      Filters by ``name``\n",
      " |      \n",
      " |      Parameters\n",
      " |      ----------\n",
      " |      name : str\n",
      " |          The ``name`` of the ``Parameter`` objects to return.\n",
      " |      \n",
      " |      Returns\n",
      " |      -------\n",
      " |      Parameters\n",
      " |          The ``Parameter`` objects with ``name``\n",
      " |  \n",
      " |  filter_structure(self, structure_name: 'str') -> 'Parameters'\n",
      " |      Filters based on the name of the ``Structure`` to which each\n",
      " |      ``Parameter`` applies\n",
      " |      \n",
      " |      Parameters\n",
      " |      ----------\n",
      " |      structure_name : str\n",
      " |          The name of a ``Structure``.\n",
      " |      \n",
      " |      Returns\n",
      " |      -------\n",
      " |      Parameters\n",
      " |          The ``Parameter`` objects which are applied to a ``Structure``\n",
      " |          which has the specified ``structure_name``\n",
      " |  \n",
      " |  filter_value(self, comparison: 'str', value: 'float') -> 'Parameters'\n",
      " |      Filters by ``value``\n",
      " |      \n",
      " |      Parameters\n",
      " |      ----------\n",
      " |      comparison : str\n",
      " |          A `str` representing a comparison operator, ``'>'``, ``'<'``,\n",
      " |          ``'>='``, ``'<='``, ``'=='``, ``'!='``.\n",
      " |      value : float\n",
      " |          A `float` with which ``Parameter`` values are compared, using the\n",
      " |          ``comparison`` operator.\n",
      " |      \n",
      " |      Returns\n",
      " |      -------\n",
      " |      Parameters\n",
      " |          The ``Parameter`` objects which return a `True` when their values\n",
      " |          are compared with ``value`` using the ``comparison`` operator\n",
      " |  \n",
      " |  log_parameters(self) -> 'None'\n",
      " |      Logs all Parameters by ID\n",
      " |  \n",
      " |  ----------------------------------------------------------------------\n",
      " |  Readonly properties defined here:\n",
      " |  \n",
      " |  as_array\n",
      " |      The parameters in the object as a sorted numpy array.\n",
      " |      \n",
      " |      Returns\n",
      " |      -------\n",
      " |      np.ndarray\n",
      " |          An alphabetically-sorted array of parameter values in the object.\n",
      " |  \n",
      " |  ----------------------------------------------------------------------\n",
      " |  Data descriptors defined here:\n",
      " |  \n",
      " |  __dict__\n",
      " |      dictionary for instance variables (if defined)\n",
      " |  \n",
      " |  __weakref__\n",
      " |      list of weak references to the object (if defined)\n",
      " |  \n",
      " |  ----------------------------------------------------------------------\n",
      " |  Methods inherited from builtins.dict:\n",
      " |  \n",
      " |  __contains__(self, key, /)\n",
      " |      True if the dictionary has the specified key, else False.\n",
      " |  \n",
      " |  __delitem__(self, key, /)\n",
      " |      Delete self[key].\n",
      " |  \n",
      " |  __eq__(self, value, /)\n",
      " |      Return self==value.\n",
      " |  \n",
      " |  __ge__(self, value, /)\n",
      " |      Return self>=value.\n",
      " |  \n",
      " |  __getattribute__(self, name, /)\n",
      " |      Return getattr(self, name).\n",
      " |  \n",
      " |  __gt__(self, value, /)\n",
      " |      Return self>value.\n",
      " |  \n",
      " |  __ior__(self, value, /)\n",
      " |      Return self|=value.\n",
      " |  \n",
      " |  __iter__(self, /)\n",
      " |      Implement iter(self).\n",
      " |  \n",
      " |  __le__(self, value, /)\n",
      " |      Return self<=value.\n",
      " |  \n",
      " |  __len__(self, /)\n",
      " |      Return len(self).\n",
      " |  \n",
      " |  __lt__(self, value, /)\n",
      " |      Return self<value.\n",
      " |  \n",
      " |  __ne__(self, value, /)\n",
      " |      Return self!=value.\n",
      " |  \n",
      " |  __or__(self, value, /)\n",
      " |      Return self|value.\n",
      " |  \n",
      " |  __repr__(self, /)\n",
      " |      Return repr(self).\n",
      " |  \n",
      " |  __reversed__(self, /)\n",
      " |      Return a reverse iterator over the dict keys.\n",
      " |  \n",
      " |  __ror__(self, value, /)\n",
      " |      Return value|self.\n",
      " |  \n",
      " |  __sizeof__(...)\n",
      " |      D.__sizeof__() -> size of D in memory, in bytes\n",
      " |  \n",
      " |  clear(...)\n",
      " |      D.clear() -> None.  Remove all items from D.\n",
      " |  \n",
      " |  copy(...)\n",
      " |      D.copy() -> a shallow copy of D\n",
      " |  \n",
      " |  get(self, key, default=None, /)\n",
      " |      Return the value for key if key is in the dictionary, else default.\n",
      " |  \n",
      " |  items(...)\n",
      " |      D.items() -> a set-like object providing a view on D's items\n",
      " |  \n",
      " |  keys(...)\n",
      " |      D.keys() -> a set-like object providing a view on D's keys\n",
      " |  \n",
      " |  pop(...)\n",
      " |      D.pop(k[,d]) -> v, remove specified key and return the corresponding value.\n",
      " |      \n",
      " |      If the key is not found, return the default if given; otherwise,\n",
      " |      raise a KeyError.\n",
      " |  \n",
      " |  popitem(self, /)\n",
      " |      Remove and return a (key, value) pair as a 2-tuple.\n",
      " |      \n",
      " |      Pairs are returned in LIFO (last-in, first-out) order.\n",
      " |      Raises KeyError if the dict is empty.\n",
      " |  \n",
      " |  setdefault(self, key, default=None, /)\n",
      " |      Insert key with a value of default if key is not in the dictionary.\n",
      " |      \n",
      " |      Return the value for key if key is in the dictionary, else default.\n",
      " |  \n",
      " |  update(...)\n",
      " |      D.update([E, ]**F) -> None.  Update D from dict/iterable E and F.\n",
      " |      If E is present and has a .keys() method, then does:  for k in E: D[k] = E[k]\n",
      " |      If E is present and lacks a .keys() method, then does:  for k, v in E: D[k] = v\n",
      " |      In either case, this is followed by: for k in F:  D[k] = F[k]\n",
      " |  \n",
      " |  values(...)\n",
      " |      D.values() -> an object providing a view on D's values\n",
      " |  \n",
      " |  ----------------------------------------------------------------------\n",
      " |  Class methods inherited from builtins.dict:\n",
      " |  \n",
      " |  __class_getitem__(...) from builtins.type\n",
      " |      See PEP 585\n",
      " |  \n",
      " |  fromkeys(iterable, value=None, /) from builtins.type\n",
      " |      Create a new dictionary with keys from iterable and values set to value.\n",
      " |  \n",
      " |  ----------------------------------------------------------------------\n",
      " |  Static methods inherited from builtins.dict:\n",
      " |  \n",
      " |  __new__(*args, **kwargs) from builtins.type\n",
      " |      Create and return a new object.  See help(type) for accurate signature.\n",
      " |  \n",
      " |  ----------------------------------------------------------------------\n",
      " |  Data and other attributes inherited from builtins.dict:\n",
      " |  \n",
      " |  __hash__ = None\n",
      "\n"
     ]
    }
   ],
   "source": [
    "parameters = universe.parameters\n",
    "help(parameters)"
   ]
  },
  {
   "cell_type": "markdown",
   "metadata": {},
   "source": [
    "For example, if only the charge parameters should be refined, `parameters` could be filtered by name:"
   ]
  },
  {
   "cell_type": "code",
   "execution_count": 7,
   "metadata": {
    "execution": {
     "iopub.execute_input": "2023-04-02T20:37:16.788549Z",
     "iopub.status.busy": "2023-04-02T20:37:16.788316Z",
     "iopub.status.idle": "2023-04-02T20:37:16.793988Z",
     "shell.execute_reply": "2023-04-02T20:37:16.793253Z"
    }
   },
   "outputs": [
    {
     "name": "stdout",
     "output_type": "stream",
     "text": [
      "{'charge (#49)': <Parameter\n",
      " {ID: 49,\n",
      "  type: 'charge',\n",
      "  value: 0.4238 e,\n",
      "  unit: 'e',\n",
      "  fixed: False,\n",
      "  constraints: None,\n",
      "  interactions_name: 'Coulombic',\n",
      "  functions_name: 'Coulomb',\n",
      "  tied: False}>, 'charge (#40)': <Parameter\n",
      " {ID: 40,\n",
      "  type: 'charge',\n",
      "  value: -0.8476 e,\n",
      "  unit: 'e',\n",
      "  fixed: False,\n",
      "  constraints: None,\n",
      "  interactions_name: 'Coulombic',\n",
      "  functions_name: 'Coulomb',\n",
      "  tied: False}>}\n",
      "\n",
      "The class of charges is: <class 'MDMC.MD.parameters.Parameters'>\n"
     ]
    }
   ],
   "source": [
    "charges = parameters.filter_name('charge')\n",
    "print(charges)\n",
    "\n",
    "# charges is a Parameters object\n",
    "print('\\nThe class of charges is: {}'.format(type(charges)))"
   ]
  },
  {
   "cell_type": "markdown",
   "metadata": {},
   "source": [
    "As each filter returns a `Parameters` object, filters can be chained together. For example, to find the potential strengths of all bonds:"
   ]
  },
  {
   "cell_type": "code",
   "execution_count": 8,
   "metadata": {
    "execution": {
     "iopub.execute_input": "2023-04-02T20:37:16.797166Z",
     "iopub.status.busy": "2023-04-02T20:37:16.796954Z",
     "iopub.status.idle": "2023-04-02T20:37:16.802894Z",
     "shell.execute_reply": "2023-04-02T20:37:16.801975Z"
    }
   },
   "outputs": [
    {
     "name": "stdout",
     "output_type": "stream",
     "text": [
      "{'potential_strength (#29)': <Parameter\n",
      " {ID: 29,\n",
      "  type: 'potential_strength',\n",
      "  value: 4637.0 kJ / mol Ang ^ 2,\n",
      "  unit: 'kJ / mol Ang ^ 2',\n",
      "  fixed: False,\n",
      "  constraints: None,\n",
      "  interactions_name: 'Bond',\n",
      "  functions_name: 'HarmonicPotential',\n",
      "  tied: False}>}\n",
      "\n",
      "The order these methods are applied does not matter: True\n"
     ]
    }
   ],
   "source": [
    "bond_potential_strengths = parameters.filter_name('potential_strength').filter_interaction('Bond')\n",
    "print(bond_potential_strengths)\n",
    "\n",
    "# These operations are commutative\n",
    "print('\\nThe order these methods are'\n",
    "      ' applied does not matter: {}'.format(bond_potential_strengths\n",
    "                                             == parameters.filter_interaction('Bond').filter_name('potential_strength')))"
   ]
  },
  {
   "cell_type": "markdown",
   "metadata": {},
   "source": [
    "It is also possible to filter parameters based on the properties of the atoms to which they apply.  For instance, we can filter the SPCE parameters so that only parameters of interactions on H atoms are shown:"
   ]
  },
  {
   "cell_type": "code",
   "execution_count": 9,
   "metadata": {
    "execution": {
     "iopub.execute_input": "2023-04-02T20:37:16.805650Z",
     "iopub.status.busy": "2023-04-02T20:37:16.805446Z",
     "iopub.status.idle": "2023-04-02T20:37:16.814484Z",
     "shell.execute_reply": "2023-04-02T20:37:16.813582Z"
    }
   },
   "outputs": [
    {
     "name": "stdout",
     "output_type": "stream",
     "text": [
      "{'equilibrium_state (#28)': <Parameter\n",
      " {ID: 28,\n",
      "  type: 'equilibrium_state',\n",
      "  value: 1.0 Ang,\n",
      "  unit: 'Ang',\n",
      "  fixed: False,\n",
      "  constraints: None,\n",
      "  interactions_name: 'Bond',\n",
      "  functions_name: 'HarmonicPotential',\n",
      "  tied: False}>, 'potential_strength (#29)': <Parameter\n",
      " {ID: 29,\n",
      "  type: 'potential_strength',\n",
      "  value: 4637.0 kJ / mol Ang ^ 2,\n",
      "  unit: 'kJ / mol Ang ^ 2',\n",
      "  fixed: False,\n",
      "  constraints: None,\n",
      "  interactions_name: 'Bond',\n",
      "  functions_name: 'HarmonicPotential',\n",
      "  tied: False}>, 'equilibrium_state (#22)': <Parameter\n",
      " {ID: 22,\n",
      "  type: 'equilibrium_state',\n",
      "  value: 109.47 deg,\n",
      "  unit: 'deg',\n",
      "  fixed: False,\n",
      "  constraints: None,\n",
      "  interactions_name: 'BondAngle',\n",
      "  functions_name: 'HarmonicPotential',\n",
      "  tied: False}>, 'potential_strength (#23)': <Parameter\n",
      " {ID: 23,\n",
      "  type: 'potential_strength',\n",
      "  value: 383.0 kJ / mol rad ^ 2,\n",
      "  unit: 'kJ / mol rad ^ 2',\n",
      "  fixed: False,\n",
      "  constraints: None,\n",
      "  interactions_name: 'BondAngle',\n",
      "  functions_name: 'HarmonicPotential',\n",
      "  tied: False}>, 'charge (#49)': <Parameter\n",
      " {ID: 49,\n",
      "  type: 'charge',\n",
      "  value: 0.4238 e,\n",
      "  unit: 'e',\n",
      "  fixed: False,\n",
      "  constraints: None,\n",
      "  interactions_name: 'Coulombic',\n",
      "  functions_name: 'Coulomb',\n",
      "  tied: False}>}\n"
     ]
    }
   ],
   "source": [
    "H_parameters = parameters.filter_atom_attribute('name', 'H')\n",
    "print(H_parameters)"
   ]
  },
  {
   "cell_type": "markdown",
   "metadata": {},
   "source": [
    "Finally there is also a more flexible method (`Parameters.filter`) which can be used in conjunction with any function to filter the parameters:"
   ]
  },
  {
   "cell_type": "code",
   "execution_count": 10,
   "metadata": {
    "execution": {
     "iopub.execute_input": "2023-04-02T20:37:16.831612Z",
     "iopub.status.busy": "2023-04-02T20:37:16.831346Z",
     "iopub.status.idle": "2023-04-02T20:37:16.837389Z",
     "shell.execute_reply": "2023-04-02T20:37:16.836782Z"
    }
   },
   "outputs": [
    {
     "name": "stdout",
     "output_type": "stream",
     "text": [
      "{'equilibrium_state (#28)': <Parameter\n",
      " {ID: 28,\n",
      "  type: 'equilibrium_state',\n",
      "  value: 1.0 Ang,\n",
      "  unit: 'Ang',\n",
      "  fixed: False,\n",
      "  constraints: None,\n",
      "  interactions_name: 'Bond',\n",
      "  functions_name: 'HarmonicPotential',\n",
      "  tied: False}>, 'sigma (#35)': <Parameter\n",
      " {ID: 35,\n",
      "  type: 'sigma',\n",
      "  value: 3.166 Ang,\n",
      "  unit: 'Ang',\n",
      "  fixed: False,\n",
      "  constraints: None,\n",
      "  interactions_name: 'Dispersion',\n",
      "  functions_name: 'LennardJones',\n",
      "  tied: False}>}\n",
      "\n",
      "The same filter can be achieved using lambdas: True\n"
     ]
    }
   ],
   "source": [
    "def is_length(parameter):\n",
    "    if parameter.unit == 'Ang':\n",
    "        return True\n",
    "    else:\n",
    "        return False\n",
    "length_parameters = parameters.filter(is_length)\n",
    "print(length_parameters)\n",
    "\n",
    "# For those more familiar with Python, this can also be done using a lambda\n",
    "lambda_length_parameters = parameters.filter(lambda x: x.unit == 'Ang')\n",
    "print('\\nThe same filter can be achieved using lambdas: {}'.format(lambda_length_parameters == length_parameters))"
   ]
  }
 ],
 "metadata": {
  "kernelspec": {
   "display_name": "Python 3",
   "language": "python",
   "name": "python3"
  },
  "language_info": {
   "codemirror_mode": {
    "name": "ipython",
    "version": 3
   },
   "file_extension": ".py",
   "mimetype": "text/x-python",
   "name": "python",
   "nbconvert_exporter": "python",
   "pygments_lexer": "ipython3",
   "version": "3.11.2"
  }
 },
 "nbformat": 4,
 "nbformat_minor": 2
}
