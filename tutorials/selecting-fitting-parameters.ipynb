{
 "cells": [
  {
   "cell_type": "markdown",
   "metadata": {},
   "source": [
    "# Selecting Fitting Parameters"
   ]
  },
  {
   "cell_type": "markdown",
   "metadata": {},
   "source": [
    "As the number of fitting parameters increases it may be necessary to only refine a subset of the parameters.  In MDMC this can be done in two ways:"
   ]
  },
  {
   "cell_type": "markdown",
   "metadata": {},
   "source": [
    "## Fixing a Parameter\n",
    "\n",
    "`Parameter` objects can be fixed.  This can either be set when they are initialised (created) or changed for an existing `Parameter`.  By default, an initialised `Parameter` is **not** fixed."
   ]
  },
  {
   "cell_type": "code",
   "execution_count": 1,
   "metadata": {
    "execution": {
     "iopub.execute_input": "2022-05-15T20:40:19.935517Z",
     "iopub.status.busy": "2022-05-15T20:40:19.935215Z",
     "iopub.status.idle": "2022-05-15T20:40:22.641460Z",
     "shell.execute_reply": "2022-05-15T20:40:22.640813Z"
    }
   },
   "outputs": [],
   "source": [
    "from MDMC.MD.parameters import Parameter\n",
    "charge = Parameter(value=0.5, name='charge', fixed=True, unit='e')\n",
    "\n",
    "# Trying to set the value of a fixed Parameter will result in a warning...\n",
    "charge.value = 12"
   ]
  },
  {
   "cell_type": "code",
   "execution_count": 2,
   "metadata": {
    "execution": {
     "iopub.execute_input": "2022-05-15T20:40:22.644980Z",
     "iopub.status.busy": "2022-05-15T20:40:22.644727Z",
     "iopub.status.idle": "2022-05-15T20:40:22.649936Z",
     "shell.execute_reply": "2022-05-15T20:40:22.647860Z"
    }
   },
   "outputs": [
    {
     "name": "stdout",
     "output_type": "stream",
     "text": [
      "0.5 e\n"
     ]
    }
   ],
   "source": [
    "# ... and the value will remain unchanged\n",
    "print(charge.value)"
   ]
  },
  {
   "cell_type": "code",
   "execution_count": 3,
   "metadata": {
    "execution": {
     "iopub.execute_input": "2022-05-15T20:40:22.652459Z",
     "iopub.status.busy": "2022-05-15T20:40:22.652084Z",
     "iopub.status.idle": "2022-05-15T20:40:22.655724Z",
     "shell.execute_reply": "2022-05-15T20:40:22.655219Z"
    }
   },
   "outputs": [
    {
     "name": "stdout",
     "output_type": "stream",
     "text": [
      "Is sigma fixed: False\n",
      "Is sigma fixed: True\n"
     ]
    }
   ],
   "source": [
    "# Existing Parameters can also be fixed\n",
    "sigma = Parameter(1.0, name='sigma', unit='Ang')\n",
    "print('Is sigma fixed: {}'.format(sigma.fixed))\n",
    "sigma.fixed = True\n",
    "print('Is sigma fixed: {}'.format(sigma.fixed))"
   ]
  },
  {
   "cell_type": "markdown",
   "metadata": {},
   "source": [
    "## Passing a subset of Parameters to Control\n",
    "\n",
    "Only parameters that are passed to `Control` (as `fit_parameters`) will be refined.  While it is simplest to pass all parameters in a `Universe` to `Control`, it is also possible to filter out a subset.  To demonstrate this, a universe filled with SPCE water molecules is read from [Building a Universe](building-a-universe.ipynb)."
   ]
  },
  {
   "cell_type": "markdown",
   "metadata": {},
   "source": [
    "The `%%capture` and `%run` commands below simply executes the [Building a Universe](building-a-universe.ipynb) notebook and captures the variables into this notebook. They are only valid if they are executed in the same folder as the [Building a Universe](building-a-universe.ipynb) notebook. Otherwise, please copy the last section of [Building a Universe](building-a-universe.ipynb) to set the same state."
   ]
  },
  {
   "cell_type": "code",
   "execution_count": 4,
   "metadata": {
    "execution": {
     "iopub.execute_input": "2022-05-15T20:40:22.658537Z",
     "iopub.status.busy": "2022-05-15T20:40:22.658298Z",
     "iopub.status.idle": "2022-05-15T20:40:23.332679Z",
     "shell.execute_reply": "2022-05-15T20:40:23.332107Z"
    }
   },
   "outputs": [],
   "source": [
    "%%capture\n",
    "# Run Building a universe notebook and hide output\n",
    "%run \"building-a-universe.ipynb\""
   ]
  },
  {
   "cell_type": "markdown",
   "metadata": {},
   "source": [
    "There are 8 parameters in the universe:"
   ]
  },
  {
   "cell_type": "code",
   "execution_count": 5,
   "metadata": {
    "execution": {
     "iopub.execute_input": "2022-05-15T20:40:23.335964Z",
     "iopub.status.busy": "2022-05-15T20:40:23.335632Z",
     "iopub.status.idle": "2022-05-15T20:40:23.341100Z",
     "shell.execute_reply": "2022-05-15T20:40:23.340609Z"
    }
   },
   "outputs": [
    {
     "name": "stdout",
     "output_type": "stream",
     "text": [
      "[<Parameter\n",
      " {name: 'epsilon',\n",
      "  value: 0.6502 kJ / mol,\n",
      "  unit: 'kJ / mol',\n",
      "  fixed: False,\n",
      "  constraints: None,\n",
      "  interactions_name: 'Dispersion',\n",
      "  functions_name: 'LennardJones',\n",
      "  tied: False}>, <Parameter\n",
      " {name: 'equilibrium_state',\n",
      "  value: 1.0 Ang,\n",
      "  unit: 'Ang',\n",
      "  fixed: False,\n",
      "  constraints: None,\n",
      "  interactions_name: 'Bond',\n",
      "  functions_name: 'HarmonicPotential',\n",
      "  tied: False}>, <Parameter\n",
      " {name: 'equilibrium_state',\n",
      "  value: 109.47 deg,\n",
      "  unit: 'deg',\n",
      "  fixed: False,\n",
      "  constraints: None,\n",
      "  interactions_name: 'BondAngle',\n",
      "  functions_name: 'HarmonicPotential',\n",
      "  tied: False}>, <Parameter\n",
      " {name: 'charge',\n",
      "  value: 0.4238 e,\n",
      "  unit: 'e',\n",
      "  fixed: False,\n",
      "  constraints: None,\n",
      "  interactions_name: 'Coulombic',\n",
      "  functions_name: 'Coulomb',\n",
      "  tied: False}>, <Parameter\n",
      " {name: 'charge',\n",
      "  value: -0.8476 e,\n",
      "  unit: 'e',\n",
      "  fixed: False,\n",
      "  constraints: None,\n",
      "  interactions_name: 'Coulombic',\n",
      "  functions_name: 'Coulomb',\n",
      "  tied: False}>, <Parameter\n",
      " {name: 'potential_strength',\n",
      "  value: 383.0 kJ / mol rad ^ 2,\n",
      "  unit: 'kJ / mol rad ^ 2',\n",
      "  fixed: False,\n",
      "  constraints: None,\n",
      "  interactions_name: 'BondAngle',\n",
      "  functions_name: 'HarmonicPotential',\n",
      "  tied: False}>, <Parameter\n",
      " {name: 'potential_strength',\n",
      "  value: 4637.0 kJ / mol Ang ^ 2,\n",
      "  unit: 'kJ / mol Ang ^ 2',\n",
      "  fixed: False,\n",
      "  constraints: None,\n",
      "  interactions_name: 'Bond',\n",
      "  functions_name: 'HarmonicPotential',\n",
      "  tied: False}>, <Parameter\n",
      " {name: 'sigma',\n",
      "  value: 3.166 Ang,\n",
      "  unit: 'Ang',\n",
      "  fixed: False,\n",
      "  constraints: None,\n",
      "  interactions_name: 'Dispersion',\n",
      "  functions_name: 'LennardJones',\n",
      "  tied: False}>]\n"
     ]
    }
   ],
   "source": [
    "print(universe.parameters)"
   ]
  },
  {
   "cell_type": "markdown",
   "metadata": {},
   "source": [
    "So while all 8 parameters can be passed when initiliasing `Control`, they can also be filtered. `Parameters` objects have a number of convenience methods to assist with this:"
   ]
  },
  {
   "cell_type": "code",
   "execution_count": 6,
   "metadata": {
    "execution": {
     "iopub.execute_input": "2022-05-15T20:40:23.343125Z",
     "iopub.status.busy": "2022-05-15T20:40:23.342984Z",
     "iopub.status.idle": "2022-05-15T20:40:23.357706Z",
     "shell.execute_reply": "2022-05-15T20:40:23.357142Z"
    }
   },
   "outputs": [
    {
     "name": "stdout",
     "output_type": "stream",
     "text": [
      "Help on Parameters in module MDMC.MD.parameters object:\n",
      "\n",
      "class Parameters(builtins.list)\n",
      " |  Parameters(iterable=(), /)\n",
      " |  \n",
      " |  A `list-like` object where every element is a ``Parameter``, which contains\n",
      " |  a number of helper methods for filtering\n",
      " |  \n",
      " |  Method resolution order:\n",
      " |      Parameters\n",
      " |      builtins.list\n",
      " |      builtins.object\n",
      " |  \n",
      " |  Methods defined here:\n",
      " |  \n",
      " |  __getitem__(self, key)\n",
      " |      x.__getitem__(y) <==> x[y]\n",
      " |  \n",
      " |  filter(self, predicate)\n",
      " |      Filters using a predicate\n",
      " |      \n",
      " |      Parameters\n",
      " |      ----------\n",
      " |      predicate : function\n",
      " |          A function that returns a `bool` which takes a ``Parameter`` as an\n",
      " |          argument.\n",
      " |      \n",
      " |      Returns\n",
      " |      -------\n",
      " |      Parameters\n",
      " |          The ``Parameter`` objects which meet the condition of the predicate\n",
      " |  \n",
      " |  filter_atom_attribute(self, attribute, value)\n",
      " |      Filters based on the attribute of ``Atom`` objects which have each\n",
      " |      ``Parameter`` applied to them\n",
      " |      \n",
      " |      \n",
      " |      Parameters\n",
      " |      ----------\n",
      " |      attribute : str\n",
      " |          An attribute of an ``Atom``. Attributes to match to must be either\n",
      " |          `float` or str.\n",
      " |      value : str, float\n",
      " |          The value of the ``Atom`` ``attribute``.\n",
      " |      \n",
      " |      Returns\n",
      " |      -------\n",
      " |      Parameters\n",
      " |          The ``Parameter`` objects which are applied to an ``Atom`` object\n",
      " |          which has the specified ``value`` of the specified ``attribute``\n",
      " |  \n",
      " |  filter_function(self, function_name)\n",
      " |      Filters based on the name of the ``InteractionFunction`` of each\n",
      " |      ``Parameter``\n",
      " |      \n",
      " |      Parameters\n",
      " |      ----------\n",
      " |      function_name : str\n",
      " |          The name of the ``InteractionFunction`` of ``Parameter`` objects to\n",
      " |          return, for example ``'LennardJones'`` or ``'HarmonicPotential'``.\n",
      " |      \n",
      " |      Returns\n",
      " |      -------\n",
      " |      Parameters\n",
      " |          The ``Parameter`` objects which have a ``function`` with the\n",
      " |          specified ``function_name``\n",
      " |  \n",
      " |  filter_interaction(self, interaction_name)\n",
      " |      Filters based on the name of the ``Interaction`` of each ``Parameter``\n",
      " |      \n",
      " |      Parameters\n",
      " |      ----------\n",
      " |      interaction_name : str\n",
      " |          The name of the ``Interaction`` of ``Parameter`` objects to return,\n",
      " |          for example ``'Bond'``.\n",
      " |      \n",
      " |      Returns\n",
      " |      -------\n",
      " |      Parameters\n",
      " |          The ``Parameter`` objects which have an ``Interaction`` with the\n",
      " |          specified ``interaction_name``\n",
      " |  \n",
      " |  filter_name(self, name)\n",
      " |      Filters by ``name``\n",
      " |      \n",
      " |      Parameters\n",
      " |      ----------\n",
      " |      name : str\n",
      " |          The ``name`` of the ``Parameter`` objects to return.\n",
      " |      \n",
      " |      Returns\n",
      " |      -------\n",
      " |      Parameters\n",
      " |          The ``Parameter`` objects with ``name``\n",
      " |  \n",
      " |  filter_structure(self, structure_name)\n",
      " |      Filters based on the name of the ``Structure`` to which each\n",
      " |      ``Parameter`` applies\n",
      " |      \n",
      " |      Parameters\n",
      " |      ----------\n",
      " |      structure_name : str\n",
      " |          The name of a ``Structure``.\n",
      " |      \n",
      " |      Returns\n",
      " |      -------\n",
      " |      Parameters\n",
      " |          The ``Parameter`` objects which are applied to a ``Structure``\n",
      " |          which has the specified ``zstructure_name``\n",
      " |  \n",
      " |  filter_value(self, comparison, value)\n",
      " |      Filters by ``value``\n",
      " |      \n",
      " |      Parameters\n",
      " |      ----------\n",
      " |      comparison : str\n",
      " |          A `str` representing a comparison operator, ``'>'``, ``'<'``,\n",
      " |          ``'>='``, ``'<='``, ``'=='``, ``'!='``.\n",
      " |      value : float\n",
      " |          A `float` with which ``Parameter`` values are compared, using the\n",
      " |          ``comparison`` operator.\n",
      " |      \n",
      " |      Returns\n",
      " |      -------\n",
      " |      Parameters\n",
      " |          The ``Parameter`` objects which return a `True` when their values\n",
      " |          are compared with ``value`` using the ``comparison`` operator\n",
      " |  \n",
      " |  ----------------------------------------------------------------------\n",
      " |  Data descriptors defined here:\n",
      " |  \n",
      " |  __dict__\n",
      " |      dictionary for instance variables (if defined)\n",
      " |  \n",
      " |  __weakref__\n",
      " |      list of weak references to the object (if defined)\n",
      " |  \n",
      " |  ----------------------------------------------------------------------\n",
      " |  Methods inherited from builtins.list:\n",
      " |  \n",
      " |  __add__(self, value, /)\n",
      " |      Return self+value.\n",
      " |  \n",
      " |  __contains__(self, key, /)\n",
      " |      Return key in self.\n",
      " |  \n",
      " |  __delitem__(self, key, /)\n",
      " |      Delete self[key].\n",
      " |  \n",
      " |  __eq__(self, value, /)\n",
      " |      Return self==value.\n",
      " |  \n",
      " |  __ge__(self, value, /)\n",
      " |      Return self>=value.\n",
      " |  \n",
      " |  __getattribute__(self, name, /)\n",
      " |      Return getattr(self, name).\n",
      " |  \n",
      " |  __gt__(self, value, /)\n",
      " |      Return self>value.\n",
      " |  \n",
      " |  __iadd__(self, value, /)\n",
      " |      Implement self+=value.\n",
      " |  \n",
      " |  __imul__(self, value, /)\n",
      " |      Implement self*=value.\n",
      " |  \n",
      " |  __init__(self, /, *args, **kwargs)\n",
      " |      Initialize self.  See help(type(self)) for accurate signature.\n",
      " |  \n",
      " |  __iter__(self, /)\n",
      " |      Implement iter(self).\n",
      " |  \n",
      " |  __le__(self, value, /)\n",
      " |      Return self<=value.\n",
      " |  \n",
      " |  __len__(self, /)\n",
      " |      Return len(self).\n",
      " |  \n",
      " |  __lt__(self, value, /)\n",
      " |      Return self<value.\n",
      " |  \n",
      " |  __mul__(self, value, /)\n",
      " |      Return self*value.\n",
      " |  \n",
      " |  __ne__(self, value, /)\n",
      " |      Return self!=value.\n",
      " |  \n",
      " |  __repr__(self, /)\n",
      " |      Return repr(self).\n",
      " |  \n",
      " |  __reversed__(self, /)\n",
      " |      Return a reverse iterator over the list.\n",
      " |  \n",
      " |  __rmul__(self, value, /)\n",
      " |      Return value*self.\n",
      " |  \n",
      " |  __setitem__(self, key, value, /)\n",
      " |      Set self[key] to value.\n",
      " |  \n",
      " |  __sizeof__(self, /)\n",
      " |      Return the size of the list in memory, in bytes.\n",
      " |  \n",
      " |  append(self, object, /)\n",
      " |      Append object to the end of the list.\n",
      " |  \n",
      " |  clear(self, /)\n",
      " |      Remove all items from list.\n",
      " |  \n",
      " |  copy(self, /)\n",
      " |      Return a shallow copy of the list.\n",
      " |  \n",
      " |  count(self, value, /)\n",
      " |      Return number of occurrences of value.\n",
      " |  \n",
      " |  extend(self, iterable, /)\n",
      " |      Extend list by appending elements from the iterable.\n",
      " |  \n",
      " |  index(self, value, start=0, stop=9223372036854775807, /)\n",
      " |      Return first index of value.\n",
      " |      \n",
      " |      Raises ValueError if the value is not present.\n",
      " |  \n",
      " |  insert(self, index, object, /)\n",
      " |      Insert object before index.\n",
      " |  \n",
      " |  pop(self, index=-1, /)\n",
      " |      Remove and return item at index (default last).\n",
      " |      \n",
      " |      Raises IndexError if list is empty or index is out of range.\n",
      " |  \n",
      " |  remove(self, value, /)\n",
      " |      Remove first occurrence of value.\n",
      " |      \n",
      " |      Raises ValueError if the value is not present.\n",
      " |  \n",
      " |  reverse(self, /)\n",
      " |      Reverse *IN PLACE*.\n",
      " |  \n",
      " |  sort(self, /, *, key=None, reverse=False)\n",
      " |      Sort the list in ascending order and return None.\n",
      " |      \n",
      " |      The sort is in-place (i.e. the list itself is modified) and stable (i.e. the\n",
      " |      order of two equal elements is maintained).\n",
      " |      \n",
      " |      If a key function is given, apply it once to each list item and sort them,\n",
      " |      ascending or descending, according to their function values.\n",
      " |      \n",
      " |      The reverse flag can be set to sort in descending order.\n",
      " |  \n",
      " |  ----------------------------------------------------------------------\n",
      " |  Class methods inherited from builtins.list:\n",
      " |  \n",
      " |  __class_getitem__(...) from builtins.type\n",
      " |      See PEP 585\n",
      " |  \n",
      " |  ----------------------------------------------------------------------\n",
      " |  Static methods inherited from builtins.list:\n",
      " |  \n",
      " |  __new__(*args, **kwargs) from builtins.type\n",
      " |      Create and return a new object.  See help(type) for accurate signature.\n",
      " |  \n",
      " |  ----------------------------------------------------------------------\n",
      " |  Data and other attributes inherited from builtins.list:\n",
      " |  \n",
      " |  __hash__ = None\n",
      "\n"
     ]
    }
   ],
   "source": [
    "parameters = universe.parameters\n",
    "help(parameters)"
   ]
  },
  {
   "cell_type": "markdown",
   "metadata": {},
   "source": [
    "For example, if only the charge parameters should be refined, `parameters` could be filtered by name:"
   ]
  },
  {
   "cell_type": "code",
   "execution_count": 7,
   "metadata": {
    "execution": {
     "iopub.execute_input": "2022-05-15T20:40:23.360047Z",
     "iopub.status.busy": "2022-05-15T20:40:23.359650Z",
     "iopub.status.idle": "2022-05-15T20:40:23.363584Z",
     "shell.execute_reply": "2022-05-15T20:40:23.362427Z"
    }
   },
   "outputs": [
    {
     "name": "stdout",
     "output_type": "stream",
     "text": [
      "[<Parameter\n",
      " {name: 'charge',\n",
      "  value: 0.4238 e,\n",
      "  unit: 'e',\n",
      "  fixed: False,\n",
      "  constraints: None,\n",
      "  interactions_name: 'Coulombic',\n",
      "  functions_name: 'Coulomb',\n",
      "  tied: False}>, <Parameter\n",
      " {name: 'charge',\n",
      "  value: -0.8476 e,\n",
      "  unit: 'e',\n",
      "  fixed: False,\n",
      "  constraints: None,\n",
      "  interactions_name: 'Coulombic',\n",
      "  functions_name: 'Coulomb',\n",
      "  tied: False}>]\n",
      "\n",
      "The class of charges is: <class 'MDMC.MD.parameters.Parameters'>\n"
     ]
    }
   ],
   "source": [
    "charges = parameters.filter_name('charge')\n",
    "print(charges)\n",
    "\n",
    "# charges is a Parameters object\n",
    "print('\\nThe class of charges is: {}'.format(type(charges)))"
   ]
  },
  {
   "cell_type": "markdown",
   "metadata": {},
   "source": [
    "As each filter returns a `Parameters` object, filters can be chained together. For example, to find the potential strengths of all bonds:"
   ]
  },
  {
   "cell_type": "code",
   "execution_count": 8,
   "metadata": {
    "execution": {
     "iopub.execute_input": "2022-05-15T20:40:23.365795Z",
     "iopub.status.busy": "2022-05-15T20:40:23.365550Z",
     "iopub.status.idle": "2022-05-15T20:40:23.371180Z",
     "shell.execute_reply": "2022-05-15T20:40:23.370679Z"
    }
   },
   "outputs": [
    {
     "name": "stdout",
     "output_type": "stream",
     "text": [
      "[<Parameter\n",
      " {name: 'potential_strength',\n",
      "  value: 4637.0 kJ / mol Ang ^ 2,\n",
      "  unit: 'kJ / mol Ang ^ 2',\n",
      "  fixed: False,\n",
      "  constraints: None,\n",
      "  interactions_name: 'Bond',\n",
      "  functions_name: 'HarmonicPotential',\n",
      "  tied: False}>]\n",
      "\n",
      "The order these methods are applied does not matter: True\n"
     ]
    }
   ],
   "source": [
    "bond_potential_strengths = parameters.filter_name('potential_strength').filter_interaction('Bond')\n",
    "print(bond_potential_strengths)\n",
    "\n",
    "# These operations are commutative\n",
    "print('\\nThe order these methods are'\n",
    "      ' applied does not matter: {}'.format(bond_potential_strengths\n",
    "                                             == parameters.filter_interaction('Bond').filter_name('potential_strength')))"
   ]
  },
  {
   "cell_type": "markdown",
   "metadata": {},
   "source": [
    "It is also possible to filter parameters based on the properties of the atoms to which they apply.  For instance, we can filter the SPCE parameters so that only parameters of interactions on H atoms are shown:"
   ]
  },
  {
   "cell_type": "code",
   "execution_count": 9,
   "metadata": {
    "execution": {
     "iopub.execute_input": "2022-05-15T20:40:23.374073Z",
     "iopub.status.busy": "2022-05-15T20:40:23.373699Z",
     "iopub.status.idle": "2022-05-15T20:40:23.381561Z",
     "shell.execute_reply": "2022-05-15T20:40:23.381046Z"
    }
   },
   "outputs": [
    {
     "name": "stdout",
     "output_type": "stream",
     "text": [
      "[<Parameter\n",
      " {name: 'equilibrium_state',\n",
      "  value: 1.0 Ang,\n",
      "  unit: 'Ang',\n",
      "  fixed: False,\n",
      "  constraints: None,\n",
      "  interactions_name: 'Bond',\n",
      "  functions_name: 'HarmonicPotential',\n",
      "  tied: False}>, <Parameter\n",
      " {name: 'equilibrium_state',\n",
      "  value: 109.47 deg,\n",
      "  unit: 'deg',\n",
      "  fixed: False,\n",
      "  constraints: None,\n",
      "  interactions_name: 'BondAngle',\n",
      "  functions_name: 'HarmonicPotential',\n",
      "  tied: False}>, <Parameter\n",
      " {name: 'charge',\n",
      "  value: 0.4238 e,\n",
      "  unit: 'e',\n",
      "  fixed: False,\n",
      "  constraints: None,\n",
      "  interactions_name: 'Coulombic',\n",
      "  functions_name: 'Coulomb',\n",
      "  tied: False}>, <Parameter\n",
      " {name: 'potential_strength',\n",
      "  value: 383.0 kJ / mol rad ^ 2,\n",
      "  unit: 'kJ / mol rad ^ 2',\n",
      "  fixed: False,\n",
      "  constraints: None,\n",
      "  interactions_name: 'BondAngle',\n",
      "  functions_name: 'HarmonicPotential',\n",
      "  tied: False}>, <Parameter\n",
      " {name: 'potential_strength',\n",
      "  value: 4637.0 kJ / mol Ang ^ 2,\n",
      "  unit: 'kJ / mol Ang ^ 2',\n",
      "  fixed: False,\n",
      "  constraints: None,\n",
      "  interactions_name: 'Bond',\n",
      "  functions_name: 'HarmonicPotential',\n",
      "  tied: False}>]\n"
     ]
    }
   ],
   "source": [
    "H_parameters = parameters.filter_atom_attribute('name', 'H')\n",
    "print(H_parameters)"
   ]
  },
  {
   "cell_type": "markdown",
   "metadata": {},
   "source": [
    "Finally there is also a more flexible method (`Parameters.filter`) which can be used in conjunction with any function to filter the parameters:"
   ]
  },
  {
   "cell_type": "code",
   "execution_count": 10,
   "metadata": {
    "execution": {
     "iopub.execute_input": "2022-05-15T20:40:23.384140Z",
     "iopub.status.busy": "2022-05-15T20:40:23.383751Z",
     "iopub.status.idle": "2022-05-15T20:40:23.387762Z",
     "shell.execute_reply": "2022-05-15T20:40:23.387255Z"
    }
   },
   "outputs": [
    {
     "name": "stdout",
     "output_type": "stream",
     "text": [
      "[<Parameter\n",
      " {name: 'equilibrium_state',\n",
      "  value: 1.0 Ang,\n",
      "  unit: 'Ang',\n",
      "  fixed: False,\n",
      "  constraints: None,\n",
      "  interactions_name: 'Bond',\n",
      "  functions_name: 'HarmonicPotential',\n",
      "  tied: False}>, <Parameter\n",
      " {name: 'sigma',\n",
      "  value: 3.166 Ang,\n",
      "  unit: 'Ang',\n",
      "  fixed: False,\n",
      "  constraints: None,\n",
      "  interactions_name: 'Dispersion',\n",
      "  functions_name: 'LennardJones',\n",
      "  tied: False}>]\n",
      "\n",
      "The same filter can be achieved using lambdas: True\n"
     ]
    }
   ],
   "source": [
    "def is_length(parameter):\n",
    "    if parameter.unit == 'Ang':\n",
    "        return True\n",
    "    else:\n",
    "        return False\n",
    "length_parameters = parameters.filter(is_length)\n",
    "print(length_parameters)\n",
    "\n",
    "# For those more familiar with Python, this can also be done using a lambda\n",
    "lambda_length_parameters = parameters.filter(lambda x: x.unit == 'Ang')\n",
    "print('\\nThe same filter can be achieved using lambdas: {}'.format(lambda_length_parameters == length_parameters))"
   ]
  }
 ],
 "metadata": {
  "kernelspec": {
   "display_name": "Python 3",
   "language": "python",
   "name": "python3"
  },
  "language_info": {
   "codemirror_mode": {
    "name": "ipython",
    "version": 3
   },
   "file_extension": ".py",
   "mimetype": "text/x-python",
   "name": "python",
   "nbconvert_exporter": "python",
   "pygments_lexer": "ipython3",
   "version": "3.9.6"
  }
 },
 "nbformat": 4,
 "nbformat_minor": 2
}
