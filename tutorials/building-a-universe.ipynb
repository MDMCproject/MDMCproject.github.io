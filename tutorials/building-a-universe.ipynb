{
 "cells": [
  {
   "cell_type": "markdown",
   "metadata": {},
   "source": [
    "# Building an MDMC Universe\n",
    "An MDMC simulation requires a configuration and a topology defined within a `Universe` object. Although MDMC is somewhat flexible with regards to the order in which these are created, a suggested approach is as follows:\n",
    "\n",
    "*Restriction on creating a* `Universe` *object*: MDMC currently only supports orthorhombic boxed Universes; the `dimensions` must be specified when creating (initialising) the `Universe` object:"
   ]
  },
  {
   "cell_type": "code",
   "execution_count": 1,
   "metadata": {
    "execution": {
     "iopub.execute_input": "2023-06-04T20:33:34.599335Z",
     "iopub.status.busy": "2023-06-04T20:33:34.598918Z",
     "iopub.status.idle": "2023-06-04T20:33:35.123507Z",
     "shell.execute_reply": "2023-06-04T20:33:35.122670Z"
    }
   },
   "outputs": [
    {
     "name": "stdout",
     "output_type": "stream",
     "text": [
      "Supported DL_POLY version 5.0\n",
      "Universe created with:\n",
      "  Dimensions       [10.0, 15.0, 20.0]\n",
      "  Force field                    None\n",
      "  Number of atoms                   0\n",
      "\n"
     ]
    }
   ],
   "source": [
    "# Import the Universe class\n",
    "from MDMC.MD import Universe\n",
    "# Initialise a Universe with dimensions in Ang\n",
    "universe = Universe([10.0, 15.0, 20.0])"
   ]
  },
  {
   "cell_type": "markdown",
   "metadata": {},
   "source": [
    "To create a cubic `Universe`, only a single float needs to be specified for the `dimensions`:"
   ]
  },
  {
   "cell_type": "code",
   "execution_count": 2,
   "metadata": {
    "execution": {
     "iopub.execute_input": "2023-06-04T20:33:35.126571Z",
     "iopub.status.busy": "2023-06-04T20:33:35.126203Z",
     "iopub.status.idle": "2023-06-04T20:33:35.131573Z",
     "shell.execute_reply": "2023-06-04T20:33:35.130930Z"
    }
   },
   "outputs": [
    {
     "name": "stdout",
     "output_type": "stream",
     "text": [
      "Universe created with:\n",
      "  Dimensions       [10.0, 10.0, 10.0]\n",
      "  Force field                    None\n",
      "  Number of atoms                   0\n",
      "\n"
     ]
    }
   ],
   "source": [
    "universe = Universe(10.0)"
   ]
  },
  {
   "cell_type": "markdown",
   "metadata": {},
   "source": [
    "## Create an atomic configuration\n",
    "Configurations can either be specified by the user or read from a CIF file.\n",
    "\n",
    "### Create an atom\n",
    "Each atom is specified using an `Atom` object, which possesses (amongst other things) a `position`, `velocity`, `element`, `mass`, `charge`, and `atom_type`.  At a minimum the `element` must be specified when creating an `Atom` object:"
   ]
  },
  {
   "cell_type": "code",
   "execution_count": 3,
   "metadata": {
    "execution": {
     "iopub.execute_input": "2023-06-04T20:33:35.134287Z",
     "iopub.status.busy": "2023-06-04T20:33:35.133914Z",
     "iopub.status.idle": "2023-06-04T20:33:35.137738Z",
     "shell.execute_reply": "2023-06-04T20:33:35.137257Z"
    }
   },
   "outputs": [],
   "source": [
    "# Import the Atom class\n",
    "from MDMC.MD import Atom\n",
    "# Create a hydrogen atom\n",
    "H1 = Atom('H')"
   ]
  },
  {
   "cell_type": "markdown",
   "metadata": {},
   "source": [
    "This will create a Hydrogen atom with `mass` determined from an elemental lookup table, `position` set to the origin, `velocity` set to (0., 0., 0.), no `charge` and no `atom_type`. Note that if set, the velocity of atoms in the MD engine will be scaled when creating a `Simulation` in order to ensure the temperature is accurate. Otherwise, if the velocities of all `Atom` objects in a `Simulation` are 0, then the velocities of the atoms in the MD engine will be randomly chosen in order to provide an accurate temperature. For more details see [Running a Simulation](running-a-simulation.ipynb).\n",
    "\n",
    "Atoms can also be created by copying another atom and passing the position of the new atom:"
   ]
  },
  {
   "cell_type": "code",
   "execution_count": 4,
   "metadata": {
    "execution": {
     "iopub.execute_input": "2023-06-04T20:33:35.140469Z",
     "iopub.status.busy": "2023-06-04T20:33:35.140198Z",
     "iopub.status.idle": "2023-06-04T20:33:35.143729Z",
     "shell.execute_reply": "2023-06-04T20:33:35.143246Z"
    }
   },
   "outputs": [],
   "source": [
    "H2 = H1.copy(position=[1., 1., 1.])"
   ]
  },
  {
   "cell_type": "markdown",
   "metadata": {},
   "source": [
    "The copied atom will have identical properties to the original attribute, except with a different ID (which is unique for all structural units) and a different `position`.  This includes interactions, which will apply to the copied atom in the same way as the original atom e.g. if H1 is bonded to an atom O, H2 will also be bonded to atom O.  An example of this is shown in the section **'Create bonded interactions'**."
   ]
  },
  {
   "cell_type": "markdown",
   "metadata": {},
   "source": [
    "### Atom type\n",
    "Each atom has an `atom_type`, which is used for applying non-bonded interactions between atoms; all atoms of the same `atom_type` will have the same non-bonded interactions applying to them.  The `atom_type` can be specified when the atom is created:"
   ]
  },
  {
   "cell_type": "code",
   "execution_count": 5,
   "metadata": {
    "execution": {
     "iopub.execute_input": "2023-06-04T20:33:35.146299Z",
     "iopub.status.busy": "2023-06-04T20:33:35.146003Z",
     "iopub.status.idle": "2023-06-04T20:33:35.149968Z",
     "shell.execute_reply": "2023-06-04T20:33:35.149489Z"
    }
   },
   "outputs": [],
   "source": [
    "O1 = Atom('O', position=[8.0, 8.0, 8.0], atom_type=1)\n",
    "# and to add the created atom to universe do\n",
    "universe.add_structure(O1)"
   ]
  },
  {
   "cell_type": "markdown",
   "metadata": {},
   "source": [
    "Alternatively, the `atom_type` can be inferred by MDMC.  This occurs when an atom with no defined `atom_type` is added to a Universe:"
   ]
  },
  {
   "cell_type": "code",
   "execution_count": 6,
   "metadata": {
    "execution": {
     "iopub.execute_input": "2023-06-04T20:33:35.152429Z",
     "iopub.status.busy": "2023-06-04T20:33:35.151989Z",
     "iopub.status.idle": "2023-06-04T20:33:35.155967Z",
     "shell.execute_reply": "2023-06-04T20:33:35.155464Z"
    }
   },
   "outputs": [],
   "source": [
    "O2 = Atom('O', position=[9.0, 9.0, 9.0])\n",
    "universe.add_structure(O2)"
   ]
  },
  {
   "cell_type": "markdown",
   "metadata": {},
   "source": [
    "Assuming no other atoms have been added to the universe, this sets ```O2.atom_type``` equal to 1.  MDMC infers the `atom_type` of each atom based on its element and its interactions: all atoms with the same element and the same interactions **when they are added to the universe** will have the same `atom_type`.  **Once an atom's** `atom_type` **is set, it is immutable i.e. it cannot be changed.**\n",
    "It is recommended that either all atom types are specified when atoms are created or none are (i.e. either MDMC is left to infer and assign all atom types or no atom types.  Only specifying some atom types could result in unexpected behaviour; if it is absolutely necessary then ensure that all atoms with specified atom types are added to the universe first).\n",
    "\n",
    "To see what atoms have been added to the universe:"
   ]
  },
  {
   "cell_type": "code",
   "execution_count": 7,
   "metadata": {
    "execution": {
     "iopub.execute_input": "2023-06-04T20:33:35.158154Z",
     "iopub.status.busy": "2023-06-04T20:33:35.157874Z",
     "iopub.status.idle": "2023-06-04T20:33:35.165232Z",
     "shell.execute_reply": "2023-06-04T20:33:35.164738Z"
    }
   },
   "outputs": [
    {
     "data": {
      "text/plain": [
       "[<Atom\n",
       "  {name: 'O',\n",
       "   ID: 3,\n",
       "   element: 'O',\n",
       "   position: UnitNDArray([8., 8., 8.]) Ang,\n",
       "   velocity: UnitNDArray([0., 0., 0.]) Ang / fs}>,\n",
       " <Atom\n",
       "  {name: 'O',\n",
       "   ID: 4,\n",
       "   element: 'O',\n",
       "   position: UnitNDArray([9., 9., 9.]) Ang,\n",
       "   velocity: UnitNDArray([0., 0., 0.]) Ang / fs}>]"
      ]
     },
     "execution_count": 7,
     "metadata": {},
     "output_type": "execute_result"
    }
   ],
   "source": [
    "universe.structure_list"
   ]
  },
  {
   "cell_type": "markdown",
   "metadata": {},
   "source": [
    "You can see other attributes of the universe (or any other MDMC containers) with:"
   ]
  },
  {
   "cell_type": "code",
   "execution_count": 8,
   "metadata": {
    "execution": {
     "iopub.execute_input": "2023-06-04T20:33:35.167999Z",
     "iopub.status.busy": "2023-06-04T20:33:35.167582Z",
     "iopub.status.idle": "2023-06-04T20:33:35.175231Z",
     "shell.execute_reply": "2023-06-04T20:33:35.174717Z"
    }
   },
   "outputs": [
    {
     "name": "stdout",
     "output_type": "stream",
     "text": [
      "Help on Universe in module MDMC.MD.simulation object:\n",
      "\n",
      "class Universe(MDMC.MD.container.AtomContainer)\n",
      " |  Universe(dimensions, force_field=None, structures=None, **settings)\n",
      " |  \n",
      " |  Class where the configuration and topology are defined\n",
      " |  \n",
      " |  Parameters\n",
      " |  ----------\n",
      " |  dimensions : numpy.ndarray, list, float\n",
      " |      Dimensions of the ``Universe``, in units of ``Ang``. A `float` can be\n",
      " |      used for a cubic universe.\n",
      " |  force_fields : ForceField, optional\n",
      " |      A force field to apply to the Universe. The force fields available are:\n",
      " |      OPLSAA, TIP3P, SPCE, TIP3PFB, SPC. Default is None.\n",
      " |  structures : list, optional\n",
      " |      ``Structure`` objects contained in the ``Universe``. Default is None.\n",
      " |  **settings\n",
      " |      ``kspace_solver`` (`KSpaceSolver`)\n",
      " |          The k-space solver to be used for both electrostatic and dispersive\n",
      " |          interactions. If this is passed then no ``electrostatic_solver`` or\n",
      " |          ``dispersive_solver`` may be passed.\n",
      " |      ``electrostatic_solver`` (`KSpaceSolver`)\n",
      " |          The k-space solver to be used for electrostatic interactions.\n",
      " |      ``dispersive_solver`` (`KSpaceSolver`)\n",
      " |          The k-space solver to be used for dispersive interactions.\n",
      " |      ``constraint_algorithm`` (`ConstraintAlgorithm`)\n",
      " |          The constraint algorithm which will be applied to constrained\n",
      " |          ``BondedInteractions``.\n",
      " |      ``verbose`` (`str`)\n",
      " |          If the output of the class instantiation should be reported, default\n",
      " |          to True.\n",
      " |  \n",
      " |  Attributes\n",
      " |  ----------\n",
      " |  dimensions : numpy.ndarray, list, float\n",
      " |      Dimensions of the ``Universe`` in units of ``Ang``.\n",
      " |  configuration : Configuration\n",
      " |      Stores the content, i.e. configuration of atoms etc within the universe\n",
      " |  force_fields : ForceField or None\n",
      " |      Force field applied to apply to the Universe\n",
      " |  kspace_solver : KSpaceSolver\n",
      " |      The k-space solver to be used for both electrostatic and dispersive\n",
      " |      interactions.\n",
      " |  electrostatic_solver : KSpaceSolver\n",
      " |      The k-space solver to be used for electrostatic interactions.\n",
      " |  dispersive_solver : KSpaceSolver\n",
      " |      The k-space solver to be used for dispersive interactions.\n",
      " |  constraint_algorithm : ConstraintAlgorithm\n",
      " |      The constraint algorithm which will be applied to constrained\n",
      " |      ``BondedInteractions``.\n",
      " |  interactions\n",
      " |  bonded_interactions\n",
      " |  nonbonded_interactions\n",
      " |  bonded_interaction_pairs\n",
      " |  n_bonded\n",
      " |  n_nonbonded\n",
      " |  n_interactions\n",
      " |  parameters\n",
      " |  volume\n",
      " |  element_list\n",
      " |  element_dict\n",
      " |  element_lookup\n",
      " |  atoms\n",
      " |  n_atoms\n",
      " |  molecule_list\n",
      " |  n_molecules\n",
      " |  structure_list\n",
      " |  top_level_structure_list\n",
      " |  equivalent_top_level_structures_dict\n",
      " |  force_fields\n",
      " |  atom_types\n",
      " |  atom_type_interactions\n",
      " |  density\n",
      " |  solvent_density\n",
      " |  nbis_by_atom_type_pairs\n",
      " |  \n",
      " |  Method resolution order:\n",
      " |      Universe\n",
      " |      MDMC.MD.container.AtomContainer\n",
      " |      abc.ABC\n",
      " |      builtins.object\n",
      " |  \n",
      " |  Methods defined here:\n",
      " |  \n",
      " |  __eq__(self, other) -> bool\n",
      " |      Return self==value.\n",
      " |  \n",
      " |  __init__(self, dimensions, force_field=None, structures=None, **settings)\n",
      " |      Initialize self.  See help(type(self)) for accurate signature.\n",
      " |  \n",
      " |  __repr__(self)\n",
      " |  \n",
      " |  __str__(self) -> str\n",
      " |      Return str(self).\n",
      " |  \n",
      " |  add_bonded_interaction_pairs(self, *bonded_interaction_pairs: 'tuple[Interaction, Atom]') -> None\n",
      " |      Adds one or more interaction pairs to the ``Universe``\n",
      " |      \n",
      " |      Parameters\n",
      " |      ----------\n",
      " |      *bonded_interaction_pairs\n",
      " |          one or more (``interaction``, ``atoms``) pairs, where ``atoms`` is a\n",
      " |          `tuple` of all atoms for that specific bonded ``interaction``\n",
      " |  \n",
      " |  add_force_field(self, force_field: str, *interactions: 'Interaction', **settings: dict) -> None\n",
      " |      Adds a force field to the specified ``interactions``.  If no\n",
      " |      ``interactions`` are passed, the force field is applied to all\n",
      " |      interactions in the ``Universe``.\n",
      " |      \n",
      " |      Parameters\n",
      " |      ----------\n",
      " |      force_field : str\n",
      " |          The ``ForceField`` to parameterize ``interactions`` (if provided),\n",
      " |          or all the ``interactions`` in the ``Universe``. The available\n",
      " |          ``ForceField`` are:\n",
      " |          OPLSAA, TIP3P, SPCE, TIP3PFB, SPC\n",
      " |      *interactions\n",
      " |          ``Interaction`` objects to parameterize with the ``ForceField``\n",
      " |      **settings\n",
      " |          ``add_dispersions`` (`bool` or `list` of ``Atoms``)\n",
      " |              If `True`, a ``Dispersion`` interaction will be added to all\n",
      " |              atoms in the ``Universe``. If a list of ``Atom`` objects is\n",
      " |              provided, the ``Dispersion`` will be added to these instead. Any\n",
      " |              added ``Dispersion`` interactions (and any previously defined)\n",
      " |              will then be parametrized by the ``ForceField``. The\n",
      " |              ``Dispersion`` interactions added will only be like-like. By\n",
      " |              default, no ``Dispersion`` interactions are added.\n",
      " |  \n",
      " |  add_nonbonded_interaction(self, *nonbonded_interactions: 'tuple[Interaction, Atom]') -> None\n",
      " |      Adds one or more nonbonded interactions to the ``Universe``\n",
      " |      \n",
      " |      Parameters\n",
      " |      ----------\n",
      " |      *nonbonded_interactions\n",
      " |          Nonbonded interactions to be added to the ``Universe``.\n",
      " |          Can take any number of non-bonded interactions:\n",
      " |              ``Dispersion()``:\n",
      " |                  either Lennard-Jones or Buckingham dispersion\n",
      " |              ``Coulombic()``:\n",
      " |                  normal or modified Coulomb interaction\n",
      " |          with appropriate parameters for the interaction.\n",
      " |          See http://mdmcproject.org/tutorials/building-a-universe.html?highlight=interaction#Create-non-bonded-interactions\n",
      " |          for more details on non-bonded interactions.\n",
      " |  \n",
      " |  add_structure(self, structure: Union[MDMC.MD.structures.Structure, int], force_field: str = None, center: bool = False) -> None\n",
      " |      Adds a single ``Structure`` to the ``Universe``, with optional\n",
      " |      ``ForceField`` applying only to that ``Structure``\n",
      " |      \n",
      " |      Parameters\n",
      " |      ----------\n",
      " |      structure : Structure or int\n",
      " |          The ``Structure`` (or its ``ID`` as an `int`) to be added to the\n",
      " |          ``Universe``\n",
      " |      force_field : str, optional\n",
      " |          The force field to be applied to the structure. The available\n",
      " |          ``ForceField`` are:\n",
      " |          OPLSAA, TIP3P, SPCE, TIP3PFB, SPC\n",
      " |      center : bool, optional\n",
      " |          Whether to center `structure` within the Universe as it is\n",
      " |          added\n",
      " |  \n",
      " |  fill(self, structures: MDMC.MD.structures.Structure, force_field: str = None, num_density: float = None, num_struc_units: int = None) -> None\n",
      " |      A liquid-like filling of the ``Universe`` independent of existing atoms\n",
      " |      \n",
      " |      Adds copies of ``structures`` to existing configuration until\n",
      " |      ``Universe`` is full.  As exclusion region is defined by the size of a\n",
      " |      bounding sphere, this method is most suitable for atoms or molecules\n",
      " |      with approximately equal dimensions.\n",
      " |      \n",
      " |      .. note:: CURRENT APPROACH RESULTS IN NUMBER DENSITY DIFFERENT TO WHAT\n",
      " |                IS SPECIFIED DEPENDING ON HOW CLOSE CUBE ROOT OF N_MOLECULES\n",
      " |                IS TO AN `int`.\n",
      " |      \n",
      " |      .. note:: CURRENT IMPLEMENTATION SHOULD NOT BE USED WITH NON-CUBIC\n",
      " |                UNIVERSES AS THE DENSITY MAY OR MAY NOT BE ISOTROPIC\n",
      " |                DEPENDING ON THE DIMENSIONS AND NUMBER OF UNITS.\n",
      " |      \n",
      " |      Parameters\n",
      " |      ----------\n",
      " |      structures : Structure or int\n",
      " |          The ``Structure`` with which to fill the ``Universe``\n",
      " |      force_field : str\n",
      " |          Applies a ``ForceField`` to the ``Universe``. The available\n",
      " |          ``ForceField`` are:\n",
      " |          OPLSAA, TIP3P, SPCE, TIP3PFB, SPC\n",
      " |      num_density: float\n",
      " |          Non-negative `float` specifying the number density of the\n",
      " |          ``Structure``, in units of ``Structure / Ang ^ -3``\n",
      " |      num_struc_units: int\n",
      " |          Non-negative `int` specifying the number of passed\n",
      " |          ``Structure`` objects that the universe should be filled\n",
      " |          with, regardless of ``Universe.dimensions``.\n",
      " |      \n",
      " |      Raises\n",
      " |      ------\n",
      " |      ValueError\n",
      " |          If both ``num_density`` and ``num_struc_units`` are passed\n",
      " |      ValueError\n",
      " |          If neither ``num_density`` or ``num_struc_units`` are passed\n",
      " |  \n",
      " |  solvate(self, density: float, tolerance: float = 1.0, solvent: str = 'SPCE', max_iterations: int = 100, **settings: dict) -> None\n",
      " |      Fills the ``Universe`` with solvent molecules according to pre-defined\n",
      " |      coordinates.\n",
      " |      \n",
      " |      Parameters\n",
      " |      ----------\n",
      " |      density : float\n",
      " |          The desired density of the ``Solvent`` that solvates the\n",
      " |          ``Universe``, in units of ``amu Ang ^ -3``\n",
      " |      tolerance : float, optional\n",
      " |          The +/- percentage tolerance of the density to be achieved.\n",
      " |          The default is 1 %. Tolerances of less than 1 % are at risk\n",
      " |          of not converging.\n",
      " |      solvent : str, optional\n",
      " |          A `str` specifying an inbuilt ``Solvent`` from the following:\n",
      " |          SPC, SPCE, TIP3P, TIP3PFB.\n",
      " |          The default is 'SPCE'.\n",
      " |      max_iterations: int, optional\n",
      " |          The maximum number of times to try to solvate the universe to\n",
      " |          within the required density before stopping. Defaults to 100.\n",
      " |      **settings\n",
      " |          ``constraint_algorithm`` (`ConstraintAlgorithm`)\n",
      " |              A ``ConstraintAlgorithm`` which is applied to the ``Universe``.\n",
      " |              If an inbuilt ``Solvent`` is selected (e.g. 'SPCE') and\n",
      " |              ``constraint_algorithm`` is not passed, the\n",
      " |              ``ConstraintAlgorithm`` will default to ``Shake(1e-4, 100)``.\n",
      " |      \n",
      " |      Raises\n",
      " |      ------\n",
      " |      ValueError\n",
      " |          If the ``Universe`` has already been solvated with a different\n",
      " |          density.\n",
      " |  \n",
      " |  ----------------------------------------------------------------------\n",
      " |  Readonly properties defined here:\n",
      " |  \n",
      " |  atom_type_interactions\n",
      " |      Get the atom types and the interactions for each atom type\n",
      " |      \n",
      " |      Returns\n",
      " |      -------\n",
      " |      dict\n",
      " |          ``atom_type:interactions`` pairs where ``atom_type`` is a `int`\n",
      " |          specifying the atom type and ``interactions`` is a `list` of\n",
      " |          ``Interaction`` objects acting on that ``atom_type``\n",
      " |  \n",
      " |  atom_types\n",
      " |      Get the atom types of atoms in the ``Universe``\n",
      " |      \n",
      " |      Returns\n",
      " |      -------\n",
      " |      list\n",
      " |          The atom types in the ``Universe``\n",
      " |  \n",
      " |  atoms\n",
      " |      Get a list of the atoms in the ``Universe``\n",
      " |      \n",
      " |      Returns\n",
      " |      -------\n",
      " |      list\n",
      " |          The atoms in the ``Universe``\n",
      " |  \n",
      " |  bonded_interaction_pairs\n",
      " |      Get the bonded interactions and the atoms they apply to\n",
      " |      \n",
      " |      Returns\n",
      " |      -------\n",
      " |      list\n",
      " |          The (``interaction``, ``atoms``) pairs in the ``Universe``, where\n",
      " |          ``atoms`` is a `tuple` of all ``Atom`` objects for that specific\n",
      " |          ``interaction``\n",
      " |      \n",
      " |      Example\n",
      " |      -------\n",
      " |      For an O Atom with two bonds, one to H1 and one to H2::\n",
      " |      \n",
      " |          >>> print(O.bonded_interaction_pairs)\n",
      " |          [(Bond, (H1, O)), (Bond, (H2, O))]\n",
      " |  \n",
      " |  bonded_interactions\n",
      " |      Get the bonded interactions in the ``Universe``\n",
      " |      \n",
      " |      Returns\n",
      " |      -------\n",
      " |      list\n",
      " |          The bonded interactions in the ``Universe``\n",
      " |  \n",
      " |  density\n",
      " |  \n",
      " |  element_dict\n",
      " |      Get the elements in the ``Universe`` and example ``Atom`` objects for\n",
      " |      each element\n",
      " |      \n",
      " |      This is required for MD engines which assign the same potential\n",
      " |      parameters for all identical element types.\n",
      " |      \n",
      " |      Returns\n",
      " |      -------\n",
      " |      dict\n",
      " |          ``element:atom pairs``, where ``atom`` is a single ``Atom`` of the\n",
      " |          specified ``element``.\n",
      " |  \n",
      " |  element_list\n",
      " |      The elements of the atoms in the ``Universe``\n",
      " |      \n",
      " |      Returns\n",
      " |      -------\n",
      " |      list\n",
      " |          The elements in the ``Universe``\n",
      " |  \n",
      " |  element_lookup\n",
      " |      Get the elements by ID in the ``Universe``\n",
      " |      \n",
      " |      This is required for MD engines which assign the same potential\n",
      " |      parameters for all identical element names.\n",
      " |      \n",
      " |      Returns\n",
      " |      -------\n",
      " |      dict\n",
      " |          ``element:atom pairs``, where ``atom`` is a single ``Atom`` of the\n",
      " |          specified ``element``.\n",
      " |  \n",
      " |  equivalent_top_level_structures_dict\n",
      " |      Get a `dict` of equivalent top level ``Structure`` objects that\n",
      " |      exist in the ``Universe`` as keys, and the number of ``Structure``\n",
      " |      that are equivalent to the key as a value. This does not include any\n",
      " |      ``Structure`` that are a subunit of another structure belonging\n",
      " |      to the ``Universe``.\n",
      " |      \n",
      " |      \n",
      " |      Returns\n",
      " |      -------\n",
      " |      dict\n",
      " |          The top level ``Structure`` objects in the ``Universe`` as\n",
      " |          keys, and the number of each as a value\n",
      " |  \n",
      " |  force_fields\n",
      " |      Get the ``ForceField`` acting on the ``Universe``\n",
      " |      \n",
      " |      The available force fields are:\n",
      " |      OPLSAA, TIP3P, SPCE, TIP3PFB, SPC\n",
      " |      \n",
      " |      Returns\n",
      " |      -------\n",
      " |      list\n",
      " |          ``ForceField`` that applies to the ``Universe``\n",
      " |  \n",
      " |  interactions\n",
      " |      Get the interactions in the ``Universe``\n",
      " |      \n",
      " |      Returns\n",
      " |      -------\n",
      " |      list\n",
      " |          The interactions in the ``Universe``\n",
      " |  \n",
      " |  molecule_list\n",
      " |      Get a list of the ``Molecule`` objects in the ``Universe``\n",
      " |      \n",
      " |      Returns\n",
      " |      -------\n",
      " |      list\n",
      " |          The ``Molecule`` objects in the ``Universe``\n",
      " |  \n",
      " |  n_atoms\n",
      " |      Get the number of atoms in the ``Universe``\n",
      " |      \n",
      " |      Returns\n",
      " |      -------\n",
      " |      int\n",
      " |          The number of atoms in the ``Universe``\n",
      " |  \n",
      " |  n_bonded\n",
      " |      Get the number of bonded interactions in the ``Universe``\n",
      " |      \n",
      " |      Returns\n",
      " |      -------\n",
      " |      int\n",
      " |          The number of bonded interactions in the ``Universe``\n",
      " |  \n",
      " |  n_interactions\n",
      " |      Get the number of interactions in the ``Universe``\n",
      " |      \n",
      " |      Returns\n",
      " |      -------\n",
      " |      int\n",
      " |          The number of interactions in the ``Universe``\n",
      " |  \n",
      " |  n_molecules\n",
      " |      Get the number of molecules in the ``Universe``\n",
      " |      \n",
      " |      Returns\n",
      " |      -------\n",
      " |      int\n",
      " |          The number of molecules in the ``Universe``\n",
      " |  \n",
      " |  n_nonbonded\n",
      " |      Get the number of nonbonded interactions in the ``Universe``\n",
      " |      \n",
      " |      Returns\n",
      " |      -------\n",
      " |      int\n",
      " |          The number of nonbonded interactions in the ``Universe``\n",
      " |  \n",
      " |  nbis_by_atom_type_pairs\n",
      " |      Generates a `dict` of all nonbonded interactions possessed by all\n",
      " |      combinations of ``atom_type`` pairs in the ``Universe``.\n",
      " |      \n",
      " |      Returns\n",
      " |      -------\n",
      " |      dict\n",
      " |          A `dict` of ``{pair: interactions}`` pairs, where:\n",
      " |              - ``pair`` is a `tuple` for a pair of ``atom_types`` in the\n",
      " |                ``Universe``\n",
      " |              - ``interactions`` is a list of nonbonded interactions that\n",
      " |                exist for this ``pair`` of ``atom_types``\n",
      " |      \n",
      " |          Any ``Dispersions`` in ``interactions`` are ones that exist\n",
      " |          explicity for this ``pair``, whereas any ``Coulombics`` in\n",
      " |          ``interactions`` are ones that exist for either of the\n",
      " |          ``atom_types`` in ``pair``.\n",
      " |  \n",
      " |  nonbonded_interactions\n",
      " |      Get the nonbonded interactions in the ``Universe``\n",
      " |      \n",
      " |      Returns\n",
      " |      -------\n",
      " |      list\n",
      " |          The nonbonded interactions in the ``Universe``\n",
      " |  \n",
      " |  parameters\n",
      " |      Get the parameters of the interactions that exist within the\n",
      " |      ``Universe``\n",
      " |      \n",
      " |      Returns\n",
      " |      -------\n",
      " |      Parameters\n",
      " |          The ``Parameters`` objects defined within ``Universe``\n",
      " |  \n",
      " |  solvent_density\n",
      " |  \n",
      " |  structure_list\n",
      " |      Get a `list` of all ``Structure`` objects that exist in the\n",
      " |      ``Universe``.  This includes all ``Structure`` that are a subunit\n",
      " |      of another structure belonging to the ``Universe``.\n",
      " |      \n",
      " |      \n",
      " |      Returns\n",
      " |      -------\n",
      " |      list\n",
      " |          The ``Structure`` objects in the ``Universe``\n",
      " |  \n",
      " |  top_level_structure_list\n",
      " |      Get a `list` of the top level ``Structure`` objects that exist in the\n",
      " |      ``Universe``. This does not include any ``Structure`` that are a subunit\n",
      " |      of another structure belonging to the ``Universe``.\n",
      " |      \n",
      " |      \n",
      " |      Returns\n",
      " |      -------\n",
      " |      list\n",
      " |          The top level ``Structure`` objects in the ``Universe``\n",
      " |  \n",
      " |  volume\n",
      " |  \n",
      " |  ----------------------------------------------------------------------\n",
      " |  Data descriptors defined here:\n",
      " |  \n",
      " |  dimensions\n",
      " |  \n",
      " |  ----------------------------------------------------------------------\n",
      " |  Data and other attributes defined here:\n",
      " |  \n",
      " |  __abstractmethods__ = frozenset()\n",
      " |  \n",
      " |  __hash__ = None\n",
      " |  \n",
      " |  ----------------------------------------------------------------------\n",
      " |  Methods inherited from MDMC.MD.container.AtomContainer:\n",
      " |  \n",
      " |  __getitem__(self, index: Union[int, slice]) -> Union[ForwardRef('Atom'), ForwardRef('list[Atom]')]\n",
      " |      Returns\n",
      " |      -------\n",
      " |      Atom, list\n",
      " |          The atom (or atoms) for the specified index (or slice)\n",
      " |  \n",
      " |  ----------------------------------------------------------------------\n",
      " |  Data descriptors inherited from MDMC.MD.container.AtomContainer:\n",
      " |  \n",
      " |  __dict__\n",
      " |      dictionary for instance variables (if defined)\n",
      " |  \n",
      " |  __weakref__\n",
      " |      list of weak references to the object (if defined)\n",
      "\n"
     ]
    }
   ],
   "source": [
    "help(universe)"
   ]
  },
  {
   "cell_type": "markdown",
   "metadata": {},
   "source": [
    "The same applies for methods, for example:"
   ]
  },
  {
   "cell_type": "code",
   "execution_count": 9,
   "metadata": {
    "execution": {
     "iopub.execute_input": "2023-06-04T20:33:35.177689Z",
     "iopub.status.busy": "2023-06-04T20:33:35.177428Z",
     "iopub.status.idle": "2023-06-04T20:33:35.182042Z",
     "shell.execute_reply": "2023-06-04T20:33:35.181572Z"
    }
   },
   "outputs": [
    {
     "name": "stdout",
     "output_type": "stream",
     "text": [
      "Help on method add_structure in module MDMC.MD.simulation:\n",
      "\n",
      "add_structure(structure: Union[MDMC.MD.structures.Structure, int], force_field: str = None, center: bool = False) -> None method of MDMC.MD.simulation.Universe instance\n",
      "    Adds a single ``Structure`` to the ``Universe``, with optional\n",
      "    ``ForceField`` applying only to that ``Structure``\n",
      "    \n",
      "    Parameters\n",
      "    ----------\n",
      "    structure : Structure or int\n",
      "        The ``Structure`` (or its ``ID`` as an `int`) to be added to the\n",
      "        ``Universe``\n",
      "    force_field : str, optional\n",
      "        The force field to be applied to the structure. The available\n",
      "        ``ForceField`` are:\n",
      "        OPLSAA, TIP3P, SPCE, TIP3PFB, SPC\n",
      "    center : bool, optional\n",
      "        Whether to center `structure` within the Universe as it is\n",
      "        added\n",
      "\n"
     ]
    }
   ],
   "source": [
    "help(universe.add_structure)"
   ]
  },
  {
   "cell_type": "markdown",
   "metadata": {},
   "source": [
    "### Create bonded interactions\n",
    "There are three bonded interaction types within MDMC: `Bond`, `BondAngle` and `Dihedral`.  Each `Interaction` must have an `InteractionFunction` which describes the `Interaction`."
   ]
  },
  {
   "cell_type": "markdown",
   "metadata": {},
   "source": [
    "### `Bond`\n",
    "Below this is demonstrated where a `Bond` with a `HarmonicPotential` function is created."
   ]
  },
  {
   "cell_type": "code",
   "execution_count": 10,
   "metadata": {
    "execution": {
     "iopub.execute_input": "2023-06-04T20:33:35.184524Z",
     "iopub.status.busy": "2023-06-04T20:33:35.184088Z",
     "iopub.status.idle": "2023-06-04T20:33:35.187540Z",
     "shell.execute_reply": "2023-06-04T20:33:35.187006Z"
    }
   },
   "outputs": [],
   "source": [
    "# Import Bond and HarmonicPotential\n",
    "from MDMC.MD import Bond\n",
    "from MDMC.MD import HarmonicPotential\n",
    "# Create a Bond with a HarmonicPotential\n",
    "# The first argument in the HarmonicPotential is the equilibrium state and the second is the potential strength\n",
    "HH_bond = Bond(H1, H2, function=HarmonicPotential(1., 100., interaction_type='bond'))"
   ]
  },
  {
   "cell_type": "markdown",
   "metadata": {},
   "source": [
    "To see which units are supported:"
   ]
  },
  {
   "cell_type": "code",
   "execution_count": 11,
   "metadata": {
    "execution": {
     "iopub.execute_input": "2023-06-04T20:33:35.189687Z",
     "iopub.status.busy": "2023-06-04T20:33:35.189515Z",
     "iopub.status.idle": "2023-06-04T20:33:35.194725Z",
     "shell.execute_reply": "2023-06-04T20:33:35.194244Z"
    }
   },
   "outputs": [
    {
     "data": {
      "text/plain": [
       "{'LENGTH': 'Ang',\n",
       " 'TIME': 'fs',\n",
       " 'MASS': 'amu',\n",
       " 'CHARGE': 'e',\n",
       " 'ANGLE': 'deg',\n",
       " 'TEMPERATURE': 'K',\n",
       " 'ENERGY': 'kJ / mol',\n",
       " 'FORCE': 'kJ / Ang mol',\n",
       " 'PRESSURE': 'Pa',\n",
       " 'ENERGY_TRANSFER': 'meV',\n",
       " 'ARBITRARY': 'arb'}"
      ]
     },
     "execution_count": 11,
     "metadata": {},
     "output_type": "execute_result"
    }
   ],
   "source": [
    "from MDMC.common.units import SYSTEM\n",
    "SYSTEM"
   ]
  },
  {
   "cell_type": "markdown",
   "metadata": {},
   "source": [
    "### `BondAngle`"
   ]
  },
  {
   "cell_type": "markdown",
   "metadata": {},
   "source": [
    "A `BondAngle` is created in the same manner except it requires a minimum of three atoms. The central atom should be the 2nd atom. For example, a water molecule would have:"
   ]
  },
  {
   "cell_type": "code",
   "execution_count": 12,
   "metadata": {
    "execution": {
     "iopub.execute_input": "2023-06-04T20:33:35.197035Z",
     "iopub.status.busy": "2023-06-04T20:33:35.196767Z",
     "iopub.status.idle": "2023-06-04T20:33:35.201939Z",
     "shell.execute_reply": "2023-06-04T20:33:35.201459Z"
    }
   },
   "outputs": [],
   "source": [
    "from MDMC.MD import BondAngle\n",
    "\n",
    "H1 = Atom('H')\n",
    "H2 = Atom('H', position=[0., 1.63298, 0.])\n",
    "O = Atom('O', position=[0., 0.81649, 0.57736])\n",
    "HOH_angle = BondAngle(H1, O, H2)\n",
    "\n",
    "# The following is equivalent\n",
    "HOH_angle = BondAngle(H2, O, H1)"
   ]
  },
  {
   "cell_type": "markdown",
   "metadata": {},
   "source": [
    "Currently `HarmonicPotential` is the only `InteractionFunction` that can be applied to either `Bond` or `BondAngle`."
   ]
  },
  {
   "cell_type": "markdown",
   "metadata": {},
   "source": [
    "All `Bond` and `BondAngle` can be constrained; this can either be set when creating the `Bond` (or `BondAngle`) or afterwards:"
   ]
  },
  {
   "cell_type": "code",
   "execution_count": 13,
   "metadata": {
    "execution": {
     "iopub.execute_input": "2023-06-04T20:33:35.204449Z",
     "iopub.status.busy": "2023-06-04T20:33:35.204064Z",
     "iopub.status.idle": "2023-06-04T20:33:35.207600Z",
     "shell.execute_reply": "2023-06-04T20:33:35.207122Z"
    }
   },
   "outputs": [],
   "source": [
    "HH_bond.constrained = True\n",
    "HOH_angle = BondAngle(H1, O, H2, constrained=True)"
   ]
  },
  {
   "cell_type": "markdown",
   "metadata": {},
   "source": [
    "For a constraint to be applied during a simulation, the `Universe` must have a `ConstraintAlgorithm`."
   ]
  },
  {
   "cell_type": "markdown",
   "metadata": {},
   "source": [
    "### `DihedralAngle`"
   ]
  },
  {
   "cell_type": "markdown",
   "metadata": {},
   "source": [
    "A `DihedralAngle` is also created in the same manner, except it requires four atoms.  A `DihedralAngle` can be proper or improper, as specified by `DihedralAngle.improper`.  By default a `DihedralAngle` is proper.\n",
    "\n",
    "The atoms in a proper `DihedralAngle` must be specified so that the 2nd and 3rd atoms are the central two atoms:"
   ]
  },
  {
   "cell_type": "code",
   "execution_count": 14,
   "metadata": {
    "execution": {
     "iopub.execute_input": "2023-06-04T20:33:35.210301Z",
     "iopub.status.busy": "2023-06-04T20:33:35.209909Z",
     "iopub.status.idle": "2023-06-04T20:33:35.215538Z",
     "shell.execute_reply": "2023-06-04T20:33:35.215074Z"
    }
   },
   "outputs": [],
   "source": [
    "from MDMC.MD import DihedralAngle\n",
    "\n",
    "C1 = Atom('C', position=[5.12033922, 4.63847287, 4.94075943])\n",
    "N = Atom('N', position=[5.12991894, 3.78609704, 3.79996577])\n",
    "C2 = Atom('C', position=[4.91462725, 4.08992816, 2.5091264])\n",
    "O = Atom('O', position=[4.67405373, 5.24130678, 2.1180462])\n",
    "proper = DihedralAngle(atoms=[C1, N, C2, O])\n",
    "\n",
    "# For a proper DihedralAngle, the equivalent atom order is:\n",
    "proper = DihedralAngle(atoms=[O, C2, N, C1])"
   ]
  },
  {
   "cell_type": "markdown",
   "metadata": {},
   "source": [
    "The atoms in an improper `DihedralAngle` must be specific so that the 1st atom is the central atom."
   ]
  },
  {
   "cell_type": "code",
   "execution_count": 15,
   "metadata": {
    "execution": {
     "iopub.execute_input": "2023-06-04T20:33:35.218105Z",
     "iopub.status.busy": "2023-06-04T20:33:35.217708Z",
     "iopub.status.idle": "2023-06-04T20:33:35.223060Z",
     "shell.execute_reply": "2023-06-04T20:33:35.222579Z"
    }
   },
   "outputs": [],
   "source": [
    "N = Atom('N', position=[4.97080909, 2.91075722, 1.57280005])\n",
    "C1 = Atom('C', position=[5.12033922, 4.63847287, 4.94075943])\n",
    "C2 = Atom('C', position=[5.12991894, 3.78609704, 3.79996577])\n",
    "C3 = Atom('C', position=[4.91462725, 4.08992816, 2.5091264 ])\n",
    "improper = DihedralAngle(atoms=[N, C1, C2, C3], improper=True)\n",
    "\n",
    "# The following are some of the equivalent permutations\n",
    "# The only unique atom location is the first location (central atom)\n",
    "improper = DihedralAngle(atoms=[N, C2, C1, C3], improper=True)\n",
    "improper = DihedralAngle(atoms=[N, C3, C1, C2], improper=True)\n",
    "improper = DihedralAngle(atoms=[N, C1, C3, C2], improper=True)"
   ]
  },
  {
   "cell_type": "markdown",
   "metadata": {},
   "source": [
    "Currently `Periodic` is the only `InteractionFunction` that can be applied to `DihedralAngle` interactions."
   ]
  },
  {
   "cell_type": "markdown",
   "metadata": {},
   "source": [
    "### Copying bonded atoms"
   ]
  },
  {
   "cell_type": "markdown",
   "metadata": {},
   "source": [
    "As mentioned above in the **'Create an atom'** section, if an `Atom` with a `BondedInteraction` is copied, the new atom will also have the same `BondedInteraction` (and be bonded to the same atom or atoms as the original).  For example:"
   ]
  },
  {
   "cell_type": "code",
   "execution_count": 16,
   "metadata": {
    "execution": {
     "iopub.execute_input": "2023-06-04T20:33:35.225627Z",
     "iopub.status.busy": "2023-06-04T20:33:35.225366Z",
     "iopub.status.idle": "2023-06-04T20:33:35.230557Z",
     "shell.execute_reply": "2023-06-04T20:33:35.230073Z"
    }
   },
   "outputs": [],
   "source": [
    "wH1 = Atom('H', position=(5., 5., 5.))\n",
    "wO = Atom('O', position=(5., 6.63298, 5.))\n",
    "wBond = Bond((wH1, wO), function=HarmonicPotential(1., 100., interaction_type='bond'))\n",
    "wH2 = wH1.copy(position=(0., 0.81649, 0.57736))"
   ]
  },
  {
   "cell_type": "markdown",
   "metadata": {},
   "source": [
    "Both atoms `wH1` and `wH2` are bonded to `wO`:"
   ]
  },
  {
   "cell_type": "code",
   "execution_count": 17,
   "metadata": {
    "execution": {
     "iopub.execute_input": "2023-06-04T20:33:35.232772Z",
     "iopub.status.busy": "2023-06-04T20:33:35.232490Z",
     "iopub.status.idle": "2023-06-04T20:33:35.238633Z",
     "shell.execute_reply": "2023-06-04T20:33:35.238150Z"
    }
   },
   "outputs": [
    {
     "data": {
      "text/plain": [
       "[(<Atom\n",
       "   {name: 'H',\n",
       "    ID: 16,\n",
       "    element: 'H',\n",
       "    position: UnitNDArray([5., 5., 5.]) Ang,\n",
       "    velocity: UnitNDArray([0., 0., 0.]) Ang / fs}>,\n",
       "  <Atom\n",
       "   {name: 'O',\n",
       "    ID: 17,\n",
       "    element: 'O',\n",
       "    position: UnitNDArray([5.     , 6.63298, 5.     ]) Ang,\n",
       "    velocity: UnitNDArray([0., 0., 0.]) Ang / fs}>),\n",
       " (<Atom\n",
       "   {name: 'H',\n",
       "    ID: 18,\n",
       "    element: 'H',\n",
       "    position: UnitNDArray([0.     , 0.81649, 0.57736]) Ang,\n",
       "    velocity: UnitNDArray([0., 0., 0.]) Ang / fs}>,\n",
       "  <Atom\n",
       "   {name: 'O',\n",
       "    ID: 17,\n",
       "    element: 'O',\n",
       "    position: UnitNDArray([5.     , 6.63298, 5.     ]) Ang,\n",
       "    velocity: UnitNDArray([0., 0., 0.]) Ang / fs}>)]"
      ]
     },
     "execution_count": 17,
     "metadata": {},
     "output_type": "execute_result"
    }
   ],
   "source": [
    "wBond.atoms"
   ]
  },
  {
   "cell_type": "markdown",
   "metadata": {},
   "source": [
    "### Create a molecule\n",
    "A molecule consists of two or more atoms and at least one bonded interaction:"
   ]
  },
  {
   "cell_type": "code",
   "execution_count": 18,
   "metadata": {
    "execution": {
     "iopub.execute_input": "2023-06-04T20:33:35.240847Z",
     "iopub.status.busy": "2023-06-04T20:33:35.240572Z",
     "iopub.status.idle": "2023-06-04T20:33:35.244216Z",
     "shell.execute_reply": "2023-06-04T20:33:35.243649Z"
    }
   },
   "outputs": [],
   "source": [
    "# Import the Atom, Molecule, Bond, BondAngle and HarmonicPotential classes\n",
    "from MDMC.MD import Molecule, BondAngle\n",
    "# Create a H2 molecule\n",
    "H1.position = [0., 0., 0.]\n",
    "H2.position = [1., 1., 1.]\n",
    "H_mol = Molecule(position=[2., 1.5, 1.], atoms=[H1, H2], interactions=[HH_bond])"
   ]
  },
  {
   "cell_type": "markdown",
   "metadata": {},
   "source": [
    "When a `Molecule` is created, the position of the atoms relative to one another is fixed.  The atoms are then moved so that the position of the molecular centre of mass is what was passed when creating the molecule.  In the example above, the atoms were at `[0., 0., 0.]` and `[1., 1., 1.]` before `H_mol` was created; therefore they will always be separated by `1.0 Ang` in each dimension, no matter where the molecule is moved to.  The molecular centre of mass is set to `[2., 1.5, 1.]`, so the atom positions are changed to `[2., 1.5, 1.]` and `[3., 2.5, 2.]` respectively.\n",
    "It is also possible to `copy` molecules:"
   ]
  },
  {
   "cell_type": "code",
   "execution_count": 19,
   "metadata": {
    "execution": {
     "iopub.execute_input": "2023-06-04T20:33:35.246440Z",
     "iopub.status.busy": "2023-06-04T20:33:35.246160Z",
     "iopub.status.idle": "2023-06-04T20:33:35.249316Z",
     "shell.execute_reply": "2023-06-04T20:33:35.248721Z"
    }
   },
   "outputs": [],
   "source": [
    "H_mol2 = H_mol.copy(position=[5., 5., 5.])"
   ]
  },
  {
   "cell_type": "markdown",
   "metadata": {},
   "source": [
    "When a `Molecule` is copied, each `Atom` is copied, as are all of the bonded interactions between these atoms (and all of the non-bonded interactions).\n",
    "\n",
    "One method for building molecules is to copy atoms, as the interactions are also copied. For example, to build methane:"
   ]
  },
  {
   "cell_type": "code",
   "execution_count": 20,
   "metadata": {
    "execution": {
     "iopub.execute_input": "2023-06-04T20:33:35.251681Z",
     "iopub.status.busy": "2023-06-04T20:33:35.251273Z",
     "iopub.status.idle": "2023-06-04T20:33:35.258106Z",
     "shell.execute_reply": "2023-06-04T20:33:35.257622Z"
    }
   },
   "outputs": [],
   "source": [
    "m_C = Atom('C')\n",
    "# Define the H atom positions relative to a C at [0,0,0]\n",
    "d = 0.629118\n",
    "H_pos = [[d, d, d], [-d, -d, d], [d, -d, -d], [-d, d, -d]]\n",
    "m_H = Atom('H', position=H_pos[0])\n",
    "# Add a bond between \n",
    "CH_bonds = Bond(m_C, m_H, function=HarmonicPotential(1.09, 100., interaction_type='bond'))\n",
    "# Make three H atom copies (which are therefore all bonded to m_C)\n",
    "H_atoms = [m_H]\n",
    "for pos in H_pos[1:]:\n",
    "    H_atoms.append(m_H.copy(pos))\n",
    "# The next two lines simply create a list of unique HCH triplets\n",
    "# e.g. [(m_H1, m_C, m_H2), (m_H1, m_C, m_H3), ..., (m_H3, m_C, m_H4)].\n",
    "from itertools import combinations\n",
    "HCH_triplets = [(i[0], m_C, i[1]) for i in combinations(H_atoms, 2)]\n",
    "# Unpack the list of triplets with * notation i.e. [(...), (...), (...)] becomes (...), (...), (...)\n",
    "HCH_angles = BondAngle(*HCH_triplets, function=HarmonicPotential(109.5, 10., interaction_type='angle'))\n",
    "# Create a methane molecule by adding C atom to list of H atoms\n",
    "methane = Molecule(atoms=[m_C]+H_atoms)"
   ]
  },
  {
   "cell_type": "markdown",
   "metadata": {},
   "source": [
    "### Creating molecules using configuration files"
   ]
  },
  {
   "cell_type": "markdown",
   "metadata": {},
   "source": [
    "In addition to creating molecules manually, it is also possible to create them from atomic configuration files (e.g CIF files).  Please see the tutorial [Reading atoms from configuration files](read-configurations.ipynb) for a detailed description on how to do this."
   ]
  },
  {
   "cell_type": "markdown",
   "metadata": {},
   "source": [
    "### Add structural units to a universe\n",
    "There are two methods for adding a structural unit to a universe:"
   ]
  },
  {
   "cell_type": "code",
   "execution_count": 21,
   "metadata": {
    "execution": {
     "iopub.execute_input": "2023-06-04T20:33:35.260592Z",
     "iopub.status.busy": "2023-06-04T20:33:35.260310Z",
     "iopub.status.idle": "2023-06-04T20:33:35.264973Z",
     "shell.execute_reply": "2023-06-04T20:33:35.264437Z"
    }
   },
   "outputs": [],
   "source": [
    "# Add an individual structural unit to the universe\n",
    "universe.add_structure(H_mol)\n",
    "# Fill the universe with the structural unit repeated on a cubic lattice with a specific number density\n",
    "universe.fill(H_mol, num_density = 0.01)"
   ]
  },
  {
   "cell_type": "markdown",
   "metadata": {},
   "source": [
    "Currently the `fill` command cannot be used in conjunction with `add_structure`. When using it with a cubic universe the density will be isotropic, however the exact number of structural units added by `fill` may be lower than expected as it will always add a cube number. Using `fill` with a non-cubic universe is not recommended as the density may or may not be isotropic depending on the dimensions of the universe and the number of units.\n",
    "\n",
    "### Create non-bonded interactions\n",
    "Non-bonded interactions are applied to atoms based on their `atom_type`, rather than to individual atoms.  They must also have a `Universe` specified, so that they know to which atoms they apply (atoms must have an `atom_type` once they have been added to a universe).  For example, to create a `Dispersion` interaction with a `LennardJones` interaction function between two atom types:"
   ]
  },
  {
   "cell_type": "code",
   "execution_count": 22,
   "metadata": {
    "execution": {
     "iopub.execute_input": "2023-06-04T20:33:35.267329Z",
     "iopub.status.busy": "2023-06-04T20:33:35.266903Z",
     "iopub.status.idle": "2023-06-04T20:33:35.270225Z",
     "shell.execute_reply": "2023-06-04T20:33:35.269665Z"
    }
   },
   "outputs": [],
   "source": [
    "# Import the Dispersion interaction and Lennard-Jones function\n",
    "from MDMC.MD import Dispersion\n",
    "from MDMC.MD import LennardJones\n",
    "# Create a dispersion interaction with a Lennard-Jones function between atoms with atom_type 1 (O) and atom_type 2 (H)\n",
    "# The first LJ parameter is epsilon and the second is sigma\n",
    "# The cutoff for the dispersion interaction can also be set (in Ang)\n",
    "LJ_HO = Dispersion(universe, [1, 2], function=LennardJones(0.65, 3.), cutoff=10.)"
   ]
  },
  {
   "cell_type": "markdown",
   "metadata": {},
   "source": [
    "The exception to this is `Coulombic` interactions, which can be applied either to a list of atoms or to a list of atom types.  If the Coulombic interaction is applied to a list of atoms, the universe does not need to be specified:"
   ]
  },
  {
   "cell_type": "code",
   "execution_count": 23,
   "metadata": {
    "execution": {
     "iopub.execute_input": "2023-06-04T20:33:35.272439Z",
     "iopub.status.busy": "2023-06-04T20:33:35.272164Z",
     "iopub.status.idle": "2023-06-04T20:33:35.275378Z",
     "shell.execute_reply": "2023-06-04T20:33:35.274829Z"
    }
   },
   "outputs": [],
   "source": [
    "# Import the Coulombic interaction\n",
    "from MDMC.MD import Coulombic\n",
    "# Create a Coulombic interaction with a Coulomb potential and a charge of 0.42\n",
    "c_H = Coulombic(atoms=[H1, H2], charge=0.42)"
   ]
  },
  {
   "cell_type": "markdown",
   "metadata": {},
   "source": [
    "As `Coulombic` interactions typically have the same interaction function (i.e. a `Coulomb` function, where the force results in Coulomb's law), `Coulombic` interactions do not need to be specified with an interaction function (although other functions can be provided); to set the function as `Coulomb`, a value for the charge can be passed.  The warning highlights the `Coulomb` interaction function has been automatically set.  This is equivalent to:"
   ]
  },
  {
   "cell_type": "code",
   "execution_count": 24,
   "metadata": {
    "execution": {
     "iopub.execute_input": "2023-06-04T20:33:35.277657Z",
     "iopub.status.busy": "2023-06-04T20:33:35.277478Z",
     "iopub.status.idle": "2023-06-04T20:33:35.280291Z",
     "shell.execute_reply": "2023-06-04T20:33:35.279747Z"
    }
   },
   "outputs": [],
   "source": [
    "from MDMC.MD import Coulomb\n",
    "c_H = Coulombic(atoms=[H1, H2], function=Coulomb(0.42))"
   ]
  },
  {
   "cell_type": "markdown",
   "metadata": {},
   "source": [
    "As with all non-bonded interactions, a Coulombic interaction can also be created by specifying the atom types:"
   ]
  },
  {
   "cell_type": "code",
   "execution_count": 25,
   "metadata": {
    "execution": {
     "iopub.execute_input": "2023-06-04T20:33:35.282471Z",
     "iopub.status.busy": "2023-06-04T20:33:35.282290Z",
     "iopub.status.idle": "2023-06-04T20:33:35.285134Z",
     "shell.execute_reply": "2023-06-04T20:33:35.284564Z"
    }
   },
   "outputs": [],
   "source": [
    "c_O = Coulombic(universe, atom_types=[1], charge=0.42)"
   ]
  },
  {
   "cell_type": "markdown",
   "metadata": {},
   "source": [
    "In this case a universe must be provided."
   ]
  },
  {
   "cell_type": "markdown",
   "metadata": {},
   "source": [
    "### Applying a `ForceField`"
   ]
  },
  {
   "cell_type": "markdown",
   "metadata": {},
   "source": [
    "As well as manually setting the `Parameter` values for each interaction (e.g. `Coulombic(atoms=[H1, H2], function=Coulomb(0.42))` to set the `charge`), it is also possible to apply a `ForceField` to a `Universe`, in order to set the `Parameter` values.  Please see the tutorial [Applying a ForceField](applying-a-forcefield.ipynb) for a detailed description on how to do this."
   ]
  },
  {
   "cell_type": "markdown",
   "metadata": {},
   "source": [
    "### Adding kspace solvers to a universe\n",
    "There are several solvers for determining the long range energy contribution for non-bonded interactions, including Ewald, particle-particle particle-mesh (PPPM), and particle-mesh Ewald (PME).  If the long range contribution to the non-bonded energy (i.e. > cutoff) is to be calculated during a simulation, a kspace solver has to be added to the universe.  A solver can be specified for either electrostatic or dispersive interactions, or both. This can either be during universe initialisation or afterwards:"
   ]
  },
  {
   "cell_type": "code",
   "execution_count": 26,
   "metadata": {
    "execution": {
     "iopub.execute_input": "2023-06-04T20:33:35.287638Z",
     "iopub.status.busy": "2023-06-04T20:33:35.287357Z",
     "iopub.status.idle": "2023-06-04T20:33:35.294961Z",
     "shell.execute_reply": "2023-06-04T20:33:35.294368Z"
    }
   },
   "outputs": [
    {
     "name": "stdout",
     "output_type": "stream",
     "text": [
      "Universe created with:\n",
      "  Dimensions       [10.0, 10.0, 10.0]\n",
      "  Force field                    None\n",
      "  Number of atoms                   0\n",
      "\n",
      "Universe created with:\n",
      "  Dimensions       [10.0, 10.0, 10.0]\n",
      "  Force field                    None\n",
      "  Number of atoms                   0\n",
      "\n",
      "Universe created with:\n",
      "  Dimensions       [10.0, 10.0, 10.0]\n",
      "  Force field                    None\n",
      "  Number of atoms                   0\n",
      "\n"
     ]
    }
   ],
   "source": [
    "# Import Ewald and PPPM kspace solvers\n",
    "from MDMC.MD import Ewald, PPPM\n",
    "# Create an ewald solver\n",
    "ewald = Ewald(accuracy=1e-5)\n",
    "# Initialise a universe with an Ewald solver for both electrostatics and dispersive interactions\n",
    "uni1 = Universe(10., kspace_solver=ewald)\n",
    "# Initialise a universe and then add a PPPM solver for electrostatic interactions\n",
    "uni2 = Universe(10.)\n",
    "pppm = PPPM(accuracy=1e-4)\n",
    "uni2.electrostatic_solver = pppm\n",
    "# Initialise a universe with a PPPM solver for dispersive interactions\n",
    "uni3 = Universe(10., dispersive_solver=PPPM)"
   ]
  },
  {
   "cell_type": "markdown",
   "metadata": {},
   "source": [
    "Not all kspace solvers are implemented for all MD engines, and they may also require different parameters to be specified - see the MD engine documentation for more information.\n",
    "\n",
    "### Adding constraint algorithms to a universe\n",
    "In a similar manner to kspace solvers, constraint algorithms (e.g. SHAKE, RATTLE) can also be passed to a universe.  A constraint algorithm is required if any of the bonded interactions are constrained."
   ]
  },
  {
   "cell_type": "code",
   "execution_count": 27,
   "metadata": {
    "execution": {
     "iopub.execute_input": "2023-06-04T20:33:35.298185Z",
     "iopub.status.busy": "2023-06-04T20:33:35.297909Z",
     "iopub.status.idle": "2023-06-04T20:33:35.303859Z",
     "shell.execute_reply": "2023-06-04T20:33:35.303298Z"
    }
   },
   "outputs": [
    {
     "name": "stdout",
     "output_type": "stream",
     "text": [
      "Universe created with:\n",
      "  Dimensions       [10.0, 10.0, 10.0]\n",
      "  Force field                    None\n",
      "  Number of atoms                   0\n",
      "\n",
      "Universe created with:\n",
      "  Dimensions       [10.0, 10.0, 10.0]\n",
      "  Force field                    None\n",
      "  Number of atoms                   0\n",
      "\n"
     ]
    }
   ],
   "source": [
    "# Import Shake and Rattle\n",
    "from MDMC.MD import Shake, Rattle\n",
    "# Initialise a universe with the Shake algorithm\n",
    "# The first Shake parameter is the accuracy and the second is the maximum number of iterations used for any constraint calculation\n",
    "shake = Shake(1e-4, 100)\n",
    "uni4 = Universe(10., constraint_algorithm=shake)\n",
    "# Add Rattle after universe initialisation\n",
    "rattle = Rattle(1e-5, 1000)\n",
    "uni5 = Universe(10.)\n",
    "uni5.constraint_algorithm = rattle"
   ]
  },
  {
   "cell_type": "markdown",
   "metadata": {},
   "source": [
    "Not all constraint algorithms are implemented for all MD engines, and they may also required different parameters to be specified - see the MD engine documentation for more information.\n",
    "\n",
    "## Example Universe filled with water\n",
    "For water, SPCE, SPC, TIP3P and TIP3PFB forcefields are predefined, so parameters do not need to be set when interactions are defined; instead parameters are set by adding a forcefield to the universe.\n",
    "\n",
    "Note that all water models have (harmonic) potential strengths defined for their `Bond`s and `BondAngle`s. In order to create a rigid water molecule in accordance with the models, a `constraint_algorithm` should be passed to the `Universe` and `constrained=True` passed to the relevant interactions, as shown below.\n",
    "\n",
    "\"Constraining\" the ability of the bonds to oscillate during MD in this way should not be confused with constraining the value of an MDMC `Parameter` to a certain numerical range during refinement, as described in [Running a Refinement](running-a-refinement.ipynb). It is entirely possible to have a rigid bond but allow the length of that bond to change between refinement steps, or conversely have a bond that is free to oscillate during MD but the equilibrium length is not altered as part of the refinement."
   ]
  },
  {
   "cell_type": "code",
   "execution_count": 28,
   "metadata": {
    "execution": {
     "iopub.execute_input": "2023-06-04T20:33:35.306213Z",
     "iopub.status.busy": "2023-06-04T20:33:35.305933Z",
     "iopub.status.idle": "2023-06-04T20:33:35.393473Z",
     "shell.execute_reply": "2023-06-04T20:33:35.392938Z"
    }
   },
   "outputs": [
    {
     "name": "stdout",
     "output_type": "stream",
     "text": [
      "Universe created with:\n",
      "  Dimensions       [21.75, 21.75, 21.75]\n",
      "  Force field                       None\n",
      "  Number of atoms                      0\n",
      "\n"
     ]
    }
   ],
   "source": [
    "from MDMC.MD import *\n",
    "\n",
    "universe = Universe(dimensions=21.75, constraint_algorithm=Shake(1e-4, 100), electrostatic_solver=PPPM(accuracy=1e-5))\n",
    "H1 = Atom('H')\n",
    "H2 = Atom('H', position=(0., 1.63298, 0.))\n",
    "O = Atom('O', position=(0., 0.81649, 0.57736))\n",
    "H_coulombic = Coulombic(atoms=[H1, H2], cutoff=10.)\n",
    "O_coulombic = Coulombic(atoms=O, cutoff=10.)\n",
    "water_mol = Molecule(position=(0, 0, 0),\n",
    "                     velocity=(0, 0, 0),\n",
    "                     atoms=[H1, H2, O],\n",
    "                     interactions=[Bond((H1, O), (H2, O), constrained=True),\n",
    "                                   BondAngle(H1, O, H2, constrained=True)],\n",
    "                     name='water')\n",
    "universe.fill(water_mol, num_density=0.03356718472021752)\n",
    "O_dispersion = Dispersion(universe, [O.atom_type, O.atom_type], cutoff=10., vdw_tail_correction=True)\n",
    "universe.add_force_field('SPCE')"
   ]
  },
  {
   "cell_type": "markdown",
   "metadata": {},
   "source": [
    "## Accessing information\n",
    "After creating a `Universe`, the various properties and attributes of it can be accessed as follows:\n",
    "\n",
    "### Geometry"
   ]
  },
  {
   "cell_type": "code",
   "execution_count": 29,
   "metadata": {
    "execution": {
     "iopub.execute_input": "2023-06-04T20:33:35.396123Z",
     "iopub.status.busy": "2023-06-04T20:33:35.395926Z",
     "iopub.status.idle": "2023-06-04T20:33:35.399212Z",
     "shell.execute_reply": "2023-06-04T20:33:35.398596Z"
    }
   },
   "outputs": [
    {
     "name": "stdout",
     "output_type": "stream",
     "text": [
      "The dimension(s) of the Universe are [21.75 21.75 21.75] Ang, giving a volume of 10289.109375 Ang ^ 3\n"
     ]
    }
   ],
   "source": [
    "print('The dimension(s) of the Universe are {0}, giving a volume of {1}'\n",
    "      ''.format(universe.dimensions, universe.volume))"
   ]
  },
  {
   "cell_type": "markdown",
   "metadata": {},
   "source": [
    "### Forcefield"
   ]
  },
  {
   "cell_type": "code",
   "execution_count": 30,
   "metadata": {
    "execution": {
     "iopub.execute_input": "2023-06-04T20:33:35.402308Z",
     "iopub.status.busy": "2023-06-04T20:33:35.402125Z",
     "iopub.status.idle": "2023-06-04T20:33:35.405392Z",
     "shell.execute_reply": "2023-06-04T20:33:35.404838Z"
    }
   },
   "outputs": [
    {
     "name": "stdout",
     "output_type": "stream",
     "text": [
      "The current force field applied to the Universe is:\n",
      "<SPCE\n",
      " {interaction_dictionary: {(<class 'MDMC.MD.interactions.Coulombic'>, ('O',)): <Coulomb\n",
      " {parameters: {'charge (#54)': <Parameter\n",
      " {ID: 54,\n",
      "  type: 'charge',\n",
      "  value: -0.8476 e,\n",
      "  unit: 'e',\n",
      "  fixed: False,\n",
      "  constraints: None,\n",
      "  interactions_name: None,\n",
      "  functions_name: None,\n",
      "  tied: False}>}}>, (<class 'MDMC.MD.interactions.Coulombic'>, ('H',)): <Coulomb\n",
      " {parameters: {'charge (#55)': <Parameter\n",
      " {ID: 55,\n",
      "  type: 'charge',\n",
      "  value: 0.4238 e,\n",
      "  unit: 'e',\n",
      "  fixed: False,\n",
      "  constraints: None,\n",
      "  interactions_name: None,\n",
      "  functions_name: None,\n",
      "  tied: False}>}}>, (<class 'MDMC.MD.interactions.Dispersion'>, ('O', 'O')): <LennardJones\n",
      " {parameters: {'epsilon (#56)': <Parameter\n",
      " {ID: 56,\n",
      "  type: 'epsilon',\n",
      "  value: 0.6502 kJ / mol,\n",
      "  unit: 'kJ / mol',\n",
      "  fixed: False,\n",
      "  constraints: None,\n",
      "  interactions_name: None,\n",
      "  functions_name: None,\n",
      "  tied: False}>, 'sigma (#57)': <Parameter\n",
      " {ID: 57,\n",
      "  type: 'sigma',\n",
      "  value: 3.166 Ang,\n",
      "  unit: 'Ang',\n",
      "  fixed: False,\n",
      "  constraints: None,\n",
      "  interactions_name: None,\n",
      "  functions_name: None,\n",
      "  tied: False}>}}>, (<class 'MDMC.MD.interactions.Bond'>, ('H', 'O')): <HarmonicPotential\n",
      " {parameters: {'equilibrium_state (#58)': <Parameter\n",
      " {ID: 58,\n",
      "  type: 'equilibrium_state',\n",
      "  value: 1.0 Ang,\n",
      "  unit: 'Ang',\n",
      "  fixed: False,\n",
      "  constraints: None,\n",
      "  interactions_name: None,\n",
      "  functions_name: None,\n",
      "  tied: False}>, 'potential_strength (#59)': <Parameter\n",
      " {ID: 59,\n",
      "  type: 'potential_strength',\n",
      "  value: 4637.0 kJ / mol Ang ^ 2,\n",
      "  unit: 'kJ / mol Ang ^ 2',\n",
      "  fixed: False,\n",
      "  constraints: None,\n",
      "  interactions_name: None,\n",
      "  functions_name: None,\n",
      "  tied: False}>}}>, (<class 'MDMC.MD.interactions.BondAngle'>, ('H', 'O', 'H')): <HarmonicPotential\n",
      " {parameters: {'equilibrium_state (#60)': <Parameter\n",
      " {ID: 60,\n",
      "  type: 'equilibrium_state',\n",
      "  value: 109.47 deg,\n",
      "  unit: 'deg',\n",
      "  fixed: False,\n",
      "  constraints: None,\n",
      "  interactions_name: None,\n",
      "  functions_name: None,\n",
      "  tied: False}>, 'potential_strength (#61)': <Parameter\n",
      " {ID: 61,\n",
      "  type: 'potential_strength',\n",
      "  value: 383.0 kJ / mol rad ^ 2,\n",
      "  unit: 'kJ / mol rad ^ 2',\n",
      "  fixed: False,\n",
      "  constraints: None,\n",
      "  interactions_name: None,\n",
      "  functions_name: None,\n",
      "  tied: False}>}}>},\n",
      "  n_body: 3}>\n"
     ]
    }
   ],
   "source": [
    "print('The current force field applied to the Universe is:\\n{}'\n",
    "      ''.format(universe.force_fields))"
   ]
  },
  {
   "cell_type": "markdown",
   "metadata": {},
   "source": [
    "### Configuration of atoms and molecules"
   ]
  },
  {
   "cell_type": "code",
   "execution_count": 31,
   "metadata": {
    "execution": {
     "iopub.execute_input": "2023-06-04T20:33:35.408221Z",
     "iopub.status.busy": "2023-06-04T20:33:35.408040Z",
     "iopub.status.idle": "2023-06-04T20:33:35.411588Z",
     "shell.execute_reply": "2023-06-04T20:33:35.411034Z"
    }
   },
   "outputs": [
    {
     "name": "stdout",
     "output_type": "stream",
     "text": [
      "There are 1029 atoms in the Universe\n",
      "\n"
     ]
    }
   ],
   "source": [
    "print('There are {0} atoms in the Universe\\n'\n",
    "      ''.format(universe.n_atoms))\n",
    "\n",
    "# For a complete list run `print(universe.atoms)`"
   ]
  },
  {
   "cell_type": "code",
   "execution_count": 32,
   "metadata": {
    "execution": {
     "iopub.execute_input": "2023-06-04T20:33:35.414423Z",
     "iopub.status.busy": "2023-06-04T20:33:35.414242Z",
     "iopub.status.idle": "2023-06-04T20:33:35.417140Z",
     "shell.execute_reply": "2023-06-04T20:33:35.416564Z"
    }
   },
   "outputs": [
    {
     "name": "stdout",
     "output_type": "stream",
     "text": [
      "There are 343 molecules in the Universe\n",
      "\n"
     ]
    }
   ],
   "source": [
    "print('There are {0} molecules in the Universe\\n'\n",
    "      ''.format(universe.n_molecules))\n",
    "\n",
    "# For a complete list run `print(universe.molecules)`"
   ]
  },
  {
   "cell_type": "markdown",
   "metadata": {},
   "source": [
    "### Configuration of interactions"
   ]
  },
  {
   "cell_type": "code",
   "execution_count": 33,
   "metadata": {
    "execution": {
     "iopub.execute_input": "2023-06-04T20:33:35.419851Z",
     "iopub.status.busy": "2023-06-04T20:33:35.419672Z",
     "iopub.status.idle": "2023-06-04T20:33:35.422511Z",
     "shell.execute_reply": "2023-06-04T20:33:35.421950Z"
    }
   },
   "outputs": [
    {
     "name": "stdout",
     "output_type": "stream",
     "text": [
      "There are 1032 total interactions in the Universe\n",
      "\n"
     ]
    }
   ],
   "source": [
    "print('There are {0} total interactions in the Universe\\n'\n",
    "      ''.format(universe.n_interactions))\n",
    "\n",
    "# For a complete list run `print(universe.interactions)`"
   ]
  },
  {
   "cell_type": "code",
   "execution_count": 34,
   "metadata": {
    "execution": {
     "iopub.execute_input": "2023-06-04T20:33:35.425102Z",
     "iopub.status.busy": "2023-06-04T20:33:35.424922Z",
     "iopub.status.idle": "2023-06-04T20:33:35.427781Z",
     "shell.execute_reply": "2023-06-04T20:33:35.427226Z"
    }
   },
   "outputs": [
    {
     "name": "stdout",
     "output_type": "stream",
     "text": [
      "There are 1029 bonded interactions in the Universe\n",
      "\n"
     ]
    }
   ],
   "source": [
    "print('There are {0} bonded interactions in the Universe\\n'\n",
    "      ''.format(universe.n_bonded))\n",
    "\n",
    "# For a complete list run `print(universe.bonded_interactions)`"
   ]
  },
  {
   "cell_type": "code",
   "execution_count": 35,
   "metadata": {
    "execution": {
     "iopub.execute_input": "2023-06-04T20:33:35.430340Z",
     "iopub.status.busy": "2023-06-04T20:33:35.430161Z",
     "iopub.status.idle": "2023-06-04T20:33:35.432985Z",
     "shell.execute_reply": "2023-06-04T20:33:35.432440Z"
    }
   },
   "outputs": [
    {
     "name": "stdout",
     "output_type": "stream",
     "text": [
      "There are 3 nonbonded interactions in the Universe\n",
      "\n"
     ]
    }
   ],
   "source": [
    "print('There are {0} nonbonded interactions in the Universe\\n'\n",
    "      ''.format(universe.n_nonbonded))\n",
    "\n",
    "# For a complete list run `print(universe.nonbonded_interactions)`"
   ]
  },
  {
   "cell_type": "markdown",
   "metadata": {},
   "source": [
    "### Constraints"
   ]
  },
  {
   "cell_type": "code",
   "execution_count": 36,
   "metadata": {
    "execution": {
     "iopub.execute_input": "2023-06-04T20:33:35.435727Z",
     "iopub.status.busy": "2023-06-04T20:33:35.435447Z",
     "iopub.status.idle": "2023-06-04T20:33:35.438465Z",
     "shell.execute_reply": "2023-06-04T20:33:35.437944Z"
    }
   },
   "outputs": [
    {
     "name": "stdout",
     "output_type": "stream",
     "text": [
      "The current constraint algorithm applied to the Universe is Shake\n"
     ]
    }
   ],
   "source": [
    "print('The current constraint algorithm applied to the Universe is {}'\n",
    "      ''.format(universe.constraint_algorithm.name))"
   ]
  },
  {
   "cell_type": "markdown",
   "metadata": {},
   "source": [
    "### Solvers\n",
    "Note that a `kspace_solver` is mutually excusive with the other solver types."
   ]
  },
  {
   "cell_type": "code",
   "execution_count": 37,
   "metadata": {
    "execution": {
     "iopub.execute_input": "2023-06-04T20:33:35.440683Z",
     "iopub.status.busy": "2023-06-04T20:33:35.440344Z",
     "iopub.status.idle": "2023-06-04T20:33:35.443738Z",
     "shell.execute_reply": "2023-06-04T20:33:35.443176Z"
    }
   },
   "outputs": [
    {
     "name": "stdout",
     "output_type": "stream",
     "text": [
      "The kspace_solver is None\n",
      "The electrostatic_solver is PPPM\n",
      "The dispersive_solver is None\n"
     ]
    }
   ],
   "source": [
    "print('The kspace_solver is {}'.format(universe.kspace_solver and universe.kspace_solver.name))\n",
    "print('The electrostatic_solver is {}'.format(universe.electrostatic_solver and universe.electrostatic_solver.name))\n",
    "print('The dispersive_solver is {}'.format(universe.dispersive_solver and universe.dispersive_solver.name))"
   ]
  },
  {
   "cell_type": "markdown",
   "metadata": {},
   "source": [
    "### Parameters"
   ]
  },
  {
   "cell_type": "code",
   "execution_count": 38,
   "metadata": {
    "execution": {
     "iopub.execute_input": "2023-06-04T20:33:35.446500Z",
     "iopub.status.busy": "2023-06-04T20:33:35.446092Z",
     "iopub.status.idle": "2023-06-04T20:33:35.455541Z",
     "shell.execute_reply": "2023-06-04T20:33:35.454961Z"
    }
   },
   "outputs": [
    {
     "name": "stdout",
     "output_type": "stream",
     "text": [
      "The MDMC parameters of the Universe are:\n",
      "{'equilibrium_state (#50)': <Parameter\n",
      " {ID: 50,\n",
      "  type: 'equilibrium_state',\n",
      "  value: 1.0 Ang,\n",
      "  unit: 'Ang',\n",
      "  fixed: False,\n",
      "  constraints: None,\n",
      "  interactions_name: 'Bond',\n",
      "  functions_name: 'HarmonicPotential',\n",
      "  tied: False}>, 'potential_strength (#51)': <Parameter\n",
      " {ID: 51,\n",
      "  type: 'potential_strength',\n",
      "  value: 4637.0 kJ / mol Ang ^ 2,\n",
      "  unit: 'kJ / mol Ang ^ 2',\n",
      "  fixed: False,\n",
      "  constraints: None,\n",
      "  interactions_name: 'Bond',\n",
      "  functions_name: 'HarmonicPotential',\n",
      "  tied: False}>, 'equilibrium_state (#20)': <Parameter\n",
      " {ID: 20,\n",
      "  type: 'equilibrium_state',\n",
      "  value: 109.47 deg,\n",
      "  unit: 'deg',\n",
      "  fixed: False,\n",
      "  constraints: None,\n",
      "  interactions_name: 'BondAngle',\n",
      "  functions_name: 'HarmonicPotential',\n",
      "  tied: False}>, 'potential_strength (#21)': <Parameter\n",
      " {ID: 21,\n",
      "  type: 'potential_strength',\n",
      "  value: 383.0 kJ / mol rad ^ 2,\n",
      "  unit: 'kJ / mol rad ^ 2',\n",
      "  fixed: False,\n",
      "  constraints: None,\n",
      "  interactions_name: 'BondAngle',\n",
      "  functions_name: 'HarmonicPotential',\n",
      "  tied: False}>, 'charge (#23)': <Parameter\n",
      " {ID: 23,\n",
      "  type: 'charge',\n",
      "  value: 0.4238 e,\n",
      "  unit: 'e',\n",
      "  fixed: False,\n",
      "  constraints: None,\n",
      "  interactions_name: 'Coulombic',\n",
      "  functions_name: 'Coulomb',\n",
      "  tied: False}>, 'charge (#30)': <Parameter\n",
      " {ID: 30,\n",
      "  type: 'charge',\n",
      "  value: -0.8476 e,\n",
      "  unit: 'e',\n",
      "  fixed: False,\n",
      "  constraints: None,\n",
      "  interactions_name: 'Coulombic',\n",
      "  functions_name: 'Coulomb',\n",
      "  tied: False}>, 'epsilon (#40)': <Parameter\n",
      " {ID: 40,\n",
      "  type: 'epsilon',\n",
      "  value: 0.6502 kJ / mol,\n",
      "  unit: 'kJ / mol',\n",
      "  fixed: False,\n",
      "  constraints: None,\n",
      "  interactions_name: 'Dispersion',\n",
      "  functions_name: 'LennardJones',\n",
      "  tied: False}>, 'sigma (#41)': <Parameter\n",
      " {ID: 41,\n",
      "  type: 'sigma',\n",
      "  value: 3.166 Ang,\n",
      "  unit: 'Ang',\n",
      "  fixed: False,\n",
      "  constraints: None,\n",
      "  interactions_name: 'Dispersion',\n",
      "  functions_name: 'LennardJones',\n",
      "  tied: False}>}\n"
     ]
    }
   ],
   "source": [
    "print('The MDMC parameters of the Universe are:\\n{}'\n",
    "      ''.format(universe.parameters))"
   ]
  }
 ],
 "metadata": {
  "interpreter": {
   "hash": "add738a18a8c9080256f416f48e2f1975a0b0948846decec7f4bbc677823fdf5"
  },
  "kernelspec": {
   "display_name": "Python 3 (ipykernel)",
   "language": "python",
   "name": "python3"
  },
  "language_info": {
   "codemirror_mode": {
    "name": "ipython",
    "version": 3
   },
   "file_extension": ".py",
   "mimetype": "text/x-python",
   "name": "python",
   "nbconvert_exporter": "python",
   "pygments_lexer": "ipython3",
   "version": "3.11.2"
  }
 },
 "nbformat": 4,
 "nbformat_minor": 2
}
