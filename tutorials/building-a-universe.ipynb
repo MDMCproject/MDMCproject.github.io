{
 "cells": [
  {
   "cell_type": "markdown",
   "metadata": {},
   "source": [
    "# Building an MDMC Universe\n",
    "An MDMC simulation requires a configuration and a topology defined within a `Universe` object. Although MDMC is somewhat flexible with regards to the order in which these are created, a suggested approach is as follows:\n",
    "## Create the Universe\n",
    "MDMC currently only supports orthorhombic boxed Universes; the `dimensions` must be specified when creating (initialising) the `Universe` object:"
   ]
  },
  {
   "cell_type": "code",
   "execution_count": 5,
   "metadata": {},
   "outputs": [],
   "source": [
    "# Import the Universe class\n",
    "from MDMC.MD.simulation import Universe\n",
    "# Initialise a Universe with dimensions in Ang\n",
    "universe = Universe([10.0, 15.0, 20.0])"
   ]
  },
  {
   "cell_type": "markdown",
   "metadata": {},
   "source": [
    "To create a cubic `Universe`, only a single float needs to be specified for the `dimensions`:"
   ]
  },
  {
   "cell_type": "code",
   "execution_count": 6,
   "metadata": {},
   "outputs": [],
   "source": [
    "universe = Universe(10.0)"
   ]
  },
  {
   "cell_type": "markdown",
   "metadata": {},
   "source": [
    "## Create an atomic configuration\n",
    "Configurations can either be specified by the user or read from a CIF file.\n",
    "\n",
    "### Create an atom\n",
    "Each atom is specified using an `Atom` object, which possesses (amongst other things) a `position`, `velocity`, `element`, `mass`, `charge`, and `atom_type`.  At a minimum the `element` must be specified when creating an `Atom` object:"
   ]
  },
  {
   "cell_type": "code",
   "execution_count": 7,
   "metadata": {},
   "outputs": [],
   "source": [
    "# Import the Atom class\n",
    "from MDMC.MD.structural_units import Atom\n",
    "# Create a hydrogen atom\n",
    "H1 = Atom('H')"
   ]
  },
  {
   "cell_type": "markdown",
   "metadata": {},
   "source": [
    "This will create a Hydrogen atom with mass determined from an elemental lookup table, position and velocity of (0., 0., 0.) and no charge or atom type.  Atoms can also be created by copying another atom and passing the position of the new atom:"
   ]
  },
  {
   "cell_type": "code",
   "execution_count": 8,
   "metadata": {},
   "outputs": [],
   "source": [
    "H2 = H1.copy(position=[1., 1., 1.])"
   ]
  },
  {
   "cell_type": "markdown",
   "metadata": {},
   "source": [
    "The copied atom will have identical properties to the original attribute, except with a different ID (which is unique for all structural units) and a different position.  This includes interactions, which will applying to the copied atom in the same way as the original atom e.g. if H1 is bonded to an atom O, H2 will also be bonded to atom O.  An example of this is shown in the section **'Create bonded interactions'**."
   ]
  },
  {
   "cell_type": "markdown",
   "metadata": {},
   "source": [
    "### Atom type\n",
    "Each atom has an atom_type, which is used for applying non-bonded interactions between atoms; all atoms of the same atom_type will have the same non-bonded interactions applying to them.  The atom_type can be specified when the atom is created:"
   ]
  },
  {
   "cell_type": "code",
   "execution_count": 9,
   "metadata": {},
   "outputs": [],
   "source": [
    "O1 = Atom('O', position=[8.0, 8.0, 8.0], atom_type=1)\n",
    "# and to add the created atom to universe do\n",
    "universe.add_structural_unit(O1)"
   ]
  },
  {
   "cell_type": "markdown",
   "metadata": {},
   "source": [
    "Alternatively, the atom_type can be inferred by MDMC.  This occurs when an atom with no defined atom_type is added to a Universe:"
   ]
  },
  {
   "cell_type": "code",
   "execution_count": 10,
   "metadata": {},
   "outputs": [],
   "source": [
    "O2 = Atom('O', position=[9.0, 9.0, 9.0])\n",
    "universe.add_structural_unit(O2)"
   ]
  },
  {
   "cell_type": "markdown",
   "metadata": {},
   "source": [
    "Assuming no other atoms have been added to the universe, this sets ```O2.atom_type``` equal to 1.  MDMC infers the atom_type of each atom based on its element and its interactions: all atoms with the same element and the same interactions **when they are added to the universe** will have the same atom_type.  **Once an atom's atom_type is set, it is immutable i.e. it cannot be changed.**\n",
    "It is recommended that either all atom types are specified when atoms are created or none are (i.e. either MDMC is left to infer and assign all atom types or no atom types.  Only specifying some atom types could result in unexpected behaviour; if it is absolutely necessary then ensure that all atoms with specified atom types are added to the universe first).\n",
    "\n",
    "To see what atoms have been added to the universe:"
   ]
  },
  {
   "cell_type": "code",
   "execution_count": 11,
   "metadata": {},
   "outputs": [
    {
     "data": {
      "text/plain": [
       "[<Atom\n",
       "  {name: 'O',\n",
       "   ID: 3,\n",
       "   element: 'O',\n",
       "   position: UnitNDArray([8., 8., 8.]) Ang,\n",
       "   velocity: UnitNDArray([0., 0., 0.]) Ang / fs}>, <Atom\n",
       "  {name: 'O',\n",
       "   ID: 4,\n",
       "   element: 'O',\n",
       "   position: UnitNDArray([9., 9., 9.]) Ang,\n",
       "   velocity: UnitNDArray([0., 0., 0.]) Ang / fs}>]"
      ]
     },
     "execution_count": 11,
     "metadata": {},
     "output_type": "execute_result"
    }
   ],
   "source": [
    "universe.structure_list"
   ]
  },
  {
   "cell_type": "markdown",
   "metadata": {},
   "source": [
    "You can see other attributes of the universe (or any other MDMC containers) with:"
   ]
  },
  {
   "cell_type": "code",
   "execution_count": 12,
   "metadata": {},
   "outputs": [
    {
     "name": "stdout",
     "output_type": "stream",
     "text": [
      "Help on Universe in module MDMC.MD.simulation object:\n",
      "\n",
      "class Universe(MDMC.MD.container.AtomContainer)\n",
      " |  Class where configuration and topology are defined\n",
      " |  \n",
      " |  Parameters\n",
      " |  ----------\n",
      " |  dimensions : np.array, list, float\n",
      " |      Dimensions of the Universe, in units of Ang. A float can be used for a\n",
      " |      cubic universe.\n",
      " |  shape : enum\n",
      " |      Member of the Shape enum.\n",
      " |  force_field : ForceField\n",
      " |      A force field to apply to the Universe. The force fields available are:\n",
      " |      OPLSAA, SPCE, SPC\n",
      " |  structures : list\n",
      " |      Structures contained in the Universe.\n",
      " |  \n",
      " |  **settings\n",
      " |      kspace_solver : KSpaceSolver\n",
      " |          The k-space solver to be used for both electrostatic and dispersive\n",
      " |          interactions. If this is passed then no electrostatic_solver or\n",
      " |          dispersive_solver may be passed.\n",
      " |      electrostatic_solver : KSpaceSolver\n",
      " |          The k-space solver to be used for electrostatic interactions.\n",
      " |      dispersive_solver : KSpaceSolver\n",
      " |          The k-space solver to be used for dispersive interactions.\n",
      " |      constraint_algorithm : ConstraintAlgorithm\n",
      " |          The constraint algorithm which will be applied to constrained\n",
      " |          BondedInteractions.\n",
      " |  \n",
      " |  Attributes\n",
      " |  ----------\n",
      " |  shape : enum\n",
      " |      Member of the Shape enum.\n",
      " |  kspace_solver : KSpaceSolver\n",
      " |      The k-space solver to be used for both electrostatic and dispersive\n",
      " |      interactions.\n",
      " |  electrostatic_solver : KSpaceSolver\n",
      " |      The k-space solver to be used for electrostatic interactions.\n",
      " |  dispersive_solver : KSpaceSolver\n",
      " |      The k-space solver to be used for dispersive interactions.\n",
      " |  constraint_algorithm : ConstraintAlgorithm\n",
      " |      The constraint algorithm which will be applied to constrained\n",
      " |      BondedInteractions.\n",
      " |  \n",
      " |  Method resolution order:\n",
      " |      Universe\n",
      " |      MDMC.MD.container.AtomContainer\n",
      " |      abc.ABC\n",
      " |      builtins.object\n",
      " |  \n",
      " |  Methods defined here:\n",
      " |  \n",
      " |  __init__(self, dimensions, shape=<Shape.cubic: 1>, force_field=None, structures=None, **settings)\n",
      " |      Initialize self.  See help(type(self)) for accurate signature.\n",
      " |  \n",
      " |  add_bonded_interaction_pairs(self, *bonded_interaction_pairs)\n",
      " |      Adds one or more interaction pairs to the Universe\n",
      " |      \n",
      " |      Parameters\n",
      " |      ----------\n",
      " |      *bonded_interaction_pairs\n",
      " |          one or more (interaction, atoms) pairs, where atoms is a tuple of\n",
      " |          all atoms for that specific bonded interaction\n",
      " |  \n",
      " |  add_force_field(self, force_field, *interactions, **settings)\n",
      " |      Adds a force field to the specified interactions.  If no interactions\n",
      " |      are passed, the force field is applied to all interactions in the\n",
      " |      Universe.\n",
      " |      \n",
      " |      Parameters\n",
      " |      ----------\n",
      " |      force_field : str\n",
      " |          The ForceField to parameterize interactions (if provided), or all\n",
      " |          the interactions in the universe. The available force fields are:\n",
      " |          OPLSAA, SPCE, SPC\n",
      " |      *interactions\n",
      " |          Interactions to parameterize with the force field\n",
      " |      **settings\n",
      " |          add_dispersions : bool or list of Atoms\n",
      " |              If True, a Dispersion interaction will be added to all atoms in\n",
      " |              the Universe. If a list of Atom objects is provided, the\n",
      " |              Dispersion will be added to these instead. Any added Dispersion\n",
      " |              interactions (and any previously defined) will then be\n",
      " |              parametrized by the ForceField. The Dispersion interactions\n",
      " |              added will only be like-like. By default, no Dispersion\n",
      " |              interactions are added.\n",
      " |  \n",
      " |  add_nonbonded_interaction(self, *nonbonded_interactions)\n",
      " |      Adds one or more nonbonded interactions to the Universe\n",
      " |      \n",
      " |      Parameters\n",
      " |      ----------\n",
      " |      *nonbonded_interactions\n",
      " |          Nonbonded interactions to be added to the Universe\n",
      " |  \n",
      " |  add_structural_unit(self, structural_unit, force_field=None, center=False)\n",
      " |      Adds a single structural unit to the universe, with optional force field\n",
      " |      applying only to that structural unit\n",
      " |      \n",
      " |      Parameters\n",
      " |      ----------\n",
      " |      structural_unit : StructuralUnit\n",
      " |          The structural unit to be added to the Universe\n",
      " |      force_field : str, optional\n",
      " |          The force field to be applied to the structural unit. The available\n",
      " |          force fields are:\n",
      " |          OPLSAA, SPCE, SPC\n",
      " |      center : bool, optional\n",
      " |          Whether to center to `structural_unit` within the Universe as it\n",
      " |          is added\n",
      " |  \n",
      " |  fill(self, structural_unit, force_field=None, **settings)\n",
      " |      A liquid-like filling of the Universe independent of existing atoms\n",
      " |      \n",
      " |      Adds copies of structural_unit to existing configuration until Universe\n",
      " |      is full.  As exclusion region is defined by the size of a bounding\n",
      " |      sphere, this method is most suitable for atoms or molecules with\n",
      " |      approximately equal dimensions.\n",
      " |      \n",
      " |      CURRENT APPROACH RESULTS IN NUMBER DENSITY DIFFERENT TO WHAT IS\n",
      " |      SPECIFIED DEPENDING ON HOW CLOSE CUBE ROOT OF N_MOLECULES IS TO AN INT.\n",
      " |      \n",
      " |      Parameters\n",
      " |      ----------\n",
      " |      structural_unit : StructuralUnit\n",
      " |          The structural unit with which to fill the Universe\n",
      " |      force_field : str\n",
      " |          Applies a force field to the Universe. The available force fields\n",
      " |          are:\n",
      " |          OPLSAA, SPCE, SPC\n",
      " |      **settings\n",
      " |          num_density : float\n",
      " |              Non-negative float specifying the number density of the\n",
      " |              structural unit, in units of structural units Ang ^ -3\n",
      " |          num_struc_units : int\n",
      " |              Non-negative int specifying the number of passed structural\n",
      " |              units that the universe should be filled with, regardless of\n",
      " |              universe dimensions.\n",
      " |      \n",
      " |      Raises\n",
      " |      ------\n",
      " |      ValueError\n",
      " |          If both num_density and num_struc_units are passed\n",
      " |      ValueError\n",
      " |          If neither num_density or num_struc_units are passed\n",
      " |  \n",
      " |  solvate(self, density, tolerance=1.0, solvent='SPCE', **settings)\n",
      " |      Fills the universe with solvent molecules according to pre-defined\n",
      " |      coordinates.\n",
      " |      \n",
      " |      Parameters\n",
      " |      ----------\n",
      " |      density : float\n",
      " |          The desired density of the solvent that solvates the universe,\n",
      " |          in units of amu Ang ^ -3\n",
      " |      tolerance : float, optional\n",
      " |          The +/- percentage tolerance of the density to be achieved.\n",
      " |          The default is 1 %. Tolerances of less than 1 % are at risk\n",
      " |          of not converging.\n",
      " |      solvent : str, optional\n",
      " |          A str specifying an inbuilt solvent from the following:\n",
      " |          SPC, SPCE.\n",
      " |          The default is 'SPCE'.\n",
      " |      **settings\n",
      " |          constraint_algorithm : ConstraintAlgorithm\n",
      " |              A ConstraintAlgorithm which is applied to the Universe.  If an\n",
      " |              inbuilt solvent is selected (e.g. 'SPCE') and\n",
      " |              constraint_algorithm is not passed, the ConstraintAlgorithm will\n",
      " |              default to Shake(1e-4, 100).\n",
      " |      \n",
      " |      Raises\n",
      " |      ------\n",
      " |      ValueError\n",
      " |          If the universe has already been solvated with a different density.\n",
      " |  \n",
      " |  ----------------------------------------------------------------------\n",
      " |  Data descriptors defined here:\n",
      " |  \n",
      " |  atom_list\n",
      " |      Get a list of the atoms in the Universe\n",
      " |      \n",
      " |      Returns\n",
      " |      -------\n",
      " |      list\n",
      " |          The atoms in the Universe\n",
      " |  \n",
      " |  atom_type_interactions\n",
      " |      Get the atom types and the interactions for each atom type\n",
      " |      \n",
      " |      Returns\n",
      " |      -------\n",
      " |      dict\n",
      " |          atom_type:interactions pairs where atom_type is a int specifying the\n",
      " |          atom type and interactions is a list of interactions acting on that\n",
      " |          atom_type\n",
      " |  \n",
      " |  atom_types\n",
      " |      Get the atom types of atoms in the Universe\n",
      " |      \n",
      " |      Returns\n",
      " |      -------\n",
      " |      list\n",
      " |          The atom types in the Universe\n",
      " |  \n",
      " |  bonded_interaction_pairs\n",
      " |      Get the bonded interactions and the atoms they apply to\n",
      " |      \n",
      " |      Returns\n",
      " |      -------\n",
      " |      list\n",
      " |          The (interaction, atoms) pairs in the Universe, where atoms is a\n",
      " |          tuple of all atoms for that specific interaction\n",
      " |      \n",
      " |      Example\n",
      " |      -------\n",
      " |      For an O Atom with two bonds, one to H1 and one to H2::\n",
      " |      \n",
      " |          >>> print(O.bonded_interaction_pairs)\n",
      " |          [(Bond, (H1, O)), (Bond, (H2, O))]\n",
      " |  \n",
      " |  bonded_interactions\n",
      " |      Get the bonded interactions in the Universe\n",
      " |      \n",
      " |      Returns\n",
      " |      -------\n",
      " |      list\n",
      " |          The bonded interactions in the Universe\n",
      " |  \n",
      " |  density\n",
      " |  \n",
      " |  dimensions\n",
      " |  \n",
      " |  element_dict\n",
      " |      Get the elements in the Universe and examples atoms for each element\n",
      " |      \n",
      " |      This is required for MD engines which assign the same potential\n",
      " |      parameters for all identical element types.\n",
      " |      \n",
      " |      Returns\n",
      " |      -------\n",
      " |      dict\n",
      " |          element:atom pairs, where atom is a single atom of the specified\n",
      " |          element.\n",
      " |  \n",
      " |  element_list\n",
      " |      The elements of the atoms in the Universe.\n",
      " |      \n",
      " |      Returns\n",
      " |      -------\n",
      " |      list\n",
      " |          The elements in the Universe.\n",
      " |  \n",
      " |  force_fields\n",
      " |      Get or set the force fields acting on the Universe\n",
      " |      \n",
      " |      The available force fields are:\n",
      " |      OPLSAA, SPCE, SPC\n",
      " |      \n",
      " |      Returns\n",
      " |      -------\n",
      " |      list\n",
      " |          Force fields that apply to the Universe\n",
      " |  \n",
      " |  interactions\n",
      " |      Get the interactions in the Universe\n",
      " |      \n",
      " |      Returns\n",
      " |      -------\n",
      " |      list\n",
      " |          The interactions in the Universe\n",
      " |  \n",
      " |  molecule_list\n",
      " |      Get a list of the molecules in the Universe\n",
      " |      \n",
      " |      Returns\n",
      " |      -------\n",
      " |      list\n",
      " |          The molecules in the Universe\n",
      " |  \n",
      " |  nbis_by_atom_type_pairs\n",
      " |      Generates a dictionary of all nonbonded interactions possessed by all\n",
      " |      combinations of atom_type pairs in the universe.\n",
      " |      \n",
      " |      Returns\n",
      " |      -------\n",
      " |      pairs_interactions : dict of {tuple: list} pairs\n",
      " |          A dictionary of {pair: interactions} pairs, where:\n",
      " |              - pair is a tuple for a pair of atom types in the universe,\n",
      " |              - interactions is a list of nonbonded interactions that exist\n",
      " |                for this pair of atom types.\n",
      " |      \n",
      " |          Any Dispersions in interactions are ones that exist explicity\n",
      " |          for this pair, whereas any Coulombics in interactions are ones\n",
      " |          that exist for either of the atom types in pair.\n",
      " |  \n",
      " |  nonbonded_interactions\n",
      " |      Get the nonbonded interactions in the Universe\n",
      " |      \n",
      " |      Returns\n",
      " |      -------\n",
      " |      list\n",
      " |          The nonbonded interactions in the Universe\n",
      " |  \n",
      " |  parameters\n",
      " |      Get the parameters of the interactions that exist within the Universe\n",
      " |      \n",
      " |      Returns\n",
      " |      -------\n",
      " |      set\n",
      " |          The parameters in the Universe\n",
      " |  \n",
      " |  solvent_density\n",
      " |  \n",
      " |  structure_list\n",
      " |      Get a list of all structural units that exist in the Universe.  This\n",
      " |      includes all structural units that are a subunit of another structure\n",
      " |      belonging to the universe.\n",
      " |      \n",
      " |      \n",
      " |      Returns\n",
      " |      -------\n",
      " |      list\n",
      " |          The structural units in the Universe\n",
      " |  \n",
      " |  volume\n",
      " |  \n",
      " |  ----------------------------------------------------------------------\n",
      " |  Data and other attributes defined here:\n",
      " |  \n",
      " |  __abstractmethods__ = frozenset()\n",
      " |  \n",
      " |  ----------------------------------------------------------------------\n",
      " |  Methods inherited from MDMC.MD.container.AtomContainer:\n",
      " |  \n",
      " |  __getitem__(self, index)\n",
      " |      Returns\n",
      " |      -------\n",
      " |      Atom, list\n",
      " |          The atom (or atoms) for the specified index (or slice)\n",
      " |  \n",
      " |  ----------------------------------------------------------------------\n",
      " |  Data descriptors inherited from abc.ABC:\n",
      " |  \n",
      " |  __dict__\n",
      " |      dictionary for instance variables (if defined)\n",
      " |  \n",
      " |  __weakref__\n",
      " |      list of weak references to the object (if defined)\n",
      "\n"
     ]
    }
   ],
   "source": [
    "help(universe)"
   ]
  },
  {
   "cell_type": "markdown",
   "metadata": {},
   "source": [
    "The same applies for methods, for example:"
   ]
  },
  {
   "cell_type": "code",
   "execution_count": 13,
   "metadata": {},
   "outputs": [
    {
     "name": "stdout",
     "output_type": "stream",
     "text": [
      "Help on method add_structural_unit in module MDMC.MD.simulation:\n",
      "\n",
      "add_structural_unit(structural_unit, force_field=None, center=False) method of MDMC.MD.simulation.Universe instance\n",
      "    Adds a single structural unit to the universe, with optional force field\n",
      "    applying only to that structural unit\n",
      "    \n",
      "    Parameters\n",
      "    ----------\n",
      "    structural_unit : StructuralUnit\n",
      "        The structural unit to be added to the Universe\n",
      "    force_field : str, optional\n",
      "        The force field to be applied to the structural unit. The available\n",
      "        force fields are:\n",
      "        OPLSAA, SPCE, SPC\n",
      "    center : bool, optional\n",
      "        Whether to center to `structural_unit` within the Universe as it\n",
      "        is added\n",
      "\n"
     ]
    }
   ],
   "source": [
    "help(universe.add_structural_unit)"
   ]
  },
  {
   "cell_type": "markdown",
   "metadata": {},
   "source": [
    "### Create bonded interactions\n",
    "There are three bonded interaction types exist within MDMC: `Bond`, `BondAngle` and `Dihedral`.  Each `Interaction` must have an `InteractionFunction` which describes the `Interaction`."
   ]
  },
  {
   "cell_type": "markdown",
   "metadata": {},
   "source": [
    "### `Bond`\n",
    "Below this is demonstrated where a `Bond` with a `HarmonicPotential` function is created."
   ]
  },
  {
   "cell_type": "code",
   "execution_count": 14,
   "metadata": {},
   "outputs": [],
   "source": [
    "# Import Bond and HarmonicPotential\n",
    "from MDMC.MD.structural_units import Bond\n",
    "from MDMC.MD.interaction_functions import HarmonicPotential\n",
    "# Create a Bond with a HarmonicPotential\n",
    "# The first argument in the HarmonicPotential is the equilibrium state and the second is the potential strength\n",
    "HH_bond = Bond(H1, H2, function=HarmonicPotential(1., 100., interaction_type='bond'))"
   ]
  },
  {
   "cell_type": "markdown",
   "metadata": {},
   "source": [
    "To see which units are supported:"
   ]
  },
  {
   "cell_type": "code",
   "execution_count": 15,
   "metadata": {},
   "outputs": [
    {
     "data": {
      "text/plain": [
       "{'LENGTH': 'Ang',\n",
       " 'TIME': 'fs',\n",
       " 'MASS': 'amu',\n",
       " 'CHARGE': 'e',\n",
       " 'ANGLE': 'deg',\n",
       " 'TEMPERATURE': 'K',\n",
       " 'ENERGY': 'kJ / mol',\n",
       " 'FORCE': 'kJ / Ang mol',\n",
       " 'PRESSURE': 'Pa',\n",
       " 'ENERGY_TRANSFER': 'meV',\n",
       " 'ARBITRARY': 'arb'}"
      ]
     },
     "execution_count": 15,
     "metadata": {},
     "output_type": "execute_result"
    }
   ],
   "source": [
    "from MDMC.common.units import SYSTEM\n",
    "SYSTEM"
   ]
  },
  {
   "cell_type": "markdown",
   "metadata": {},
   "source": [
    "### `BondAngle`"
   ]
  },
  {
   "cell_type": "markdown",
   "metadata": {},
   "source": [
    "A `BondAngle` is created in the same manner except it requires a minimum of three atoms.  The central atom should be the the 2nd atom.  For example, a water molecule would have:"
   ]
  },
  {
   "cell_type": "code",
   "execution_count": 16,
   "metadata": {},
   "outputs": [],
   "source": [
    "from MDMC.MD.structural_units import BondAngle\n",
    "\n",
    "H1 = Atom('H')\n",
    "H2 = Atom('H', position=[0., 1.63298, 0.])\n",
    "O = Atom('O', position=[0., 0.81649, 0.57736])\n",
    "HOH_angle = BondAngle(H1, O, H2)\n",
    "\n",
    "# The following is equivalent\n",
    "HOH_angle = BondAngle(H2, O, H1)"
   ]
  },
  {
   "cell_type": "markdown",
   "metadata": {},
   "source": [
    "Currently `HarmonicPotential` is the only `InteractionFunction` that can be applied to either `Bond` or `BondAngle`."
   ]
  },
  {
   "cell_type": "markdown",
   "metadata": {},
   "source": [
    "All `Bond` and `BondAngle` can be constrained; this can either be set when creating the `Bond` (or `BondAngle`) or afterwards:"
   ]
  },
  {
   "cell_type": "code",
   "execution_count": 17,
   "metadata": {},
   "outputs": [],
   "source": [
    "HH_bond.constrained = True\n",
    "HOH_angle = BondAngle(H1, O, H2, constrained=True)"
   ]
  },
  {
   "cell_type": "markdown",
   "metadata": {},
   "source": [
    "For a constraint to applied during a simulation, the `Universe` must have a `ConstraintAlgorithm`."
   ]
  },
  {
   "cell_type": "markdown",
   "metadata": {},
   "source": [
    "### `DihedralAngle`"
   ]
  },
  {
   "cell_type": "markdown",
   "metadata": {},
   "source": [
    "A `DihedralAngle` is also created in the same manner, except it requires four atoms.  A `DihedralAngle` can be proper or improper, as specified by `DihedralAngle.improper`.  By default a `DihedralAngle` is proper.\n",
    "\n",
    "The atoms in a proper `DihedralAngle` must be specified so that the 2nd and 3rd atoms are the central two atoms:"
   ]
  },
  {
   "cell_type": "code",
   "execution_count": 18,
   "metadata": {},
   "outputs": [],
   "source": [
    "from MDMC.MD.structural_units import DihedralAngle\n",
    "\n",
    "C1 = Atom('C', position=[5.12033922, 4.63847287, 4.94075943])\n",
    "N = Atom('N', position=[5.12991894, 3.78609704, 3.79996577])\n",
    "C2 = Atom('C', position=[4.91462725, 4.08992816, 2.5091264])\n",
    "O = Atom('O', position=[4.67405373, 5.24130678, 2.1180462])\n",
    "proper = DihedralAngle(atoms=[C1, N, C2, O])\n",
    "\n",
    "# For a proper DihedralAngle, the equivalent atom order is:\n",
    "proper = DihedralAngle(atoms=[O, C2, N, C1])"
   ]
  },
  {
   "cell_type": "markdown",
   "metadata": {},
   "source": [
    "The atoms in an improper `DihedralAngle` must be specific so that the 1st atom is the central atom."
   ]
  },
  {
   "cell_type": "code",
   "execution_count": 19,
   "metadata": {},
   "outputs": [],
   "source": [
    "N = Atom('N', position=[4.97080909, 2.91075722, 1.57280005])\n",
    "C1 = Atom('C', position=[5.12033922, 4.63847287, 4.94075943])\n",
    "C2 = Atom('C', position=[5.12991894, 3.78609704, 3.79996577])\n",
    "C3 = Atom('C', position=[4.91462725, 4.08992816, 2.5091264 ])\n",
    "improper = DihedralAngle(atoms=[N, C1, C2, C3], improper=True)\n",
    "\n",
    "# The following are some of the equivalent permutations\n",
    "# The only unique atom location is the first location (central atom)\n",
    "improper = DihedralAngle(atoms=[N, C2, C1, C3], improper=True)\n",
    "improper = DihedralAngle(atoms=[N, C3, C1, C2], improper=True)\n",
    "improper = DihedralAngle(atoms=[N, C1, C3, C2], improper=True)"
   ]
  },
  {
   "cell_type": "markdown",
   "metadata": {},
   "source": [
    "Currently `Periodic` is the only `InteractionFunction` that can be applied to `DihedralAngle` interactions."
   ]
  },
  {
   "cell_type": "markdown",
   "metadata": {},
   "source": [
    "### Copying bonded atoms"
   ]
  },
  {
   "cell_type": "markdown",
   "metadata": {},
   "source": [
    "As mentioned above in the **'Create an atom'** section, if an `Atom` with a `BondedInteraction` is copied, the new atom will also have the same `BondedInteraction` (and be bonded to the same atom or atoms as the original).  For example:"
   ]
  },
  {
   "cell_type": "code",
   "execution_count": 20,
   "metadata": {},
   "outputs": [],
   "source": [
    "wH1 = Atom('H', position=(5., 5., 5.))\n",
    "wO = Atom('O', position=(5., 6.63298, 5.))\n",
    "wBond = Bond((wH1, wO), function=HarmonicPotential(1., 100., interaction_type='bond'))\n",
    "wH2 = wH1.copy(position=(0., 0.81649, 0.57736))"
   ]
  },
  {
   "cell_type": "markdown",
   "metadata": {},
   "source": [
    "Both atoms `wH1` and `wH2` are bonded to `wO`:"
   ]
  },
  {
   "cell_type": "code",
   "execution_count": 21,
   "metadata": {},
   "outputs": [
    {
     "data": {
      "text/plain": [
       "[(<Atom\n",
       "   {name: 'H',\n",
       "    ID: 16,\n",
       "    element: 'H',\n",
       "    position: UnitNDArray([5., 5., 5.]) Ang,\n",
       "    velocity: UnitNDArray([0., 0., 0.]) Ang / fs}>, <Atom\n",
       "   {name: 'O',\n",
       "    ID: 17,\n",
       "    element: 'O',\n",
       "    position: UnitNDArray([5.     , 6.63298, 5.     ]) Ang,\n",
       "    velocity: UnitNDArray([0., 0., 0.]) Ang / fs}>), (<Atom\n",
       "   {name: 'H',\n",
       "    ID: 18,\n",
       "    element: 'H',\n",
       "    position: UnitNDArray([0.     , 0.81649, 0.57736]) Ang,\n",
       "    velocity: UnitNDArray([0., 0., 0.]) Ang / fs}>, <Atom\n",
       "   {name: 'O',\n",
       "    ID: 17,\n",
       "    element: 'O',\n",
       "    position: UnitNDArray([5.     , 6.63298, 5.     ]) Ang,\n",
       "    velocity: UnitNDArray([0., 0., 0.]) Ang / fs}>)]"
      ]
     },
     "execution_count": 21,
     "metadata": {},
     "output_type": "execute_result"
    }
   ],
   "source": [
    "wBond.atoms"
   ]
  },
  {
   "cell_type": "markdown",
   "metadata": {},
   "source": [
    "### Create a molecule\n",
    "A molecule consists of two or more atoms and at least one bonded interaction:"
   ]
  },
  {
   "cell_type": "code",
   "execution_count": 22,
   "metadata": {},
   "outputs": [],
   "source": [
    "# Import the Atom, Molecule, Bond, BondAngle and HarmonicPotential classes\n",
    "from MDMC.MD.structural_units import Molecule, BondAngle\n",
    "# Create a H2 molecule\n",
    "H_mol = Molecule(position=[2.0, 2.0, 2.0], atoms=[H1, H2], interactions=[HH_bond])"
   ]
  },
  {
   "cell_type": "markdown",
   "metadata": {},
   "source": [
    "When a `Molecule` is created, the position of the atoms relative to one another is fixed.  The atoms are then moved so that the position of the molecular centre of mass is what was passed when creating the molecule.  In the example above, the atoms were at `[0., 0., 0.]` and `[1., 1., 1.]` before `H_mol` was created; therefore they will always be separated by `1.0 Ang` in each dimension, no matter where the molecule is moved to.  The molecular centre of mass is set to `[1.5, 1.5, 1.5]`, so the atom positions are changed to `[1.5, 1.5, 1.5]` and `[2.5, 2.5, 2.5]` respectively.\n",
    "It is also possible to `copy` molecules:"
   ]
  },
  {
   "cell_type": "code",
   "execution_count": 23,
   "metadata": {},
   "outputs": [],
   "source": [
    "H_mol2 = H_mol.copy(position=[5., 5., 5.])"
   ]
  },
  {
   "cell_type": "markdown",
   "metadata": {},
   "source": [
    "When a `Molecule` is copied, each `Atom` is copied, as are all of the bonded interactions between these atoms (and all of the non-bonded interactions).\n",
    "\n",
    "One method for building molecules is to copy atoms, as the interactions are also copied. For example, to build methane:"
   ]
  },
  {
   "cell_type": "code",
   "execution_count": 24,
   "metadata": {},
   "outputs": [],
   "source": [
    "m_C = Atom('C')\n",
    "# Define the H atom positions relative to a C at [0,0,0]\n",
    "d = 0.629118\n",
    "H_pos = [[d, d, d], [-d, -d, d], [d, -d, -d], [-d, d, -d]]\n",
    "m_H = Atom('H', position=H_pos[0])\n",
    "# Add a bond between \n",
    "CH_bonds = Bond(m_C, m_H, function=HarmonicPotential(1.09, 100., interaction_type='bond'))\n",
    "# Make three H atom copies (which are therefore all bonded to m_C)\n",
    "H_atoms = [m_H]\n",
    "for pos in H_pos[1:]:\n",
    "    H_atoms.append(m_H.copy(pos))\n",
    "# The next two lines simply create a list of unique HCH triplets\n",
    "# e.g. [(m_H1, m_C, m_H2), (m_H1, m_C, m_H3), ..., (m_H3, m_C, m_H4)].\n",
    "from itertools import combinations\n",
    "HCH_triplets = [(i[0], m_C, i[1]) for i in combinations(H_atoms, 2)]\n",
    "# Unpack the list of triplets with * notation i.e. [(...), (...), (...)] becomes (...), (...), (...)\n",
    "HCH_angles = BondAngle(*HCH_triplets, function=HarmonicPotential(109.5, 10., interaction_type='angle'))\n",
    "# Create a methane molecule by adding C atom to list of H atoms\n",
    "methane = Molecule(atoms=[m_C]+H_atoms)"
   ]
  },
  {
   "cell_type": "markdown",
   "metadata": {},
   "source": [
    "### Creating molecules using configuration files"
   ]
  },
  {
   "cell_type": "markdown",
   "metadata": {},
   "source": [
    "In addition to creating molecules manually, it is also possible to create them from atomic configuration files (e.g CIF files).  Please see the tutorial [Reading atoms from configuration files](read-configurations.ipynb) for a detailed description on how to do this."
   ]
  },
  {
   "cell_type": "markdown",
   "metadata": {},
   "source": [
    "### Add structural units to a universe\n",
    "There are two methods for adding a structural unit to a universe:"
   ]
  },
  {
   "cell_type": "code",
   "execution_count": 25,
   "metadata": {},
   "outputs": [],
   "source": [
    "# Add an individual structural unit to the universe\n",
    "universe.add_structural_unit(H_mol)\n",
    "# Fill the universe with the structural unit repeated on a cubic lattice with a specific number density\n",
    "universe.fill(H_mol, num_density = 0.01)"
   ]
  },
  {
   "cell_type": "markdown",
   "metadata": {},
   "source": [
    "Currently the `fill` command is limited to filling with a cubic lattice, and cannot be used in conjunction with `add_structural_unit`.\n",
    "\n",
    "### Create non-bonded interactions\n",
    "Non-bonded interactions are applied to atoms based on their `atom_type`, rather than to individual atoms.  They must also have a `Universe` specified, so that they know which atoms they apply to (atoms must have an atom_type once they have been added to a universe).  For example, to create a `Dispersion` interaction with a `LennardJones` interaction function between two atom types:"
   ]
  },
  {
   "cell_type": "code",
   "execution_count": 26,
   "metadata": {},
   "outputs": [],
   "source": [
    "# Import the Dispersion interaction and Lennard-Jones function\n",
    "from MDMC.MD.structural_units import Dispersion\n",
    "from MDMC.MD.interaction_functions import LennardJones\n",
    "# Create a dispersion interaction with a Lennard-Jones function between atoms with atom_type 1 (O) and atom_type 2 (H)\n",
    "# The first LJ parameter is epsilon and the second is sigma\n",
    "# The cutoff for the dispersion interaction can also be set (in Ang)\n",
    "LJ_HO = Dispersion(universe, [1, 2], function=LennardJones(0.65, 3.), cutoff=10.)"
   ]
  },
  {
   "cell_type": "markdown",
   "metadata": {},
   "source": [
    "The exception to this is `Coulombic` interactions, which can be applied either to a list of atoms or to a list of atom types.  If the Coulombic interaction is applied to a list of atoms, the universe does not need to be specified:"
   ]
  },
  {
   "cell_type": "code",
   "execution_count": 27,
   "metadata": {},
   "outputs": [
    {
     "name": "stderr",
     "output_type": "stream",
     "text": [
      "../../MDMC/MD/structural_units.py:2026: UserWarning: Coulombic interaction for the Atom object initialized with the Coulomb interaction function.\n",
      "  warnings.warn(UserWarning('Coulombic interaction for the Atom '\n"
     ]
    }
   ],
   "source": [
    "# Import the Coulombic interaction\n",
    "from MDMC.MD.structural_units import Coulombic\n",
    "# Create a Coulombic interaction with a Coulomb potential and a charge of 0.42\n",
    "c_H = Coulombic(atoms=[H1, H2], charge=0.42)"
   ]
  },
  {
   "cell_type": "markdown",
   "metadata": {},
   "source": [
    "As `Coulombic` interactions typically have the same interaction function (i.e. a `Coulomb` function, where the force results in Coulomb's law), `Coulombic` interactions do not need to be specified with an interaction function (although other functions can be provided); to set the function as `Coulomb`, a value for the charge can be passed.  The warning highlights the `Coulomb` interaction function has been automatically set.  This is equivalent to:"
   ]
  },
  {
   "cell_type": "code",
   "execution_count": 28,
   "metadata": {},
   "outputs": [],
   "source": [
    "from MDMC.MD.interaction_functions import Coulomb\n",
    "c_H = Coulombic(atoms=[H1, H2], function=Coulomb(0.42))"
   ]
  },
  {
   "cell_type": "markdown",
   "metadata": {},
   "source": [
    "As with all non-bonded interactions, a Coulombic interaction can also be created by specifying the atom types:"
   ]
  },
  {
   "cell_type": "code",
   "execution_count": 29,
   "metadata": {},
   "outputs": [],
   "source": [
    "c_O = Coulombic(universe, atom_types=[1], charge=0.42)"
   ]
  },
  {
   "cell_type": "markdown",
   "metadata": {},
   "source": [
    "In this case a universe must be provided."
   ]
  },
  {
   "cell_type": "markdown",
   "metadata": {},
   "source": [
    "### Applying a `ForceField`"
   ]
  },
  {
   "cell_type": "markdown",
   "metadata": {},
   "source": [
    "As well as manually setting the `Parameter` values for each interaction (e.g. `Coulombic(atoms=[H1, H2], function=Coulomb(0.42))` to set the `charge`), it is also possible to apply a `ForceField` to a `Universe`, in order to set the `Parameter` values.  Please see the tutorial [Applying a ForceField](applying-a-forcefield.ipynb) for a detailed description on how to do this."
   ]
  },
  {
   "cell_type": "markdown",
   "metadata": {},
   "source": [
    "### Adding kspace solvers to a universe\n",
    "There are several solvers for determining the long range energy contribution for non-bonded interactions, including Ewald, particle-particle particle-mesh (PPPM), and particle-mesh Ewald (PME).  If the long range contribution to the non-bonded energy (i.e. > cutoff) is to be calculated during a simulation, a kspace solver has to be added to the universe.  A solver can be specified for either electrostatic or dispersive interactions, or both. This can either be during universe initialisation or afterwards:"
   ]
  },
  {
   "cell_type": "code",
   "execution_count": 30,
   "metadata": {},
   "outputs": [],
   "source": [
    "# Import Ewald and PPPM kspace solvers\n",
    "from MDMC.MD.simulation import Ewald, PPPM\n",
    "# Create an ewald solver\n",
    "ewald = Ewald(accuracy=1e-5)\n",
    "# Initialise a universe with an Ewald solver for both electrostatics and dispersive interactions\n",
    "uni1 = Universe(10., kspace_solver=ewald)\n",
    "# Initialise a universe and then add a PPPM solver for electrostatic interactions\n",
    "uni2 = Universe(10.)\n",
    "pppm = PPPM(accuracy=1e-4)\n",
    "uni2.electrostatic_solver = pppm\n",
    "# Initialise a universe with a PPPM solver for dispersive interactions\n",
    "uni3 = Universe(10., dispersive_solver=PPPM)"
   ]
  },
  {
   "cell_type": "markdown",
   "metadata": {},
   "source": [
    "Not all kspace solvers are implemented for all MD engines, and they may also require different parameters to be specified - see the MD engine documentation for more information.\n",
    "\n",
    "### Adding constraint algorithms to a universe\n",
    "In a similar manner to kspace solvers, constraint algorithms (e.g. SHAKE, RATTLE) can also be passed to a universe.  A constraint algorithm is required if any of the bonded interactions are constrained."
   ]
  },
  {
   "cell_type": "code",
   "execution_count": 31,
   "metadata": {},
   "outputs": [],
   "source": [
    "# Import Shake and Rattle\n",
    "from MDMC.MD.simulation import Shake, Rattle\n",
    "# Initialise a universe with the Shake algorithm\n",
    "# The first Shake parameter is the accuracy and the second is the maximum number of iterations used for any constraint calculation\n",
    "shake = Shake(1e-4, 100)\n",
    "uni4 = Universe(10., constraint_algorithm=shake)\n",
    "# Add Rattle after universe initialisation\n",
    "rattle = Rattle(1e-5, 1000)\n",
    "uni5 = Universe(10.)\n",
    "uni5.constraint_algorithm = rattle"
   ]
  },
  {
   "cell_type": "markdown",
   "metadata": {},
   "source": [
    "Not all constraint algorithms are implemented for all MD engines, and they may also required different parameters to be specified - see the MD engine documentation for more information.\n",
    "\n",
    "## Example Universe filled with SPCE water\n",
    "For water, SPCE and SPC forcefields are predefined, so parameters do not need to be set when interactions are defined; instead parameters are set by adding a forcefield to the universe."
   ]
  },
  {
   "cell_type": "code",
   "execution_count": 32,
   "metadata": {},
   "outputs": [],
   "source": [
    "from MDMC.MD.simulation import Universe, Shake, PPPM\n",
    "from MDMC.MD.structural_units import Atom, Bond, BondAngle, Coulombic, Dispersion, Molecule\n",
    "\n",
    "universe = Universe(dimensions=21.75, constraint_algorithm=Shake(1e-4, 100), electrostatic_solver=PPPM(accuracy=1e-5))\n",
    "H1 = Atom('H')\n",
    "H2 = Atom('H', position=(0., 1.63298, 0.))\n",
    "O = Atom('O', position=(0., 0.81649, 0.57736))\n",
    "H_coulombic = Coulombic(atoms=[H1, H2], cutoff=10.)\n",
    "O_coulombic = Coulombic(atoms=O, cutoff=10.)\n",
    "water_mol = Molecule(position=(0, 0, 0),\n",
    "                     velocity=(0, 0, 0),\n",
    "                     atoms=[H1, H2, O],\n",
    "                     interactions=[Bond((H1, O), (H2, O), constrained=True),\n",
    "                                   BondAngle(H1, O, H2, constrained=True)],\n",
    "                     name='water')\n",
    "universe.fill(water_mol, num_density=0.03356718472021752)\n",
    "O_dispersion = Dispersion(universe, [O.atom_type, O.atom_type], cutoff=10., vdw_tail_correction=True)\n",
    "universe.add_force_field('SPCE')"
   ]
  }
 ],
 "metadata": {
  "kernelspec": {
   "display_name": "py3MDMC",
   "language": "python",
   "name": "py3mdmc"
  },
  "language_info": {
   "codemirror_mode": {
    "name": "ipython",
    "version": 3
   },
   "file_extension": ".py",
   "mimetype": "text/x-python",
   "name": "python",
   "nbconvert_exporter": "python",
   "pygments_lexer": "ipython3",
   "version": "3.6.7"
  }
 },
 "nbformat": 4,
 "nbformat_minor": 2
}
