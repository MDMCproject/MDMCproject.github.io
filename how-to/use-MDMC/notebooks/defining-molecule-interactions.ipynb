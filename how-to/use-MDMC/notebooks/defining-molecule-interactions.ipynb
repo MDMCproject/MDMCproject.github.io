{
 "cells": [
  {
   "attachments": {},
   "cell_type": "markdown",
   "metadata": {},
   "source": [
    "# Defining molecule interactions\n",
    "In this guide we will define non-bonded interactions between molecules in an MDMC universe, as well as add solvers for long-range interactions. This tutorial focuses on adding interactions defined directly by parameters; for applying force fields, please see [this how-to guide](applying-a-forcefield.ipynb)."
   ]
  },
  {
   "attachments": {},
   "cell_type": "markdown",
   "metadata": {},
   "source": [
    "Firstly, we need to create a universe. For this, we use the `universe.fill` method as described in [creating atomic configurations](creating-atomic-configurations.ipynb). This universe is a cube of side length 10Å, filled with Hydrogen atoms to a density of 0.01 atoms per cubic angstrom."
   ]
  },
  {
   "cell_type": "code",
   "execution_count": 1,
   "metadata": {
    "execution": {
     "iopub.execute_input": "2024-07-22T13:21:12.467678Z",
     "iopub.status.busy": "2024-07-22T13:21:12.467419Z",
     "iopub.status.idle": "2024-07-22T13:21:13.239432Z",
     "shell.execute_reply": "2024-07-22T13:21:13.238803Z"
    }
   },
   "outputs": [
    {
     "name": "stdout",
     "output_type": "stream",
     "text": [
      "Universe created with:\n",
      "Dimensions [10. 10. 10.]\n"
     ]
    }
   ],
   "source": [
    "from MDMC.MD import Universe, Atom\n",
    "\n",
    "universe = Universe(10.0)\n",
    "universe.fill(Atom('H', atom_type=1), num_density = 0.01)"
   ]
  },
  {
   "attachments": {},
   "cell_type": "markdown",
   "metadata": {},
   "source": [
    "We now apply a non-bonded interaction to the universe. Non-bonded interactions are applied on a per-species (`atom_type`) basis, rather than to individual atoms.  They must also have a `Universe` specified, so that they know which atoms they apply to.  For example, the following code creates a [Lennard-Jones dispersive interaction](https://en.wikipedia.org/wiki/Lennard-Jones_potential) between hydrogen atoms."
   ]
  },
  {
   "cell_type": "code",
   "execution_count": 2,
   "metadata": {
    "execution": {
     "iopub.execute_input": "2024-07-22T13:21:13.242276Z",
     "iopub.status.busy": "2024-07-22T13:21:13.241818Z",
     "iopub.status.idle": "2024-07-22T13:21:13.247038Z",
     "shell.execute_reply": "2024-07-22T13:21:13.246281Z"
    }
   },
   "outputs": [],
   "source": [
    "from MDMC.MD import Dispersion, LennardJones\n",
    "\n",
    "interaction = Dispersion(universe=universe,\n",
    "                        atom_types=(1, 1),\n",
    "                        function=LennardJones(epsilon=0.65, sigma=3.),\n",
    "                        cutoff=10.)"
   ]
  },
  {
   "attachments": {},
   "cell_type": "markdown",
   "metadata": {},
   "source": [
    "The parameters here are:\n",
    "- `universe`: The universe that the interaction applies to.\n",
    "- `atom_types`: Which atom types the interaction applies between. If we wanted to have interaction between, say, our hydrogen atoms and some oxygen atoms with `atom_type=2`, we would use `atom_types=[1, 2]` here.\n",
    "- `function`: The function used to calculate the dispersive potential energy between atoms. For Lennard-Jones, they are epsilon and sigma.\n",
    "- `cutoff`: The cutoff distance beyond which the atoms are assumed to not interact.\n",
    "\n",
    "Note that the parameters for the interactions (here, epsilon and sigma) are used for the refinement of the simulation."
   ]
  },
  {
   "attachments": {},
   "cell_type": "markdown",
   "metadata": {},
   "source": [
    "Most other interactions featured in MDMC (for a full list, [see the API reference for interaction functions](../../../reference/api/MDMC.MD)) work this way, with the exception of the Coulombic (Coulomb's Law) interaction. This can be defined in two ways; either by atom types, or directly between atoms."
   ]
  },
  {
   "cell_type": "code",
   "execution_count": 3,
   "metadata": {
    "execution": {
     "iopub.execute_input": "2024-07-22T13:21:13.249537Z",
     "iopub.status.busy": "2024-07-22T13:21:13.249245Z",
     "iopub.status.idle": "2024-07-22T13:21:13.253046Z",
     "shell.execute_reply": "2024-07-22T13:21:13.252507Z"
    }
   },
   "outputs": [],
   "source": [
    "from MDMC.MD import Coulombic\n",
    "\n",
    "coulombic_universe = Coulombic(universe, atom_types=[1], charge=0.42)  # apply to a universe, on atom type 1"
   ]
  },
  {
   "cell_type": "code",
   "execution_count": 4,
   "metadata": {
    "execution": {
     "iopub.execute_input": "2024-07-22T13:21:13.255347Z",
     "iopub.status.busy": "2024-07-22T13:21:13.254986Z",
     "iopub.status.idle": "2024-07-22T13:21:13.258889Z",
     "shell.execute_reply": "2024-07-22T13:21:13.258316Z"
    }
   },
   "outputs": [],
   "source": [
    "H1 = Atom('H')\n",
    "H2 = Atom('H', position=[0., 1.63298, 0.])\n",
    "\n",
    "coulombic_atoms = Coulombic(atoms=[H1, H2], charge=0.42)  # no universe required!"
   ]
  },
  {
   "attachments": {},
   "cell_type": "markdown",
   "metadata": {},
   "source": [
    "As `Coulombic` interactions typically have the same interaction function (i.e. a `Coulomb` function, where the force results in Coulomb's law), `Coulombic` interactions do not need to be specified with an interaction function (although other functions can be provided); to set the function as `Coulomb`, a value for the charge can be passed.  The warning highlights the `Coulomb` interaction function has been automatically set; `charge=0.42` is automatically interpreted as `charge=Coulomb(0.42)`."
   ]
  },
  {
   "attachments": {},
   "cell_type": "markdown",
   "metadata": {},
   "source": [
    "## Solving long-range interactions\n",
    "More difficult than determining close-range potential energy between atoms is the contribution of non-bonded interactions at longer distances. Calculating this contribution can be very slow - the time taken to do so *quadruples* when the number of atoms in the system doubles. To do this more efficiently, MD engines use algorithms known as *K-space solvers*.\n",
    "\n",
    "There are several solvers for determining the long range energy contribution for non-bonded interactions, including Ewald, particle-particle particle-mesh (PPPM), and particle-mesh Ewald (PME).  If you would like to calculate the long range contribution to the non-bonded energy during a simulation, a KSpace solver has to be added to the universe. A solver can be specified for either electrostatic or dispersive interactions, or both. This can either be during universe initialisation or afterwards:"
   ]
  },
  {
   "cell_type": "code",
   "execution_count": 5,
   "metadata": {
    "execution": {
     "iopub.execute_input": "2024-07-22T13:21:13.261314Z",
     "iopub.status.busy": "2024-07-22T13:21:13.260968Z",
     "iopub.status.idle": "2024-07-22T13:21:13.266167Z",
     "shell.execute_reply": "2024-07-22T13:21:13.265530Z"
    }
   },
   "outputs": [
    {
     "name": "stdout",
     "output_type": "stream",
     "text": [
      "Universe created with:\n",
      "Dimensions [10. 10. 10.]\n",
      "Universe created with:\n",
      "Dimensions [10. 10. 10.]\n",
      "Universe created with:\n",
      "Dimensions [10. 10. 10.]\n"
     ]
    }
   ],
   "source": [
    "# Import Ewald and PPPM kspace solvers:\n",
    "from MDMC.MD import Ewald, PPPM\n",
    "\n",
    "# Create an ewald solver:\n",
    "ewald = Ewald(accuracy=1e-5)\n",
    "# Initialise a universe with an Ewald solver for both electrostatic and dispersive interactions:\n",
    "uni1 = Universe(10., kspace_solver=ewald)\n",
    "\n",
    "# Initialise a universe and then add a PPPM solver for electrostatic interactions:\n",
    "uni2 = Universe(10.)\n",
    "pppm = PPPM(accuracy=1e-4)\n",
    "uni2.electrostatic_solver = pppm\n",
    "\n",
    "# Initialise a universe with a PPPM solver for dispersive interactions:\n",
    "uni3 = Universe(10., dispersive_solver=PPPM)"
   ]
  },
  {
   "attachments": {},
   "cell_type": "markdown",
   "metadata": {},
   "source": [
    "Not all kspace solvers are implemented for all MD engines, and they may also require different parameters to be specified - see the MD engine documentation for more information."
   ]
  }
 ],
 "metadata": {
  "language_info": {
   "codemirror_mode": {
    "name": "ipython",
    "version": 3
   },
   "file_extension": ".py",
   "mimetype": "text/x-python",
   "name": "python",
   "nbconvert_exporter": "python",
   "pygments_lexer": "ipython3",
   "version": "3.11.9"
  }
 },
 "nbformat": 4,
 "nbformat_minor": 2
}
