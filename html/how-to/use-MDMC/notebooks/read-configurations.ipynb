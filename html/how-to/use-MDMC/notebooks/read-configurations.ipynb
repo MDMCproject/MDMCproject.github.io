{
 "cells": [
  {
   "attachments": {},
   "cell_type": "markdown",
   "metadata": {},
   "source": [
    "# Reading atoms from configuration files"
   ]
  },
  {
   "attachments": {},
   "cell_type": "markdown",
   "metadata": {},
   "source": [
    "MDMC enables reading atomic configurations and topologies (if included) from configuration files.\n",
    "\n",
    "Atomic configurations are read through ASE, so any [format supported by ASE is available](https://wiki.fysik.dtu.dk/ase/ase/io/io.html)."
   ]
  },
  {
   "attachments": {},
   "cell_type": "markdown",
   "metadata": {},
   "source": [
    "The simplest way to do this is by passing the file to the `MDMC.readers.configurations.read` function. If the file format is supported, MDMC will automatically use the file extension to read it correctly. In this instance, our example [paracetamol.cif](data/Paracetamol.cif) file is read as a list of atoms, which we then put into a `Molecule` object."
   ]
  },
  {
   "cell_type": "code",
   "execution_count": 1,
   "metadata": {},
   "outputs": [
    {
     "name": "stdout",
     "output_type": "stream",
     "text": [
      "The return type is: <class 'list'>\n"
     ]
    }
   ],
   "source": [
    "from MDMC.readers import configurations\n",
    "\n",
    "atoms = configurations.read('data/Paracetamol.cif')\n",
    "\n",
    "# The return type of read is a list of atoms\n",
    "print('The return type is: {}'.format(type(atoms)))"
   ]
  },
  {
   "cell_type": "code",
   "execution_count": 2,
   "metadata": {},
   "outputs": [],
   "source": [
    "# We can use this to create a Molecule\n",
    "from MDMC.MD import Molecule\n",
    "paracetamol = Molecule(atoms=atoms)"
   ]
  },
  {
   "attachments": {},
   "cell_type": "markdown",
   "metadata": {},
   "source": [
    "The paracetamol `Molecule` read from the CIF file can be visualized using the `view` function:"
   ]
  },
  {
   "cell_type": "code",
   "execution_count": 4,
   "metadata": {},
   "outputs": [],
   "source": [
    "from MDMC.gui import view\n",
    "view(paracetamol, viewer='ASE')"
   ]
  },
  {
   "attachments": {},
   "cell_type": "markdown",
   "metadata": {},
   "source": [
    "From this it appears that the configuration and topology has been correctly read; however, MDMC cannot automatically determine if certain atoms or bonded interactions are equivalent.  For example, all three hydrogens in the methyl group are equivalent, as are the bonds, bond angles and dihedrals these hydrogens are involved in.  In the case of paracetamol, there are 20 bonds in total, however only 12 of them are unique."
   ]
  },
  {
   "cell_type": "code",
   "execution_count": null,
   "metadata": {},
   "outputs": [],
   "source": [
    "# To see all of the Bond interactions, we can filter the paracetamol interactions by name\n",
    "bonds = list(filter(lambda x: x.name == 'Bond', paracetamol.interactions))\n",
    "\n",
    "# There are 20 bonds in total\n",
    "print('Number of bonds: {}'.format(len(bonds)))\n",
    "\n",
    "# We can cast the list of bonds to a set to see the number of unique bonds - in this case it is still 20\n",
    "unique_bonds = set(bonds)\n",
    "print('Number of unique bonds: {}'.format(len(unique_bonds)))"
   ]
  },
  {
   "attachments": {},
   "cell_type": "markdown",
   "metadata": {},
   "source": [
    "### Specifying equivalent atoms"
   ]
  },
  {
   "attachments": {},
   "cell_type": "markdown",
   "metadata": {},
   "source": [
    "There are two methods for specifying which atoms are equivalent; these can be seen by viewing the documentation relevant to the file format of the configuration file, which can be accessed by passing `docstring=True` when calling `read`.  For example, with a CIF file:"
   ]
  },
  {
   "cell_type": "code",
   "execution_count": null,
   "metadata": {},
   "outputs": [],
   "source": [
    "configurations.read('Paracetamol.cif', docstring=True)"
   ]
  },
  {
   "attachments": {},
   "cell_type": "markdown",
   "metadata": {},
   "source": [
    "From this, it is possible to define equivalent atoms either by specifying the `name` of each `Atom` or the `atom_type` of each `Atom`.\n",
    "\n",
    "  **These names or atom types must be passed in the same order as the atoms are defined within the CIF file (i.e. in the \\_atom_site_label identifier).**"
   ]
  },
  {
   "attachments": {},
   "cell_type": "markdown",
   "metadata": {},
   "source": [
    "### Equivalence specified by `atom_types`\n",
    "As with all `atom_types` specified in MDMC the integers used should be monotonically increasing."
   ]
  },
  {
   "cell_type": "code",
   "execution_count": null,
   "metadata": {},
   "outputs": [],
   "source": [
    "# from MDMC.readers.configurations import read\n",
    "atoms = configurations.read('data/Paracetamol.cif', atom_type=[1, 2, # Oxygens\n",
    "                                                               3, # Nitrogen\n",
    "                                                               4, 5, 6, 7, 6, 6, 6, 8, # Carbons\n",
    "                                                               9, 9, 9, 10, 10, 10, 10, 11, 12]) # Hydrogens\n",
    "paracetamol = Molecule(atoms=atoms)\n",
    "\n",
    "# Print the total number of bonds and the number of unique bonds\n",
    "bonds = list(filter(lambda x: x.name == 'Bond', paracetamol.interactions))\n",
    "print('Number of bonds: {}'.format(len(bonds)))\n",
    "print('Number of unique bonds: {}'.format(len(set(bonds))))"
   ]
  },
  {
   "attachments": {},
   "cell_type": "markdown",
   "metadata": {},
   "source": [
    "### Equivalence specified by `names`\n",
    "The `name`s must be strings which are only shared by equivalent atoms.  These set the `name` attribute for each `Atom`.  As covered in the guide on [applying a force field](applying-a-forcefield.ipynb), if each `Atom` has an `Atom.name` which is defined in a `ForceField`, the `ForceField` can be applied to set the `Parameter` values for all interactions.  An example of this is shown below, where the `names` provided are the OPLSAA atom types:"
   ]
  },
  {
   "cell_type": "code",
   "execution_count": null,
   "metadata": {},
   "outputs": [],
   "source": [
    "# from MDMC.readers.configurations import read\n",
    "atoms = configurations.read('data/Paracetamol.cif', name=['109', '177', # Oxygens\n",
    "                                                          '207', # Nitrogen\n",
    "                                                          '208', '108', '90', '178', '90', '90', '90', '185', # Carbons\n",
    "                                                          '85', '85', '85', '91', '91', '91', '91', '183', '110']) # Hydrogens\n",
    "paracetamol = Molecule(atoms=atoms)\n",
    "\n",
    "# Print the total number of bonds and the number of unique bonds\n",
    "bonds = list(filter(lambda x: x.name == 'Bond', paracetamol.interactions))\n",
    "print('Number of bonds: {}'.format(len(bonds)))\n",
    "print('Number of unique bonds: {}'.format(len(set(bonds))))"
   ]
  },
  {
   "attachments": {},
   "cell_type": "markdown",
   "metadata": {},
   "source": [
    "The paracetamol can now be added to a `Universe` and the OPLSAA `ForceField` can be applied to set the `Parameter` values:"
   ]
  },
  {
   "cell_type": "code",
   "execution_count": null,
   "metadata": {},
   "outputs": [],
   "source": [
    "from MDMC.MD import Universe\n",
    "universe = Universe(10.)\n",
    "universe.add_structure(paracetamol)\n",
    "universe.add_force_field('OPLSAA')"
   ]
  },
  {
   "cell_type": "code",
   "execution_count": null,
   "metadata": {},
   "outputs": [],
   "source": [
    "print(universe)"
   ]
  },
  {
   "cell_type": "code",
   "execution_count": null,
   "metadata": {},
   "outputs": [],
   "source": [
    "universe.nonbonded_interactions"
   ]
  },
  {
   "attachments": {},
   "cell_type": "markdown",
   "metadata": {},
   "source": [
    "The effect of this can be seen if we visualize the paracetamol molecule using the `'ASE'` viewer and select `View -> Charges` from the GUI menu bar."
   ]
  },
  {
   "cell_type": "code",
   "execution_count": null,
   "metadata": {},
   "outputs": [],
   "source": [
    "view(paracetamol, viewer='ASE')"
   ]
  },
  {
   "attachments": {},
   "cell_type": "markdown",
   "metadata": {},
   "source": [
    "![Display for paracetamol with charges](../_static/images/gui_paracetamol_charges.png)"
   ]
  },
  {
   "attachments": {},
   "cell_type": "markdown",
   "metadata": {},
   "source": [
    "## Getting configurations directly from databases or PubChem\n",
    "As configurations are read via ASE, MDMC supports converting any ASE `Atoms` object into a list of MDMC `Atom`s. Indeed, all our file reader is really doing is this:\n",
    "```python\n",
    "ase_atoms = ase.io.read(file)\n",
    "atoms = MDMC.MD.ase.convert.ASE_to_MDMC(atoms)\n",
    "```\n",
    "and much in the same way, anything that can be read as ASE atoms can be converted into an MDMC Molecule. In particular, we will see how to read in molecules from ASE's built-in databases and from PubChem.\n",
    "\n",
    "**A warning on using databases and the Internet: For quality of research, it is recommended that a file is used (and made available) for any read-in configurations used in research. This allows both the creator of the configuration to be credited, and also ensures your work is reproducible (as databases or websites can change!)**"
   ]
  },
  {
   "attachments": {},
   "cell_type": "markdown",
   "metadata": {},
   "source": [
    "### Building from an ASE built-in database\n",
    "\n",
    "ASE has several built in databases containing many popular molecules. The `ase.build.molecule` function allows users to [read in ASE molecules from these databases](https://wiki.fysik.dtu.dk/ase/ase/build/build.html#ase.build.molecule)."
   ]
  },
  {
   "cell_type": "code",
   "execution_count": null,
   "metadata": {},
   "outputs": [],
   "source": [
    "from ase.build import molecule\n",
    "from MDMC.MD.ase.convert import ASE_to_MDMC\n",
    "\n",
    "# we read in a benzene molecule\n",
    "ase_atoms = molecule(\"C6H6\")\n",
    "MDMC_atoms = ASE_to_MDMC(ase_atoms)\n",
    "benzene = Molecule(atoms=MDMC_atoms)\n",
    "view(benzene)"
   ]
  },
  {
   "attachments": {},
   "cell_type": "markdown",
   "metadata": {},
   "source": [
    "[Please see the relevant documentation](https://wiki.fysik.dtu.dk/ase/ase/collections.html#collections) for more information on ASE's built-in databases."
   ]
  },
  {
   "attachments": {},
   "cell_type": "markdown",
   "metadata": {},
   "source": [
    "### Building from the Internet"
   ]
  },
  {
   "attachments": {},
   "cell_type": "markdown",
   "metadata": {},
   "source": [
    "ASE also [has an integration with PubChem](https://wiki.fysik.dtu.dk/ase/ase/data.html#ase.data.pubchem.pubchem_atoms_search), which allows you to search the [PubChem website](https://pubchem.ncbi.nlm.nih.gov/) directly and read in the result as an ASE `Atoms` object. This can again be easily converted to an MDMC molecule."
   ]
  },
  {
   "cell_type": "code",
   "execution_count": null,
   "metadata": {},
   "outputs": [],
   "source": [
    "from ase.data.pubchem import pubchem_atoms_search\n",
    "\n",
    "# search by name, CID or SMILES string\n",
    "ase_aspirin = pubchem_atoms_search(name='aspirin')\n",
    "aspirin = Molecule(atoms=ASE_to_MDMC(ase_aspirin))\n",
    "\n",
    "ase_glucose = pubchem_atoms_search(cid='5793')\n",
    "glucose = Molecule(atoms=ASE_to_MDMC(ase_glucose))\n",
    "\n",
    "ase_benzaldehyde = pubchem_atoms_search(smiles='C1=CC=C(C=C1)C=O')\n",
    "benzaldehyde = Molecule(atoms=ASE_to_MDMC(ase_benzaldehyde))"
   ]
  },
  {
   "cell_type": "code",
   "execution_count": null,
   "metadata": {},
   "outputs": [],
   "source": [
    "view(aspirin)"
   ]
  },
  {
   "cell_type": "code",
   "execution_count": null,
   "metadata": {},
   "outputs": [],
   "source": [
    "view(glucose)"
   ]
  },
  {
   "cell_type": "code",
   "execution_count": null,
   "metadata": {},
   "outputs": [],
   "source": [
    "view(benzaldehyde)"
   ]
  }
 ],
 "metadata": {
  "kernelspec": {
   "display_name": "Python 3 (ipykernel)",
   "language": "python",
   "name": "python3"
  },
  "language_info": {
   "codemirror_mode": {
    "name": "ipython",
    "version": 3
   },
   "file_extension": ".py",
   "mimetype": "text/x-python",
   "name": "python",
   "nbconvert_exporter": "python",
   "pygments_lexer": "ipython3",
   "version": "3.11.2"
  },
  "nbsphinx": {
   "execute": "never"
  }
 },
 "nbformat": 4,
 "nbformat_minor": 2
}
